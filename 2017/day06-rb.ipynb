{
 "cells": [
  {
   "cell_type": "code",
   "execution_count": 3,
   "metadata": {},
   "outputs": [
    {
     "name": "stdout",
     "output_type": "stream",
     "text": [
      "Part1: 7864\n",
      "Part2: 1695\n"
     ]
    }
   ],
   "source": [
    "combinations =Hash.new\n",
    "current = File.read(\"input/6.txt\").chomp.split(\"\\t\").map { | x | x.to_i }\n",
    "cycle_count = 0\n",
    "\n",
    "while true do\n",
    "    to_redistribute = current.max\n",
    "    start_index = (current.index to_redistribute)\n",
    "    current[start_index] = 0\n",
    "    while to_redistribute > 0\n",
    "        start_index = (start_index + 1) % current.size\n",
    "        current[start_index] += 1\n",
    "        to_redistribute -= 1\n",
    "    end\n",
    "    cycle_count += 1\n",
    "break if combinations.has_key?(current)    \n",
    "combinations[current.dup] = cycle_count\n",
    "end\n",
    "puts \"Part1: #{cycle_count}\"\n",
    "puts \"Part2: #{cycle_count-combinations[current]}\""
   ]
  },
  {
   "cell_type": "code",
   "execution_count": null,
   "metadata": {},
   "outputs": [],
   "source": []
  }
 ],
 "metadata": {
  "kernelspec": {
   "display_name": "Ruby 2.7.2",
   "language": "ruby",
   "name": "ruby"
  },
  "language_info": {
   "file_extension": ".rb",
   "mimetype": "application/x-ruby",
   "name": "ruby",
   "version": "2.7.3"
  }
 },
 "nbformat": 4,
 "nbformat_minor": 4
}
