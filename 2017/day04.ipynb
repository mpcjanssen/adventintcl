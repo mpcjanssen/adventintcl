{
 "cells": [
  {
   "cell_type": "code",
   "execution_count": 2,
   "metadata": {},
   "outputs": [
    {
     "data": {
      "text/plain": [
       "(cached)"
      ]
     },
     "metadata": {},
     "output_type": "display_data"
    },
    {
     "data": {
      "text/html": [
       "<article class=\"day-desc\">\n",
       "<h2>--- Day 4: High-Entropy Passphrases ---</h2><p>A new system policy has been put in place that requires all accounts to use a <em>passphrase</em> instead of simply a pass<em>word</em>. A passphrase consists of a series of words (lowercase letters) separated by spaces.</p><p>To ensure security, a valid passphrase must contain no duplicate words.</p><p>For example:</p><ul>\n",
       "<li>\n",
       "<code>aa bb cc dd ee</code> is valid.</li><li>\n",
       "<code>aa bb cc dd aa</code> is not valid - the word <code>aa</code> appears more than once.</li><li>\n",
       "<code>aa bb cc dd aaa</code> is valid - <code>aa</code> and <code>aaa</code> count as different words.</li>\n",
       "</ul><p>The system's full passphrase list is available as your puzzle input. <em>How many passphrases are valid?</em>\n",
       "</p>\n",
       "</article>"
      ]
     },
     "metadata": {},
     "output_type": "display_data"
    },
    {
     "data": {
      "text/plain": [
       "(cached)"
      ]
     },
     "metadata": {},
     "output_type": "display_data"
    },
    {
     "data": {
      "text/html": [
       "<h2>Input</h2>"
      ]
     },
     "metadata": {},
     "output_type": "display_data"
    },
    {
     "data": {
      "text/plain": [
       "una bokpr ftz ryw nau yknf fguaczl anu\n",
       "tvay wvco bcoblpt fwzg sfsys zvuqll mcbhwz ovcw fgdy\n",
       "ynsocz vi..."
      ]
     },
     "metadata": {},
     "output_type": "display_data"
    }
   ],
   "source": [
    "source ../modules/setup.tcl\n",
    "set year 2017\n",
    "set day 4\n",
    "\n",
    "aoc::get-puzzle $year  $day 1\n",
    "# aoc::get-puzzle 2017 1 2\n",
    "set input [string trim [aoc::get-input $year $day]]\n",
    "jupyter::html \"<h2>Input</h2>\"\n",
    "jupyter::display \"text/plain\" [string range $input 0 100]...;"
   ]
  },
  {
   "cell_type": "code",
   "execution_count": 16,
   "metadata": {},
   "outputs": [
    {
     "name": "stdout",
     "output_type": "stream",
     "text": [
      "1\n",
      "0\n",
      "1\n",
      "1\n",
      "0\n",
      "0\n"
     ]
    }
   ],
   "source": [
    "\n",
    "proc valid1 {pw} {\n",
    "    set pw [split $pw]\n",
    "    expr {[lsort $pw] eq  [lsort -unique $pw]}\n",
    "}\n",
    "\n",
    "proc valid2 {pw} {\n",
    "    set pw [lmap p [split $pw] {lsort -unique [split $p {}]}]\n",
    "    expr {[lsort $pw] eq  [lsort -unique $pw]}\n",
    "}\n",
    "\n",
    "puts [valid1 {aa bb cc dd ee}]\n",
    "puts [valid1 {aa bb cc dd aa}]\n",
    "puts [valid1 {aa bb cc dd aaa}]\n",
    "puts [valid2 {abcde fghij}]\n",
    "puts [valid2 {abcde xyz ecdab}]\n",
    "puts [valid2 {oiii ioii iioi iiio}]"
   ]
  },
  {
   "cell_type": "code",
   "execution_count": 18,
   "metadata": {},
   "outputs": [
    {
     "name": "stdout",
     "output_type": "stream",
     "text": [
      "Day1\t477\n",
      "Day2\t167\n",
      "42012 microseconds per iteration\n"
     ]
    }
   ],
   "source": [
    "proc parts input {\n",
    "    set passes [split $input \\n]\n",
    "    set result1 [+ {*}[lmap pw $passes {valid1 $pw}]]\n",
    "    set result2 [+ {*}[lmap pw $passes {valid2 $pw}]]\n",
    "    return [list $result1 $result2]\n",
    "}\n",
    "aoc::results "
   ]
  },
  {
   "cell_type": "code",
   "execution_count": null,
   "metadata": {},
   "outputs": [],
   "source": []
  }
 ],
 "metadata": {
  "kernelspec": {
   "display_name": "Tcl",
   "language": "tcl",
   "name": "tcl"
  },
  "language_info": {
   "file_extension": ".tcl",
   "mimetype": "txt/x-tcl",
   "name": "tcl",
   "version": "8.6.11"
  }
 },
 "nbformat": 4,
 "nbformat_minor": 4
}
