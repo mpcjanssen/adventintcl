{
 "cells": [
  {
   "cell_type": "code",
   "execution_count": 16,
   "metadata": {},
   "outputs": [
    {
     "data": {
      "text/html": [
       "<article class=\"day-desc\">\n",
       "<h2>--- Day 3: Spiral Memory ---</h2><p>You come across an experimental new kind of memory stored on an <span title=\"Good thing we have all these infinite two-dimensional grids lying around!\">infinite two-dimensional grid</span>.</p><p>Each square on the grid is allocated in a spiral pattern starting at a location marked <code>1</code> and then counting up while spiraling outward. For example, the first few squares are allocated like this:</p><pre><code>17  16  15  14  13\n",
       "18   5   4   3  12\n",
       "19   6   1   2  11\n",
       "20   7   8   9  10\n",
       "21  22  23---&gt; ...\n",
       "</code></pre><p>While this is very space-efficient (no squares are skipped), requested data must be carried back to square <code>1</code> (the location of the only access port for this memory system) by programs that can only move up, down, left, or right. They always take the shortest path: the <a href=\"https://en.wikipedia.org/wiki/Taxicab_geometry\">Manhattan Distance</a> between the location of the data and square <code>1</code>.</p><p>For example:</p><ul>\n",
       "<li>Data from square <code>1</code> is carried <code>0</code> steps, since it's at the access port.</li><li>Data from square <code>12</code> is carried <code>3</code> steps, such as: down, left, left.</li><li>Data from square <code>23</code> is carried only <code>2</code> steps: up twice.</li><li>Data from square <code>1024</code> must be carried <code>31</code> steps.</li>\n",
       "</ul><p>\n",
       "<em>How many steps</em> are required to carry the data from the square identified in your puzzle input all the way to the access port?</p>\n",
       "</article>"
      ]
     },
     "metadata": {},
     "output_type": "display_data"
    },
    {
     "data": {
      "text/markdown": [
       "## --- input ---"
      ]
     },
     "metadata": {},
     "output_type": "display_data"
    },
    {
     "data": {
      "text/plain": [
       "265149\n"
      ]
     },
     "metadata": {},
     "output_type": "display_data"
    }
   ],
   "source": [
    "import * as fs from 'fs';\n",
    "import * as tslab from 'tslab';\n",
    "let day = 3;\n",
    "tslab.display.html(fs.readFileSync(`./puzzles/${day}-1.html`).toString())\n",
    "let input = fs.readFileSync(`./input/${day}.txt`).toString()\n",
    "tslab.display.markdown(\"## --- input ---\")\n",
    "tslab.display.text(input)"
   ]
  },
  {
   "cell_type": "code",
   "execution_count": 22,
   "metadata": {},
   "outputs": [],
   "source": [
    "let iinput = Math.sqrt(parseInt(input,10))"
   ]
  },
  {
   "cell_type": "code",
   "execution_count": 21,
   "metadata": {},
   "outputs": [
    {
     "name": "stdout",
     "output_type": "stream",
     "text": [
      "263169\n"
     ]
    }
   ],
   "source": [
    "513**2"
   ]
  },
  {
   "cell_type": "code",
   "execution_count": 27,
   "metadata": {},
   "outputs": [
    {
     "name": "stdout",
     "output_type": "stream",
     "text": [
      "444\n"
     ]
    }
   ],
   "source": [
    " 265149 - 263169 - 512 - 512 - 512"
   ]
  },
  {
   "cell_type": "code",
   "execution_count": 28,
   "metadata": {},
   "outputs": [
    {
     "name": "stdout",
     "output_type": "stream",
     "text": [
      "68\n"
     ]
    }
   ],
   "source": [
    "512 - 444"
   ]
  },
  {
   "cell_type": "code",
   "execution_count": 29,
   "metadata": {},
   "outputs": [
    {
     "name": "stdout",
     "output_type": "stream",
     "text": [
      "444\n"
     ]
    }
   ],
   "source": [
    "512-68"
   ]
  },
  {
   "cell_type": "code",
   "execution_count": null,
   "metadata": {},
   "outputs": [],
   "source": []
  }
 ],
 "metadata": {
  "kernelspec": {
   "display_name": "TypeScript",
   "language": "typescript",
   "name": "tslab"
  },
  "language_info": {
   "codemirror_mode": {
    "mode": "typescript",
    "name": "javascript",
    "typescript": true
   },
   "file_extension": ".ts",
   "mimetype": "text/typescript",
   "name": "typescript",
   "version": "3.7.2"
  }
 },
 "nbformat": 4,
 "nbformat_minor": 4
}
