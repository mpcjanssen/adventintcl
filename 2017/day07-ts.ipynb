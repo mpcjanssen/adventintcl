{
 "cells": [
  {
   "cell_type": "code",
   "execution_count": 5,
   "metadata": {},
   "outputs": [
    {
     "name": "stdout",
     "output_type": "stream",
     "text": [
      "part1: ykpsek\n",
      "part2: 1060\n",
      "7.331544876098633  milliseconds.\n"
     ]
    }
   ],
   "source": [
    "const { PerformanceObserver, performance } = require('perf_hooks');\n",
    "var t0 = performance.now()\n",
    "let tree  = {};\n",
    "\n",
    "const fs = require('fs')\n",
    "const data = fs.readFileSync('./input/7.txt', 'utf8').trim();\n",
    "const reg = /(?<n>[a-z]+) \\((?<w>[0-9]+)\\)( -> (?<c>(([a-z]+)(, )?)+))?/\n",
    "data.split(\"\\n\").forEach(element => {\n",
    "                         const matches = element.match(reg);\n",
    "                        const name = matches.groups.n\n",
    "                        if (!tree[name]) {\n",
    "                            tree[name] = {parent: null, weight: 0, children: []}\n",
    "                        }\n",
    "                        tree[name].weight =  parseInt(matches.groups.w);\n",
    "                        if(matches.groups.c) {\n",
    "                           matches.groups.c.split(\", \").forEach( child => {\n",
    "                               \n",
    "                            if (!tree[child]) {\n",
    "                            tree[child] = {parent: null, weight: 0, children: []}\n",
    "                        }\n",
    "                               tree[child].parent = name;\n",
    "                               tree[name].children.push(child)\n",
    "                           })\n",
    "                        }\n",
    "                         });\n",
    "\n",
    "\n",
    "for(var propt in tree){\n",
    "    if (!tree[propt].parent) {\n",
    "        console.log(`part1: ${propt}`);\n",
    "        var ub = propt;\n",
    "        break;\n",
    "    }\n",
    "    \n",
    "}\n",
    "\n",
    "function totalWeight(n)  {\n",
    "    return n.weight + n.children.reduce((a,b) => a + totalWeight(tree[b]), 0)\n",
    "}\n",
    "\n",
    "const createTally = items => {\n",
    "  const tally = {}; // acts as the `acc`\n",
    "\n",
    "  for (let i = 0; i < items.length; i++) { // loop over indexes in your array\n",
    "    let current = items[i]; // get current item in your array (curr)\n",
    "    \n",
    "    // if statement peforms this logic seen in `.reduce()`: acc[curr] = (acc[curr] || 0) + 1\n",
    "    if(tally[current]) // if the current item is already a key in your object then...\n",
    "      tally[current]++ // increment the counter for current item\n",
    "    else // if the current item isn't an item in your object, then...\n",
    "      tally[current] = 1; // initialize the counter to 1\n",
    "  }\n",
    "  return tally; // return the `tally` (modified by the for loop)\n",
    "}\n",
    "\n",
    "function weights(nodeName) {\n",
    "    return tree[nodeName].children.map(x => [x, totalWeight(tree[x])])\n",
    "}\n",
    "\n",
    "function unbalancedChild(nodeName) {\n",
    "    const w = weights(nodeName)\n",
    "    const t = createTally(w.map (x => x[1]))\n",
    "    let unbalanced =  w.map (x => [x[0], t[x[1]]]).find( x => x[1] == 1)\n",
    "    if (unbalanced) {\n",
    "        return unbalanced[0]       \n",
    "    } else {\n",
    "        return null\n",
    "    }\n",
    "}\n",
    "var last = ub\n",
    "while (ub != null) {\n",
    "    last = ub\n",
    "    ub = unbalancedChild(ub)\n",
    "}\n",
    "\n",
    "let [correctName, correctWeight] = weights(tree[last].parent).find(x => x[0]!= last);\n",
    "let [wrongName, wrongWeight] = weights(tree[last].parent).find(x => x[0]== last);\n",
    "console.log(`part2: ${tree[last].weight - (wrongWeight - correctWeight)}`)\n",
    "var t1 = performance.now()\n",
    "console.log(`${t1 - t0}  milliseconds.`)"
   ]
  },
  {
   "cell_type": "code",
   "execution_count": null,
   "metadata": {},
   "outputs": [],
   "source": []
  }
 ],
 "metadata": {
  "kernelspec": {
   "display_name": "TypeScript",
   "language": "typescript",
   "name": "tslab"
  },
  "language_info": {
   "codemirror_mode": {
    "mode": "typescript",
    "name": "javascript",
    "typescript": true
   },
   "file_extension": ".ts",
   "mimetype": "text/typescript",
   "name": "typescript",
   "version": "3.7.2"
  }
 },
 "nbformat": 4,
 "nbformat_minor": 4
}
