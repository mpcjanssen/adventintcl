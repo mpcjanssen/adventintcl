{
 "cells": [
  {
   "cell_type": "code",
   "execution_count": 2,
   "metadata": {},
   "outputs": [
    {
     "data": {
      "text/plain": [
       "(cached)"
      ]
     },
     "metadata": {},
     "output_type": "display_data"
    },
    {
     "data": {
      "text/html": [
       "<article class=\"day-desc\">\n",
       "<h2>--- Day 8: I Heard You Like Registers ---</h2><p>You receive a <span title=\"There's that sorcery I told you about.\">signal</span> directly from the CPU. Because of your recent assistance with <a href=\"5\">jump instructions</a>, it would like you to compute the result of a series of unusual register instructions.</p><p>Each instruction consists of several parts: the register to modify, whether to increase or decrease that register's value, the amount by which to increase or decrease it, and a condition. If the condition fails, skip the instruction without modifying the register. The registers all start at <code>0</code>. The instructions look like this:</p><pre><code>b inc 5 if a &gt; 1\n",
       "a inc 1 if b &lt; 5\n",
       "c dec -10 if a &gt;= 1\n",
       "c inc -20 if c == 10\n",
       "</code></pre><p>These instructions would be processed as follows:</p><ul>\n",
       "<li>Because <code>a</code> starts at <code>0</code>, it is not greater than <code>1</code>, and so <code>b</code> is not modified.</li><li>\n",
       "<code>a</code> is increased by <code>1</code> (to <code>1</code>) because <code>b</code> is less than <code>5</code> (it is <code>0</code>).</li><li>\n",
       "<code>c</code> is decreased by <code>-10</code> (to <code>10</code>) because <code>a</code> is now greater than or equal to <code>1</code> (it is <code>1</code>).</li><li>\n",
       "<code>c</code> is increased by <code>-20</code> (to <code>-10</code>) because <code>c</code> is equal to <code>10</code>.</li>\n",
       "</ul><p>After this process, the largest value in any register is <code>1</code>.</p><p>You might also encounter <code>&lt;=</code> (less than or equal to) or <code>!=</code> (not equal to). However, the CPU doesn't have the bandwidth to tell you what all the registers are named, and leaves that to you to determine.</p><p>\n",
       "<em>What is the largest value in any register</em> after completing the instructions in your puzzle input?</p>\n",
       "</article>"
      ]
     },
     "metadata": {},
     "output_type": "display_data"
    },
    {
     "data": {
      "text/plain": [
       "(cached)"
      ]
     },
     "metadata": {},
     "output_type": "display_data"
    },
    {
     "data": {
      "text/html": [
       "<h2>Input</h2>"
      ]
     },
     "metadata": {},
     "output_type": "display_data"
    },
    {
     "data": {
      "text/plain": [
       "ebu inc 626 if iq < 0\n",
       "obc dec -809 if sdw == -2\n",
       "vb inc 568 if k > -2\n",
       "wl dec 721 if wui <= 2\n",
       "xbh dec -..."
      ]
     },
     "metadata": {},
     "output_type": "display_data"
    }
   ],
   "source": [
    "source ../modules/setup.tcl\n",
    "set year 2017\n",
    "set day 8\n",
    "\n",
    "aoc::get-puzzle $year  $day 1\n",
    "# aoc::get-puzzle $year $day 2\n",
    "set input [string trim [aoc::get-input $year $day]]\n",
    "jupyter::html \"<h2>Input</h2>\"\n",
    "jupyter::display \"text/plain\" [string range $input 0 100]...;"
   ]
  },
  {
   "cell_type": "code",
   "execution_count": 3,
   "metadata": {},
   "outputs": [
    {
     "name": "stdout",
     "output_type": "stream",
     "text": [
      "Day1\tykpsek\n",
      "Day2\t\n",
      "26496 microseconds per iteration\n"
     ]
    }
   ],
   "source": [
    "proc parts input {\n",
    "array unset parents\n",
    "array unset weights\n",
    "\n",
    "foreach l [split $input \\n] {\n",
    "  if {[regexp {([a-z]+) \\(([0-9]+)\\) -> (.*)} $l -> parent weight children]}  {\n",
    "      foreach child [string map {, {}} $children] {\n",
    "         set parents($child) $parent\n",
    "         set weights($parent) $weight\n",
    "      }\n",
    "  } else {\n",
    "    regexp {([a-z]+) \\(([0-9]+)\\)} $l -> parent weight\n",
    "    set weights($parent) $weight\n",
    "  }\n",
    "}\n",
    "set children [array names parents]\n",
    "foreach program [array names weights] {\n",
    "    if {$program ni $children} {\n",
    "        set result1 $program\n",
    "        break\n",
    "    }\n",
    "   \n",
    "}\n",
    "\n",
    "    set result2 {}\n",
    "    return [list $result1 $result2]\n",
    "}\n",
    "\n",
    "aoc::results "
   ]
  },
  {
   "cell_type": "code",
   "execution_count": 13,
   "metadata": {},
   "outputs": [
    {
     "data": {
      "text/plain": [
       "tknk {}"
      ]
     },
     "execution_count": 13,
     "metadata": {},
     "output_type": "execute_result"
    }
   ],
   "source": [
    "set input {pbga (66)\n",
    "xhth (57)\n",
    "ebii (61)\n",
    "havc (66)\n",
    "ktlj (57)\n",
    "fwft (72) -> ktlj, cntj, xhth\n",
    "qoyq (66)\n",
    "padx (45) -> pbga, havc, qoyq\n",
    "tknk (41) -> ugml, padx, fwft\n",
    "jptl (61)\n",
    "ugml (68) -> gyxo, ebii, jptl\n",
    "gyxo (61)\n",
    "cntj (57)}\n",
    "\n",
    "array unset parents\n",
    "array unset weights\n",
    "\n",
    "foreach l [split $input \\n] {\n",
    "  if {[regexp {([a-z]+) \\(([0-9]+)\\) -> (.*)} $l -> parent weight children]}  {\n",
    "      foreach child [string map {, {}} $children] {\n",
    "         set parents($child) $parent\n",
    "         set weights($parent) $weight\n",
    "      }\n",
    "  } else {\n",
    "    regexp {([a-z]+) \\(([0-9]+)\\)} $l -> parent weight\n",
    "    set weights($parent) $weight\n",
    "  }\n",
    "}\n",
    "set children [array names parents]\n",
    "foreach program [array names weights] {\n",
    "    if {$program ni $children} {\n",
    "        set result1 $program\n",
    "        break\n",
    "    }\n",
    "   \n",
    "}\n",
    "\n",
    "    set result2 {}\n",
    "    return [list $result1 $result2]"
   ]
  },
  {
   "cell_type": "code",
   "execution_count": 5,
   "metadata": {},
   "outputs": [],
   "source": [
    "proc children {parents parent} {\n",
    "  set children {}\n",
    "  foreach {c p} $parents {\n",
    "      if {$p eq $parent} {\n",
    "          lappend children $c\n",
    "      }\n",
    "\n",
    "  }\n",
    "  return $children\n",
    "}\n",
    "\n"
   ]
  },
  {
   "cell_type": "code",
   "execution_count": null,
   "metadata": {},
   "outputs": [],
   "source": []
  }
 ],
 "metadata": {
  "kernelspec": {
   "display_name": "Tcl",
   "language": "tcl",
   "name": "tcl"
  },
  "language_info": {
   "file_extension": ".tcl",
   "mimetype": "txt/x-tcl",
   "name": "tcl",
   "version": "8.6.11"
  }
 },
 "nbformat": 4,
 "nbformat_minor": 4
}
