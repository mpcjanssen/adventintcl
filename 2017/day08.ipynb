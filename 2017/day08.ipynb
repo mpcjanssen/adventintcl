{
 "cells": [
  {
   "cell_type": "code",
   "execution_count": 15,
   "metadata": {},
   "outputs": [
    {
     "data": {
      "text/plain": [
       "(cached)"
      ]
     },
     "metadata": {},
     "output_type": "display_data"
    },
    {
     "data": {
      "text/html": [
       "<article class=\"day-desc\">\n",
       "<h2>--- Day 8: I Heard You Like Registers ---</h2><p>You receive a <span title=\"There's that sorcery I told you about.\">signal</span> directly from the CPU. Because of your recent assistance with <a href=\"5\">jump instructions</a>, it would like you to compute the result of a series of unusual register instructions.</p><p>Each instruction consists of several parts: the register to modify, whether to increase or decrease that register's value, the amount by which to increase or decrease it, and a condition. If the condition fails, skip the instruction without modifying the register. The registers all start at <code>0</code>. The instructions look like this:</p><pre><code>b inc 5 if a &gt; 1\n",
       "a inc 1 if b &lt; 5\n",
       "c dec -10 if a &gt;= 1\n",
       "c inc -20 if c == 10\n",
       "</code></pre><p>These instructions would be processed as follows:</p><ul>\n",
       "<li>Because <code>a</code> starts at <code>0</code>, it is not greater than <code>1</code>, and so <code>b</code> is not modified.</li><li>\n",
       "<code>a</code> is increased by <code>1</code> (to <code>1</code>) because <code>b</code> is less than <code>5</code> (it is <code>0</code>).</li><li>\n",
       "<code>c</code> is decreased by <code>-10</code> (to <code>10</code>) because <code>a</code> is now greater than or equal to <code>1</code> (it is <code>1</code>).</li><li>\n",
       "<code>c</code> is increased by <code>-20</code> (to <code>-10</code>) because <code>c</code> is equal to <code>10</code>.</li>\n",
       "</ul><p>After this process, the largest value in any register is <code>1</code>.</p><p>You might also encounter <code>&lt;=</code> (less than or equal to) or <code>!=</code> (not equal to). However, the CPU doesn't have the bandwidth to tell you what all the registers are named, and leaves that to you to determine.</p><p>\n",
       "<em>What is the largest value in any register</em> after completing the instructions in your puzzle input?</p>\n",
       "</article>"
      ]
     },
     "metadata": {},
     "output_type": "display_data"
    },
    {
     "data": {
      "text/html": [
       "<article class=\"day-desc\">\n",
       "<h2 id=\"part2\">--- Part Two ---</h2><p>To be safe, the CPU also needs to know <em>the highest value held in any register during this process</em> so that it can decide how much memory to allocate to these operations. For example, in the above instructions, the highest value ever held was <code>10</code> (in register <code>c</code> after the third instruction was evaluated).</p>\n",
       "</article>"
      ]
     },
     "metadata": {},
     "output_type": "display_data"
    },
    {
     "data": {
      "text/plain": [
       "(cached)"
      ]
     },
     "metadata": {},
     "output_type": "display_data"
    },
    {
     "data": {
      "text/html": [
       "<h2>Input</h2>"
      ]
     },
     "metadata": {},
     "output_type": "display_data"
    },
    {
     "data": {
      "text/plain": [
       "ebu inc 626 if iq < 0\n",
       "obc dec -809 if sdw == -2\n",
       "vb inc 568 if k > -2\n",
       "wl dec 721 if wui <= 2\n",
       "xbh dec -..."
      ]
     },
     "metadata": {},
     "output_type": "display_data"
    }
   ],
   "source": [
    "source ../modules/setup.tcl\n",
    "set year 2017\n",
    "set day 8\n",
    "\n",
    "aoc::get-puzzle $year  $day 1\n",
    "aoc::get-puzzle $year $day 2\n",
    "set input [string trim [aoc::get-input $year $day]]\n",
    "jupyter::html \"<h2>Input</h2>\"\n",
    "jupyter::display \"text/plain\" [string range $input 0 100]...;"
   ]
  },
  {
   "cell_type": "code",
   "execution_count": 16,
   "metadata": {},
   "outputs": [
    {
     "name": "stdout",
     "output_type": "stream",
     "text": [
      "Day1\t4066\n",
      "Day2\t4829\n",
      "16888 microseconds per iteration\n"
     ]
    }
   ],
   "source": [
    "proc parts input {\n",
    "set registers {}\n",
    "set result2 0\n",
    "foreach line [split $input \\n] {\n",
    "    lassign $line reg op amount if creg cop camount\n",
    "    if [list [dict getdef $registers $creg 0] $cop $camount] {\n",
    "        switch -exact $op {\n",
    "            inc {dict incr registers $reg $amount}\n",
    "            dec {dict incr registers $reg [- 0 $amount]}\n",
    "            default {error \"Unknown op $op\"}\n",
    "        }\n",
    "        set newval [dict get $registers $reg]\n",
    "        if {$newval > $result2} {\n",
    "           set result2 $newval  \n",
    "        }\n",
    "    }\n",
    "}\n",
    "set result1 [lindex [lsort -decreasing -integer -stride 2 -index 1 $registers] 1]\n",
    "return [list $result1 $result2]\n",
    "}\n",
    "\n",
    "aoc::results "
   ]
  },
  {
   "cell_type": "code",
   "execution_count": null,
   "metadata": {},
   "outputs": [],
   "source": []
  }
 ],
 "metadata": {
  "kernelspec": {
   "display_name": "Tcl 8.7",
   "language": "tcl",
   "name": "tcl87"
  },
  "language_info": {
   "file_extension": ".tcl",
   "mimetype": "txt/x-tcl",
   "name": "tcl",
   "version": "8.7a3"
  }
 },
 "nbformat": 4,
 "nbformat_minor": 4
}
