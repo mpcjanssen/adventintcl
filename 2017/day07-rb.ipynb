{
 "cells": [
  {
   "cell_type": "code",
   "execution_count": 193,
   "metadata": {},
   "outputs": [
    {
     "data": {
      "text/plain": [
       "\"ykpsek\""
      ]
     },
     "execution_count": 193,
     "metadata": {},
     "output_type": "execute_result"
    }
   ],
   "source": [
    "tree = File.readlines('./input/7.txt').reduce({}) { \n",
    "    | tree, l |\n",
    "    m = l.match /(?<n>[a-z]+) \\((?<w>[0-9]+)\\)( -> (?<c>(([a-z]+)(, )?)+))?/\n",
    "    name = m[:n].to_sym\n",
    "    item = tree[name] || {}\n",
    "    item[:weight] = m[:w]\n",
    "    c = m[:c]\n",
    "    if c\n",
    "        children = c.split(/, /).map(&:to_sym)\n",
    "        item[:children] = children\n",
    "        children.each {\n",
    "            |child|\n",
    "            childNode = tree[child] || {}\n",
    "            childNode[:parent] = name\n",
    "            tree[child] = childNode\n",
    "        }\n",
    "    end\n",
    "    tree[name] = item\n",
    "    tree\n",
    "}\n",
    "def root(tree) \n",
    "    tree.filter { | k, v | v[:parent] == nil }.keys[0]\n",
    "end\n",
    "root(tree).to_s"
   ]
  },
  {
   "cell_type": "code",
   "execution_count": 188,
   "metadata": {},
   "outputs": [
    {
     "data": {
      "text/plain": [
       "471343"
      ]
     },
     "execution_count": 188,
     "metadata": {},
     "output_type": "execute_result"
    }
   ],
   "source": [
    "def weight(tree, node) \n",
    "    item = tree[node]\n",
    "    children = item[:children] || []\n",
    "    return item[:weight].to_i + children.reduce(0) { | x,y | x + weight(tree, y) }\n",
    "end\n",
    "def weights(tree, node)\n",
    "    tree[node][:children].reduce({}) { | x, y | x[y] = weight(tree,y) ; x}\n",
    "end\n",
    "weight(tree, root(tree))"
   ]
  },
  {
   "cell_type": "code",
   "execution_count": 189,
   "metadata": {},
   "outputs": [
    {
     "data": {
      "text/plain": [
       ":unbalanced"
      ]
     },
     "execution_count": 189,
     "metadata": {},
     "output_type": "execute_result"
    }
   ],
   "source": [
    "def unbalanced(tree, parentName)\n",
    "    cs = weights(tree,parentName)\n",
    "    cs.values().tally.invert[1]\n",
    "    cs.invert[cs.values().tally.invert[1]]\n",
    "end"
   ]
  },
  {
   "cell_type": "code",
   "execution_count": 190,
   "metadata": {},
   "outputs": [],
   "source": [
    "n = root(tree)\n",
    "while n = unbalanced(tree, n)\n",
    "    last  = n\n",
    "end"
   ]
  },
  {
   "cell_type": "code",
   "execution_count": 191,
   "metadata": {},
   "outputs": [
    {
     "data": {
      "text/plain": [
       "1060"
      ]
     },
     "execution_count": 191,
     "metadata": {},
     "output_type": "execute_result"
    }
   ],
   "source": [
    "ws = weights(tree, tree[last][:parent])\n",
    "correct = ws[last]\n",
    "incorrect = ws.first { | n,v | n != last  }[1]\n",
    "tree[last][:weight].to_i - (correct - incorrect)"
   ]
  },
  {
   "cell_type": "code",
   "execution_count": null,
   "metadata": {},
   "outputs": [],
   "source": []
  },
  {
   "cell_type": "code",
   "execution_count": null,
   "metadata": {},
   "outputs": [],
   "source": []
  }
 ],
 "metadata": {
  "kernelspec": {
   "display_name": "Ruby 2.7.2",
   "language": "ruby",
   "name": "ruby"
  },
  "language_info": {
   "file_extension": ".rb",
   "mimetype": "application/x-ruby",
   "name": "ruby",
   "version": "2.7.3"
  }
 },
 "nbformat": 4,
 "nbformat_minor": 4
}
