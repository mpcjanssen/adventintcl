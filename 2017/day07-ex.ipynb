{
 "cells": [
  {
   "cell_type": "code",
   "execution_count": 19,
   "metadata": {},
   "outputs": [
    {
     "name": "stderr",
     "output_type": "stream",
     "text": [
      "warning: redefining module Day (current version defined in memory)\n",
      "  nofile:1\n",
      "\n"
     ]
    },
    {
     "data": {
      "text/plain": [
       "{:module, Day, <<70, 79, 82, 49, 0, 0, 136, 52, 66, 69, 65, 77, 65, 116, 85, 56, 0, 0, 0, 155, 0, 0, 0, 17, 10, 69, 108, 105, 120, 105, 114, 46, 68, 97, 121, 8, 95, 95, 105, 110, 102, 111, 95, 95, 10, 97, 116, ...>>, {:input, 0}}"
      ]
     },
     "execution_count": 19,
     "metadata": {},
     "output_type": "execute_result"
    }
   ],
   "source": [
    "defmodule Day do\n",
    "    @lines File.read!(\"./input/7.txt\") \n",
    "    |> String.split(\"\\n\") \n",
    "    |> Enum.map(&String.trim/1)\n",
    "\n",
    "    def ensure(m, k) do\n",
    "        case m do\n",
    "            %{ ^k => _ } -> m\n",
    "            _ -> Map.merge(m, %{k => %{}})\n",
    "        end\n",
    "    end\n",
    "    def input(), do: @lines\n",
    "end\n",
    "    "
   ]
  },
  {
   "cell_type": "code",
   "execution_count": 20,
   "metadata": {},
   "outputs": [
    {
     "data": {
      "text/plain": [
       "[\"rmhcw (26)\", \"dmmriu (61)\", \"zjyaaoc (89) -> khekb, lywwhf\", \"kjgaib (385)\", \"nvvdii (28)\", \"zsgegr (15)\", \"azrafw (72)\", \"amzxtvd (92)\", \"zlkpdaw (77)\", \"pgfqtb (552) -> uynvl, ogcra, detyx\", \"uoztb (75)\", \"dktlvzc (97) -> jrryajw, uwctdam\", \"jtsahle (37)\", \"tuphfrq (87)\", \"pimll (344) -> ajhnj, mtmpaji\", \"otnkggc (84)\", \"njlmm (6)\", \"cktiwle (20)\", \"cdthf (17)\", \"rmmgmm (17)\", \"vthnptc (132) -> ivaasv, bpehcx\", \"dujrdhp (51)\", \"dtubefc (50)\", \"fdkyuhv (74) -> gxpqjp, tvnoctm\", \"qplfqti (1201) -> moyxzbt, icdth, mynrc, sbrhj, ocynqs\", \"rtckm (24)\", \"vszkz (1030) -> sitfw, mlhli, atyrf, nrbvw\", \"fxyfmtw (913) -> vptoff, etzcek, erieyzj\", \"pjqxvcx (24)\", \"foyrjn (903) -> vhvdkt, pvmhjh, pimll\", \"brofu (12)\", \"wrucr (110) -> kcxol, vflryv, dgvxrd\", \"lmcvdg (96)\", \"tykfhh (18)\", \"lgmsbu (32)\", \"qwqbgko (1661) -> ltdmtot, czgwxvf, dktlvzc\", \"ocfqtr (54)\", \"kvfpfwn (84)\", \"lpuzdj (51)\", \"aotgdc (67)\", \"dciwsw (15)\", \"lwyej (84)\", \"bwxgva (28)\", \"oraaeb (9)\", \"zdgdoe (66)\", \"boolrdh (96)\", \"ryixkn (40) -> kvfpfwn, jrzeg\", \"rgyulf (99)\", \"oztfyt (77) -> gijzmpj, moukxw\", \"ujhhibr (82)\", ...]"
      ]
     },
     "execution_count": 20,
     "metadata": {},
     "output_type": "execute_result"
    }
   ],
   "source": [
    "Day.input"
   ]
  },
  {
   "cell_type": "code",
   "execution_count": 23,
   "metadata": {},
   "outputs": [
    {
     "data": {
      "text/plain": [
       "%{\"test\" => %{child: []}}"
      ]
     },
     "execution_count": 23,
     "metadata": {},
     "output_type": "execute_result"
    }
   ],
   "source": [
    "x =  %{\"test\" => %{child: []}}"
   ]
  },
  {
   "cell_type": "code",
   "execution_count": 24,
   "metadata": {},
   "outputs": [
    {
     "data": {
      "text/plain": [
       "[]"
      ]
     },
     "execution_count": 24,
     "metadata": {},
     "output_type": "execute_result"
    }
   ],
   "source": [
    "x[\"test\"].child"
   ]
  },
  {
   "cell_type": "code",
   "execution_count": null,
   "metadata": {},
   "outputs": [],
   "source": []
  }
 ],
 "metadata": {
  "kernelspec": {
   "display_name": "Elixir",
   "language": "Elixir",
   "name": "ielixir"
  },
  "language_info": {
   "codemirror_mode": "elixir",
   "file_extension": "ex",
   "mimetype": "text/x-elixir",
   "name": "elixir",
   "nbconvert_exporter": "",
   "pygments_lexer": "elixir",
   "version": "1.11.2"
  }
 },
 "nbformat": 4,
 "nbformat_minor": 4
}
