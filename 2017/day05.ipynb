{
 "cells": [
  {
   "cell_type": "code",
   "execution_count": 17,
   "metadata": {},
   "outputs": [
    {
     "data": {
      "text/plain": [
       "(cached)"
      ]
     },
     "metadata": {},
     "output_type": "display_data"
    },
    {
     "data": {
      "text/html": [
       "<article class=\"day-desc\">\n",
       "<h2>--- Day 5: A Maze of Twisty Trampolines, All Alike ---</h2><p>An urgent <span title=\"Later, on its turn, it sends you a sorcery.\">interrupt</span> arrives from the CPU: it's trapped in a maze of jump instructions, and it would like assistance from any programs with spare cycles to help find the exit.</p><p>The message includes a list of the offsets for each jump. Jumps are relative: <code>-1</code> moves to the previous instruction, and <code>2</code> skips the next one. Start at the first instruction in the list. The goal is to follow the jumps until one leads <em>outside</em> the list.</p><p>In addition, these instructions are a little strange; after each jump, the offset of that instruction increases by <code>1</code>. So, if you come across an offset of <code>3</code>, you would move three instructions forward, but change it to a <code>4</code> for the next time it is encountered.</p><p>For example, consider the following list of jump offsets:</p><pre><code>0\n",
       "3\n",
       "0\n",
       "1\n",
       "-3\n",
       "</code></pre><p>Positive jumps (\"forward\") move downward; negative jumps move upward. For legibility in this example, these offset values will be written all on one line, with the current instruction marked in parentheses. The following steps would be taken before an exit is found:</p><ul>\n",
       "<li>\n",
       "<code>(0) 3  0  1  -3 </code> - <em>before</em> we have taken any steps.</li><li>\n",
       "<code>(1) 3  0  1  -3 </code> - jump with offset <code>0</code> (that is, don't jump at all). Fortunately, the instruction is then incremented to <code>1</code>.</li><li>\n",
       "<code> 2 (3) 0  1  -3 </code> - step forward because of the instruction we just modified. The first instruction is incremented again, now to <code>2</code>.</li><li>\n",
       "<code> 2  4  0  1 (-3)</code> - jump all the way to the end; leave a <code>4</code> behind.</li><li>\n",
       "<code> 2 (4) 0  1  -2 </code> - go back to where we just were; increment <code>-3</code> to <code>-2</code>.</li><li>\n",
       "<code> 2  5  0  1  -2 </code> - jump <code>4</code> steps forward, escaping the maze.</li>\n",
       "</ul><p>In this example, the exit is reached in <code>5</code> steps.</p><p>\n",
       "<em>How many steps</em> does it take to reach the exit?</p>\n",
       "</article>"
      ]
     },
     "metadata": {},
     "output_type": "display_data"
    },
    {
     "data": {
      "text/html": [
       "<article class=\"day-desc\">\n",
       "<h2 id=\"part2\">--- Part Two ---</h2><p>You notice a progress bar that jumps to 50% completion. Apparently, the door isn't yet satisfied, but it did emit a <em class=\"star\">star</em> as encouragement. The instructions change:</p><p>Now, instead of considering the <em>next</em> digit, it wants you to consider the digit <em>halfway around</em> the circular list.  That is, if your list contains <code>10</code> items, only include a digit in your sum if the digit <code>10/2 = 5</code> steps forward matches it. Fortunately, your list has an even number of elements.</p><p>For example:</p><ul>\n",
       "<li>\n",
       "<code>1212</code> produces <code>6</code>: the list contains <code>4</code> items, and all four digits match the digit <code>2</code> items ahead.</li><li>\n",
       "<code>1221</code> produces <code>0</code>, because every comparison is between a <code>1</code> and a <code>2</code>.</li><li>\n",
       "<code>123425</code> produces <code>4</code>, because both <code>2</code>s match each other, but no other digit has a match.</li><li>\n",
       "<code>123123</code> produces <code>12</code>.</li><li>\n",
       "<code>12131415</code> produces <code>4</code>.</li>\n",
       "</ul><p>\n",
       "<em>What is the solution</em> to your new captcha?</p>\n",
       "</article>"
      ]
     },
     "metadata": {},
     "output_type": "display_data"
    },
    {
     "data": {
      "text/plain": [
       "(cached)"
      ]
     },
     "metadata": {},
     "output_type": "display_data"
    },
    {
     "data": {
      "text/html": [
       "<h2>Input</h2>"
      ]
     },
     "metadata": {},
     "output_type": "display_data"
    },
    {
     "data": {
      "text/plain": [
       "2\n",
       "2\n",
       "0\n",
       "0\n",
       "-2\n",
       "..."
      ]
     },
     "metadata": {},
     "output_type": "display_data"
    }
   ],
   "source": [
    "source ../modules/setup.tcl\n",
    "set year 2017\n",
    "set day 5\n",
    "\n",
    "aoc::get-puzzle $year  $day 1\n",
    "aoc::get-puzzle 2017 1 2\n",
    "set input [string trim [aoc::get-input $year $day]]\n",
    "jupyter::html \"<h2>Input</h2>\"\n",
    "jupyter::display \"text/plain\" [string range $input 0 10]...;"
   ]
  },
  {
   "cell_type": "code",
   "execution_count": 18,
   "metadata": {},
   "outputs": [],
   "source": [
    "proc simulate {input l3inc} {\n",
    "set idx 0\n",
    "array unset mem\n",
    "foreach in [split $input \\n] {\n",
    "    set mem($idx) $in\n",
    "    incr idx\n",
    "}\n",
    "\n",
    "set step 0\n",
    "set pc 0\n",
    "while {1} {\n",
    "\n",
    "   if {[catch {set mem($pc)} offset]} {return $step}\n",
    "   if {$offset >= 3} {\n",
    "       incr mem($pc) $l3inc\n",
    "   } else {\n",
    "       incr mem($pc)\n",
    "   }\n",
    "   incr pc $offset\n",
    "   incr step\n",
    "}\n",
    "}"
   ]
  },
  {
   "cell_type": "code",
   "execution_count": 19,
   "metadata": {},
   "outputs": [
    {
     "name": "stdout",
     "output_type": "stream",
     "text": [
      "Day1\t343467\n",
      "Day2\t24774780\n",
      "7505576 microseconds per iteration\n"
     ]
    }
   ],
   "source": [
    "proc parts input {\n",
    "    set result1 [simulate $input 1]\n",
    "    set result2 [simulate $input -1]\n",
    "    return [list $result1 $result2]\n",
    "}\n",
    "aoc::results "
   ]
  },
  {
   "cell_type": "code",
   "execution_count": null,
   "metadata": {},
   "outputs": [],
   "source": []
  }
 ],
 "metadata": {
  "kernelspec": {
   "display_name": "Tcl",
   "language": "tcl",
   "name": "tcl"
  },
  "language_info": {
   "file_extension": ".tcl",
   "mimetype": "txt/x-tcl",
   "name": "tcl",
   "version": "8.6.11"
  }
 },
 "nbformat": 4,
 "nbformat_minor": 4
}
