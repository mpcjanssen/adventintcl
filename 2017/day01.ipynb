{
 "cells": [
  {
   "cell_type": "code",
   "execution_count": 27,
   "metadata": {},
   "outputs": [
    {
     "data": {
      "text/plain": [
       "(cached)"
      ]
     },
     "metadata": {},
     "output_type": "display_data"
    },
    {
     "data": {
      "text/html": [
       "<article class=\"day-desc\">\n",
       "<h2>--- Day 1: Inverse Captcha ---</h2><p>The night before Christmas, one of Santa's Elves calls you in a panic. \"The printer's broken! We can't print the <em>Naughty or Nice List</em>!\" By the time you make it to <span title=\"Floor 17: cafeteria, printing department, and experimental organic digitization equipment.\">sub-basement 17</span>, there are only a few minutes until midnight. \"We have a big problem,\" she says; \"there must be almost <em>fifty</em> bugs in this system, but nothing else can print The List. Stand in this square, quick! There's no time to explain; if you can convince them to pay you in <em class=\"star\">stars</em>, you'll be able to--\" She pulls a lever and the world goes blurry.</p><p>When your eyes can focus again, everything seems a lot more pixelated than before. She must have sent you inside the computer! You check the system clock: <em>25 milliseconds</em> until midnight. With that much time, you should be able to collect all <em class=\"star\">fifty stars</em> by December 25th.</p><p>Collect stars by solving puzzles.  Two puzzles will be made available on each <s style=\"text-decoration-color:#fff;\">day</s> millisecond in the Advent calendar; the second puzzle is unlocked when you complete the first.  Each puzzle grants <em class=\"star\">one star</em>. Good luck!</p><p>You're standing in a room with \"digitization quarantine\" written in LEDs along one wall. The only door is locked, but it includes a small interface. \"Restricted Area - Strictly No Digitized Users Allowed.\"</p><p>It goes on to explain that you may only leave by solving a <a href=\"https://en.wikipedia.org/wiki/CAPTCHA\">captcha</a> to prove you're <em>not</em> a human. Apparently, you only get one millisecond to solve the captcha: too fast for a normal human, but it feels like hours to you.</p><p>The captcha requires you to review a sequence of digits (your puzzle input) and find the <em>sum</em> of all digits that match the <em>next</em> digit in the list. The list is circular, so the digit after the last digit is the <em>first</em> digit in the list.</p><p>For example:</p><ul>\n",
       "<li>\n",
       "<code>1122</code> produces a sum of <code>3</code> (<code>1</code> + <code>2</code>) because the first digit (<code>1</code>) matches the second digit and the third digit (<code>2</code>) matches the fourth digit.</li><li>\n",
       "<code>1111</code> produces <code>4</code> because each digit (all <code>1</code>) matches the next.</li><li>\n",
       "<code>1234</code> produces <code>0</code> because no digit matches the next.</li><li>\n",
       "<code>91212129</code> produces <code>9</code> because the only digit that matches the next one is the last digit, <code>9</code>.</li>\n",
       "</ul><p>\n",
       "<em>What is the solution</em> to your captcha?</p>\n",
       "</article>"
      ]
     },
     "metadata": {},
     "output_type": "display_data"
    },
    {
     "data": {
      "text/plain": [
       "(cached)"
      ]
     },
     "metadata": {},
     "output_type": "display_data"
    },
    {
     "data": {
      "text/html": [
       "<h2>Input</h2>"
      ]
     },
     "metadata": {},
     "output_type": "display_data"
    },
    {
     "data": {
      "text/plain": [
       "64971395968289825957777798234951578482268493996619135916436993343536643184775448866196536355798516621..."
      ]
     },
     "metadata": {},
     "output_type": "display_data"
    }
   ],
   "source": [
    "source ../modules/setup.tcl\n",
    "\n",
    "aoc::get-puzzle 2017 1 1\n",
    "# aoc::get-puzzle 2017 1 2\n",
    "set input [string trim [aoc::get-input 2017 1]]\n",
    "jupyter::html \"<h2>Input</h2>\"\n",
    "jupyter::display \"text/plain\" [string range $input 0 100]...;"
   ]
  },
  {
   "cell_type": "code",
   "execution_count": 32,
   "metadata": {},
   "outputs": [],
   "source": [
    "\n",
    "proc sum {line} {\n",
    "    set sum 0\n",
    "    for {set i 0} {$i < [string length $line]} {incr i} {\n",
    "        set l [string index $line $i]\n",
    "        set r [string index $line[string index $line 0] $i+1]\n",
    "        if {$l eq $r} {\n",
    "            incr sum $l\n",
    "        }\n",
    "    }\n",
    "    return $sum\n",
    "}\n"
   ]
  },
  {
   "cell_type": "code",
   "execution_count": 34,
   "metadata": {},
   "outputs": [
    {
     "name": "stdout",
     "output_type": "stream",
     "text": [
      "Day1\t1228\n",
      "Day2\t0\n",
      "14611 microseconds per iteration\n"
     ]
    }
   ],
   "source": [
    "proc parts input {\n",
    "\n",
    "    set result1 [sum $input]\n",
    "\n",
    "    set result2 0\n",
    "    return [list $result1 $result2]\n",
    "}\n",
    "aoc::results "
   ]
  },
  {
   "cell_type": "code",
   "execution_count": null,
   "metadata": {},
   "outputs": [],
   "source": [
    "file mkdir"
   ]
  },
  {
   "cell_type": "code",
   "execution_count": null,
   "metadata": {},
   "outputs": [],
   "source": []
  }
 ],
 "metadata": {
  "kernelspec": {
   "display_name": "Tcl",
   "language": "tcl",
   "name": "tcl"
  },
  "language_info": {
   "file_extension": ".tcl",
   "mimetype": "txt/x-tcl",
   "name": "tcl",
   "version": "8.6.11"
  }
 },
 "nbformat": 4,
 "nbformat_minor": 4
}
