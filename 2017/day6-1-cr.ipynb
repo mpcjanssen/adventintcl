{
 "cells": [
  {
   "cell_type": "code",
   "execution_count": 7,
   "metadata": {},
   "outputs": [
    {
     "name": "stdout",
     "output_type": "stream",
     "text": [
      "Part1: 7864\n",
      "Part2: 1695\n"
     ]
    }
   ],
   "source": [
    "combinations =Hash(Array(Int32),Int32).new\n",
    "current = File.read(\"input/6.txt\").chomp.split(\"\\t\").map &.to_i\n",
    "cycle_count = 0\n",
    "while true\n",
    "    to_redistribute = current.max\n",
    "    start_index = (current.index to_redistribute).as Int\n",
    "    current[start_index] = 0\n",
    "    while to_redistribute > 0\n",
    "        start_index = (start_index + 1) % current.size\n",
    "        current[start_index] += 1\n",
    "        to_redistribute -= 1\n",
    "    end\n",
    "    cycle_count += 1\n",
    "if combinations[current]?\n",
    "        break\n",
    "    end\n",
    "combinations[current.dup] = cycle_count\n",
    "end\n",
    "puts \"Part1: #{cycle_count}\"\n",
    "puts \"Part2: #{cycle_count-combinations[current]}\""
   ]
  },
  {
   "cell_type": "code",
   "execution_count": null,
   "metadata": {},
   "outputs": [],
   "source": []
  }
 ],
 "metadata": {
  "kernelspec": {
   "display_name": "Crystal 1.0.0",
   "language": "crystal",
   "name": "crystal"
  },
  "language_info": {
   "file_extension": ".cr",
   "mimetype": "text/x-crystal",
   "name": "Crystal",
   "version": "1.0.0"
  }
 },
 "nbformat": 4,
 "nbformat_minor": 4
}
