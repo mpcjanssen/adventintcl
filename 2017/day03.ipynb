{
 "cells": [
  {
   "cell_type": "code",
   "execution_count": 1,
   "metadata": {},
   "outputs": [
    {
     "data": {
      "text/plain": [
       "(cached)"
      ]
     },
     "metadata": {},
     "output_type": "display_data"
    },
    {
     "data": {
      "text/html": [
       "<article class=\"day-desc\">\n",
       "<h2>--- Day 3: Spiral Memory ---</h2><p>You come across an experimental new kind of memory stored on an <span title=\"Good thing we have all these infinite two-dimensional grids lying around!\">infinite two-dimensional grid</span>.</p><p>Each square on the grid is allocated in a spiral pattern starting at a location marked <code>1</code> and then counting up while spiraling outward. For example, the first few squares are allocated like this:</p><pre><code>17  16  15  14  13\n",
       "18   5   4   3  12\n",
       "19   6   1   2  11\n",
       "20   7   8   9  10\n",
       "21  22  23---&gt; ...\n",
       "</code></pre><p>While this is very space-efficient (no squares are skipped), requested data must be carried back to square <code>1</code> (the location of the only access port for this memory system) by programs that can only move up, down, left, or right. They always take the shortest path: the <a href=\"https://en.wikipedia.org/wiki/Taxicab_geometry\">Manhattan Distance</a> between the location of the data and square <code>1</code>.</p><p>For example:</p><ul>\n",
       "<li>Data from square <code>1</code> is carried <code>0</code> steps, since it's at the access port.</li><li>Data from square <code>12</code> is carried <code>3</code> steps, such as: down, left, left.</li><li>Data from square <code>23</code> is carried only <code>2</code> steps: up twice.</li><li>Data from square <code>1024</code> must be carried <code>31</code> steps.</li>\n",
       "</ul><p>\n",
       "<em>How many steps</em> are required to carry the data from the square identified in your puzzle input all the way to the access port?</p>\n",
       "</article>"
      ]
     },
     "metadata": {},
     "output_type": "display_data"
    },
    {
     "data": {
      "text/plain": [
       "(cached)"
      ]
     },
     "metadata": {},
     "output_type": "display_data"
    },
    {
     "data": {
      "text/html": [
       "<h2>Input</h2>"
      ]
     },
     "metadata": {},
     "output_type": "display_data"
    },
    {
     "data": {
      "text/plain": [
       "265149..."
      ]
     },
     "metadata": {},
     "output_type": "display_data"
    }
   ],
   "source": [
    "source ../modules/setup.tcl\n",
    "set year 2017\n",
    "set day 3\n",
    "\n",
    "aoc::get-puzzle $year  $day 1\n",
    "# aoc::get-puzzle 2017 1 2\n",
    "set input [string trim [aoc::get-input $year $day]]\n",
    "jupyter::html \"<h2>Input</h2>\"\n",
    "jupyter::display \"text/plain\" [string range $input 0 100]...;"
   ]
  },
  {
   "cell_type": "code",
   "execution_count": 2,
   "metadata": {},
   "outputs": [
    {
     "name": "stdout",
     "output_type": "stream",
     "text": [
      "513\n"
     ]
    },
    {
     "data": {
      "text/plain": [
       "444"
      ]
     },
     "execution_count": 2,
     "metadata": {},
     "output_type": "execute_result"
    }
   ],
   "source": [
    "set side [expr { int(sqrt($input)) -1}]\n",
    "puts $side\n",
    "set side1 [- $side 1]\n",
    "set rest [- $input [* $side $side]]\n",
    "set rest [- $rest $side1 $side1 $side1]"
   ]
  },
  {
   "cell_type": "code",
   "execution_count": 26,
   "metadata": {},
   "outputs": [
    {
     "name": "stdout",
     "output_type": "stream",
     "text": [
      "257\n"
     ]
    },
    {
     "data": {
      "text/plain": [
       "181"
      ]
     },
     "execution_count": 26,
     "metadata": {},
     "output_type": "execute_result"
    }
   ],
   "source": [
    "set start [expr {513/2+1}]\n",
    "puts $start\n",
    "set rest [- $rem $start] \n",
    "set rest [- $rest $side 1]\n",
    "set rest [- $rest $side 1]\n",
    "set rest [- $rest $side 1]\n",
    "set rest"
   ]
  },
  {
   "cell_type": "code",
   "execution_count": 10,
   "metadata": {},
   "outputs": [
    {
     "name": "stdout",
     "output_type": "stream",
     "text": [
      "513\n"
     ]
    },
    {
     "data": {
      "text/plain": [
       "256"
      ]
     },
     "execution_count": 10,
     "metadata": {},
     "output_type": "execute_result"
    }
   ],
   "source": []
  },
  {
   "cell_type": "code",
   "execution_count": 34,
   "metadata": {},
   "outputs": [
    {
     "name": "stdout",
     "output_type": "stream",
     "text": [
      "Day1\t1228\n",
      "Day2\t0\n",
      "14611 microseconds per iteration\n"
     ]
    }
   ],
   "source": [
    "proc parts input {\n",
    "\n",
    "    set result1 [sum $input]\n",
    "\n",
    "    set result2 0\n",
    "    return [list $result1 $result2]\n",
    "}\n",
    "aoc::results "
   ]
  },
  {
   "cell_type": "code",
   "execution_count": null,
   "metadata": {},
   "outputs": [],
   "source": [
    "file mkdir"
   ]
  },
  {
   "cell_type": "code",
   "execution_count": null,
   "metadata": {},
   "outputs": [],
   "source": []
  }
 ],
 "metadata": {
  "kernelspec": {
   "display_name": "Tcl",
   "language": "tcl",
   "name": "tcl"
  },
  "language_info": {
   "file_extension": ".tcl",
   "mimetype": "txt/x-tcl",
   "name": "tcl",
   "version": "8.6.11"
  }
 },
 "nbformat": 4,
 "nbformat_minor": 4
}
