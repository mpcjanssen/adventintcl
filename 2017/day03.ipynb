{
 "cells": [
  {
   "cell_type": "code",
   "execution_count": 2,
   "metadata": {},
   "outputs": [
    {
     "data": {
      "text/plain": [
       "(cached)"
      ]
     },
     "metadata": {},
     "output_type": "display_data"
    },
    {
     "data": {
      "text/html": [
       "<article class=\"day-desc\">\n",
       "<h2>--- Day 3: Spiral Memory ---</h2><p>You come across an experimental new kind of memory stored on an <span title=\"Good thing we have all these infinite two-dimensional grids lying around!\">infinite two-dimensional grid</span>.</p><p>Each square on the grid is allocated in a spiral pattern starting at a location marked <code>1</code> and then counting up while spiraling outward. For example, the first few squares are allocated like this:</p><pre><code>17  16  15  14  13\n",
       "18   5   4   3  12\n",
       "19   6   1   2  11\n",
       "20   7   8   9  10\n",
       "21  22  23---&gt; ...\n",
       "</code></pre><p>While this is very space-efficient (no squares are skipped), requested data must be carried back to square <code>1</code> (the location of the only access port for this memory system) by programs that can only move up, down, left, or right. They always take the shortest path: the <a href=\"https://en.wikipedia.org/wiki/Taxicab_geometry\">Manhattan Distance</a> between the location of the data and square <code>1</code>.</p><p>For example:</p><ul>\n",
       "<li>Data from square <code>1</code> is carried <code>0</code> steps, since it's at the access port.</li><li>Data from square <code>12</code> is carried <code>3</code> steps, such as: down, left, left.</li><li>Data from square <code>23</code> is carried only <code>2</code> steps: up twice.</li><li>Data from square <code>1024</code> must be carried <code>31</code> steps.</li>\n",
       "</ul><p>\n",
       "<em>How many steps</em> are required to carry the data from the square identified in your puzzle input all the way to the access port?</p>\n",
       "</article>"
      ]
     },
     "metadata": {},
     "output_type": "display_data"
    },
    {
     "data": {
      "text/plain": [
       "(cached)"
      ]
     },
     "metadata": {},
     "output_type": "display_data"
    },
    {
     "data": {
      "text/html": [
       "<article class=\"day-desc\">\n",
       "<h2 id=\"part2\">--- Part Two ---</h2><p>As a stress test on the system, the programs here clear the grid and then store the value <code>1</code> in square <code>1</code>. Then, in the same allocation order as shown above, they store the sum of the values in all adjacent squares, including diagonals.</p><p>So, the first few squares' values are chosen as follows:</p><ul>\n",
       "<li>Square <code>1</code> starts with the value <code>1</code>.</li><li>Square <code>2</code> has only one adjacent filled square (with value <code>1</code>), so it also stores <code>1</code>.</li><li>Square <code>3</code> has both of the above squares as neighbors and stores the sum of their values, <code>2</code>.</li><li>Square <code>4</code> has all three of the aforementioned squares as neighbors and stores the sum of their values, <code>4</code>.</li><li>Square <code>5</code> only has the first and fourth squares as neighbors, so it gets the value <code>5</code>.</li>\n",
       "</ul><p>Once a square is written, its value does not change. Therefore, the first few squares would receive the following values:</p><pre><code>147  142  133  122   59\n",
       "304    5    4    2   57\n",
       "330   10    1    1   54\n",
       "351   11   23   25   26\n",
       "362  747  806---&gt;   ...\n",
       "</code></pre><p>What is the <em>first value written</em> that is <em>larger</em> than your puzzle input?</p>\n",
       "</article>"
      ]
     },
     "metadata": {},
     "output_type": "display_data"
    },
    {
     "data": {
      "text/plain": [
       "(cached)"
      ]
     },
     "metadata": {},
     "output_type": "display_data"
    },
    {
     "data": {
      "text/html": [
       "<h2>Input</h2>"
      ]
     },
     "metadata": {},
     "output_type": "display_data"
    },
    {
     "data": {
      "text/plain": [
       "265149..."
      ]
     },
     "metadata": {},
     "output_type": "display_data"
    }
   ],
   "source": [
    "source ../modules/setup.tcl\n",
    "set year 2017\n",
    "set day 3\n",
    "\n",
    "aoc::get-puzzle $year  $day 1\n",
    "aoc::get-puzzle $year  $day 2\n",
    "set input [string trim [aoc::get-input $year $day]]\n",
    "jupyter::html \"<h2>Input</h2>\"\n",
    "jupyter::display \"text/plain\" [string range $input 0 100]...;"
   ]
  },
  {
   "cell_type": "code",
   "execution_count": 49,
   "metadata": {},
   "outputs": [],
   "source": [
    "proc coord  {} {\n",
    "    yield\n",
    "    set x 0\n",
    "    set y 0\n",
    "    set res $x:$y\n",
    "    yield [list $x $y]\n",
    "    set side 3\n",
    "    while {true} {\n",
    "    incr x\n",
    "     yield [list $x $y]\n",
    "    for {set i 0} {$i < ($side-2)} {incr i} {\n",
    "        incr y -1\n",
    "        yield [list $x $y]\n",
    "    }\n",
    "    for {set i 0} {$i < ($side-1)} {incr i} {\n",
    "        incr x -1\n",
    "        yield [list $x $y]\n",
    "    }\n",
    "    for {set i 0} {$i < ($side-1)} {incr i} {\n",
    "        incr y 1\n",
    "        yield [list $x $y]\n",
    "    }\n",
    "        for {set i 0} {$i < ($side-1)} {incr i} {\n",
    "        incr x 1\n",
    "        yield [list $x $y]\n",
    "    }\n",
    "\n",
    "    incr side 2\n",
    "    }\n",
    "}\n",
    "\n",
    "proc part2 {input} {\n",
    "coroutine coords coord\n",
    "set i 1\n",
    "set value 0\n",
    "set values {}\n",
    "while {$value < $input} {\n",
    "  lassign [coords] x y\n",
    "  # puts ==\\t$x:$y\n",
    "  # puts $x:$y\n",
    "  set value 0\n",
    "  # puts $values\n",
    "  foreach p [aoc::neighbours8 $x $y] {\n",
    "      # puts $p->[dict getdef $values $p 0]\n",
    "      incr value [dict getdef $values $p 0]\n",
    "  }\n",
    "  if {$value == 0} {set value 1}\n",
    "  # puts $value\n",
    "  dict set values [list $x $y] $value\n",
    "  incr i\n",
    "}\n",
    "rename coords {}\n",
    "\n",
    "set value\n",
    "}"
   ]
  },
  {
   "cell_type": "code",
   "execution_count": 50,
   "metadata": {},
   "outputs": [
    {
     "name": "stdout",
     "output_type": "stream",
     "text": [
      "Day1\t438\n",
      "Day2\t266330\n",
      "112039 microseconds per iteration\n"
     ]
    }
   ],
   "source": [
    "proc parts input {\n",
    "    coroutine coords coord\n",
    "    set n 1\n",
    "    while {$n <= $input} {\n",
    "        set xy1 [coords]\n",
    "        incr n\n",
    "    }\n",
    "    rename coords {}\n",
    "    lassign $xy1 x y\n",
    "    set result1 [expr {abs($x) + abs($y)}]\n",
    "    set result2 [part2 $input]\n",
    "    return [list $result1 $result2]\n",
    "}\n",
    "aoc::results "
   ]
  },
  {
   "cell_type": "code",
   "execution_count": null,
   "metadata": {},
   "outputs": [],
   "source": []
  }
 ],
 "metadata": {
  "kernelspec": {
   "display_name": "Tcl 8.7",
   "language": "tcl",
   "name": "tcl87"
  },
  "language_info": {
   "file_extension": ".tcl",
   "mimetype": "txt/x-tcl",
   "name": "tcl",
   "version": "8.7a3"
  }
 },
 "nbformat": 4,
 "nbformat_minor": 4
}
