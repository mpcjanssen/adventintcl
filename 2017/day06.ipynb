{
 "cells": [
  {
   "cell_type": "code",
   "execution_count": 4,
   "metadata": {},
   "outputs": [
    {
     "data": {
      "text/plain": [
       "(cached)"
      ]
     },
     "metadata": {},
     "output_type": "display_data"
    },
    {
     "data": {
      "text/html": [
       "<article class=\"day-desc\">\n",
       "<h2>--- Day 6: Memory Reallocation ---</h2><p>A debugger program here is having an issue: it is trying to repair a memory reallocation routine, but it keeps getting stuck in an infinite loop.</p><p>In this area, there are <span title=\"There are also five currency banks, two river banks, three airplanes banking, a banked billards shot, and a left bank.\">sixteen memory banks</span>; each memory bank can hold any number of <em>blocks</em>. The goal of the reallocation routine is to balance the blocks between the memory banks.</p><p>The reallocation routine operates in cycles. In each cycle, it finds the memory bank with the most blocks (ties won by the lowest-numbered memory bank) and redistributes those blocks among the banks. To do this, it removes all of the blocks from the selected bank, then moves to the next (by index) memory bank and inserts one of the blocks. It continues doing this until it runs out of blocks; if it reaches the last memory bank, it wraps around to the first one.</p><p>The debugger would like to know how many redistributions can be done before a blocks-in-banks configuration is produced that <em>has been seen before</em>.</p><p>For example, imagine a scenario with only four memory banks:</p><ul>\n",
       "<li>The banks start with <code>0</code>, <code>2</code>, <code>7</code>, and <code>0</code> blocks. The third bank has the most blocks, so it is chosen for redistribution.</li><li>Starting with the next bank (the fourth bank) and then continuing to the first bank, the second bank, and so on, the <code>7</code> blocks are spread out over the memory banks. The fourth, first, and second banks get two blocks each, and the third bank gets one back. The final result looks like this: <code>2 4 1 2</code>.</li><li>Next, the second bank is chosen because it contains the most blocks (four). Because there are four memory banks, each gets one block. The result is: <code>3 1 2 3</code>.</li><li>Now, there is a tie between the first and fourth memory banks, both of which have three blocks. The first bank wins the tie, and its three blocks are distributed evenly over the other three banks, leaving it with none: <code>0 2 3 4</code>.</li><li>The fourth bank is chosen, and its four blocks are distributed such that each of the four banks receives one: <code>1 3 4 1</code>.</li><li>The third bank is chosen, and the same thing happens: <code>2 4 1 2</code>.</li>\n",
       "</ul><p>At this point, we've reached a state we've seen before: <code>2 4 1 2</code> was already seen. The infinite loop is detected after the fifth block redistribution cycle, and so the answer in this example is <code>5</code>.</p><p>Given the initial block counts in your puzzle input, <em>how many redistribution cycles</em> must be completed before a configuration is produced that has been seen before?</p>\n",
       "</article>"
      ]
     },
     "metadata": {},
     "output_type": "display_data"
    },
    {
     "data": {
      "text/plain": [
       "(cached)"
      ]
     },
     "metadata": {},
     "output_type": "display_data"
    },
    {
     "data": {
      "text/html": [
       "<h2>Input</h2>"
      ]
     },
     "metadata": {},
     "output_type": "display_data"
    },
    {
     "data": {
      "text/plain": [
       "0 5 10 0 11 14 13 4 11 8 8 7 1 4 12 11"
      ]
     },
     "metadata": {},
     "output_type": "display_data"
    }
   ],
   "source": [
    "source ../modules/setup.tcl\n",
    "set year 2017\n",
    "set day 6\n",
    "\n",
    "aoc::get-puzzle $year  $day 1\n",
    "# aoc::get-puzzle $year $day 2\n",
    "set input [string trim [aoc::get-input $year $day]]\n",
    "jupyter::html \"<h2>Input</h2>\"\n",
    "jupyter::display \"text/plain\" [split $input];"
   ]
  },
  {
   "cell_type": "code",
   "execution_count": 22,
   "metadata": {},
   "outputs": [
    {
     "name": "stdout",
     "output_type": "stream",
     "text": [
      "ibanks(0)  = 0\n",
      "ibanks(1)  = 5\n",
      "ibanks(10) = 8\n",
      "ibanks(11) = 7\n",
      "ibanks(12) = 1\n",
      "ibanks(13) = 4\n",
      "ibanks(14) = 12\n",
      "ibanks(15) = 11\n",
      "ibanks(2)  = 10\n",
      "ibanks(3)  = 0\n",
      "ibanks(4)  = 11\n",
      "ibanks(5)  = 14\n",
      "ibanks(6)  = 13\n",
      "ibanks(7)  = 4\n",
      "ibanks(8)  = 11\n",
      "ibanks(9)  = 8\n",
      "5:14\n"
     ]
    }
   ],
   "source": [
    "set banks [split $input]\n",
    "set idx 0\n",
    "array unset ibanks\n",
    "array set ibanks {}\n",
    "foreach bank $banks {\n",
    "  set  ibanks($idx) $bank\n",
    "  incr idx\n",
    "}\n",
    "parray ibanks\n",
    "\n",
    "lassign [lsort -decreasing -integer -stride 2 -index {1 0} [array get ibanks]] idx num\n",
    "puts $idx:$num"
   ]
  },
  {
   "cell_type": "code",
   "execution_count": 17,
   "metadata": {},
   "outputs": [],
   "source": [
    "unset ibanks"
   ]
  },
  {
   "cell_type": "code",
   "execution_count": 19,
   "metadata": {},
   "outputs": [
    {
     "name": "stdout",
     "output_type": "stream",
     "text": [
      "Day1\t343467\n",
      "Day2\t24774780\n",
      "7505576 microseconds per iteration\n"
     ]
    }
   ],
   "source": [
    "proc parts input {\n",
    "    set result1 [simulate $input 1]\n",
    "    set result2 [simulate $input -1]\n",
    "    return [list $result1 $result2]\n",
    "}\n",
    "aoc::results "
   ]
  },
  {
   "cell_type": "code",
   "execution_count": null,
   "metadata": {},
   "outputs": [],
   "source": []
  }
 ],
 "metadata": {
  "kernelspec": {
   "display_name": "Tcl",
   "language": "tcl",
   "name": "tcl"
  },
  "language_info": {
   "file_extension": ".tcl",
   "mimetype": "txt/x-tcl",
   "name": "tcl",
   "version": "8.6.11"
  }
 },
 "nbformat": 4,
 "nbformat_minor": 4
}
