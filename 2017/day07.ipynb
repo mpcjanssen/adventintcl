{
 "cells": [
  {
   "cell_type": "code",
   "execution_count": 2,
   "metadata": {},
   "outputs": [
    {
     "data": {
      "text/plain": [
       "(cached)"
      ]
     },
     "metadata": {},
     "output_type": "display_data"
    },
    {
     "data": {
      "text/html": [
       "<article class=\"day-desc\">\n",
       "<h2>--- Day 7: Recursive Circus ---</h2><p>Wandering further through the circuits of the computer, you come upon a tower of <span title=\"Turtles, all the way down.\">programs</span> that have gotten themselves into a bit of trouble.  A recursive algorithm has gotten out of hand, and now they're balanced precariously in a large tower.</p><p>One program at the bottom supports the entire tower. It's holding a large disc, and on the disc are balanced several more sub-towers. At the bottom of these sub-towers, standing on the bottom disc, are other programs, each holding <em>their</em> own disc, and so on. At the very tops of these sub-sub-sub-...-towers, many programs stand simply keeping the disc below them balanced but with no disc of their own.</p><p>You offer to help, but first you need to understand the structure of these towers.  You ask each program to yell out their <em>name</em>, their <em>weight</em>, and (if they're holding a disc) the <em>names of the programs immediately above them</em> balancing on that disc. You write this information down (your puzzle input). Unfortunately, in their panic, they don't do this in an orderly fashion; by the time you're done, you're not sure which program gave which information.</p><p>For example, if your list is the following:</p><pre><code>pbga (66)\n",
       "xhth (57)\n",
       "ebii (61)\n",
       "havc (66)\n",
       "ktlj (57)\n",
       "fwft (72) -&gt; ktlj, cntj, xhth\n",
       "qoyq (66)\n",
       "padx (45) -&gt; pbga, havc, qoyq\n",
       "tknk (41) -&gt; ugml, padx, fwft\n",
       "jptl (61)\n",
       "ugml (68) -&gt; gyxo, ebii, jptl\n",
       "gyxo (61)\n",
       "cntj (57)\n",
       "</code></pre><p>...then you would be able to recreate the structure of the towers that looks like this:</p><pre><code>                gyxo\n",
       "              /     \n",
       "         ugml - ebii\n",
       "       /      \\     \n",
       "      |         jptl\n",
       "      |        \n",
       "      |         pbga\n",
       "     /        /\n",
       "tknk --- padx - havc\n",
       "     \\        \\\n",
       "      |         qoyq\n",
       "      |             \n",
       "      |         ktlj\n",
       "       \\      /     \n",
       "         fwft - cntj\n",
       "              \\     \n",
       "                xhth\n",
       "</code></pre><p>In this example, <code>tknk</code> is at the bottom of the tower (the <em>bottom program</em>), and is holding up <code>ugml</code>, <code>padx</code>, and <code>fwft</code>.  Those programs are, in turn, holding up other programs; in this example, none of those programs are holding up any other programs, and are all the tops of their own towers. (The actual tower balancing in front of you is much larger.)</p><p>Before you're ready to help them, you need to make sure your information is correct.  <em>What is the name of the bottom program?</em>\n",
       "</p>\n",
       "</article>"
      ]
     },
     "metadata": {},
     "output_type": "display_data"
    },
    {
     "data": {
      "text/plain": [
       "(cached)"
      ]
     },
     "metadata": {},
     "output_type": "display_data"
    },
    {
     "data": {
      "text/html": [
       "<h2>Input</h2>"
      ]
     },
     "metadata": {},
     "output_type": "display_data"
    },
    {
     "data": {
      "text/plain": [
       "rmhcw (26)\n",
       "..."
      ]
     },
     "metadata": {},
     "output_type": "display_data"
    }
   ],
   "source": [
    "source ../modules/setup.tcl\n",
    "set year 2017\n",
    "set day 7\n",
    "\n",
    "aoc::get-puzzle $year  $day 1\n",
    "# aoc::get-puzzle $year $day 2\n",
    "set input [string trim [aoc::get-input $year $day]]\n",
    "jupyter::html \"<h2>Input</h2>\"\n",
    "jupyter::display \"text/plain\" [string range $input 0 10]...;"
   ]
  },
  {
   "cell_type": "code",
   "execution_count": 3,
   "metadata": {},
   "outputs": [
    {
     "name": "stdout",
     "output_type": "stream",
     "text": [
      "Day1\tykpsek\n",
      "Day2\t\n",
      "26496 microseconds per iteration\n"
     ]
    }
   ],
   "source": [
    "proc parts input {\n",
    "array unset parents\n",
    "array unset weights\n",
    "\n",
    "foreach l [split $input \\n] {\n",
    "  if {[regexp {([a-z]+) \\(([0-9]+)\\) -> (.*)} $l -> parent weight children]}  {\n",
    "      foreach child [string map {, {}} $children] {\n",
    "         set parents($child) $parent\n",
    "         set weights($parent) $weight\n",
    "      }\n",
    "  } else {\n",
    "    regexp {([a-z]+) \\(([0-9]+)\\)} $l -> parent weight\n",
    "    set weights($parent) $weight\n",
    "  }\n",
    "}\n",
    "set children [array names parents]\n",
    "foreach program [array names weights] {\n",
    "    if {$program ni $children} {\n",
    "        set result1 $program\n",
    "        break\n",
    "    }\n",
    "   \n",
    "}\n",
    "\n",
    "    set result2 {}\n",
    "    return [list $result1 $result2]\n",
    "}\n",
    "\n",
    "aoc::results "
   ]
  },
  {
   "cell_type": "code",
   "execution_count": 13,
   "metadata": {},
   "outputs": [
    {
     "data": {
      "text/plain": [
       "tknk {}"
      ]
     },
     "execution_count": 13,
     "metadata": {},
     "output_type": "execute_result"
    }
   ],
   "source": [
    "set input {pbga (66)\n",
    "xhth (57)\n",
    "ebii (61)\n",
    "havc (66)\n",
    "ktlj (57)\n",
    "fwft (72) -> ktlj, cntj, xhth\n",
    "qoyq (66)\n",
    "padx (45) -> pbga, havc, qoyq\n",
    "tknk (41) -> ugml, padx, fwft\n",
    "jptl (61)\n",
    "ugml (68) -> gyxo, ebii, jptl\n",
    "gyxo (61)\n",
    "cntj (57)}\n",
    "\n",
    "array unset parents\n",
    "array unset weights\n",
    "\n",
    "foreach l [split $input \\n] {\n",
    "  if {[regexp {([a-z]+) \\(([0-9]+)\\) -> (.*)} $l -> parent weight children]}  {\n",
    "      foreach child [string map {, {}} $children] {\n",
    "         set parents($child) $parent\n",
    "         set weights($parent) $weight\n",
    "      }\n",
    "  } else {\n",
    "    regexp {([a-z]+) \\(([0-9]+)\\)} $l -> parent weight\n",
    "    set weights($parent) $weight\n",
    "  }\n",
    "}\n",
    "set children [array names parents]\n",
    "foreach program [array names weights] {\n",
    "    if {$program ni $children} {\n",
    "        set result1 $program\n",
    "        break\n",
    "    }\n",
    "   \n",
    "}\n",
    "\n",
    "    set result2 {}\n",
    "    return [list $result1 $result2]"
   ]
  },
  {
   "cell_type": "code",
   "execution_count": 5,
   "metadata": {},
   "outputs": [],
   "source": [
    "proc children {parents parent} {\n",
    "  set children {}\n",
    "  foreach {c p} $parents {\n",
    "      if {$p eq $parent} {\n",
    "          lappend children $c\n",
    "      }\n",
    "\n",
    "  }\n",
    "  return $children\n",
    "}\n",
    "\n"
   ]
  },
  {
   "cell_type": "code",
   "execution_count": null,
   "metadata": {},
   "outputs": [],
   "source": []
  }
 ],
 "metadata": {
  "kernelspec": {
   "display_name": "Tcl",
   "language": "tcl",
   "name": "tcl"
  },
  "language_info": {
   "file_extension": ".tcl",
   "mimetype": "txt/x-tcl",
   "name": "tcl",
   "version": "8.6.11"
  }
 },
 "nbformat": 4,
 "nbformat_minor": 4
}
