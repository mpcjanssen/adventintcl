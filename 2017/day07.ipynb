{
 "cells": [
  {
   "cell_type": "code",
   "execution_count": 1,
   "metadata": {},
   "outputs": [
    {
     "data": {
      "text/plain": [
       "(cached)"
      ]
     },
     "metadata": {},
     "output_type": "display_data"
    },
    {
     "data": {
      "text/html": [
       "<article class=\"day-desc\">\n",
       "<h2>--- Day 7: Recursive Circus ---</h2><p>Wandering further through the circuits of the computer, you come upon a tower of <span title=\"Turtles, all the way down.\">programs</span> that have gotten themselves into a bit of trouble.  A recursive algorithm has gotten out of hand, and now they're balanced precariously in a large tower.</p><p>One program at the bottom supports the entire tower. It's holding a large disc, and on the disc are balanced several more sub-towers. At the bottom of these sub-towers, standing on the bottom disc, are other programs, each holding <em>their</em> own disc, and so on. At the very tops of these sub-sub-sub-...-towers, many programs stand simply keeping the disc below them balanced but with no disc of their own.</p><p>You offer to help, but first you need to understand the structure of these towers.  You ask each program to yell out their <em>name</em>, their <em>weight</em>, and (if they're holding a disc) the <em>names of the programs immediately above them</em> balancing on that disc. You write this information down (your puzzle input). Unfortunately, in their panic, they don't do this in an orderly fashion; by the time you're done, you're not sure which program gave which information.</p><p>For example, if your list is the following:</p><pre><code>pbga (66)\n",
       "xhth (57)\n",
       "ebii (61)\n",
       "havc (66)\n",
       "ktlj (57)\n",
       "fwft (72) -&gt; ktlj, cntj, xhth\n",
       "qoyq (66)\n",
       "padx (45) -&gt; pbga, havc, qoyq\n",
       "tknk (41) -&gt; ugml, padx, fwft\n",
       "jptl (61)\n",
       "ugml (68) -&gt; gyxo, ebii, jptl\n",
       "gyxo (61)\n",
       "cntj (57)\n",
       "</code></pre><p>...then you would be able to recreate the structure of the towers that looks like this:</p><pre><code>                gyxo\n",
       "              /     \n",
       "         ugml - ebii\n",
       "       /      \\     \n",
       "      |         jptl\n",
       "      |        \n",
       "      |         pbga\n",
       "     /        /\n",
       "tknk --- padx - havc\n",
       "     \\        \\\n",
       "      |         qoyq\n",
       "      |             \n",
       "      |         ktlj\n",
       "       \\      /     \n",
       "         fwft - cntj\n",
       "              \\     \n",
       "                xhth\n",
       "</code></pre><p>In this example, <code>tknk</code> is at the bottom of the tower (the <em>bottom program</em>), and is holding up <code>ugml</code>, <code>padx</code>, and <code>fwft</code>.  Those programs are, in turn, holding up other programs; in this example, none of those programs are holding up any other programs, and are all the tops of their own towers. (The actual tower balancing in front of you is much larger.)</p><p>Before you're ready to help them, you need to make sure your information is correct.  <em>What is the name of the bottom program?</em>\n",
       "</p>\n",
       "</article>"
      ]
     },
     "metadata": {},
     "output_type": "display_data"
    },
    {
     "data": {
      "text/plain": [
       "(cached)"
      ]
     },
     "metadata": {},
     "output_type": "display_data"
    },
    {
     "data": {
      "text/html": [
       "<article class=\"day-desc\">\n",
       "<h2 id=\"part2\">--- Part Two ---</h2><p>The programs explain the situation: they can't get down.  Rather, they <em>could</em> get down, if they weren't expending all of their energy trying to keep the tower balanced. Apparently, one program has the <em>wrong weight</em>, and until it's fixed, they're stuck here.</p><p>For any program holding a disc, each program standing on that disc forms a sub-tower. Each of those sub-towers are supposed to be the same weight, or the disc itself isn't balanced. The weight of a tower is the sum of the weights of the programs in that tower.</p><p>In the example above, this means that for <code>ugml</code>'s disc to be balanced, <code>gyxo</code>, <code>ebii</code>, and <code>jptl</code> must all have the same weight, and they do: <code>61</code>.</p><p>However, for <code>tknk</code> to be balanced, each of the programs standing on its disc <em>and all programs above it</em> must each match. This means that the following sums must all be the same:</p><ul>\n",
       "<li>\n",
       "<code>ugml</code> + (<code>gyxo</code> + <code>ebii</code> + <code>jptl</code>) = 68 + (61 + 61 + 61) = 251</li><li>\n",
       "<code>padx</code> + (<code>pbga</code> + <code>havc</code> + <code>qoyq</code>) = 45 + (66 + 66 + 66) = 243</li><li>\n",
       "<code>fwft</code> + (<code>ktlj</code> + <code>cntj</code> + <code>xhth</code>) = 72 + (57 + 57 + 57) = 243</li>\n",
       "</ul><p>As you can see, <code>tknk</code>'s disc is unbalanced: <code>ugml</code>'s stack is heavier than the other two. Even though the nodes above <code>ugml</code> are balanced, <code>ugml</code> itself is too heavy: it needs to be <code>8</code> units lighter for its stack to weigh <code>243</code> and keep the towers balanced.  If this change were made, its weight would be <code>60</code>.</p><p>Given that exactly one program is the wrong weight, <em>what would its weight need to be</em> to balance the entire tower?</p>\n",
       "</article>"
      ]
     },
     "metadata": {},
     "output_type": "display_data"
    },
    {
     "data": {
      "text/plain": [
       "(cached)"
      ]
     },
     "metadata": {},
     "output_type": "display_data"
    },
    {
     "data": {
      "text/html": [
       "<h2>Input</h2>"
      ]
     },
     "metadata": {},
     "output_type": "display_data"
    },
    {
     "data": {
      "text/plain": [
       "rmhcw (26)\n",
       "dmmriu (61)\n",
       "zjyaaoc (89) -> khekb, lywwhf\n",
       "kjgaib (385)\n",
       "nvvdii (28)\n",
       "zsgegr (15)\n",
       "azrafw (72)..."
      ]
     },
     "metadata": {},
     "output_type": "display_data"
    }
   ],
   "source": [
    "source ../modules/setup.tcl\n",
    "set year 2017\n",
    "set day 7\n",
    "\n",
    "aoc::get-puzzle $year $day 1\n",
    "aoc::get-puzzle $year $day 2\n",
    "set input [string trim [aoc::get-input $year $day]]\n",
    "jupyter::html \"<h2>Input</h2>\"\n",
    "jupyter::display \"text/plain\" [string range $input 0 100]...;"
   ]
  },
  {
   "cell_type": "code",
   "execution_count": 24,
   "metadata": {},
   "outputs": [],
   "source": [
    "package require struct::tree\n",
    "catch {programs destroy}\n",
    "struct::tree programs;"
   ]
  },
  {
   "cell_type": "code",
   "execution_count": 25,
   "metadata": {},
   "outputs": [],
   "source": [
    "proc ensure {tree node} {\n",
    "    if {![$tree exists $node]} {      \n",
    "        $tree rename [$tree insert root end] $node\n",
    "    }\n",
    "    return $node\n",
    "}\n",
    "\n",
    "proc unbalanced {} {\n",
    "    set nodes [programs leaves]\n",
    "    while {$nodes ne \"root\"} {\n",
    "        set nn {}\n",
    "        foreach l $nodes {\n",
    "           set parent [programs parent $l]\n",
    "           lappend nn $parent\n",
    "           set ws {}\n",
    "           foreach c [programs children $parent] {\n",
    "               set tw 0\n",
    "               programs walk $c x {incr tw [programs set $x w]}\n",
    "               lappend ws $tw\n",
    "           }\n",
    "           if {[llength [lsort -unique $ws]] != 1} {\n",
    "              return [programs children $parent]  \n",
    "           }\n",
    "        }\n",
    "        set nodes $nn\n",
    "    }\n",
    "}\n",
    "\n",
    "   "
   ]
  },
  {
   "cell_type": "code",
   "execution_count": 30,
   "metadata": {},
   "outputs": [
    {
     "name": "stdout",
     "output_type": "stream",
     "text": [
      "930\n",
      "Day1\tykpsek\n",
      "Day2\t1060\n",
      "134298 microseconds per iteration\n"
     ]
    }
   ],
   "source": [
    "proc parts input {\n",
    "    foreach l [split $input \\n] {\n",
    "        if {[regexp {([a-z]+) \\(([0-9]+)\\) -> (.*)} $l -> parent weight children]}  {\n",
    "            programs set [ensure programs $parent] w $weight\n",
    "            foreach child [string map {, {}} $children] {\n",
    "                programs move $parent end [ensure programs $child]\n",
    "            }\n",
    "        } else {\n",
    "            regexp {([a-z]+) \\(([0-9]+)\\)} $l -> parent weight\n",
    "            programs set [ensure programs $parent] w $weight\n",
    "        }\n",
    "    }\n",
    "    set result1 [programs children root]\n",
    "\n",
    "    set ws {}\n",
    "    foreach c [unbalanced] {\n",
    "        set tw 0\n",
    "        programs walk $c x {incr tw [programs set $x w]}\n",
    "        lappend ws $c $tw\n",
    "    }\n",
    "    foreach {n w}  $ws {\n",
    "        lappend dw($w) $n \n",
    "    }\n",
    "    foreach n [array names dw] {\n",
    "        if {[llength $dw($n)] > 1} {\n",
    "            set correct $n\n",
    "        } else {\n",
    "            set incorrect $n\n",
    "            set incorrectnode $dw($n)\n",
    "        }\n",
    "    }\n",
    "    set diff [- $incorrect $correct]\n",
    "    set result2 [- [programs get $incorrectnode w] $diff]\n",
    "      puts [llength [programs leaves]]\n",
    "\n",
    "    return [list $result1 $result2]\n",
    "  }\n",
    "aoc::results"
   ]
  },
  {
   "cell_type": "code",
   "execution_count": 34,
   "metadata": {},
   "outputs": [
    {
     "name": "stdout",
     "output_type": "stream",
     "text": [
      "Part1: ykpsek\n"
     ]
    },
    {
     "data": {
      "text/plain": [
       "930"
      ]
     },
     "execution_count": 34,
     "metadata": {},
     "output_type": "execute_result"
    }
   ],
   "source": [
    "set tree {}\n",
    "\n",
    "foreach l [split $input \\n] {\n",
    "    if {[regexp {([a-z]+) \\(([0-9]+)\\) -> (.*)} $l -> parent weight children]}  {\n",
    "        set children [string map {, {}} $children]\n",
    "        dict set tree $parent w $weight\n",
    "        dict set tree $parent c $children\n",
    "        foreach child [string map {, {}} $children] {\n",
    "            dict set tree $child p $parent\n",
    "        }\n",
    "    } else {\n",
    "        regexp {([a-z]+) \\(([0-9]+)\\)} $l -> parent weight\n",
    "        dict set tree $parent w $weight\n",
    "    }\n",
    "}\n",
    "\n",
    "proc empty? {v} {\n",
    "    expr {$v eq {}}\n",
    "}\n",
    "\n",
    "proc root {tree} {\n",
    "    lindex [dict filter $tree script {k v} {empty? [dict getdef $v p {}]}] 0\n",
    "}\n",
    "\n",
    "proc leaves {tree} {\n",
    "    lsort -unique [dict map {x v}  [dict filter $tree script {k v} {empty? [dict getdef $v c {}]}] { lindex $x 0}]\n",
    "}\n",
    "\n",
    "puts \"Part1: [root $tree]\"\n",
    "llength [leaves $tree]"
   ]
  },
  {
   "cell_type": "code",
   "execution_count": 37,
   "metadata": {},
   "outputs": [],
   "source": [
    "proc weight {tree node} {\n",
    "    incr w [dict get $tree $node w]\n",
    "    foreach c [dict getdef $tree $node c {}] {\n",
    "        incr w [weight $tree $c]\n",
    "    }\n",
    "    return $w\n",
    "}\n",
    "\n",
    "proc children {tree node} {\n",
    "    dict getdef $tree $node c {}\n",
    "}"
   ]
  },
  {
   "cell_type": "code",
   "execution_count": 43,
   "metadata": {},
   "outputs": [
    {
     "data": {
      "text/plain": [
       "{pqmyjtl 278} {wczux 278} {rfjilj 278}"
      ]
     },
     "execution_count": 43,
     "metadata": {},
     "output_type": "execute_result"
    }
   ],
   "source": [
    "lmap c [children $tree cumah] {list $c [weight $tree $c]}"
   ]
  },
  {
   "cell_type": "code",
   "execution_count": 44,
   "metadata": {},
   "outputs": [
    {
     "data": {
      "text/plain": [
       "1069"
      ]
     },
     "execution_count": 44,
     "metadata": {},
     "output_type": "execute_result"
    }
   ],
   "source": [
    "dict get $tree cumah w"
   ]
  },
  {
   "cell_type": "code",
   "execution_count": 54,
   "metadata": {},
   "outputs": [],
   "source": [
    "proc weights {tree nodes} {\n",
    "    foreach n $nodes {\n",
    "        dict lappend ws [weight $tree $n] $n\n",
    "    }\n",
    "    return $ws\n",
    "}"
   ]
  },
  {
   "cell_type": "code",
   "execution_count": 55,
   "metadata": {},
   "outputs": [
    {
     "data": {
      "text/plain": [
       "94250 {xgudb fucsb xjllex splbrdu} 94259 rsalq"
      ]
     },
     "execution_count": 55,
     "metadata": {},
     "output_type": "execute_result"
    }
   ],
   "source": [
    "weights $tree [children $tree [root $tree]]"
   ]
  },
  {
   "cell_type": "code",
   "execution_count": 56,
   "metadata": {},
   "outputs": [
    {
     "data": {
      "text/plain": [
       "9286 {sdxbol irqwcab jiaiwto viydtj} 9295 uduyfo"
      ]
     },
     "execution_count": 56,
     "metadata": {},
     "output_type": "execute_result"
    }
   ],
   "source": [
    "weights $tree [children $tree rsalq]"
   ]
  },
  {
   "cell_type": "code",
   "execution_count": 57,
   "metadata": {},
   "outputs": [
    {
     "data": {
      "text/plain": [
       "1894 {amhaz zqfvypo dribos} 1903 cumah"
      ]
     },
     "execution_count": 57,
     "metadata": {},
     "output_type": "execute_result"
    }
   ],
   "source": [
    "weights $tree [children $tree uduyfo]"
   ]
  },
  {
   "cell_type": "code",
   "execution_count": 58,
   "metadata": {},
   "outputs": [
    {
     "data": {
      "text/plain": [
       "278 {pqmyjtl wczux rfjilj}"
      ]
     },
     "execution_count": 58,
     "metadata": {},
     "output_type": "execute_result"
    }
   ],
   "source": [
    "weights $tree [children $tree cumah]"
   ]
  },
  {
   "cell_type": "code",
   "execution_count": 59,
   "metadata": {},
   "outputs": [
    {
     "data": {
      "text/plain": [
       "1903"
      ]
     },
     "execution_count": 59,
     "metadata": {},
     "output_type": "execute_result"
    }
   ],
   "source": [
    "weight $tree cumah"
   ]
  },
  {
   "cell_type": "code",
   "execution_count": 61,
   "metadata": {},
   "outputs": [
    {
     "data": {
      "text/plain": [
       "1069"
      ]
     },
     "execution_count": 61,
     "metadata": {},
     "output_type": "execute_result"
    }
   ],
   "source": [
    "dict get $tree cumah w"
   ]
  },
  {
   "cell_type": "code",
   "execution_count": 62,
   "metadata": {},
   "outputs": [
    {
     "data": {
      "text/plain": [
       "1060"
      ]
     },
     "execution_count": 62,
     "metadata": {},
     "output_type": "execute_result"
    }
   ],
   "source": [
    "- 1069 9"
   ]
  },
  {
   "cell_type": "code",
   "execution_count": null,
   "metadata": {},
   "outputs": [],
   "source": []
  }
 ],
 "metadata": {
  "kernelspec": {
   "display_name": "Tcl 8.7",
   "language": "tcl",
   "name": "tcl87"
  },
  "language_info": {
   "file_extension": ".tcl",
   "mimetype": "txt/x-tcl",
   "name": "tcl",
   "version": "8.7a3"
  }
 },
 "nbformat": 4,
 "nbformat_minor": 4
}
