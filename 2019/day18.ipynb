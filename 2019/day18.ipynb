{
 "cells": [
  {
   "cell_type": "code",
   "execution_count": 1,
   "metadata": {},
   "outputs": [
    {
     "data": {
      "text/plain": [
       "0.1"
      ]
     },
     "execution_count": 1,
     "metadata": {},
     "output_type": "execute_result"
    }
   ],
   "source": [
    "tcl::tm::path add [file dirname [info script]]/modules\n",
    "package require util\n",
    "\n",
    "tcl::tm::path add [file dirname [info script]]/../modules\n",
    "package require aoc"
   ]
  },
  {
   "cell_type": "code",
   "execution_count": 3,
   "metadata": {},
   "outputs": [
    {
     "data": {
      "text/html": [
       "<article class=\"day-desc\">\n",
       "<h2>--- Day 18: Many-Worlds Interpretation ---</h2><p>As you approach Neptune, a planetary security system detects you and activates a giant <a href=\"https://en.wikipedia.org/wiki/Tractor_beam\">tractor beam</a> on <a href=\"https://en.wikipedia.org/wiki/Triton_(moon)\">Triton</a>!  You have no choice but to land.</p><p>A scan of the local area reveals only one interesting feature: a massive underground vault.  You generate a map of the tunnels (your puzzle input).  The tunnels are too narrow to move diagonally.</p><p>Only one <em>entrance</em> (marked <code>@</code>) is present among the <em>open passages</em> (marked <code>.</code>) and <em>stone walls</em> (<code>#</code>), but you also detect an assortment of <em>keys</em> (shown as lowercase letters) and <em>doors</em> (shown as uppercase letters). Keys of a given letter open the door of the same letter: <code>a</code> opens <code>A</code>, <code>b</code> opens <code>B</code>, and so on.  You aren't sure which key you need to disable the tractor beam, so you'll need to <em>collect all of them</em>.</p><p>For example, suppose you have the following map:</p><pre><code>#########\n",
       "#b.A.@.a#\n",
       "#########\n",
       "</code></pre><p>Starting from the entrance (<code>@</code>), you can only access a large door (<code>A</code>) and a key (<code>a</code>). Moving toward the door doesn't help you, but you can move <code>2</code> steps to collect the key, unlocking <code>A</code> in the process:</p><pre><code>#########\n",
       "#b.....@#\n",
       "#########\n",
       "</code></pre><p>Then, you can move <code>6</code> steps to collect the only other key, <code>b</code>:</p><pre><code>#########\n",
       "#@......#\n",
       "#########\n",
       "</code></pre><p>So, collecting every key took a total of <code><em>8</em></code> steps.</p><p>Here is a larger example:</p><pre><code>########################\n",
       "#f.D.E.e.C.b.A.@.a.B.c.#\n",
       "######################.#\n",
       "#d.....................#\n",
       "########################\n",
       "</code></pre><p>The only reasonable move is to take key <code>a</code> and unlock door <code>A</code>:</p><pre><code>########################\n",
       "#f.D.E.e.C.b.....@.B.c.#\n",
       "######################.#\n",
       "#d.....................#\n",
       "########################\n",
       "</code></pre><p>Then, do the same with key <code>b</code>:</p><pre><code>########################\n",
       "#f.D.E.e.C.@.........c.#\n",
       "######################.#\n",
       "#d.....................#\n",
       "########################\n",
       "</code></pre><p>...and the same with key <code>c</code>:</p><pre><code>########################\n",
       "#f.D.E.e.............@.#\n",
       "######################.#\n",
       "#d.....................#\n",
       "########################\n",
       "</code></pre><p>Now, you have a choice between keys <code>d</code> and <code>e</code>.  While key <code>e</code> is closer, collecting it now would be slower in the long run than collecting key <code>d</code> first, so that's the best choice:</p><pre><code>########################\n",
       "#f...E.e...............#\n",
       "######################.#\n",
       "#@.....................#\n",
       "########################\n",
       "</code></pre><p>Finally, collect key <code>e</code> to unlock door <code>E</code>, then collect key <code>f</code>, taking a grand total of <code><em>86</em></code> steps.</p><p>Here are a few more examples:</p><ul>\n",
       "<li>\n",
       "<pre><code>########################\n",
       "#...............b.C.D.f#\n",
       "#.######################\n",
       "#.....@.a.B.c.d.A.e.F.g#\n",
       "########################\n",
       "</code></pre><p>Shortest path is <code>132</code> steps: <code>b</code>, <code>a</code>, <code>c</code>, <code>d</code>, <code>f</code>, <code>e</code>, <code>g</code>\n",
       "</p>\n",
       "</li><li>\n",
       "<pre><code>#################\n",
       "#i.G..c...e..H.p#\n",
       "########.########\n",
       "#j.A..b...f..D.o#\n",
       "########@########\n",
       "#k.E..a...g..B.n#\n",
       "########.########\n",
       "#l.F..d...h..C.m#\n",
       "#################\n",
       "</code></pre><p>Shortest paths are <code>136</code> steps;<br>one is: <code>a</code>, <code>f</code>, <code>b</code>, <code>j</code>, <code>g</code>, <code>n</code>, <code>h</code>, <code>d</code>, <code>l</code>, <code>o</code>, <code>e</code>, <code>p</code>, <code>c</code>, <code>i</code>, <code>k</code>, <code>m</code>\n",
       "</p>\n",
       "</li><li>\n",
       "<pre><code>########################\n",
       "#@..............ac.GI.b#\n",
       "###d#e#f################\n",
       "###A#B#C################\n",
       "###g#h#i################\n",
       "########################\n",
       "</code></pre><p>Shortest paths are <code>81</code> steps; one is: <code>a</code>, <code>c</code>, <code>f</code>, <code>i</code>, <code>d</code>, <code>g</code>, <code>b</code>, <code>e</code>, <code>h</code>\n",
       "</p>\n",
       "</li>\n",
       "</ul><p><em>How many steps is the shortest path that collects all of the keys?</em></p>\n",
       "</article>"
      ]
     },
     "metadata": {},
     "output_type": "display_data"
    }
   ],
   "source": [
    "aoc::display-day 2019 18 1"
   ]
  },
  {
   "cell_type": "code",
   "execution_count": null,
   "metadata": {},
   "outputs": [],
   "source": []
  }
 ],
 "metadata": {
  "kernelspec": {
   "display_name": "Tcl",
   "language": "tcl",
   "name": "tcljupyter"
  },
  "language_info": {
   "file_extension": ".tcl",
   "mimetype": "txt/x-tcl",
   "name": "tcl",
   "version": "8.6.10"
  }
 },
 "nbformat": 4,
 "nbformat_minor": 4
}
