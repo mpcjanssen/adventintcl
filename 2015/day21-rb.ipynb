{
 "cells": [
  {
   "cell_type": "code",
   "execution_count": 157,
   "metadata": {},
   "outputs": [
    {
     "data": {
      "text/plain": [
       "{:HP=>103, :Damage=>9, :Armor=>2}"
      ]
     },
     "execution_count": 157,
     "metadata": {},
     "output_type": "execute_result"
    }
   ],
   "source": [
    "@input =  { HP: 103,  Damage: 9,    Armor: 2 }"
   ]
  },
  {
   "cell_type": "code",
   "execution_count": 192,
   "metadata": {},
   "outputs": [
    {
     "data": {
      "text/plain": [
       "\"\""
      ]
     },
     "execution_count": 192,
     "metadata": {},
     "output_type": "execute_result"
    }
   ],
   "source": [
    "weapons = \"\"\"Dagger        8     4       0\n",
    "Shortsword   10     5       0\n",
    "Warhammer    25     6       0\n",
    "Longsword    40     7       0\n",
    "Greataxe     74     8       0\"\"\".split().each_slice(4).map {\n",
    "    |  x | name,cost,damage, armor = x\n",
    "    {:name => name, :cost => cost.to_i, :damage => damage.to_i, :armor => armor.to_i} \n",
    "}\n",
    "\n",
    "armors = \"\"\"Leather      13     0       1\n",
    "Chainmail    31     0       2\n",
    "Splintmail   53     0       3\n",
    "Bandedmail   75     0       4\n",
    "Platemail   102     0       5\"\"\".split().each_slice(4).map {\n",
    "    |  x | name,cost,damage, armor = x\n",
    "  { :name => name , :cost => cost.to_i, :damage => damage.to_i, :armor => armor.to_i} \n",
    "}\n",
    "\n",
    "rings = \"\"\"Damage +1    25     1       0\n",
    "Damage +2    50     2       0\n",
    "Damage +3   100     3       0\n",
    "Defense +1   20     0       1\n",
    "Defense +2   40     0       2\n",
    "Defense +3   80     0       3\"\"\".split().each_slice(5).map {\n",
    "    |  x | name,strength,cost,damage, armor = x\n",
    "    { :name => name, :strength => strength, :cost => cost.to_i, :damage => damage.to_i, :armor => armor.to_i} \n",
    "}\n",
    "\n",
    "ringopts = [[]].concat(rings.combination(1).to_a,rings.combination(2).to_a)\n",
    "\"\""
   ]
  },
  {
   "cell_type": "code",
   "execution_count": 197,
   "metadata": {},
   "outputs": [
    {
     "data": {
      "text/plain": [
       "121"
      ]
     },
     "execution_count": 197,
     "metadata": {},
     "output_type": "execute_result"
    }
   ],
   "source": [
    "def win(start)\n",
    "    myhp = 100\n",
    "    myarmor = start[:armor]\n",
    "    mydamage = start[:damage]\n",
    "    ehp = @input[:HP]\n",
    "    earmor = @input[:Armor]\n",
    "    edamage = @input[:Damage]\n",
    "    mypow = [(mydamage - earmor), 1].max\n",
    "    epow = [(edamage - myarmor), 1].max\n",
    "    loop do\n",
    "        ehp-=mypow\n",
    "        return true if ehp <= 0\n",
    "        myhp-=epow\n",
    "        return false if myhp <= 0\n",
    "    end\n",
    "        \n",
    "end\n",
    "\n",
    "def sumval(start)\n",
    "    start.flatten.inject({:cost => 0, :damage => 0, :armor => 0 , :strength => 0}) do | s,x |\n",
    "        x.each do | k, v |\n",
    "            next if k == :name || k == :strength\n",
    "            old = s[k] || 0\n",
    "            s[k] = old + v\n",
    "        end\n",
    "        s\n",
    "    end\n",
    "end\n",
    "\n",
    "# Select win with minimal cost\n",
    "\n",
    "weapons.product(armors,ringopts).map { | x | sumval x }.select do | start |\n",
    "    win start\n",
    "end.sort_by {|x | x[:cost]}[0][:cost]\n"
   ]
  },
  {
   "cell_type": "code",
   "execution_count": 198,
   "metadata": {},
   "outputs": [
    {
     "data": {
      "text/plain": [
       "201"
      ]
     },
     "execution_count": 198,
     "metadata": {},
     "output_type": "execute_result"
    }
   ],
   "source": [
    "# Select loss with maximum cost (i.e. reject wins)\n",
    "\n",
    "weapons.product(armors,ringopts).map { | x | sumval x }.reject do | start |\n",
    "    win start\n",
    "end.sort_by {|x | x[:cost]}[-1][:cost]"
   ]
  },
  {
   "cell_type": "code",
   "execution_count": null,
   "metadata": {},
   "outputs": [],
   "source": []
  },
  {
   "cell_type": "code",
   "execution_count": null,
   "metadata": {},
   "outputs": [],
   "source": []
  }
 ],
 "metadata": {
  "kernelspec": {
   "display_name": "Ruby 2.7.2",
   "language": "ruby",
   "name": "ruby"
  },
  "language_info": {
   "file_extension": ".rb",
   "mimetype": "application/x-ruby",
   "name": "ruby",
   "version": "2.7.2"
  }
 },
 "nbformat": 4,
 "nbformat_minor": 4
}
