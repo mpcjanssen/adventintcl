{
 "cells": [
  {
   "cell_type": "code",
   "execution_count": 1,
   "metadata": {},
   "outputs": [],
   "source": [
    "source setup.tcl\n",
    "set year 2015\n",
    "set day 4;"
   ]
  },
  {
   "cell_type": "code",
   "execution_count": 2,
   "metadata": {},
   "outputs": [
    {
     "data": {
      "text/plain": [
       "(cached)"
      ]
     },
     "metadata": {},
     "output_type": "display_data"
    },
    {
     "data": {
      "text/html": [
       "<article class=\"day-desc\">\n",
       "<h2>--- Day 4: The Ideal Stocking Stuffer ---</h2><p>Santa needs help <a href=\"https://en.wikipedia.org/wiki/Bitcoin#Mining\">mining</a> some <span title=\"Hey, mined your own business!\">AdventCoins</span> (very similar to <a href=\"https://en.wikipedia.org/wiki/Bitcoin\">bitcoins</a>) to use as gifts for all the economically forward-thinking little girls and boys.</p><p>To do this, he needs to find <a href=\"https://en.wikipedia.org/wiki/MD5\">MD5</a> hashes which, in <a href=\"https://en.wikipedia.org/wiki/Hexadecimal\">hexadecimal</a>, start with at least <em>five zeroes</em>.  The input to the MD5 hash is some secret key (your puzzle input, given below) followed by a number in decimal. To mine AdventCoins, you must find Santa the lowest positive number (no leading zeroes: <code>1</code>, <code>2</code>, <code>3</code>, ...) that produces such a hash.</p><p>For example:</p><ul>\n",
       "<li>If your secret key is <code>abcdef</code>, the answer is <code>609043</code>, because the MD5 hash of <code>abcdef609043</code> starts with five zeroes (<code>000001dbbfa...</code>), and it is the lowest such number to do so.</li><li>If your secret key is <code>pqrstuv</code>, the lowest number it combines with to make an MD5 hash starting with five zeroes is <code>1048970</code>; that is, the MD5 hash of <code>pqrstuv1048970</code> looks like <code>000006136ef...</code>.</li>\n",
       "</ul>\n",
       "</article>"
      ]
     },
     "metadata": {},
     "output_type": "display_data"
    },
    {
     "data": {
      "text/plain": [
       "(cached)"
      ]
     },
     "metadata": {},
     "output_type": "display_data"
    },
    {
     "data": {
      "text/html": [
       "<article class=\"day-desc\">\n",
       "<h2 id=\"part2\">--- Part Two ---</h2><p>Now find one that starts with <em>six zeroes</em>.</p>\n",
       "</article>"
      ]
     },
     "metadata": {},
     "output_type": "display_data"
    }
   ],
   "source": [
    "aoc::get-puzzle $year $day 1\n",
    "aoc::get-puzzle $year $day 2"
   ]
  },
  {
   "cell_type": "code",
   "execution_count": 3,
   "metadata": {},
   "outputs": [
    {
     "data": {
      "text/plain": [
       "(cached)"
      ]
     },
     "metadata": {},
     "output_type": "display_data"
    },
    {
     "data": {
      "text/plain": [
       "iwrupvqb..."
      ]
     },
     "metadata": {},
     "output_type": "display_data"
    }
   ],
   "source": [
    "set input [string trim [aoc::get-input $year $day]]\n",
    "jupyter::display text/plain [string range $input 0 100]...;"
   ]
  },
  {
   "cell_type": "code",
   "execution_count": 4,
   "metadata": {},
   "outputs": [
    {
     "data": {
      "text/plain": [
       "0.0"
      ]
     },
     "execution_count": 4,
     "metadata": {},
     "output_type": "execute_result"
    }
   ],
   "source": [
    "package require ankh"
   ]
  },
  {
   "cell_type": "code",
   "execution_count": 5,
   "metadata": {},
   "outputs": [
    {
     "name": "stdout",
     "output_type": "stream",
     "text": [
      "Day1\t346386\n",
      "Day2\t9958218\n",
      "18097983 microseconds per iteration\n"
     ]
    }
   ],
   "source": [
    "proc parts input {\n",
    "    set input [string trim $input]\n",
    "    set result1 {}\n",
    "    set result2 {}\n",
    "    set count 1\n",
    "    while {1} {\n",
    "        if {$result1 ne {} && $result2 ne {}} break\n",
    "        set hash [binary encode hex [ak hash md5 string $input$count]]\n",
    "        if {$result1 eq {} && [string range $hash 0 4] eq \"00000\"} {set result1 $count}\n",
    "        if {$result2 eq {} && [string range $hash 0 5] eq \"000000\"} {set result2 $count}\n",
    "        incr count\n",
    "        # if {$count > 100000000} break\n",
    "    }\n",
    "    return [list $result1 $result2]\n",
    "}\n",
    "aoc::results"
   ]
  },
  {
   "cell_type": "code",
   "execution_count": null,
   "metadata": {},
   "outputs": [],
   "source": []
  }
 ],
 "metadata": {
  "kernelspec": {
   "display_name": "Tcl",
   "language": "tcl",
   "name": "tcl"
  },
  "language_info": {
   "file_extension": ".tcl",
   "mimetype": "txt/x-tcl",
   "name": "tcl",
   "version": "8.6.11"
  }
 },
 "nbformat": 4,
 "nbformat_minor": 4
}
