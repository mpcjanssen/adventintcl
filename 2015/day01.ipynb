{
 "cells": [
  {
   "cell_type": "code",
   "execution_count": 24,
   "metadata": {},
   "outputs": [],
   "source": [
    "source setup.tcl"
   ]
  },
  {
   "cell_type": "code",
   "execution_count": 25,
   "metadata": {},
   "outputs": [
    {
     "data": {
      "text/plain": [
       "(cached)"
      ]
     },
     "metadata": {},
     "output_type": "display_data"
    },
    {
     "data": {
      "text/html": [
       "<article class=\"day-desc\">\n",
       "<h2>--- Day 1: Not Quite Lisp ---</h2><p>Santa was hoping for a white Christmas, but his weather machine's \"snow\" function is powered by stars, and he's fresh out!  To save Christmas, he needs you to collect <em class=\"star\">fifty stars</em> by December 25th.</p><p>Collect stars by helping Santa solve puzzles.  Two puzzles will be made available on each day in the Advent calendar; the second puzzle is unlocked when you complete the first.  Each puzzle grants <em class=\"star\">one star</em>. <span title=\"Also, some puzzles contain Easter eggs like this one. Yes, I know it's not traditional to do Advent calendars for Easter.\">Good luck!</span>\n",
       "</p><p>Here's an easy puzzle to warm you up.</p><p>Santa is trying to deliver presents in a large apartment building, but he can't find the right floor - the directions he got are a little confusing. He starts on the ground floor (floor <code>0</code>) and then follows the instructions one character at a time.</p><p>An opening parenthesis, <code>(</code>, means he should go up one floor, and a closing parenthesis, <code>)</code>, means he should go down one floor.</p><p>The apartment building is very tall, and the basement is very deep; he will never find the top or bottom floors.</p><p>For example:</p><ul>\n",
       "<li>\n",
       "<code>(())</code> and <code>()()</code> both result in floor <code>0</code>.</li><li>\n",
       "<code>(((</code> and <code>(()(()(</code> both result in floor <code>3</code>.</li><li>\n",
       "<code>))(((((</code> also results in floor <code>3</code>.</li><li>\n",
       "<code>())</code> and <code>))(</code> both result in floor <code>-1</code> (the first basement level).</li><li>\n",
       "<code>)))</code> and <code>)())())</code> both result in floor <code>-3</code>.</li>\n",
       "</ul><p>To <em>what floor</em> do the instructions take Santa?</p>\n",
       "</article>"
      ]
     },
     "metadata": {},
     "output_type": "display_data"
    }
   ],
   "source": [
    "aoc::get-puzzle 2015 1 1"
   ]
  },
  {
   "cell_type": "code",
   "execution_count": 26,
   "metadata": {},
   "outputs": [
    {
     "data": {
      "text/plain": [
       "(cached)"
      ]
     },
     "metadata": {},
     "output_type": "display_data"
    },
    {
     "data": {
      "text/plain": [
       "(((())))()((((((((())()(()))(()((((()(()(((()((()((()(()()()()()))(((()(()((((((((((())(()()((())()((..."
      ]
     },
     "metadata": {},
     "output_type": "display_data"
    }
   ],
   "source": [
    "%%noresult\n",
    "set input [aoc::get-input 2015 1];\n",
    "jupyter::display text/plain [string range $input 0 100]..."
   ]
  },
  {
   "cell_type": "code",
   "execution_count": 27,
   "metadata": {},
   "outputs": [
    {
     "data": {
      "text/plain": [
       "(cached)"
      ]
     },
     "metadata": {},
     "output_type": "display_data"
    },
    {
     "data": {
      "text/html": [
       "<article class=\"day-desc\">\n",
       "<h2 id=\"part2\">--- Part Two ---</h2><p>Now, given the same instructions, find the <em>position</em> of the first character that causes him to enter the basement (floor <code>-1</code>).  The first character in the instructions has position <code>1</code>, the second character has position <code>2</code>, and so on.</p><p>For example:</p><ul>\n",
       "<li>\n",
       "<code>)</code> causes him to enter the basement at character position <code>1</code>.</li><li>\n",
       "<code>()())</code> causes him to enter the basement at character position <code>5</code>.</li>\n",
       "</ul><p>What is the <em>position</em> of the character that causes Santa to first enter the basement?</p>\n",
       "</article>"
      ]
     },
     "metadata": {},
     "output_type": "display_data"
    }
   ],
   "source": [
    "aoc::get-puzzle 2015 1 2"
   ]
  },
  {
   "cell_type": "code",
   "execution_count": 28,
   "metadata": {},
   "outputs": [
    {
     "name": "stdout",
     "output_type": "stream",
     "text": [
      "Day1\t232\n",
      "Day2\t1783\n",
      "7176 microseconds per iteration\n"
     ]
    }
   ],
   "source": [
    "proc parts input {\n",
    "    set braces [split $input \"\"]\n",
    "    set floor 0\n",
    "    set result2 {}\n",
    "    set pos 1\n",
    "    foreach brace $braces {\n",
    "        if {$brace eq \"(\"} {\n",
    "           incr floor\n",
    "        } else {\n",
    "           incr floor -1\n",
    "        }\n",
    "        if {($result2 eq \"\") && ($floor == -1)} {\n",
    "           set result2 $pos\n",
    "        }\n",
    "        incr pos\n",
    "    }\n",
    "    set result1 $floor\n",
    "    return [list $result1 $result2]\n",
    "    \n",
    "}\n",
    "aoc::results\n"
   ]
  },
  {
   "cell_type": "code",
   "execution_count": null,
   "metadata": {},
   "outputs": [],
   "source": []
  }
 ],
 "metadata": {
  "kernelspec": {
   "display_name": "Tcl",
   "language": "tcl",
   "name": "tcl"
  },
  "language_info": {
   "file_extension": ".tcl",
   "mimetype": "txt/x-tcl",
   "name": "tcl",
   "version": "8.6.11"
  }
 },
 "nbformat": 4,
 "nbformat_minor": 4
}
