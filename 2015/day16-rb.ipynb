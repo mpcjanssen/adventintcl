{
 "cells": [
  {
   "cell_type": "code",
   "execution_count": 87,
   "metadata": {},
   "outputs": [
    {
     "name": "stdout",
     "output_type": "stream",
     "text": [
      "[\"Sue 103: cars: 2, perfumes: 1, goldfish: 5\"]\n",
      "[\"Sue 405: trees: 8, perfumes: 1, cars: 2\"]\n"
     ]
    }
   ],
   "source": [
    "mfcsam = {\n",
    "    children: 3,\n",
    "cats: 7,\n",
    "samoyeds: 2,\n",
    "pomeranians: 3,\n",
    "akitas: 0,\n",
    "vizslas: 0,\n",
    "goldfish: 5,\n",
    "trees: 3,\n",
    "cars: 2,\n",
    "perfumes: 1\n",
    "}\n",
    "\n",
    "result1 = File.read('./input/16.txt').split(\"\\n\").select { | x | \n",
    "    h = Hash[*x.gsub(/[, :]/, \" \").split()]\n",
    "    h.each { | k,v| \n",
    "            next if k == \"Sue\"\n",
    "            break false if v.to_i != mfcsam[k.to_sym]\n",
    "    }\n",
    "}\n",
    "\n",
    "result2 = File.read('./input/16.txt').split(\"\\n\").select { | x | \n",
    "    h = Hash[*x.gsub(/[, :]/, \" \").split()]\n",
    "    h.each { | k,v|\n",
    "        next if k == \"Sue\"\n",
    "        case k\n",
    "            when \"cats\"\n",
    "                break false if v.to_i <= mfcsam[:cats]\n",
    "            when \"trees\"\n",
    "                break false if v.to_i <= mfcsam[:trees]\n",
    "            when \"pomeranians\"\n",
    "                break false if v.to_i >= mfcsam[:pomeranians]\n",
    "            when \"goldfish\"\n",
    "                break false if v.to_i >= mfcsam[:goldfish]\n",
    "            else\n",
    "                break false if v.to_i != mfcsam[k.to_sym]\n",
    "        end\n",
    "        true\n",
    "    }\n",
    "}\n",
    "\n",
    "puts result1\n",
    "puts result2"
   ]
  },
  {
   "cell_type": "code",
   "execution_count": null,
   "metadata": {},
   "outputs": [],
   "source": []
  }
 ],
 "metadata": {
  "kernelspec": {
   "display_name": "Ruby 2.7.2",
   "language": "ruby",
   "name": "ruby"
  },
  "language_info": {
   "file_extension": ".rb",
   "mimetype": "application/x-ruby",
   "name": "ruby",
   "version": "2.7.2"
  }
 },
 "nbformat": 4,
 "nbformat_minor": 4
}
