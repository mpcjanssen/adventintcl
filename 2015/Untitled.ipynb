{
 "cells": [
  {
   "cell_type": "code",
   "execution_count": 33,
   "metadata": {},
   "outputs": [
    {
     "name": "stdout",
     "output_type": "stream",
     "text": [
      "Al ThF Al ThRnFAr B BCa B TiB B TiRnFAr Ca CaCa Ca PB Ca PRnFAr Ca SiRnFYFAr Ca SiRnMgAr Ca SiTh F CaF F PMg F SiAl H CRnAlAr H CRnFYFYFAr H CRnFYMgAr H CRnMgYFAr H HCa H NRnFYFAr H NRnMgAr H NTh H OB H ORnFAr Mg BF Mg TiMg N CRnFAr N HSi O CRnFYFAr O CRnMgAr O HP O NRnFAr O OTi P CaP P PTi P SiRnFAr Si CaSi Th ThCa Ti BP Ti TiTi e HF e NAl e OMg\n",
      "Al=>ThF\n",
      "Al=>ThRnFAr\n",
      "B=>BCa\n",
      "B=>TiB\n",
      "B=>TiRnFAr\n",
      "Ca=>CaCa\n",
      "Ca=>PB\n",
      "Ca=>PRnFAr\n",
      "Ca=>SiRnFYFAr\n",
      "Ca=>SiRnMgAr\n",
      "Ca=>SiTh\n",
      "F=>CaF\n",
      "F=>PMg\n",
      "F=>SiAl\n",
      "H=>CRnAlAr\n",
      "H=>CRnFYFYFAr\n",
      "H=>CRnFYMgAr\n",
      "H=>CRnMgYFAr\n",
      "H=>HCa\n",
      "H=>NRnFYFAr\n",
      "H=>NRnMgAr\n",
      "H=>NTh\n",
      "H=>OB\n",
      "H=>ORnFAr\n",
      "Mg=>BF\n",
      "Mg=>TiMg\n",
      "N=>CRnFAr\n",
      "N=>HSi\n",
      "O=>CRnFYFAr\n",
      "O=>CRnMgAr\n",
      "O=>HP\n",
      "O=>NRnFAr\n",
      "O=>OTi\n",
      "P=>CaP\n",
      "P=>PTi\n",
      "P=>SiRnFAr\n",
      "Si=>CaSi\n",
      "Th=>ThCa\n",
      "Ti=>BP\n",
      "Ti=>TiTi\n",
      "e=>HF\n",
      "e=>NAl\n",
      "e=>OMg\n",
      "509\n"
     ]
    }
   ],
   "source": [
    "set trans {Al => ThF\n",
    "Al => ThRnFAr\n",
    "B => BCa\n",
    "B => TiB\n",
    "B => TiRnFAr\n",
    "Ca => CaCa\n",
    "Ca => PB\n",
    "Ca => PRnFAr\n",
    "Ca => SiRnFYFAr\n",
    "Ca => SiRnMgAr\n",
    "Ca => SiTh\n",
    "F => CaF\n",
    "F => PMg\n",
    "F => SiAl\n",
    "H => CRnAlAr\n",
    "H => CRnFYFYFAr\n",
    "H => CRnFYMgAr\n",
    "H => CRnMgYFAr\n",
    "H => HCa\n",
    "H => NRnFYFAr\n",
    "H => NRnMgAr\n",
    "H => NTh\n",
    "H => OB\n",
    "H => ORnFAr\n",
    "Mg => BF\n",
    "Mg => TiMg\n",
    "N => CRnFAr\n",
    "N => HSi\n",
    "O => CRnFYFAr\n",
    "O => CRnMgAr\n",
    "O => HP\n",
    "O => NRnFAr\n",
    "O => OTi\n",
    "P => CaP\n",
    "P => PTi\n",
    "P => SiRnFAr\n",
    "Si => CaSi\n",
    "Th => ThCa\n",
    "Ti => BP\n",
    "Ti => TiTi\n",
    "e => HF\n",
    "e => NAl\n",
    "e => OMg}\n",
    "set trans [split [string map [list { => } | \"\\n\" \"|\"] $trans] |]\n",
    "set medicine CRnCaSiRnBSiRnFArTiBPTiTiBFArPBCaSiThSiRnTiBPBPMgArCaSiRnTiMgArCaSiThCaSiRnFArRnSiRnFArTiTiBFArCaCaSiRnSiThCaCaSiRnMgArFYSiRnFYCaFArSiThCaSiThPBPTiMgArCaPRnSiAlArPBCaCaSiRnFYSiThCaRnFArArCaCaSiRnPBSiRnFArMgYCaCaCaCaSiThCaCaSiAlArCaCaSiRnPBSiAlArBCaCaCaCaSiThCaPBSiThPBPBCaSiRnFYFArSiThCaSiRnFArBCaCaSiRnFYFArSiThCaPBSiThCaSiRnPMgArRnFArPTiBCaPRnFArCaCaCaCaSiRnCaCaSiRnFYFArFArBCaSiThFArThSiThSiRnTiRnPMgArFArCaSiThCaPBCaSiRnBFArCaCaPRnCaCaPMgArSiRnFYFArCaSiThRnPBPMgAr\n",
    "puts $trans\n",
    "set molecules {}\n",
    "\n",
    "foreach {from to} $trans {\n",
    "puts $from=>$to\n",
    "\n",
    "foreach idxs [regexp -inline -indices -all  $from $medicine] {\n",
    "    lassign $idxs start stop\n",
    "    lappend molecules [regsub -start $start $from $medicine $to]\n",
    "} \n",
    "}\n",
    "puts [llength [lsort -unique $molecules]]"
   ]
  },
  {
   "cell_type": "code",
   "execution_count": 35,
   "metadata": {},
   "outputs": [
    {
     "data": {
      "text/plain": [
       "CRnCaSiRnBSiRnFArTiBPTiTiBFArPBCaSiThSiRnTiBPBPMgArCaSiRnTiMgArCaSiThCaSiRnFArRnSiRnFArTiTiBFArCaCaSiRnSiThCaCaSiRnMgArFYSiRnFYCaFArSiThCaSiThPBPTiMgArCaPRnSiAlArPBCaCaSiRnFYSiThCaRnFArArCaCaSiRnPBSiRnFArMgYCaCaCaCaSiThCaCaSiAlArCaCaSiRnPBSiAlArBCaCaCaCaSiThCaPBSiThPBPBCaSiRnFYFArSiThCaSiRnFArBCaCaSiRnFYFArSiThCaPBSiThCaSiRnPMgArRnFArPTiBCaPRnFArCaCaCaCaSiRnCaCaSiRnFYFArFArBCaSiThFArThSiThSiRnTiRnPMgArFArCaSiThCaPBCaSiRnBFArCaCaPRnCaCaPMgArSiRnFYFArCaSiThRnPBPMgAr"
      ]
     },
     "execution_count": 35,
     "metadata": {},
     "output_type": "execute_result"
    }
   ],
   "source": [
    "set trans {Al => ThF\n",
    "Al => ThRnFAr\n",
    "B => BCa\n",
    "B => TiB\n",
    "B => TiRnFAr\n",
    "Ca => CaCa\n",
    "Ca => PB\n",
    "Ca => PRnFAr\n",
    "Ca => SiRnFYFAr\n",
    "Ca => SiRnMgAr\n",
    "Ca => SiTh\n",
    "F => CaF\n",
    "F => PMg\n",
    "F => SiAl\n",
    "H => CRnAlAr\n",
    "H => CRnFYFYFAr\n",
    "H => CRnFYMgAr\n",
    "H => CRnMgYFAr\n",
    "H => HCa\n",
    "H => NRnFYFAr\n",
    "H => NRnMgAr\n",
    "H => NTh\n",
    "H => OB\n",
    "H => ORnFAr\n",
    "Mg => BF\n",
    "Mg => TiMg\n",
    "N => CRnFAr\n",
    "N => HSi\n",
    "O => CRnFYFAr\n",
    "O => CRnMgAr\n",
    "O => HP\n",
    "O => NRnFAr\n",
    "O => OTi\n",
    "P => CaP\n",
    "P => PTi\n",
    "P => SiRnFAr\n",
    "Si => CaSi\n",
    "Th => ThCa\n",
    "Ti => BP\n",
    "Ti => TiTi\n",
    "e => HF\n",
    "e => NAl\n",
    "e => OMg}\n",
    "set trans [lreverse [split [string map [list { => } | \"\\n\" \"|\"] $trans] |]]\n",
    "set medicine CRnCaSiRnBSiRnFArTiBPTiTiBFArPBCaSiThSiRnTiBPBPMgArCaSiRnTiMgArCaSiThCaSiRnFArRnSiRnFArTiTiBFArCaCaSiRnSiThCaCaSiRnMgArFYSiRnFYCaFArSiThCaSiThPBPTiMgArCaPRnSiAlArPBCaCaSiRnFYSiThCaRnFArArCaCaSiRnPBSiRnFArMgYCaCaCaCaSiThCaCaSiAlArCaCaSiRnPBSiAlArBCaCaCaCaSiThCaPBSiThPBPBCaSiRnFYFArSiThCaSiRnFArBCaCaSiRnFYFArSiThCaPBSiThCaSiRnPMgArRnFArPTiBCaPRnFArCaCaCaCaSiRnCaCaSiRnFYFArFArBCaSiThFArThSiThSiRnTiRnPMgArFArCaSiThCaPBCaSiRnBFArCaCaPRnCaCaPMgArSiRnFYFArCaSiThRnPBPMgAr\n"
   ]
  },
  {
   "cell_type": "code",
   "execution_count": 36,
   "metadata": {},
   "outputs": [
    {
     "name": "stderr",
     "output_type": "stream",
     "text": [
      "invalid command name \"transform\"\n",
      "    while executing\n",
      "\"transform $medicine $trans\"\n"
     ]
    }
   ],
   "source": [
    "transform $medicine $trans"
   ]
  },
  {
   "cell_type": "code",
   "execution_count": null,
   "metadata": {},
   "outputs": [],
   "source": []
  }
 ],
 "metadata": {
  "kernelspec": {
   "display_name": "Tcl",
   "language": "tcl",
   "name": "tcl"
  },
  "language_info": {
   "file_extension": ".tcl",
   "mimetype": "txt/x-tcl",
   "name": "tcl",
   "version": "8.6.11"
  }
 },
 "nbformat": 4,
 "nbformat_minor": 4
}
