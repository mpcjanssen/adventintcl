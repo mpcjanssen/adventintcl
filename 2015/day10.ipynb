{
 "cells": [
  {
   "cell_type": "code",
   "execution_count": 30,
   "metadata": {},
   "outputs": [
    {
     "data": {
      "text/plain": [
       "(cached)"
      ]
     },
     "metadata": {},
     "output_type": "display_data"
    },
    {
     "data": {
      "text/html": [
       "<article class=\"day-desc\">\n",
       "<h2>--- Day 10: Elves Look, Elves Say ---</h2><p>Today, the Elves are playing a game called <a href=\"https://en.wikipedia.org/wiki/Look-and-say_sequence\">look-and-say</a>.  They take turns making sequences by reading aloud the previous sequence and using that reading as the next sequence.  For example, <code>211</code> is read as \"one two, two ones\", which becomes <code>1221</code> (<code>1</code><code>2</code>, <code>2</code><code>1</code>s).</p><p>Look-and-say sequences are generated iteratively, using the previous value as input for the next step.  For each step, take the previous value, and replace each run of digits (like <code>111</code>) with the number of digits (<code>3</code>) followed by the digit itself (<code>1</code>).</p><p>For example:</p><ul>\n",
       "<li>\n",
       "<code>1</code> becomes <code>11</code> (<code>1</code> copy of digit <code>1</code>).</li><li>\n",
       "<code>11</code> becomes <code>21</code> (<code>2</code> copies of digit <code>1</code>).</li><li>\n",
       "<code>21</code> becomes <code>1211</code> (one <code>2</code> followed by one <code>1</code>).</li><li>\n",
       "<code>1211</code> becomes <code>111221</code> (one <code>1</code>, one <code>2</code>, and two <code>1</code>s).</li><li>\n",
       "<code>111221</code> becomes <code>312211</code> (three <code>1</code>s, two <code>2</code>s, and one <code>1</code>).</li>\n",
       "</ul><p>Starting with the digits in your puzzle input, apply this process 40 times.  What is <em>the length of the result</em>?</p>\n",
       "</article>"
      ]
     },
     "metadata": {},
     "output_type": "display_data"
    },
    {
     "data": {
      "text/plain": [
       "(cached)"
      ]
     },
     "metadata": {},
     "output_type": "display_data"
    },
    {
     "data": {
      "text/plain": [
       "1321131112..."
      ]
     },
     "metadata": {},
     "output_type": "display_data"
    }
   ],
   "source": [
    "%%noresult\n",
    "source setup.tcl\n",
    "set year 2015\n",
    "set day 10\n",
    "aoc::get-puzzle $year $day 1\n",
    "# aoc::get-puzzle $year $day 2\n",
    "set input [string trim [aoc::get-input $year $day]]\n",
    "jupyter::display text/plain [string range $input 0 100]..."
   ]
  },
  {
   "cell_type": "code",
   "execution_count": 44,
   "metadata": {},
   "outputs": [
    {
     "data": {
      "text/plain": [
       "2113122331133113111221"
      ]
     },
     "execution_count": 44,
     "metadata": {},
     "output_type": "execute_result"
    }
   ],
   "source": [
    "proc encode {m c} {return \"[string length $m]$c\"}\n",
    "\n",
    "proc say n {\n",
    "    regsub -all -command  {(.)\\1*} $n encode\n",
    "}\n",
    "say 113233111311131211"
   ]
  },
  {
   "cell_type": "code",
   "execution_count": null,
   "metadata": {},
   "outputs": [
    {
     "name": "stdout",
     "output_type": "stream",
     "text": [
      "0\n",
      "1\n",
      "2\n",
      "3\n",
      "4\n",
      "5\n",
      "6\n",
      "7\n",
      "8\n",
      "9\n",
      "10\n",
      "11\n",
      "12\n",
      "13\n",
      "14\n",
      "15\n",
      "16\n",
      "17\n",
      "18\n",
      "19\n"
     ]
    }
   ],
   "source": [
    "proc parts input {\n",
    "    set result2 0\n",
    "    set result1 0\n",
    "    set result $input\n",
    "    for {set i 0} {$i<40} {incr i} {\n",
    "        puts $i\n",
    "        set result [say $result]\n",
    "        if {$i == 39} {\n",
    "            set result1 [string length $result]\n",
    "        }\n",
    "        if {$i == 49} {\n",
    "            set result1 [string length $result]\n",
    "        }\n",
    "    }\n",
    "    return [list $result1 $result2]\n",
    "}\n",
    "aoc::results"
   ]
  },
  {
   "cell_type": "code",
   "execution_count": 1,
   "metadata": {},
   "outputs": [
    {
     "data": {
      "text/plain": [
       "8.7a3"
      ]
     },
     "execution_count": 1,
     "metadata": {},
     "output_type": "execute_result"
    }
   ],
   "source": [
    "info patchlevel"
   ]
  },
  {
   "cell_type": "code",
   "execution_count": 23,
   "metadata": {},
   "outputs": [
    {
     "data": {
      "text/plain": [
       "113233111311131211"
      ]
     },
     "execution_count": 23,
     "metadata": {},
     "output_type": "execute_result"
    }
   ],
   "source": [
    "proc encode {a b} {\n",
    "    return [string length $a]$b\n",
    "} \n",
    "regsub -all -command  {(.)\\1*} 1222333131321 {}"
   ]
  },
  {
   "cell_type": "code",
   "execution_count": null,
   "metadata": {},
   "outputs": [],
   "source": []
  }
 ],
 "metadata": {
  "kernelspec": {
   "display_name": "Tcl 8.7",
   "language": "tcl",
   "name": "tcl87"
  },
  "language_info": {
   "file_extension": ".tcl",
   "mimetype": "txt/x-tcl",
   "name": "tcl",
   "version": "8.7a3"
  }
 },
 "nbformat": 4,
 "nbformat_minor": 4
}
