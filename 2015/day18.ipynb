{
 "cells": [
  {
   "cell_type": "code",
   "execution_count": 11,
   "metadata": {},
   "outputs": [
    {
     "data": {
      "text/plain": [
       "(cached)"
      ]
     },
     "metadata": {},
     "output_type": "display_data"
    },
    {
     "data": {
      "text/html": [
       "<article class=\"day-desc\">\n",
       "<h2>--- Day 18: Like a GIF For Your Yard ---</h2><p>After the <a href=\"6\">million lights incident</a>, the fire code has gotten stricter: now, at most <span title=\"This is an outrage!  We're going to the next town hall meeting.\">ten thousand lights</span> are allowed.  You arrange them in a 100x100 grid.</p><p>Never one to let you down, Santa again mails you instructions on the ideal lighting configuration.  With so few lights, he says, you'll have to resort to <em>animation</em>.</p><p>Start by setting your lights to the included initial configuration (your puzzle input).  A <code>#</code> means \"on\", and a <code>.</code> means \"off\".</p><p>Then, animate your grid in steps, where each step decides the next configuration based on the current one.  Each light's next state (either on or off) depends on its current state and the current states of the eight lights adjacent to it (including diagonals).  Lights on the edge of the grid might have fewer than eight neighbors; the missing ones always count as \"off\".</p><p>For example, in a simplified 6x6 grid, the light marked <code>A</code> has the neighbors numbered <code>1</code> through <code>8</code>, and the light marked <code>B</code>, which is on an edge, only has the neighbors marked <code>1</code> through <code>5</code>:</p><pre><code>1B5...\n",
       "234...\n",
       "......\n",
       "..123.\n",
       "..8A4.\n",
       "..765.\n",
       "</code></pre><p>The state a light should have next is based on its current state (on or off) plus the <em>number of neighbors that are on</em>:</p><ul>\n",
       "<li>A light which is <em>on</em> stays on when <code>2</code> or <code>3</code> neighbors are on, and turns off otherwise.</li><li>A light which is <em>off</em> turns on if exactly <code>3</code> neighbors are on, and stays off otherwise.</li>\n",
       "</ul><p>All of the lights update simultaneously; they all consider the same current state before moving to the next.</p><p>Here's a few steps from an example configuration of another 6x6 grid:</p><pre><code>Initial state:\n",
       ".#.#.#\n",
       "...##.\n",
       "#....#\n",
       "..#...\n",
       "#.#..#\n",
       "####..\n",
       "\n",
       "After 1 step:\n",
       "..##..\n",
       "..##.#\n",
       "...##.\n",
       "......\n",
       "#.....\n",
       "#.##..\n",
       "\n",
       "After 2 steps:\n",
       "..###.\n",
       "......\n",
       "..###.\n",
       "......\n",
       ".#....\n",
       ".#....\n",
       "\n",
       "After 3 steps:\n",
       "...#..\n",
       "......\n",
       "...#..\n",
       "..##..\n",
       "......\n",
       "......\n",
       "\n",
       "After 4 steps:\n",
       "......\n",
       "......\n",
       "..##..\n",
       "..##..\n",
       "......\n",
       "......\n",
       "</code></pre><p>After <code>4</code> steps, this example has four lights on.</p><p>In your grid of 100x100 lights, given your initial configuration, <em>how many lights are on after 100 steps</em>?</p>\n",
       "</article>"
      ]
     },
     "metadata": {},
     "output_type": "display_data"
    },
    {
     "data": {
      "text/plain": [
       "(cached)"
      ]
     },
     "metadata": {},
     "output_type": "display_data"
    },
    {
     "data": {
      "text/html": [
       "<article class=\"day-desc\">\n",
       "<h2 id=\"part2\">--- Part Two ---</h2><p>You flip the instructions over; Santa goes on to point out that this is all just an implementation of <a href=\"https://en.wikipedia.org/wiki/Conway's_Game_of_Life\">Conway's Game of Life</a>.  At least, it was, until you notice that something's wrong with the grid of lights you bought: four lights, one in each corner, are <em>stuck on</em> and can't be turned off.  The example above will actually run like this:</p><pre><code>Initial state:\n",
       "##.#.#\n",
       "...##.\n",
       "#....#\n",
       "..#...\n",
       "#.#..#\n",
       "####.#\n",
       "\n",
       "After 1 step:\n",
       "#.##.#\n",
       "####.#\n",
       "...##.\n",
       "......\n",
       "#...#.\n",
       "#.####\n",
       "\n",
       "After 2 steps:\n",
       "#..#.#\n",
       "#....#\n",
       ".#.##.\n",
       "...##.\n",
       ".#..##\n",
       "##.###\n",
       "\n",
       "After 3 steps:\n",
       "#...##\n",
       "####.#\n",
       "..##.#\n",
       "......\n",
       "##....\n",
       "####.#\n",
       "\n",
       "After 4 steps:\n",
       "#.####\n",
       "#....#\n",
       "...#..\n",
       ".##...\n",
       "#.....\n",
       "#.#..#\n",
       "\n",
       "After 5 steps:\n",
       "##.###\n",
       ".##..#\n",
       ".##...\n",
       ".##...\n",
       "#.#...\n",
       "##...#\n",
       "</code></pre><p>After <code>5</code> steps, this example now has <code>17</code> lights on.</p><p>In your grid of 100x100 lights, given your initial configuration, but with the four corners always in the <em>on</em> state, <em>how many lights are on after 100 steps</em>?</p>\n",
       "</article>"
      ]
     },
     "metadata": {},
     "output_type": "display_data"
    },
    {
     "data": {
      "text/plain": [
       "(cached)"
      ]
     },
     "metadata": {},
     "output_type": "display_data"
    },
    {
     "data": {
      "text/plain": [
       "####.#.##.###.#.#.##.#..###.#..#.#.#..##....#.###...##..###.##.#.#.#.##...##..#..#....#.#.##..#...##\n",
       ".##...##.##.######.#.#.##...#.#.#.#.#...#.##.#..#.#.####...#....#....###.#.#.#####....#.#.##.#.#.##...."
      ]
     },
     "metadata": {},
     "output_type": "display_data"
    }
   ],
   "source": [
    "source setup.tcl\n",
    "set year 2015\n",
    "set day 18\n",
    "aoc::get-puzzle $year $day 1\n",
    "aoc::get-puzzle $year $day 2\n",
    "set input [string trim [aoc::get-input $year $day]]\n",
    "jupyter::display text/plain [string range $input 0 200]...;"
   ]
  },
  {
   "cell_type": "code",
   "execution_count": 12,
   "metadata": {},
   "outputs": [],
   "source": [
    "\n",
    "\n",
    "proc step {grid fixcorners} {\n",
    "set ngrid {}\n",
    "dict for {key val} $grid {\n",
    "   lassign $key x y\n",
    "   set n-on 0\n",
    "   foreach n [aoc::neighbours8 {*}$key] {\n",
    "      if {[dict getdef $grid $n .] eq \"#\"} {incr n-on}\n",
    "      set next .\n",
    "      switch -exact $val,${n-on} {\n",
    "          #,2 {set next \"#\"}\n",
    "          #,3 {set next \"#\"}\n",
    "          .,3 {set next \"#\"}\n",
    "      }\n",
    "      if {$fixcorners && ($key in {{0 0} {0 99} {99 0} {99 99}})} {\n",
    "          set next \"#\"\n",
    "      }\n",
    "      dict set ngrid $key $next\n",
    "      \n",
    "   }\n",
    "   }\n",
    "   return $ngrid\n",
    "}\n"
   ]
  },
  {
   "cell_type": "code",
   "execution_count": 13,
   "metadata": {},
   "outputs": [
    {
     "name": "stdout",
     "output_type": "stream",
     "text": [
      "Day1\t768\n",
      "Day2\t781\n",
      "21207695 microseconds per iteration\n"
     ]
    }
   ],
   "source": [
    "proc parts input {\n",
    "    unset -nocomplain grid\n",
    "    set y 0\n",
    "    foreach line [split $input \\n] {\n",
    "        set x 0\n",
    "        foreach pos [split $line \"\"] {\n",
    "        dict set grid [list $x $y]  $pos\n",
    "        incr x\n",
    "    } \n",
    "    incr y\n",
    "    }\n",
    "    set state $grid\n",
    "    time {set state [step $state 0]} 100\n",
    "\n",
    "    set result1 [llength [regexp -inline -all {#} $state]]\n",
    "    set state $grid\n",
    "    time {set state [step $state 1]} 100\n",
    "\n",
    "    set result2 [llength [regexp -inline -all {#} $state]]\n",
    "    return [list $result1 $result2]\n",
    "}\n",
    "aoc::results"
   ]
  },
  {
   "cell_type": "code",
   "execution_count": null,
   "metadata": {},
   "outputs": [],
   "source": []
  }
 ],
 "metadata": {
  "kernelspec": {
   "display_name": "Tcl 8.7",
   "language": "tcl",
   "name": "tcl87"
  },
  "language_info": {
   "file_extension": ".tcl",
   "mimetype": "txt/x-tcl",
   "name": "tcl",
   "version": "8.7a3"
  }
 },
 "nbformat": 4,
 "nbformat_minor": 4
}
