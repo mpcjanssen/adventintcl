{
 "cells": [
  {
   "cell_type": "code",
   "execution_count": 34,
   "metadata": {},
   "outputs": [
    {
     "data": {
      "text/plain": [
       "true"
      ]
     },
     "execution_count": 34,
     "metadata": {},
     "output_type": "execute_result"
    }
   ],
   "source": [
    "require 'benchmark'"
   ]
  },
  {
   "cell_type": "code",
   "execution_count": 3,
   "metadata": {},
   "outputs": [
    {
     "data": {
      "text/plain": [
       "[43, 3, 4, 10, 21, 44, 4, 6, 47, 41, 34, 17, 17, 44, 36, 31, 46, 9, 27, 38]"
      ]
     },
     "execution_count": 3,
     "metadata": {},
     "output_type": "execute_result"
    }
   ],
   "source": [
    "input = File.readlines(\"./input/17.txt\").map { |x| x.strip.to_i}"
   ]
  },
  {
   "cell_type": "code",
   "execution_count": 50,
   "metadata": {},
   "outputs": [
    {
     "name": "stdout",
     "output_type": "stream",
     "text": [
      "part1: 1638\n",
      "part2: 17\n"
     ]
    },
    {
     "data": {
      "text/plain": [
       "0.21892044600099325"
      ]
     },
     "execution_count": 50,
     "metadata": {},
     "output_type": "execute_result"
    }
   ],
   "source": [
    "Benchmark.realtime {\n",
    "\n",
    "solutions = (1..input.length).each_with_object([]) do | i, count |\n",
    "    input.combination(i) do | c |\n",
    "         count << c if c.sum == 150\n",
    "    end\n",
    "end\n",
    "\n",
    "puts \"part1: #{solutions.length}\"\n",
    "\n",
    "min_size = solutions.sort_by { | x | x.length}[0].length\n",
    "\n",
    "puts \"part2: #{solutions.select { | x | x.length == min_size }.length}\"\n",
    "}"
   ]
  },
  {
   "cell_type": "code",
   "execution_count": 51,
   "metadata": {},
   "outputs": [
    {
     "name": "stdout",
     "output_type": "stream",
     "text": [
      "part1: 1638\n",
      "part2: 17\n"
     ]
    },
    {
     "data": {
      "text/plain": [
       "0.215724452980794"
      ]
     },
     "execution_count": 51,
     "metadata": {},
     "output_type": "execute_result"
    }
   ],
   "source": [
    "Benchmark.realtime {\n",
    "\n",
    "solutions = (1..input.length).inject([]) do | count, i |\n",
    "    input.combination(i) do | c |\n",
    "         count << c if c.sum == 150\n",
    "    end\n",
    "    count\n",
    "end\n",
    "\n",
    "puts \"part1: #{solutions.length}\"\n",
    "\n",
    "min_size = solutions.sort_by { | x | x.length}[0].length\n",
    "\n",
    "puts \"part2: #{solutions.select { | x | x.length == min_size }.length}\"\n",
    "}"
   ]
  },
  {
   "cell_type": "code",
   "execution_count": null,
   "metadata": {},
   "outputs": [],
   "source": []
  }
 ],
 "metadata": {
  "kernelspec": {
   "display_name": "Ruby 2.7.2",
   "language": "ruby",
   "name": "ruby"
  },
  "language_info": {
   "file_extension": ".rb",
   "mimetype": "application/x-ruby",
   "name": "ruby",
   "version": "2.7.2"
  }
 },
 "nbformat": 4,
 "nbformat_minor": 4
}
