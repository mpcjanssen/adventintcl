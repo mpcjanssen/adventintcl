{
 "cells": [
  {
   "cell_type": "code",
   "execution_count": 28,
   "metadata": {},
   "outputs": [
    {
     "data": {
      "text/plain": [
       "nil"
      ]
     },
     "execution_count": 28,
     "metadata": {},
     "output_type": "execute_result"
    }
   ],
   "source": [
    "(require '[clojupyter.display :as display])\n",
    "(require '[clojupyter.misc.helper :as helper])\n",
    "(require '[clojure.string :as str])\n",
    "\n",
    "(helper/add-dependencies '[org.clojure/math.combinatorics \"0.1.6\"])\n",
    "(require '[clojure.math.combinatorics :as mc])\n"
   ]
  },
  {
   "cell_type": "code",
   "execution_count": 33,
   "metadata": {},
   "outputs": [
    {
     "data": {
      "text/plain": [
       "((43 3) (43 4) (43 10) (43 21) (43 44) (43 6) (43 47) (43 41) (43 34) (43 17) (43 36) (43 31) (43 46) (43 9) (43 27) (43 38) (3 4) (3 10) (3 21) (3 44) (3 6) (3 47) (3 41) (3 34) (3 17) (3 36) (3 31) (3 46) (3 9) (3 27) (3 38) (4 4) (4 10) (4 21) (4 44) (4 6) (4 47) (4 41) (4 34) (4 17) (4 36) (4 31) (4 46) (4 9) (4 27) (4 38) (10 21) (10 44) (10 6) (10 47) (10 41) (10 34) (10 17) (10 36) (10 31) (10 46) (10 9) (10 27) (10 38) (21 44) (21 6) (21 47) (21 41) (21 34) (21 17) (21 36) (21 31) (21 46) (21 9) (21 27) (21 38) (44 44) (44 6) (44 47) (44 41) (44 34) (44 17) (44 36) (44 31) (44 46) (44 9) (44 27) (44 38) (6 47) (6 41) (6 34) (6 17) (6 36) (6 31) (6 46) (6 9) (6 27) (6 38) (47 41) (47 34) (47 17) (47 36) (47 31) (47 46) (47 9) (47 27) (47 38) (41 34) (41 17) (41 36) (41 31) (41 46) (41 9) (41 27) (41 38) (34 17) (34 36) (34 31) (34 46) (34 9) (34 27) (34 38) (17 17) (17 36) (17 31) (17 46) (17 9) (17 27) (17 38) (36 31) (36 46) (36 9) (36 27) (36 38) (31 46) (31 9) (31 27) (31 38) (46 9) (46 27) (46 38) (9 27) (9 38) (27 38))"
      ]
     },
     "execution_count": 33,
     "metadata": {},
     "output_type": "execute_result"
    }
   ],
   "source": [
    " (mc/combinations (map #(Integer/parseInt %) (clojure.string/split-lines (slurp \"./input/17.txt\"))) 2)"
   ]
  },
  {
   "cell_type": "code",
   "execution_count": 20,
   "metadata": {},
   "outputs": [
    {
     "data": {
      "text/plain": [
       "1"
      ]
     },
     "execution_count": 20,
     "metadata": {},
     "output_type": "execute_result"
    }
   ],
   "source": [
    "(Integer/parseInt \"1\")"
   ]
  },
  {
   "cell_type": "code",
   "execution_count": null,
   "metadata": {},
   "outputs": [],
   "source": []
  }
 ],
 "metadata": {
  "kernelspec": {
   "display_name": "Clojure (clojupyter-0.3.2)",
   "language": "clojure",
   "name": "clojupyter-0.3.2"
  },
  "language_info": {
   "file_extension": ".clj",
   "mimetype": "text/x-clojure",
   "name": "clojure",
   "version": "1.10.1"
  }
 },
 "nbformat": 4,
 "nbformat_minor": 4
}
