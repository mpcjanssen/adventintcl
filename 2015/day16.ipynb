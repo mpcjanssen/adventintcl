{
 "cells": [
  {
   "cell_type": "code",
   "execution_count": 2,
   "metadata": {},
   "outputs": [
    {
     "data": {
      "text/plain": [
       "(cached)"
      ]
     },
     "metadata": {},
     "output_type": "display_data"
    },
    {
     "data": {
      "text/html": [
       "<article class=\"day-desc\">\n",
       "<h2>--- Day 16: Aunt Sue ---</h2><p>Your Aunt Sue has given you a wonderful gift, and you'd like to send her a thank you card.  However, there's a small problem: she signed it \"From, Aunt Sue\".</p><p>You have 500 Aunts named \"Sue\".</p><p>So, to avoid sending the card to the wrong person, you need to figure out which Aunt Sue (which you conveniently number 1 to 500, for sanity) gave you the gift.  You open the present and, as luck would have it, good ol' Aunt Sue got you a My First Crime Scene Analysis Machine!  Just what you wanted.  Or needed, as the case may be.</p><p>The My First Crime Scene Analysis Machine (MFCSAM for short) can detect a few specific compounds in a given sample, as well as how many distinct kinds of those compounds there are. According to the instructions, these are what the MFCSAM can detect:</p><ul>\n",
       "<li>\n",
       "<code>children</code>, by human DNA age analysis.</li><li>\n",
       "<code>cats</code>.  It doesn't differentiate individual breeds.</li><li>Several <span title=\"It can tell them apart by their distinct Dog Residue.\">seemingly random breeds of dog</span>: <code><a href=\"https://en.wikipedia.org/wiki/Samoyed_%28dog%29\">samoyeds</a></code>, <code><a href=\"https://en.wikipedia.org/wiki/Pomeranian_%28dog%29\">pomeranians</a></code>, <code><a href=\"https://en.wikipedia.org/wiki/Akita_%28dog%29\">akitas</a></code>, and <code><a href=\"https://en.wikipedia.org/wiki/Vizsla\">vizslas</a></code>.</li><li>\n",
       "<code>goldfish</code>.  No other kinds of fish.</li><li>\n",
       "<code>trees</code>, all in one group.</li><li>\n",
       "<code>cars</code>, presumably by exhaust or gasoline or something.</li><li>\n",
       "<code>perfumes</code>, which is handy, since many of your Aunts Sue wear a few kinds.</li>\n",
       "</ul><p>In fact, many of your Aunts Sue have many of these.  You put the wrapping from the gift into the MFCSAM.  It beeps inquisitively at you a few times and then prints out a message on <a href=\"https://en.wikipedia.org/wiki/Ticker_tape\">ticker tape</a>:</p><pre><code>children: 3\n",
       "cats: 7\n",
       "samoyeds: 2\n",
       "pomeranians: 3\n",
       "akitas: 0\n",
       "vizslas: 0\n",
       "goldfish: 5\n",
       "trees: 3\n",
       "cars: 2\n",
       "perfumes: 1\n",
       "</code></pre><p>You make a list of the things you can remember about each Aunt Sue.  Things missing from your list aren't zero - you simply don't remember the value.</p><p>What is the <em>number</em> of the Sue that got you the gift?</p>\n",
       "</article>"
      ]
     },
     "metadata": {},
     "output_type": "display_data"
    },
    {
     "data": {
      "text/plain": [
       "(cached)"
      ]
     },
     "metadata": {},
     "output_type": "display_data"
    },
    {
     "data": {
      "text/html": [
       "<article class=\"day-desc\">\n",
       "<h2 id=\"part2\">--- Part Two ---</h2><p>As you're about to send the thank you note, something in the MFCSAM's instructions catches your eye.  Apparently, it has an outdated <a href=\"https://www.youtube.com/watch?v=RXJKdh1KZ0w\">retroencabulator</a>, and so the output from the machine isn't exact values - some of them indicate ranges.</p><p>In particular, the <code>cats</code> and <code>trees</code> readings indicates that there are <em>greater than</em> that many (due to the unpredictable nuclear decay of cat dander and tree pollen), while the <code>pomeranians</code> and <code>goldfish</code> readings indicate that there are <em>fewer than</em> that many (due to the modial interaction of magnetoreluctance).</p><p>What is the <em>number</em> of the real Aunt Sue?</p>\n",
       "</article>"
      ]
     },
     "metadata": {},
     "output_type": "display_data"
    },
    {
     "data": {
      "text/plain": [
       "(cached)"
      ]
     },
     "metadata": {},
     "output_type": "display_data"
    },
    {
     "data": {
      "text/plain": [
       "Sue 1: goldfish: 6, trees: 9, akitas: 0\n",
       "Sue 2: goldfish: 7, trees: 1, akitas: 0\n",
       "Sue 3: cars: 10, akitas: 6, perfumes: 7\n",
       "Sue 4: perfumes: 2, vizslas: 0, cars: 6\n",
       "Sue 5: goldfish: 1, trees: 3, perfumes: 1..."
      ]
     },
     "metadata": {},
     "output_type": "display_data"
    }
   ],
   "source": [
    "source setup.tcl\n",
    "set year 2015\n",
    "set day 16\n",
    "aoc::get-puzzle $year $day 1\n",
    "aoc::get-puzzle $year $day 2\n",
    "set input [string trim [aoc::get-input $year $day]]\n",
    "jupyter::display text/plain [string range $input 0 200]...;"
   ]
  },
  {
   "cell_type": "code",
   "execution_count": 4,
   "metadata": {},
   "outputs": [
    {
     "name": "stdout",
     "output_type": "stream",
     "text": [
      "goldfish: 6\n",
      "goldfish: 7\n",
      "cars: 10\n",
      "perfumes: 2\n",
      "goldfish: 1\n",
      "children: 9\n",
      "cars: 6\n",
      "akitas: 10\n",
      "vizslas: 8\n",
      "perfumes: 10\n",
      "cars: 9\n",
      "pomeranians: 4\n",
      "cats: 10\n",
      "perfumes: 8\n",
      "vizslas: 2\n",
      "pomeranians: 10\n",
      "akitas: 7\n",
      "trees: 5\n",
      "akitas: 3\n",
      "perfumes: 7\n",
      "perfumes: 7\n",
      "vizslas: 6\n",
      "goldfish: 0\n",
      "goldfish: 7\n",
      "cars: 7\n",
      "trees: 9\n",
      "samoyeds: 0\n",
      "cars: 5\n",
      "perfumes: 9\n",
      "goldfish: 10\n",
      "akitas: 2\n",
      "goldfish: 0\n",
      "vizslas: 2\n",
      "goldfish: 8\n",
      "akitas: 1\n",
      "cars: 4\n",
      "akitas: 5\n",
      "goldfish: 10\n",
      "goldfish: 4\n",
      "perfumes: 5\n",
      "goldfish: 9\n",
      "trees: 6\n",
      "perfumes: 7\n",
      "vizslas: 9\n",
      "akitas: 1\n",
      "akitas: 5\n",
      "trees: 9\n",
      "goldfish: 10\n",
      "cars: 7\n",
      "akitas: 5\n",
      "cars: 9\n",
      "akitas: 7\n",
      "cars: 10\n",
      "goldfish: 2\n",
      "vizslas: 5\n",
      "goldfish: 9\n",
      "perfumes: 8\n",
      "cars: 5\n",
      "samoyeds: 8\n",
      "akitas: 6\n",
      "trees: 8\n",
      "trees: 1\n",
      "vizslas: 6\n",
      "goldfish: 7\n",
      "cars: 1\n",
      "cats: 6\n",
      "trees: 10\n",
      "pomeranians: 5\n",
      "akitas: 1\n",
      "cats: 4\n",
      "vizslas: 7\n",
      "children: 2\n",
      "cars: 8\n",
      "akitas: 1\n",
      "vizslas: 5\n",
      "cars: 3\n",
      "akitas: 9\n",
      "trees: 0\n",
      "pomeranians: 9\n",
      "perfumes: 10\n",
      "goldfish: 5\n",
      "akitas: 9\n",
      "vizslas: 1\n",
      "samoyeds: 7\n",
      "perfumes: 3\n",
      "goldfish: 9\n",
      "cars: 0\n",
      "children: 3\n",
      "trees: 4\n",
      "trees: 1\n",
      "akitas: 8\n",
      "pomeranians: 9\n",
      "goldfish: 7\n",
      "cats: 9\n",
      "vizslas: 2\n",
      "akitas: 5\n",
      "goldfish: 7\n",
      "goldfish: 5\n",
      "trees: 6\n",
      "trees: 0\n",
      "cars: 2\n",
      "perfumes: 6\n",
      "trees: 10\n",
      "samoyeds: 5\n",
      "cars: 10\n",
      "pomeranians: 6\n",
      "cars: 2\n",
      "perfumes: 1\n",
      "goldfish: 5\n",
      "Day1\t103\n",
      "Day2\t\n",
      "79618 microseconds per iteration\n"
     ]
    }
   ],
   "source": [
    "proc parts input {\n",
    "set mfcsam [split {children: 3\n",
    "cats: 7\n",
    "samoyeds: 2\n",
    "pomeranians: 3\n",
    "akitas: 0\n",
    "vizslas: 0\n",
    "goldfish: 5\n",
    "trees: 3\n",
    "cars: 2\n",
    "perfumes: 1} \\n] \n",
    "\n",
    "foreach line [split $input \\n] {\n",
    "    set result2 {}\n",
    "    set propes [lassign [regexp -all -inline {[A-Za-z]+:? [0-9]+:?} $line] aunt]\n",
    "    set ok 1\n",
    "    foreach prop $propes {\n",
    "        if {$prop ni $mfcsam} {\n",
    "            set ok 0\n",
    "            break\n",
    "        }\n",
    "    }\n",
    "    if {$ok} {\n",
    "        set result1 [string range [lindex $aunt end] 0 end-1]\n",
    "        break\n",
    "    }\n",
    "}\n",
    "    return [list $result1 $result2]\n",
    "}\n",
    "aoc::results"
   ]
  },
  {
   "cell_type": "code",
   "execution_count": null,
   "metadata": {},
   "outputs": [],
   "source": []
  }
 ],
 "metadata": {
  "kernelspec": {
   "display_name": "Tcl 8.7",
   "language": "tcl",
   "name": "tcl87"
  },
  "language_info": {
   "file_extension": ".tcl",
   "mimetype": "txt/x-tcl",
   "name": "tcl",
   "version": "8.7a3"
  }
 },
 "nbformat": 4,
 "nbformat_minor": 4
}
