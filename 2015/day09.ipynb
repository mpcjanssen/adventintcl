{
 "cells": [
  {
   "cell_type": "code",
   "execution_count": 1,
   "metadata": {},
   "outputs": [
    {
     "data": {
      "text/plain": [
       "(cached)"
      ]
     },
     "metadata": {},
     "output_type": "display_data"
    },
    {
     "data": {
      "text/html": [
       "<article class=\"day-desc\">\n",
       "<h2>--- Day 9: All in a Single Night ---</h2><p>Every year, Santa manages to deliver all of his presents in a single night.</p><p>This year, however, he has some <span title=\"Bonus points if you recognize all of the locations.\">new locations</span> to visit; his elves have provided him the distances between every pair of locations.  He can start and end at any two (different) locations he wants, but he must visit each location exactly once.  What is the <em>shortest distance</em> he can travel to achieve this?</p><p>For example, given the following distances:</p><pre><code>London to Dublin = 464\n",
       "London to Belfast = 518\n",
       "Dublin to Belfast = 141\n",
       "</code></pre><p>The possible routes are therefore:</p><pre><code>Dublin -&gt; London -&gt; Belfast = 982\n",
       "London -&gt; Dublin -&gt; Belfast = 605\n",
       "London -&gt; Belfast -&gt; Dublin = 659\n",
       "Dublin -&gt; Belfast -&gt; London = 659\n",
       "Belfast -&gt; Dublin -&gt; London = 605\n",
       "Belfast -&gt; London -&gt; Dublin = 982\n",
       "</code></pre><p>The shortest of these is <code>London -&gt; Dublin -&gt; Belfast = 605</code>, and so the answer is <code>605</code> in this example.</p><p>What is the distance of the shortest route?</p>\n",
       "</article>"
      ]
     },
     "metadata": {},
     "output_type": "display_data"
    },
    {
     "data": {
      "text/plain": [
       "(cached)"
      ]
     },
     "metadata": {},
     "output_type": "display_data"
    },
    {
     "data": {
      "text/plain": [
       "Faerun to Tristram = 65\n",
       "Faerun to Tambi = 129\n",
       "Faerun to Norrath = 144\n",
       "Faerun to Snowdin = 71\n",
       "Faerun t..."
      ]
     },
     "metadata": {},
     "output_type": "display_data"
    }
   ],
   "source": [
    "%%noresult\n",
    "source setup.tcl\n",
    "set year 2015\n",
    "set day 9\n",
    "aoc::get-puzzle $year $day 1\n",
    "# aoc::get-puzzle $year $day 2\n",
    "set input [string trim [aoc::get-input $year $day]]\n",
    "jupyter::display text/plain [string range $input 0 100]..."
   ]
  },
  {
   "cell_type": "code",
   "execution_count": 2,
   "metadata": {},
   "outputs": [
    {
     "data": {
      "text/plain": [
       "{London Dublin Belfast} {London Belfast Dublin} {Dublin London Belfast} {Dublin Belfast London} {Belfast London Dublin} {Belfast Dublin London}"
      ]
     },
     "execution_count": 2,
     "metadata": {},
     "output_type": "execute_result"
    }
   ],
   "source": [
    " proc permute {list {prefix \"\"}} {\n",
    "    if ![llength $list] {return [list $prefix]}\n",
    "    set res {}\n",
    "    foreach e $list {\n",
    "        lappend res [permute [l- $list $e] [concat $prefix $e]]\n",
    "    }\n",
    "    join $res\n",
    " }\n",
    " proc l- {list e} {\n",
    "    set pos [lsearch $list $e]\n",
    "    lreplace $list $pos $pos\n",
    " }\n",
    "\n",
    "permute {London Dublin Belfast}"
   ]
  },
  {
   "cell_type": "code",
   "execution_count": 5,
   "metadata": {},
   "outputs": [
    {
     "name": "stdout",
     "output_type": "stream",
     "text": [
      "Day1\t117\n",
      "Day2\t909\n",
      "663848 microseconds per iteration\n"
     ]
    }
   ],
   "source": [
    "proc parts input {\n",
    "    set result2 0\n",
    "    set result1 0\n",
    "    set lines [split $input \\n]\n",
    "    foreach line $lines {\n",
    "        lassign $line from _ to _ dist\n",
    "        lappend places $from $to\n",
    "        set distances($from,$to) $dist\n",
    "        set distances($to,$from) $dist\n",
    "    }\n",
    "    set places [lsort -unique $places]\n",
    "    set routes [permute $places]\n",
    "    foreach route $routes {\n",
    "        set total($route) 0\n",
    "        foreach from [lrange $route 0 end-1 ] to [lrange $route 1 end]  {\n",
    "            incr total($route) $distances($from,$to)\n",
    "        }\n",
    "    }\n",
    "    set routesdist  [lsort -integer -stride 2 -index 1 [array get total]] \n",
    "    set result1 [lindex $routesdist 1]\n",
    "    set result2 [lindex $routesdist end]\n",
    "\n",
    "    return [list $result1 $result2]\n",
    "}\n",
    "aoc::results"
   ]
  },
  {
   "cell_type": "code",
   "execution_count": null,
   "metadata": {},
   "outputs": [],
   "source": []
  }
 ],
 "metadata": {
  "kernelspec": {
   "display_name": "Tcl",
   "language": "tcl",
   "name": "tcl"
  },
  "language_info": {
   "file_extension": ".tcl",
   "mimetype": "txt/x-tcl",
   "name": "tcl",
   "version": "8.6.11"
  }
 },
 "nbformat": 4,
 "nbformat_minor": 4
}
