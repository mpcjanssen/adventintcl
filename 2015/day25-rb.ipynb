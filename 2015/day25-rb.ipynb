{
 "cells": [
  {
   "cell_type": "code",
   "execution_count": 2,
   "metadata": {},
   "outputs": [
    {
     "data": {
      "text/plain": [
       "31916031"
      ]
     },
     "execution_count": 2,
     "metadata": {},
     "output_type": "execute_result"
    }
   ],
   "source": [
    "mult  = 252533\n",
    "div = 33554393\n",
    "20151125*mult%div"
   ]
  },
  {
   "cell_type": "code",
   "execution_count": 22,
   "metadata": {},
   "outputs": [
    {
     "data": {
      "text/plain": [
       "19980801"
      ]
     },
     "execution_count": 22,
     "metadata": {},
     "output_type": "execute_result"
    }
   ],
   "source": [
    "def eternal_sequence\n",
    "    mult  = 252533\n",
    "div = 33554393\n",
    "  Enumerator.new do |enum|\n",
    "    row = 1\n",
    "    col = 1\n",
    "      val = 20151125  \n",
    "      enum.yield [[row,col] , val]\n",
    "    while true\n",
    "        if row == 1\n",
    "            row = col + 1\n",
    "            col = 1\n",
    "        else\n",
    "            col = col+1\n",
    "            row = row -1\n",
    "        end\n",
    "        val = val*mult%div\n",
    "      enum.yield [[row,col], val] # <- Notice that this is the yield method of the enumerator, not the yield keyword\n",
    "    end\n",
    "  end\n",
    "end\n",
    "eternal_sequence.lazy.select do | pos, val | \n",
    "     pos == [2947,3029]\n",
    "#     pos == [33,33]\n",
    "\n",
    "end.first[1]"
   ]
  }
 ],
 "metadata": {
  "kernelspec": {
   "display_name": "Ruby 2.7.2",
   "language": "ruby",
   "name": "ruby"
  },
  "language_info": {
   "file_extension": ".rb",
   "mimetype": "application/x-ruby",
   "name": "ruby",
   "version": "2.7.2"
  }
 },
 "nbformat": 4,
 "nbformat_minor": 4
}
