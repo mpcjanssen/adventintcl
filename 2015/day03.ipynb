{
 "cells": [
  {
   "cell_type": "code",
   "execution_count": 48,
   "metadata": {},
   "outputs": [],
   "source": [
    "source setup.tcl"
   ]
  },
  {
   "cell_type": "code",
   "execution_count": 51,
   "metadata": {},
   "outputs": [
    {
     "data": {
      "text/plain": [
       "(cached)"
      ]
     },
     "metadata": {},
     "output_type": "display_data"
    },
    {
     "data": {
      "text/html": [
       "<article class=\"day-desc\">\n",
       "<h2>--- Day 3: Perfectly Spherical Houses in a Vacuum ---</h2><p>Santa is delivering presents to an infinite two-dimensional grid of houses.</p><p>He begins by delivering a present to the house at his starting location, and then an elf at the North Pole calls him via radio and tells him where to move next.  Moves are always exactly one house to the north (<code>^</code>), south (<code>v</code>), east (<code>&gt;</code>), or west (<code>&lt;</code>).  After each move, he delivers another present to the house at his new location.</p><p>However, the elf back at the north pole has had a little too much eggnog, and so his directions are a little off, and Santa ends up visiting some houses more than once.  How many houses receive <em>at least one present</em>?</p><p>For example:</p><ul>\n",
       "<li>\n",
       "<code>&gt;</code> delivers presents to <code>2</code> houses: one at the starting location, and one to the east.</li><li>\n",
       "<code>^&gt;v&lt;</code> delivers presents to <code>4</code> houses in a square, including twice to the house at his starting/ending location.</li><li>\n",
       "<code>^v^v^v^v^v</code> delivers a bunch of presents to some very lucky children at only <code>2</code> houses.</li>\n",
       "</ul>\n",
       "</article>"
      ]
     },
     "metadata": {},
     "output_type": "display_data"
    },
    {
     "data": {
      "text/html": [
       "<article class=\"day-desc\">\n",
       "<h2 id=\"part2\">--- Part Two ---</h2><p>The next year, to speed up the process, Santa creates a robot version of himself, <em>Robo-Santa</em>, to deliver presents with him.</p><p>Santa and Robo-Santa start at the same location (delivering two presents to the same starting house), then take turns moving based on instructions from the elf, who is <span title=\"This absolutely real word was invented by someone flipping eggnoggedly through a dictionary.\">eggnoggedly</span> reading from the same script as the previous year.</p><p>This year, how many houses receive <em>at least one present</em>?</p><p>For example:</p><ul>\n",
       "<li>\n",
       "<code>^v</code> delivers presents to <code>3</code> houses, because Santa goes north, and then Robo-Santa goes south.</li><li>\n",
       "<code>^&gt;v&lt;</code> now delivers presents to <code>3</code> houses, and Santa and Robo-Santa end up back where they started.</li><li>\n",
       "<code>^v^v^v^v^v</code> now delivers presents to <code>11</code> houses, with Santa going one direction and Robo-Santa going the other.</li>\n",
       "</ul>\n",
       "</article>"
      ]
     },
     "metadata": {},
     "output_type": "display_data"
    }
   ],
   "source": [
    "aoc::get-puzzle 2015 3 1\n",
    "aoc::get-puzzle 2015 3 2"
   ]
  },
  {
   "cell_type": "code",
   "execution_count": 50,
   "metadata": {},
   "outputs": [
    {
     "data": {
      "text/plain": [
       "(cached)"
      ]
     },
     "metadata": {},
     "output_type": "display_data"
    },
    {
     "data": {
      "text/plain": [
       "^^<<v<<v><v^^<><>^^<v<v^>>^^^><^>v^>v><><><<vv^^<^>^^<v^>v>v^v>>>^<>v<^<v^><^>>>>><<v>>^>>^>v^>><<^>v..."
      ]
     },
     "metadata": {},
     "output_type": "display_data"
    }
   ],
   "source": [
    "%%noresult\n",
    "set input [aoc::get-input 2015 3];\n",
    "jupyter::display text/plain [string range $input 0 100]..."
   ]
  },
  {
   "cell_type": "code",
   "execution_count": 47,
   "metadata": {},
   "outputs": [
    {
     "name": "stdout",
     "output_type": "stream",
     "text": [
      "Day1\t2565\n",
      "Day2\t2639\n",
      "38173 microseconds per iteration\n"
     ]
    }
   ],
   "source": [
    "proc parts input {\n",
    "    array unset gifts\n",
    "    set x 0\n",
    "    set y 0\n",
    "    incr gifts($x,$y)\n",
    "    foreach dir [split $input \"\"] {\n",
    "        switch -exact $dir {\n",
    "            > {incr x}\n",
    "            < {incr x -1}\n",
    "            ^ {incr y -1}\n",
    "            v {incr y}\n",
    "            default {error \"unknown dir $dir\"}\n",
    "        } \n",
    "        incr gifts($x,$y)\n",
    "    }\n",
    "    set result1 {}\n",
    "    foreach {p c} [array get gifts] { if {$c>0} {lappend result1 $p}}\n",
    "    array unset gifts\n",
    "    set xs 0\n",
    "    set ys 0\n",
    "    set xr 0\n",
    "    set yr 0\n",
    "    incr gifts(0,0) 2\n",
    "    foreach {dirs dirr} [split $input \"\"] {\n",
    "        switch -exact $dirs {\n",
    "            > {incr xs}\n",
    "            < {incr xs -1}\n",
    "            ^ {incr ys -1}\n",
    "            v {incr ys}\n",
    "            default {error \"unknown dir $dir\"}\n",
    "        } \n",
    "        incr gifts($xs,$ys)\n",
    "        switch -exact $dirr {\n",
    "            > {incr xr}\n",
    "            < {incr xr -1}\n",
    "            ^ {incr yr -1}\n",
    "            v {incr yr}\n",
    "            default {error \"unknown dir $dir\"}\n",
    "        } \n",
    "        incr gifts($xr,$yr)\n",
    "    }\n",
    "    set result2 {}\n",
    "    foreach {p c} [array get gifts] { if {$c>0} {lappend result2 $p}}\n",
    "    return [list [llength $result1] [llength $result2]]\n",
    "    \n",
    "}\n",
    "aoc::results"
   ]
  }
 ],
 "metadata": {
  "kernelspec": {
   "display_name": "Tcl",
   "language": "tcl",
   "name": "tcl"
  },
  "language_info": {
   "file_extension": ".tcl",
   "mimetype": "txt/x-tcl",
   "name": "tcl",
   "version": "8.6.11"
  }
 },
 "nbformat": 4,
 "nbformat_minor": 4
}
