{
 "cells": [
  {
   "cell_type": "code",
   "execution_count": 47,
   "metadata": {},
   "outputs": [
    {
     "data": {
      "text/plain": [
       "(cached)"
      ]
     },
     "metadata": {},
     "output_type": "display_data"
    },
    {
     "data": {
      "text/html": [
       "<article class=\"day-desc\">\n",
       "<h2>--- Day 11: Corporate Policy ---</h2><p>Santa's previous password expired, and he needs help choosing a new one.</p><p>To help him remember his new password after the old one expires, Santa has devised a method of coming up with a password based on the previous one.  Corporate policy dictates that passwords must be exactly eight lowercase letters (for security reasons), so he finds his new password by <em>incrementing</em> his old password string repeatedly until it is valid.</p><p>Incrementing is just like counting with numbers: <code>xx</code>, <code>xy</code>, <code>xz</code>, <code>ya</code>, <code>yb</code>, and so on. Increase the rightmost letter one step; if it was <code>z</code>, it wraps around to <code>a</code>, and repeat with the next letter to the left until one doesn't wrap around.</p><p>Unfortunately for Santa, a new Security-Elf recently started, and he has imposed some additional password requirements:</p><ul>\n",
       "<li>Passwords must include one increasing straight of at least three letters, like <code>abc</code>, <code>bcd</code>, <code>cde</code>, and so on, up to <code>xyz</code>. They cannot skip letters; <code>abd</code> doesn't count.</li><li>Passwords may not contain the letters <code>i</code>, <code>o</code>, or <code>l</code>, as these letters can be mistaken for other characters and are therefore confusing.</li><li>Passwords must contain at least two different, non-overlapping pairs of letters, like <code>aa</code>, <code>bb</code>, or <code>zz</code>.</li>\n",
       "</ul><p>For example:</p><ul>\n",
       "<li>\n",
       "<code>hijklmmn</code> meets the first requirement (because it contains the straight <code>hij</code>) but fails the second requirement requirement (because it contains <code>i</code> and <code>l</code>).</li><li>\n",
       "<code>abbceffg</code> meets the third requirement (because it repeats <code>bb</code> and <code>ff</code>) but fails the first requirement.</li><li>\n",
       "<code>abbcegjk</code> fails the third requirement, because it only has one double letter (<code>bb</code>).</li><li>The next password after <code>abcdefgh</code> is <code>abcdffaa</code>.</li><li>The next password after <code>ghijklmn</code> is <code>ghjaabcc</code>, because you eventually skip all the passwords that start with <code>ghi...</code>, since <code>i</code> is not allowed.</li>\n",
       "</ul><p>Given Santa's current password (your puzzle input), what should his <em>next password</em> be?</p>\n",
       "</article>"
      ]
     },
     "metadata": {},
     "output_type": "display_data"
    },
    {
     "data": {
      "text/plain": [
       "(cached)"
      ]
     },
     "metadata": {},
     "output_type": "display_data"
    },
    {
     "data": {
      "text/plain": [
       "cqjxjnds..."
      ]
     },
     "metadata": {},
     "output_type": "display_data"
    }
   ],
   "source": [
    "%%noresult\n",
    "source setup.tcl\n",
    "set year 2015\n",
    "set day 11\n",
    "aoc::get-puzzle $year $day 1\n",
    "# aoc::get-puzzle $year $day 2\n",
    "set input [string trim [aoc::get-input $year $day]]\n",
    "jupyter::display text/plain [string range $input 0 100]..."
   ]
  },
  {
   "cell_type": "code",
   "execution_count": 43,
   "metadata": {},
   "outputs": [
    {
     "name": "stdout",
     "output_type": "stream",
     "text": [
      "(abc|bcd|cde|def|efg|fgh|ghj|hjk|jkm|kmn|mnp|npq|pqr|qrs|rst|stu|tuv|uvw|vwx|wxy|xyz)\n"
     ]
    }
   ],
   "source": [
    "set chars [split \"abcdefghjkmnpqrstuvwxyz\" \"\"]\n",
    "\n",
    "set radix [llength $chars]\n",
    "\n",
    "set chars [split \"abcdefghjkmnpqrstuvwxyz\" \"\"]\n",
    "set straights {}\n",
    "for {set i 0} {$i < $radix-2} {incr i} {\n",
    "    lappend straights [lindex $chars $i][lindex $chars $i+1][lindex $chars $i+2]   \n",
    "}\n",
    "\n",
    "set re ([join $straights |])\n",
    "puts $re\n",
    "set val 0\n",
    "foreach c $chars {\n",
    "    set mapping($c) $val\n",
    "    set mapping($val) $c\n",
    "    incr val\n",
    "}\n",
    "# parray mapping\n",
    "proc pw->num {pw radix} {\n",
    "    set mult 1\n",
    "    set result 0\n",
    "    foreach n [lreverse [split $pw \"\"]] {\n",
    "\n",
    "        incr result [expr {$::mapping($n) * $mult}]\n",
    "        set mult [expr {$mult * $radix}]\n",
    "\n",
    "    }\n",
    "    return $result\n",
    "}\n",
    "\n",
    "proc num->pw {num radix} {\n",
    "    set mult $radix\n",
    "    set result \"\"\n",
    "    while {$num > 0} {\n",
    "        set rest [expr {$num % $radix}]\n",
    "        lappend result $::mapping($rest)\n",
    "        set num  [expr {$num / $radix}]\n",
    "    }\n",
    "    return [join [lreverse $result] \"\"]\n",
    "}"
   ]
  },
  {
   "cell_type": "code",
   "execution_count": 44,
   "metadata": {},
   "outputs": [
    {
     "name": "stdout",
     "output_type": "stream",
     "text": [
      "cqjxxyzz\n"
     ]
    }
   ],
   "source": [
    "set pw $input\n",
    "\n",
    "set num [pw->num cqjxjnds $radix]\n",
    "while {[string length $pw] < 9} {\n",
    "    incr num\n",
    "    set pw [num->pw $num $radix] \n",
    "    if {[regexp  {(.)\\1.*(.)\\2} $pw] && [regexp $re $pw]} {\n",
    "        puts $pw\n",
    "        break\n",
    "    }\n",
    "}"
   ]
  },
  {
   "cell_type": "code",
   "execution_count": 45,
   "metadata": {},
   "outputs": [
    {
     "name": "stdout",
     "output_type": "stream",
     "text": [
      "cqkaabcc\n"
     ]
    }
   ],
   "source": [
    "while {[string length $pw] < 9} {\n",
    "    incr num\n",
    "    set pw [num->pw $num $radix] \n",
    "    if {[regexp  {(.)\\1.*(.)\\2} $pw] && [regexp $re $pw]} {\n",
    "        puts $pw\n",
    "        break\n",
    "    }\n",
    "}"
   ]
  },
  {
   "cell_type": "code",
   "execution_count": null,
   "metadata": {},
   "outputs": [
    {
     "name": "stdout",
     "output_type": "stream",
     "text": [
      "0\n",
      "1\n",
      "2\n",
      "3\n",
      "4\n",
      "5\n",
      "6\n",
      "7\n",
      "8\n",
      "9\n",
      "10\n",
      "11\n",
      "12\n",
      "13\n",
      "14\n",
      "15\n"
     ]
    }
   ],
   "source": [
    "proc parts input {\n",
    "    set result2 0\n",
    "    set result1 0\n",
    "    set result $input\n",
    "    for {set i 0} {$i<40} {incr i} {\n",
    "        puts $i\n",
    "        set result [say $result]\n",
    "        if {$i == 39} {\n",
    "            set result1 [string length $result]\n",
    "        }\n",
    "        if {$i == 49} {\n",
    "            set result1 [string length $result]\n",
    "        }\n",
    "    }\n",
    "    return [list $result1 $result2]\n",
    "}\n",
    "aoc::results"
   ]
  },
  {
   "cell_type": "code",
   "execution_count": 34,
   "metadata": {},
   "outputs": [],
   "source": [
    "array unset pw"
   ]
  },
  {
   "cell_type": "code",
   "execution_count": 23,
   "metadata": {},
   "outputs": [
    {
     "data": {
      "text/plain": [
       "113233111311131211"
      ]
     },
     "execution_count": 23,
     "metadata": {},
     "output_type": "execute_result"
    }
   ],
   "source": [
    "proc encode {a b} {\n",
    "    return [string length $a]$b\n",
    "} \n",
    "regsub -all -command  {(.)\\1*} 1222333131321 {}"
   ]
  },
  {
   "cell_type": "code",
   "execution_count": null,
   "metadata": {},
   "outputs": [],
   "source": []
  }
 ],
 "metadata": {
  "kernelspec": {
   "display_name": "Tcl 8.7",
   "language": "tcl",
   "name": "tcl87"
  },
  "language_info": {
   "file_extension": ".tcl",
   "mimetype": "txt/x-tcl",
   "name": "tcl",
   "version": "8.7a3"
  }
 },
 "nbformat": 4,
 "nbformat_minor": 4
}
