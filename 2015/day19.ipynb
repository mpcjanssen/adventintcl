{
 "cells": [
  {
   "cell_type": "code",
   "execution_count": 30,
   "metadata": {},
   "outputs": [
    {
     "data": {
      "text/plain": [
       "(cached)"
      ]
     },
     "metadata": {},
     "output_type": "display_data"
    },
    {
     "data": {
      "text/html": [
       "<article class=\"day-desc\">\n",
       "<h2>--- Day 19: Medicine for Rudolph ---</h2><p>Rudolph the Red-Nosed Reindeer is sick!  His nose isn't shining very brightly, and he needs medicine.</p><p>Red-Nosed Reindeer biology isn't similar to regular reindeer biology; Rudolph is going to need custom-made medicine.  Unfortunately, Red-Nosed Reindeer chemistry isn't similar to regular reindeer chemistry, either.</p><p>The North Pole is equipped with a Red-Nosed Reindeer nuclear fusion/fission plant, capable of constructing any Red-Nosed Reindeer molecule you need.  It works by starting with some input molecule and then doing a series of <em>replacements</em>, one per step, until it has the right molecule.</p><p>However, the machine has to be calibrated before it can be used.  Calibration involves determining the number of molecules that can be generated in one step from a given starting point.</p><p>For example, imagine a simpler machine that supports only the following replacements:</p><pre><code>H =&gt; HO\n",
       "H =&gt; OH\n",
       "O =&gt; HH\n",
       "</code></pre><p>Given the replacements above and starting with <code>HOH</code>, the following molecules could be generated:</p><ul>\n",
       "<li>\n",
       "<code>HOOH</code> (via <code>H =&gt; HO</code> on the first <code>H</code>).</li><li>\n",
       "<code>HOHO</code> (via <code>H =&gt; HO</code> on the second <code>H</code>).</li><li>\n",
       "<code>OHOH</code> (via <code>H =&gt; OH</code> on the first <code>H</code>).</li><li>\n",
       "<code>HOOH</code> (via <code>H =&gt; OH</code> on the second <code>H</code>).</li><li>\n",
       "<code>HHHH</code> (via <code>O =&gt; HH</code>).</li>\n",
       "</ul><p>So, in the example above, there are <code>4</code><em>distinct</em> molecules (not five, because <code>HOOH</code> appears twice) after one replacement from <code>HOH</code>. Santa's favorite molecule, <code>HOHOHO</code>, can become <code>7</code><em>distinct</em> molecules (over nine replacements: six from <code>H</code>, and three from <code>O</code>).</p><p>The machine replaces without regard for the surrounding characters.  For example, given the string <code>H2O</code>, the transition <code>H =&gt; OO</code> would result in <code>OO2O</code>.</p><p>Your puzzle input describes all of the possible replacements and, at the bottom, the medicine molecule for which you need to calibrate the machine.  <em>How many distinct molecules can be created</em> after all the different ways you can do one replacement on the medicine molecule?</p>\n",
       "</article>"
      ]
     },
     "metadata": {},
     "output_type": "display_data"
    },
    {
     "data": {
      "text/plain": [
       "(cached)"
      ]
     },
     "metadata": {},
     "output_type": "display_data"
    },
    {
     "data": {
      "text/html": [
       "<article class=\"day-desc\">\n",
       "<h2 id=\"part2\">--- Part Two ---</h2><p>Now that the machine is calibrated, you're ready to begin molecule fabrication.</p><p>Molecule fabrication always begins with just a single <span title=\"It's a Red-Nosed Reindeer electron.\">electron</span>, <code>e</code>, and applying replacements one at a time, just like the ones during calibration.</p><p>For example, suppose you have the following replacements:</p><pre><code>e =&gt; H\n",
       "e =&gt; O\n",
       "H =&gt; HO\n",
       "H =&gt; OH\n",
       "O =&gt; HH\n",
       "</code></pre><p>If you'd like to make <code>HOH</code>, you start with <code>e</code>, and then make the following replacements:</p><ul>\n",
       "<li>\n",
       "<code>e =&gt; O</code> to get <code>O</code>\n",
       "</li><li>\n",
       "<code>O =&gt; HH</code> to get <code>HH</code>\n",
       "</li><li>\n",
       "<code>H =&gt; OH</code> (on the second <code>H</code>) to get <code>HOH</code>\n",
       "</li>\n",
       "</ul><p>So, you could make <code>HOH</code> after <em>\n",
       "<code>3</code> steps</em>.  Santa's favorite molecule, <code>HOHOHO</code>, can be made in <em>\n",
       "<code>6</code> steps</em>.</p><p>How long will it take to make the medicine?  Given the available <em>replacements</em> and the <em>medicine molecule</em> in your puzzle input, what is the <em>fewest number of steps</em> to go from <code>e</code> to the medicine molecule?</p>\n",
       "</article>"
      ]
     },
     "metadata": {},
     "output_type": "display_data"
    },
    {
     "data": {
      "text/plain": [
       "(cached)"
      ]
     },
     "metadata": {},
     "output_type": "display_data"
    },
    {
     "data": {
      "text/plain": [
       "Al => ThF\n",
       "Al => ThRnFAr\n",
       "B => BCa\n",
       "B => TiB\n",
       "B => TiRnFAr\n",
       "Ca => CaCa\n",
       "Ca => PB\n",
       "Ca => PRnFAr\n",
       "Ca => SiRnFYFAr\n",
       "Ca => SiRnMgAr\n",
       "Ca => SiTh\n",
       "F => CaF\n",
       "F => PMg\n",
       "F => SiAl\n",
       "H => CRnAlAr\n",
       "H => CRnFYFYFAr\n",
       "H => CRnFYMgAr..."
      ]
     },
     "metadata": {},
     "output_type": "display_data"
    }
   ],
   "source": [
    "source setup.tcl\n",
    "set year 2015\n",
    "set day 19\n",
    "aoc::get-puzzle $year $day 1\n",
    "aoc::get-puzzle $year $day 2\n",
    "set input [string trim [aoc::get-input $year $day]]\n",
    "jupyter::display text/plain [string range $input 0 200]...;"
   ]
  },
  {
   "cell_type": "code",
   "execution_count": 31,
   "metadata": {},
   "outputs": [],
   "source": [
    "proc transform {medicine trans} {\n",
    "    set molecules {}\n",
    "\n",
    "    foreach {from to} $trans {\n",
    "\n",
    "        foreach idxs [regexp -inline -indices -all  $from $medicine] {\n",
    "          lassign $idxs start stop\n",
    "          lappend molecules [regsub -start $start $from $medicine $to]\n",
    "        }\n",
    "    } \n",
    "    lsort -unique $molecules\n",
    "}\n",
    "\n"
   ]
  },
  {
   "cell_type": "code",
   "execution_count": 33,
   "metadata": {},
   "outputs": [
    {
     "name": "stdout",
     "output_type": "stream",
     "text": [
      "Day1\t509\n",
      "Day2\t195\n",
      "11777 microseconds per iteration\n"
     ]
    }
   ],
   "source": [
    "proc parts input {\n",
    "set result2 {}\n",
    "set input [split [string trim $input] \\n]\n",
    "set medicine [lindex $input end]\n",
    "set trans [string map {=> {}} [join [lrange $input 0 end-1] \" \"]]\n",
    "\n",
    "    set result1 [llength [transform $medicine $trans]]\n",
    "    \n",
    "    # Magic\n",
    "    set total [llength [regexp -all -inline {[A-Z][a-z]*} $medicine]]\n",
    "    set parens [llength [regexp -all -inline {Ar|Rn} $medicine]]\n",
    "    set commas [llength [regexp -all -inline {Y} $medicine]];\n",
    "    set result2 [expr {$total - $parens - 2*$commas -1}]\n",
    "    return [list $result1 $result2]\n",
    "}\n",
    "aoc::results"
   ]
  },
  {
   "cell_type": "markdown",
   "metadata": {},
   "source": [
    "# Here be magic\n",
    "\n",
    "https://www.reddit.com/r/adventofcode/comments/3xflz8/day_19_solutions/cy4etju?utm_source=share&utm_medium=web2x&context=3"
   ]
  },
  {
   "cell_type": "code",
   "execution_count": 39,
   "metadata": {},
   "outputs": [
    {
     "name": "stdout",
     "output_type": "stream",
     "text": [
      "Al => ThF\n",
      "Al => Th(F)\n",
      "B => BCa\n",
      "B => TiB\n",
      "B => Ti(F)\n",
      "Ca => CaCa\n",
      "Ca => PB\n",
      "Ca => P(F)\n",
      "Ca => Si(F,F)\n",
      "Ca => Si(Mg)\n",
      "Ca => SiTh\n",
      "F => CaF\n",
      "F => PMg\n",
      "F => SiAl\n",
      "H => C(Al)\n",
      "H => C(F,F,F)\n",
      "H => C(F,Mg)\n",
      "H => C(Mg,F)\n",
      "H => HCa\n",
      "H => N(F,F)\n",
      "H => N(Mg)\n",
      "H => NTh\n",
      "H => OB\n",
      "H => O(F)\n",
      "Mg => BF\n",
      "Mg => TiMg\n",
      "N => C(F)\n",
      "N => HSi\n",
      "O => C(F,F)\n",
      "O => C(Mg)\n",
      "O => HP\n",
      "O => N(F)\n",
      "O => OTi\n",
      "P => CaP\n",
      "P => PTi\n",
      "P => Si(F)\n",
      "Si => CaSi\n",
      "Th => ThCa\n",
      "Ti => BP\n",
      "Ti => TiTi\n",
      "e => HF\n",
      "e => NAl\n",
      "e => OMg\n"
     ]
    },
    {
     "data": {
      "text/plain": [
       "C(CaSi(BSi(F)TiBPTiTiBF)PBCaSiThSi(TiBPBPMg)CaSi(TiMg)CaSiThCaSi(F)(Si(F)TiTiBF)CaCaSi(SiThCaCaSi(Mg)F,Si(F,CaF)SiThCaSiThPBPTiMg)CaP(SiAl)PBCaCaSi(F,SiThCa(F))CaCaSi(PBSi(F)Mg,CaCaCaCaSiThCaCaSiAl)CaCaSi(PBSiAl)BCaCaCaCaSiThCaPBSiThPBPBCaSi(F,F)SiThCaSi(F)BCaCaSi(F,F)SiThCaPBSiThCaSi(PMg)(F)PTiBCaP(F)CaCaCaCaSi(CaCaSi(F,F)F)BCaSiThF)ThSiThSi(Ti(PMg)F)CaSiThCaPBCaSi(BF)CaCaP(CaCaPMg)Si(F,F)CaSiTh(PBPMg)"
      ]
     },
     "execution_count": 39,
     "metadata": {},
     "output_type": "execute_result"
    }
   ],
   "source": [
    "puts [string map [list Rn ( Y , Ar )] $trans]\n",
    "string map [list Rn (  Ar ) Y ,] $medicine"
   ]
  },
  {
   "cell_type": "code",
   "execution_count": null,
   "metadata": {},
   "outputs": [],
   "source": []
  }
 ],
 "metadata": {
  "kernelspec": {
   "display_name": "Tcl 8.7",
   "language": "tcl",
   "name": "tcl87"
  },
  "language_info": {
   "file_extension": ".tcl",
   "mimetype": "txt/x-tcl",
   "name": "tcl",
   "version": "8.7a3"
  }
 },
 "nbformat": 4,
 "nbformat_minor": 4
}
