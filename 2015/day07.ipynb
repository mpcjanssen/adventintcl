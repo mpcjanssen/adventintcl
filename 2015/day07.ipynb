{
 "cells": [
  {
   "cell_type": "code",
   "execution_count": 2,
   "metadata": {},
   "outputs": [
    {
     "data": {
      "text/plain": [
       "(cached)"
      ]
     },
     "metadata": {},
     "output_type": "display_data"
    },
    {
     "data": {
      "text/html": [
       "<article class=\"day-desc\">\n",
       "<h2>--- Day 7: Some Assembly Required ---</h2><p>This year, Santa brought little Bobby Tables a set of wires and <a href=\"https://en.wikipedia.org/wiki/Bitwise_operation\">bitwise logic gates</a>!  Unfortunately, little Bobby is a little under the recommended age range, and he needs help <span title=\"You had one of these as a kid, right?\">assembling the circuit</span>.</p><p>Each wire has an identifier (some lowercase letters) and can carry a <a href=\"https://en.wikipedia.org/wiki/16-bit\">16-bit</a> signal (a number from <code>0</code> to <code>65535</code>).  A signal is provided to each wire by a gate, another wire, or some specific value. Each wire can only get a signal from one source, but can provide its signal to multiple destinations.  A gate provides no signal until all of its inputs have a signal.</p><p>The included instructions booklet describes how to connect the parts together: <code>x AND y -&gt; z</code> means to connect wires <code>x</code> and <code>y</code> to an AND gate, and then connect its output to wire <code>z</code>.</p><p>For example:</p><ul>\n",
       "<li>\n",
       "<code>123 -&gt; x</code> means that the signal <code>123</code> is provided to wire <code>x</code>.</li><li>\n",
       "<code>x AND y -&gt; z</code> means that the <a href=\"https://en.wikipedia.org/wiki/Bitwise_operation#AND\">bitwise AND</a> of wire <code>x</code> and wire <code>y</code> is provided to wire <code>z</code>.</li><li>\n",
       "<code>p LSHIFT 2 -&gt; q</code> means that the value from wire <code>p</code> is <a href=\"https://en.wikipedia.org/wiki/Logical_shift\">left-shifted</a> by <code>2</code> and then provided to wire <code>q</code>.</li><li>\n",
       "<code>NOT e -&gt; f</code> means that the <a href=\"https://en.wikipedia.org/wiki/Bitwise_operation#NOT\">bitwise complement</a> of the value from wire <code>e</code> is provided to wire <code>f</code>.</li>\n",
       "</ul><p>Other possible gates include <code>OR</code> (<a href=\"https://en.wikipedia.org/wiki/Bitwise_operation#OR\">bitwise OR</a>) and <code>RSHIFT</code> (<a href=\"https://en.wikipedia.org/wiki/Logical_shift\">right-shift</a>).  If, for some reason, you'd like to <em>emulate</em> the circuit instead, almost all programming languages (for example, <a href=\"https://en.wikipedia.org/wiki/Bitwise_operations_in_C\">C</a>, <a href=\"https://developer.mozilla.org/en-US/docs/Web/JavaScript/Reference/Operators/Bitwise_Operators\">JavaScript</a>, or <a href=\"https://wiki.python.org/moin/BitwiseOperators\">Python</a>) provide operators for these gates.</p><p>For example, here is a simple circuit:</p><pre><code>123 -&gt; x\n",
       "456 -&gt; y\n",
       "x AND y -&gt; d\n",
       "x OR y -&gt; e\n",
       "x LSHIFT 2 -&gt; f\n",
       "y RSHIFT 2 -&gt; g\n",
       "NOT x -&gt; h\n",
       "NOT y -&gt; i\n",
       "</code></pre><p>After it is run, these are the signals on the wires:</p><pre><code>d: 72\n",
       "e: 507\n",
       "f: 492\n",
       "g: 114\n",
       "h: 65412\n",
       "i: 65079\n",
       "x: 123\n",
       "y: 456\n",
       "</code></pre><p>In little Bobby's kit's instructions booklet (provided as your puzzle input), what signal is ultimately provided to <em>wire <code>a</code>\n",
       "</em>?</p>\n",
       "</article>"
      ]
     },
     "metadata": {},
     "output_type": "display_data"
    },
    {
     "data": {
      "text/plain": [
       "(cached)"
      ]
     },
     "metadata": {},
     "output_type": "display_data"
    },
    {
     "data": {
      "text/plain": [
       "lf AND lq -> ls\n",
       "iu RSHIFT 1 -> jn\n",
       "bo OR bu -> bv\n",
       "gj RSHIFT 1 -> hc\n",
       "et RSHIFT 2 -> eu\n",
       "bv AND bx -> by\n",
       "..."
      ]
     },
     "metadata": {},
     "output_type": "display_data"
    }
   ],
   "source": [
    "%%noresult\n",
    "source setup.tcl\n",
    "set year 2015\n",
    "set day 7\n",
    "aoc::get-puzzle $year $day 1\n",
    "# aoc::get-puzzle $year $day 2\n",
    "set input [string trim [aoc::get-input $year $day]]\n",
    "jupyter::display text/plain [string range $input 0 100]..."
   ]
  },
  {
   "cell_type": "code",
   "execution_count": 3,
   "metadata": {},
   "outputs": [],
   "source": [
    "proc parse {line} {\n",
    "    regexp  {(.*) -> (.*)} $line -> cmd target\n",
    "    set cmd [split $cmd]\n",
    "    return [list $target $cmd]\n",
    "}\n",
    "\n",
    "proc longer {x y} {\n",
    "    set ldiv [expr {[llength $x] - [llength $y]}]\n",
    "\n",
    "        return $ldiv\n",
    "  \n",
    "}\n",
    "\n",
    "proc simulate {input start} {\n",
    "set input [lsort -command longer  [split $input \\n]  ]\n",
    "set queue $input\n",
    "array set wires $start\n",
    "while {[llength $queue] > 0} {\n",
    "    set line [lindex $queue 0]\n",
    "    lassign [parse $line] target cmd\n",
    "    if {[info exists wires($target)]} {\n",
    "        puts \"not overwriting $target: $cmd\"\n",
    "        set queue [lrange $queue 1 end]\n",
    "        continue\n",
    "    }\n",
    "    if {[catch {\n",
    "\n",
    "\n",
    "\n",
    "    switch -exact [llength $cmd] {\n",
    "        1 {\n",
    "\n",
    "            if {[string is integer $cmd]} {\n",
    "                set wires($target) $cmd\n",
    "            } else {\n",
    "                set wires($target) $wires($cmd)\n",
    "            }\n",
    "                       \n",
    "            }\n",
    "        2 {\n",
    " \n",
    "            lassign $cmd opcode src\n",
    "            if {$opcode ne \"NOT\"} {\n",
    "                error \"unsupported opcode: $opcode\"\n",
    "            }\n",
    "            if {[string is integer $src]} {\n",
    "                set srcVal $src\n",
    "            } else {\n",
    "                set srcVal $wires($src)\n",
    "            }\n",
    "            set wires($target) [expr {~($srcVal)  & 0xFFFF}]\n",
    "\n",
    "        \n",
    "        }\n",
    "        3 {\n",
    "     \n",
    "            lassign $cmd src1 opcode src2\n",
    "            if {[string is integer $src1]} {\n",
    "                set src1Val $src1\n",
    "            } else {\n",
    "                set src1Val $wires($src1)\n",
    "            }\n",
    "            if {[string is integer $src2]} {\n",
    "                set src2Val $src2\n",
    "            } else {\n",
    "                set src2Val $wires($src2)\n",
    "            }\n",
    "            switch -exact $opcode {\n",
    "                AND {\n",
    "                    set wires($target) [expr {$src1Val & $src2Val & 0xFFFF}]\n",
    "                }\n",
    "                OR {\n",
    "                    set wires($target) [expr {$src1Val | $src2Val  & 0xFFFF}]\n",
    "                }\n",
    "                LSHIFT {\n",
    "                    set wires($target) [expr {$src1Val << $src2Val  & 0xFFFF}]\n",
    "                }\n",
    "                RSHIFT {\n",
    "                    set wires($target) [expr {$src1Val >> $src2Val  & 0xFFFF}]\n",
    "                }\n",
    "                default {\n",
    "                    error \"unsupported opcode: $opcode\"\n",
    "                }\n",
    "            }\n",
    "        }\n",
    "        default {\n",
    "     \n",
    "            error \"unsupported number of arguments in: $cmd\"\n",
    "        \n",
    "      } \n",
    "    }\n",
    "      set queue [lrange $queue 1 end]\n",
    "    } res]} {\n",
    "    # puts $res\n",
    "        set queue [lassign $queue start]\n",
    "        lappend queue $start\n",
    "        #puts [llength $queue]\n",
    "    }\n",
    "        \n",
    "   }\n",
    "   return [array get wires]\n",
    "\n",
    "}\n"
   ]
  },
  {
   "cell_type": "code",
   "execution_count": 4,
   "metadata": {},
   "outputs": [
    {
     "data": {
      "text/plain": [
       "d 72 h 65412 x 123 e 507 i 65079 y 456 f 492 g 114"
      ]
     },
     "execution_count": 4,
     "metadata": {},
     "output_type": "execute_result"
    }
   ],
   "source": [
    "simulate {123 -> x\n",
    "456 -> y\n",
    "x AND y -> d\n",
    "x OR y -> e\n",
    "x LSHIFT 2 -> f\n",
    "y RSHIFT 2 -> g\n",
    "NOT x -> h\n",
    "NOT y -> i} {}"
   ]
  },
  {
   "cell_type": "code",
   "execution_count": 5,
   "metadata": {},
   "outputs": [
    {
     "name": "stdout",
     "output_type": "stream",
     "text": [
      "not overwriting b: 19138\n",
      "Day1\t16076\n",
      "Day2\t2797\n",
      "608609 microseconds per iteration\n"
     ]
    }
   ],
   "source": [
    "\n",
    "proc parts input {\n",
    "    set result2 0\n",
    "    set result1 [dict get [simulate $input {}] a]\n",
    "    set result2 [dict get [simulate $input [list b $result1]] a]\n",
    "    return [list $result1 $result2]\n",
    "}\n",
    "aoc::results"
   ]
  },
  {
   "cell_type": "code",
   "execution_count": null,
   "metadata": {},
   "outputs": [],
   "source": []
  }
 ],
 "metadata": {
  "kernelspec": {
   "display_name": "Tcl",
   "language": "tcl",
   "name": "tcl"
  },
  "language_info": {
   "file_extension": ".tcl",
   "mimetype": "txt/x-tcl",
   "name": "tcl",
   "version": "8.6.11"
  }
 },
 "nbformat": 4,
 "nbformat_minor": 4
}
