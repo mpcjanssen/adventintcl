{
 "cells": [
  {
   "cell_type": "code",
   "execution_count": 6,
   "metadata": {},
   "outputs": [
    {
     "data": {
      "text/html": [
       "<article class=\"day-desc\">\n",
       "<h2>--- Day 22: Wizard Simulator 20XX ---</h2><p>Little Henry Case decides that defeating bosses with <a href=\"21\">swords and stuff</a> is boring.  Now he's playing the game with a <span title=\"Being a !@#$% Sorcerer.\">wizard</span>.  Of course, he gets stuck on another boss and needs your help again.</p><p>In this version, combat still proceeds with the player and the boss taking alternating turns.  The player still goes first.  Now, however, you don't get any equipment; instead, you must choose one of your spells to cast.  The first character at or below <code>0</code> hit points loses.</p><p>Since you're a wizard, you don't get to wear armor, and you can't attack normally.  However, since you do <em>magic damage</em>, your opponent's armor is ignored, and so the boss effectively has zero armor as well.  As before, if armor (from a spell, in this case) would reduce damage below <code>1</code>, it becomes <code>1</code> instead - that is, the boss' attacks always deal at least <code>1</code> damage.</p><p>On each of your turns, you must select one of your spells to cast.  If you cannot afford to cast any spell, you lose.  Spells cost <em>mana</em>; you start with <em>500</em> mana, but have no maximum limit.  You must have enough mana to cast a spell, and its cost is immediately deducted when you cast it.  Your spells are Magic Missile, Drain, Shield, Poison, and Recharge.</p><ul>\n",
       "<li>\n",
       "<em>Magic Missile</em> costs <code>53</code> mana.  It instantly does <code>4</code> damage.</li><li>\n",
       "<em>Drain</em> costs <code>73</code> mana.  It instantly does <code>2</code> damage and heals you for <code>2</code> hit points.</li><li>\n",
       "<em>Shield</em> costs <code>113</code> mana.  It starts an <em>effect</em> that lasts for <code>6</code> turns.  While it is active, your armor is increased by <code>7</code>.</li><li>\n",
       "<em>Poison</em> costs <code>173</code> mana.  It starts an <em>effect</em> that lasts for <code>6</code> turns.  At the start of each turn while it is active, it deals the boss <code>3</code> damage.</li><li>\n",
       "<em>Recharge</em> costs <code>229</code> mana.  It starts an <em>effect</em> that lasts for <code>5</code> turns.  At the start of each turn while it is active, it gives you <code>101</code> new mana.</li>\n",
       "</ul><p>\n",
       "<em>Effects</em> all work the same way.  Effects apply at the start of both the player's turns and the boss' turns.  Effects are created with a timer (the number of turns they last); at the start of each turn, after they apply any effect they have, their timer is decreased by one.  If this decreases the timer to zero, the effect ends.  You cannot cast a spell that would start an effect which is already active.  However, effects can be started on the same turn they end.</p><p>For example, suppose the player has <code>10</code> hit points and <code>250</code> mana, and that the boss has <code>13</code> hit points and <code>8</code> damage:</p><pre><code>-- Player turn --\n",
       "- Player has 10 hit points, 0 armor, 250 mana\n",
       "- Boss has 13 hit points\n",
       "Player casts Poison.\n",
       "\n",
       "-- Boss turn --\n",
       "- Player has 10 hit points, 0 armor, 77 mana\n",
       "- Boss has 13 hit points\n",
       "Poison deals 3 damage; its timer is now 5.\n",
       "Boss attacks for 8 damage.\n",
       "\n",
       "-- Player turn --\n",
       "- Player has 2 hit points, 0 armor, 77 mana\n",
       "- Boss has 10 hit points\n",
       "Poison deals 3 damage; its timer is now 4.\n",
       "Player casts Magic Missile, dealing 4 damage.\n",
       "\n",
       "-- Boss turn --\n",
       "- Player has 2 hit points, 0 armor, 24 mana\n",
       "- Boss has 3 hit points\n",
       "Poison deals 3 damage. This kills the boss, and the player wins.\n",
       "</code></pre><p>Now, suppose the same initial conditions, except that the boss has <code>14</code> hit points instead:</p><pre><code>-- Player turn --\n",
       "- Player has 10 hit points, 0 armor, 250 mana\n",
       "- Boss has 14 hit points\n",
       "Player casts Recharge.\n",
       "\n",
       "-- Boss turn --\n",
       "- Player has 10 hit points, 0 armor, 21 mana\n",
       "- Boss has 14 hit points\n",
       "Recharge provides 101 mana; its timer is now 4.\n",
       "Boss attacks for 8 damage!\n",
       "\n",
       "-- Player turn --\n",
       "- Player has 2 hit points, 0 armor, 122 mana\n",
       "- Boss has 14 hit points\n",
       "Recharge provides 101 mana; its timer is now 3.\n",
       "Player casts Shield, increasing armor by 7.\n",
       "\n",
       "-- Boss turn --\n",
       "- Player has 2 hit points, 7 armor, 110 mana\n",
       "- Boss has 14 hit points\n",
       "Shield's timer is now 5.\n",
       "Recharge provides 101 mana; its timer is now 2.\n",
       "Boss attacks for 8 - 7 = 1 damage!\n",
       "\n",
       "-- Player turn --\n",
       "- Player has 1 hit point, 7 armor, 211 mana\n",
       "- Boss has 14 hit points\n",
       "Shield's timer is now 4.\n",
       "Recharge provides 101 mana; its timer is now 1.\n",
       "Player casts Drain, dealing 2 damage, and healing 2 hit points.\n",
       "\n",
       "-- Boss turn --\n",
       "- Player has 3 hit points, 7 armor, 239 mana\n",
       "- Boss has 12 hit points\n",
       "Shield's timer is now 3.\n",
       "Recharge provides 101 mana; its timer is now 0.\n",
       "Recharge wears off.\n",
       "Boss attacks for 8 - 7 = 1 damage!\n",
       "\n",
       "-- Player turn --\n",
       "- Player has 2 hit points, 7 armor, 340 mana\n",
       "- Boss has 12 hit points\n",
       "Shield's timer is now 2.\n",
       "Player casts Poison.\n",
       "\n",
       "-- Boss turn --\n",
       "- Player has 2 hit points, 7 armor, 167 mana\n",
       "- Boss has 12 hit points\n",
       "Shield's timer is now 1.\n",
       "Poison deals 3 damage; its timer is now 5.\n",
       "Boss attacks for 8 - 7 = 1 damage!\n",
       "\n",
       "-- Player turn --\n",
       "- Player has 1 hit point, 7 armor, 167 mana\n",
       "- Boss has 9 hit points\n",
       "Shield's timer is now 0.\n",
       "Shield wears off, decreasing armor by 7.\n",
       "Poison deals 3 damage; its timer is now 4.\n",
       "Player casts Magic Missile, dealing 4 damage.\n",
       "\n",
       "-- Boss turn --\n",
       "- Player has 1 hit point, 0 armor, 114 mana\n",
       "- Boss has 2 hit points\n",
       "Poison deals 3 damage. This kills the boss, and the player wins.\n",
       "</code></pre><p>You start with <em>50 hit points</em> and <em>500 mana points</em>. The boss's actual stats are in your puzzle input. What is the <em>least amount of mana</em> you can spend and still win the fight?  (Do not include mana recharge effects as \"spending\" negative mana.)</p>\n",
       "</article>"
      ]
     },
     "metadata": {},
     "output_type": "display_data"
    },
    {
     "name": "stderr",
     "output_type": "stream",
     "text": [
      "Puzzle inputs differ by user.  Please log in to get your puzzle input.\n",
      "\n",
      "    while executing\n",
      "\"aoc::get-input $year $day\"\n"
     ]
    }
   ],
   "source": [
    "source setup.tcl\n",
    "set year 2015\n",
    "set day 22\n",
    "aoc::get-puzzle $year $day 1\n",
    "# aoc::get-puzzle $year $day 2\n",
    "set input [string trim [aoc::get-input $year $day]]\n",
    "jupyter::display text/plain [string range $input 0 200]...;"
   ]
  },
  {
   "cell_type": "code",
   "execution_count": 4,
   "metadata": {},
   "outputs": [
    {
     "name": "stderr",
     "output_type": "stream",
     "text": [
      "can't read \"::result1\": no such variable\n",
      "    while executing\n",
      "\"list $::result1 $::result2\"\n",
      "    (procedure \"parts\" line 2)\n",
      "    invoked from within\n",
      "\"parts $::input\"\n",
      "    invoked from within\n",
      "\"time {lassign [parts $::input] result1 result2}\"\n",
      "    (procedure \"aoc::results\" line 5)\n",
      "    invoked from within\n",
      "\"aoc::results\"\n"
     ]
    }
   ],
   "source": [
    "proc parts input {\n",
    "    return [list $::result1 $::result2]\n",
    "}\n",
    "aoc::results"
   ]
  },
  {
   "cell_type": "code",
   "execution_count": null,
   "metadata": {},
   "outputs": [],
   "source": []
  }
 ],
 "metadata": {
  "kernelspec": {
   "display_name": "Tcl 8.7",
   "language": "tcl",
   "name": "tcl87"
  },
  "language_info": {
   "file_extension": ".tcl",
   "mimetype": "txt/x-tcl",
   "name": "tcl",
   "version": "8.7a3"
  }
 },
 "nbformat": 4,
 "nbformat_minor": 4
}
