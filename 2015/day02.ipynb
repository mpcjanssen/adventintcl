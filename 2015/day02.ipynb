{
 "cells": [
  {
   "cell_type": "code",
   "execution_count": 1,
   "metadata": {},
   "outputs": [],
   "source": [
    "source setup.tcl"
   ]
  },
  {
   "cell_type": "code",
   "execution_count": 2,
   "metadata": {},
   "outputs": [
    {
     "data": {
      "text/plain": [
       "(cached)"
      ]
     },
     "metadata": {},
     "output_type": "display_data"
    },
    {
     "data": {
      "text/html": [
       "<article class=\"day-desc\">\n",
       "<h2>--- Day 2: I Was Told There Would Be No Math ---</h2><p>The elves are running low on wrapping paper, and so they need to submit an order for more.  They have a list of the dimensions (length <code>l</code>, width <code>w</code>, and height <code>h</code>) of each present, and only want to order exactly as much as they need.</p><p>Fortunately, every present is a box (a perfect <a href=\"https://en.wikipedia.org/wiki/Cuboid#Rectangular_cuboid\">right rectangular prism</a>), which makes calculating the required wrapping paper for each gift a little easier: find the surface area of the box, which is <code>2*l*w + 2*w*h + 2*h*l</code>.  The elves also need a little extra paper for each present: the area of the smallest side.</p><p>For example:</p><ul>\n",
       "<li>A present with dimensions <code>2x3x4</code> requires <code>2*6 + 2*12 + 2*8 = 52</code> square feet of wrapping paper plus <code>6</code> square feet of slack, for a total of <code>58</code> square feet.</li><li>A present with dimensions <code>1x1x10</code> requires <code>2*1 + 2*10 + 2*10 = 42</code> square feet of wrapping paper plus <code>1</code> square foot of slack, for a total of <code>43</code> square feet.</li>\n",
       "</ul><p>All numbers in the elves' list are in <span title=\"Yes, I realize most of these presents are luxury yachts.\">feet</span>.  How many total <em>square feet of wrapping paper</em> should they order?</p>\n",
       "</article>"
      ]
     },
     "metadata": {},
     "output_type": "display_data"
    },
    {
     "data": {
      "text/plain": [
       "(cached)"
      ]
     },
     "metadata": {},
     "output_type": "display_data"
    },
    {
     "data": {
      "text/html": [
       "<article class=\"day-desc\">\n",
       "<h2 id=\"part2\">--- Part Two ---</h2><p>The elves are also running low on ribbon.  Ribbon is all the same width, so they only have to worry about the length they need to order, which they would again like to be exact.</p><p>The ribbon required to wrap a present is the shortest distance around its sides, or the smallest perimeter of any one face.  Each present also requires a bow made out of ribbon as well; the feet of ribbon required for the perfect bow is equal to the cubic feet of volume of the present.  Don't ask how they tie the bow, though; they'll never tell.</p><p>For example:</p><ul>\n",
       "<li>A present with dimensions <code>2x3x4</code> requires <code>2+2+3+3 = 10</code> feet of ribbon to wrap the present plus <code>2*3*4 = 24</code> feet of ribbon for the bow, for a total of <code>34</code> feet.</li><li>A present with dimensions <code>1x1x10</code> requires <code>1+1+1+1 = 4</code> feet of ribbon to wrap the present plus <code>1*1*10 = 10</code> feet of ribbon for the bow, for a total of <code>14</code> feet.</li>\n",
       "</ul><p>How many total <em>feet of ribbon</em> should they order?</p>\n",
       "</article>"
      ]
     },
     "metadata": {},
     "output_type": "display_data"
    },
    {
     "data": {
      "text/plain": [
       "(cached)"
      ]
     },
     "metadata": {},
     "output_type": "display_data"
    },
    {
     "data": {
      "text/plain": [
       "29x13x26\n",
       "11x11x14\n",
       "27x2x5\n",
       "6x10x13\n",
       "15x19x10\n",
       "26x29x15\n",
       "8x23x6\n",
       "17x8x26\n",
       "20x28x3\n",
       "23x12x24\n",
       "11x17x3\n",
       "19x23x28\n",
       "2..."
      ]
     },
     "metadata": {},
     "output_type": "display_data"
    },
    {
     "data": {
      "text/plain": [
       "display-id-6"
      ]
     },
     "execution_count": 2,
     "metadata": {},
     "output_type": "execute_result"
    }
   ],
   "source": [
    "aoc::get-puzzle 2015 2 1\n",
    "aoc::get-puzzle 2015 2 2\n",
    "set input [aoc::get-input 2015 2];\n",
    "jupyter::display text/plain [string range $input 0 100]..."
   ]
  },
  {
   "cell_type": "code",
   "execution_count": 5,
   "metadata": {},
   "outputs": [
    {
     "name": "stdout",
     "output_type": "stream",
     "text": [
      "Part1\t1586300 (2025 ms)\n",
      "Part2\t3737498 (12 ms)\n"
     ]
    },
    {
     "data": {
      "text/plain": [
       "1586300 3737498"
      ]
     },
     "execution_count": 5,
     "metadata": {},
     "output_type": "execute_result"
    }
   ],
   "source": [
    "aoc::parts  {\n",
    "    set input [yield]\n",
    "    set input [split [string trim $input ] \\n]\n",
    "    set input [lmap box $input {lsort -integer [split $box x]}]\n",
    "    set result1 0\n",
    "    set result2 0\n",
    "    foreach box $input {\n",
    "        lassign $box x y z\n",
    "        set paper [expr {(2*$x*$y+2*$x*$z+2*$y*$z) + $x*$y}]\n",
    "        set bow [expr {2*$x+2*$y + $x*$y*$z}]\n",
    "        incr result1 $paper\n",
    "        incr result2 $bow\n",
    "    }\n",
    "    yield $result1\n",
    "    yield $result2\n",
    "    \n",
    "    \n",
    "}\n",
    "aoc::results\n"
   ]
  },
  {
   "cell_type": "code",
   "execution_count": null,
   "metadata": {},
   "outputs": [],
   "source": []
  }
 ],
 "metadata": {
  "kernelspec": {
   "display_name": "Tcl",
   "language": "tcl",
   "name": "tcl"
  },
  "language_info": {
   "file_extension": ".tcl",
   "mimetype": "txt/x-tcl",
   "name": "tcl",
   "version": "8.6.11"
  }
 },
 "nbformat": 4,
 "nbformat_minor": 4
}
