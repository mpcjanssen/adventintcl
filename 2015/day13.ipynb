{
 "cells": [
  {
   "cell_type": "code",
   "execution_count": 22,
   "metadata": {},
   "outputs": [
    {
     "data": {
      "text/plain": [
       "(cached)"
      ]
     },
     "metadata": {},
     "output_type": "display_data"
    },
    {
     "data": {
      "text/html": [
       "<article class=\"day-desc\">\n",
       "<h2>--- Day 13: Knights of the Dinner Table ---</h2><p>In years past, the holiday feast with your family hasn't gone so well.  Not everyone gets along!  This year, you resolve, will be different.  You're going to find the <em>optimal seating arrangement</em> and avoid all those awkward conversations.</p><p>You start by writing up a list of everyone invited and the amount their happiness would increase or decrease if they were to find themselves sitting next to each other person.  You have a circular table that will be just big enough to fit everyone comfortably, and so each person will have exactly two neighbors.</p><p>For example, suppose you have only four attendees planned, and you <span title=\"Finding a method to calculate happiness units is left as an exercise for the reader.\">calculate</span> their potential happiness as follows:</p><pre><code>Alice would gain 54 happiness units by sitting next to Bob.\n",
       "Alice would lose 79 happiness units by sitting next to Carol.\n",
       "Alice would lose 2 happiness units by sitting next to David.\n",
       "Bob would gain 83 happiness units by sitting next to Alice.\n",
       "Bob would lose 7 happiness units by sitting next to Carol.\n",
       "Bob would lose 63 happiness units by sitting next to David.\n",
       "Carol would lose 62 happiness units by sitting next to Alice.\n",
       "Carol would gain 60 happiness units by sitting next to Bob.\n",
       "Carol would gain 55 happiness units by sitting next to David.\n",
       "David would gain 46 happiness units by sitting next to Alice.\n",
       "David would lose 7 happiness units by sitting next to Bob.\n",
       "David would gain 41 happiness units by sitting next to Carol.\n",
       "</code></pre><p>Then, if you seat Alice next to David, Alice would lose <code>2</code> happiness units (because David talks so much), but David would gain <code>46</code> happiness units (because Alice is such a good listener), for a total change of <code>44</code>.</p><p>If you continue around the table, you could then seat Bob next to Alice (Bob gains <code>83</code>, Alice gains <code>54</code>).  Finally, seat Carol, who sits next to Bob (Carol gains <code>60</code>, Bob loses <code>7</code>) and David (Carol gains <code>55</code>, David gains <code>41</code>).  The arrangement looks like this:</p><pre><code>     +41 +46\n",
       "+55   David    -2\n",
       "Carol       Alice\n",
       "+60    Bob    +54\n",
       "     -7  +83\n",
       "</code></pre><p>After trying every other seating arrangement in this hypothetical scenario, you find that this one is the most optimal, with a total change in happiness of <code>330</code>.</p><p>What is the <em>total change in happiness</em> for the optimal seating arrangement of the actual guest list?</p>\n",
       "</article>"
      ]
     },
     "metadata": {},
     "output_type": "display_data"
    },
    {
     "data": {
      "text/html": [
       "<article class=\"day-desc\">\n",
       "<h2 id=\"part2\">--- Part Two ---</h2><p>In all the commotion, you realize that you forgot to seat yourself.  At this point, you're pretty apathetic toward the whole thing, and your happiness wouldn't really go up or down regardless of who you sit next to.  You assume everyone else would be just as ambivalent about sitting next to you, too.</p><p>So, add yourself to the list, and give all happiness relationships that involve you a score of <code>0</code>.</p><p>What is the <em>total change in happiness</em> for the optimal seating arrangement that actually includes yourself?</p>\n",
       "</article>"
      ]
     },
     "metadata": {},
     "output_type": "display_data"
    },
    {
     "data": {
      "text/plain": [
       "(cached)"
      ]
     },
     "metadata": {},
     "output_type": "display_data"
    },
    {
     "data": {
      "text/plain": [
       "Alice would lose 2 happiness units by sitting next to Bob.\n",
       "Alice would lose 62 happiness units by sitting next to Carol.\n",
       "Alice would gain 65 happiness units by sitting next to David.\n",
       "Alice would gain 2..."
      ]
     },
     "metadata": {},
     "output_type": "display_data"
    }
   ],
   "source": [
    "source setup.tcl\n",
    "set year 2015\n",
    "set day 13\n",
    "aoc::get-puzzle $year $day 1\n",
    "aoc::get-puzzle $year $day 2\n",
    "set input [string trim [aoc::get-input $year $day]]\n",
    "jupyter::display text/plain [string range $input 0 200]...;"
   ]
  },
  {
   "cell_type": "code",
   "execution_count": 20,
   "metadata": {},
   "outputs": [],
   "source": [
    "proc happy {seating} {\n",
    "    set total 0\n",
    "    set num [llength $seating]\n",
    "    set seating [list {*}$seating [lindex $seating 0]]\n",
    "    for {set i 0} {$i < $num} {incr i} {\n",
    "        set l [lindex $seating $i ]\n",
    "        set r [lindex $seating $i+1 ]\n",
    "        if {$r eq \"Me\" || $l eq \"Me\"} continue\n",
    "        incr total $::cost($l,$r)\n",
    "        incr total $::cost($r,$l)\n",
    "    }\n",
    "    return $total\n",
    "}\n",
    "\n"
   ]
  },
  {
   "cell_type": "code",
   "execution_count": 21,
   "metadata": {},
   "outputs": [
    {
     "name": "stdout",
     "output_type": "stream",
     "text": [
      "Day1\t664\n",
      "Day2\t640\n",
      "4588985 microseconds per iteration\n"
     ]
    }
   ],
   "source": [
    "proc parts input {\n",
    "global cost\n",
    "unset -nocomplain cost\n",
    "set lines [split $input \\n]\n",
    "set people \"\"\n",
    "foreach  line $lines {\n",
    "    regexp -all {([A-Z][a-z]+).*?(gain|lose) ([0-9]+).*([A-Z][a-z]+)} $line -> w1 d c w2\n",
    "    lappend people $w1 $w2\n",
    "    if {$d eq \"gain\"} {\n",
    "        set sign \"\"\n",
    "    } {\n",
    "        set sign -\n",
    "    }\n",
    "    set cost($w1,$w2) $sign$c\n",
    "}\n",
    "\n",
    "\n",
    "# parray cost\n",
    "set people [lsort -unique $people]\n",
    "set happiness {}\n",
    "foreach seating [aoc::permutations $people] {\n",
    "    lappend happiness [happy $seating]\n",
    "}\n",
    "set result1 [lindex [lsort -decreasing -integer $happiness] 0]\n",
    "lappend people Me\n",
    "set happiness {}\n",
    "foreach seating [aoc::permutations $people] {\n",
    "    lappend happiness [happy $seating]\n",
    "}\n",
    "set result2 [lindex [lsort -decreasing -integer $happiness] 0]\n",
    "    return [list $result1 $result2]\n",
    "}\n",
    "aoc::results"
   ]
  },
  {
   "cell_type": "code",
   "execution_count": null,
   "metadata": {},
   "outputs": [],
   "source": []
  }
 ],
 "metadata": {
  "kernelspec": {
   "display_name": "Tcl 8.7",
   "language": "tcl",
   "name": "tcl87"
  },
  "language_info": {
   "file_extension": ".tcl",
   "mimetype": "txt/x-tcl",
   "name": "tcl",
   "version": "8.7a3"
  }
 },
 "nbformat": 4,
 "nbformat_minor": 4
}
