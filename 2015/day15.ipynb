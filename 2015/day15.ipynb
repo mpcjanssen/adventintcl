{
 "cells": [
  {
   "cell_type": "code",
   "execution_count": 1,
   "metadata": {},
   "outputs": [
    {
     "data": {
      "text/html": [
       "<article class=\"day-desc\">\n",
       "<h2>--- Day 15: Science for Hungry People ---</h2><p>Today, you set out on the task of perfecting your milk-dunking cookie recipe.  All you have to do is find the right balance of ingredients.</p><p>Your recipe leaves room for exactly <code>100</code> teaspoons of ingredients.  You make a list of the <em>remaining ingredients you could use to finish the recipe</em> (your puzzle input) and their <em>properties per teaspoon</em>:</p><ul>\n",
       "<li>\n",
       "<code>capacity</code> (how well it helps the cookie absorb milk)</li><li>\n",
       "<code>durability</code> (how well it keeps the cookie intact when full of milk)</li><li>\n",
       "<code>flavor</code> (how tasty it makes the cookie)</li><li>\n",
       "<code>texture</code> (how it improves the feel of the cookie)</li><li>\n",
       "<code>calories</code> (how many calories it adds to the cookie)</li>\n",
       "</ul><p>You can only measure ingredients in whole-teaspoon amounts accurately, and you have to be accurate so you can reproduce your results in the future.  The <em>total score</em> of a cookie can be found by adding up each of the properties (negative totals become <code>0</code>) and then multiplying together everything except calories.</p><p>For instance, suppose you have <span title=\"* I know what your preference is, but...\">these two ingredients</span>:</p><pre><code>Butterscotch: capacity -1, durability -2, flavor 6, texture 3, calories 8\n",
       "Cinnamon: capacity 2, durability 3, flavor -2, texture -1, calories 3\n",
       "</code></pre><p>Then, choosing to use <code>44</code> teaspoons of butterscotch and <code>56</code> teaspoons of cinnamon (because the amounts of each ingredient must add up to <code>100</code>) would result in a cookie with the following properties:</p><ul>\n",
       "<li>A <code>capacity</code> of <code>44*-1 + 56*2 = 68</code>\n",
       "</li><li>A <code>durability</code> of <code>44*-2 + 56*3 = 80</code>\n",
       "</li><li>A <code>flavor</code> of <code>44*6 + 56*-2 = 152</code>\n",
       "</li><li>A <code>texture</code> of <code>44*3 + 56*-1 = 76</code>\n",
       "</li>\n",
       "</ul><p>Multiplying these together (<code>68 * 80 * 152 * 76</code>, ignoring <code>calories</code> for now) results in a total score of  <code>62842880</code>, which happens to be the best score possible given these ingredients.  If any properties had produced a negative total, it would have instead become zero, causing the whole score to multiply to zero.</p><p>Given the ingredients in your kitchen and their properties, what is the <em>total score</em> of the highest-scoring cookie you can make?</p>\n",
       "</article>"
      ]
     },
     "metadata": {},
     "output_type": "display_data"
    },
    {
     "data": {
      "text/plain": [
       "Sugar: capacity 3, durability 0, flavor 0, texture -3, calories 2\n",
       "Sprinkles: capacity -3, durability 3, flavor 0, texture 0, calories 9\n",
       "Candy: capacity -1, durability 0, flavor 4, texture 0, calories 1..."
      ]
     },
     "metadata": {},
     "output_type": "display_data"
    }
   ],
   "source": [
    "source setup.tcl\n",
    "set year 2015\n",
    "set day 15\n",
    "aoc::get-puzzle $year $day 1\n",
    "# aoc::get-puzzle $year $day 2\n",
    "set input [string trim [aoc::get-input $year $day]]\n",
    "jupyter::display text/plain [string range $input 0 200]...;"
   ]
  },
  {
   "cell_type": "code",
   "execution_count": 20,
   "metadata": {},
   "outputs": [],
   "source": [
    "proc happy {seating} {\n",
    "    set total 0\n",
    "    set num [llength $seating]\n",
    "    set seating [list {*}$seating [lindex $seating 0]]\n",
    "    for {set i 0} {$i < $num} {incr i} {\n",
    "        \n",
    "        set l [lindex $seating $i ]\n",
    "        set r [lindex $seating $i+1 ]\n",
    "        if {$r eq \"Me\" || $l eq \"Me\"} continue\n",
    "        incr total $::cost($l,$r)\n",
    "        incr total $::cost($r,$l)\n",
    "    }\n",
    "    return $total\n",
    "}\n",
    "\n"
   ]
  },
  {
   "cell_type": "code",
   "execution_count": 21,
   "metadata": {},
   "outputs": [
    {
     "name": "stdout",
     "output_type": "stream",
     "text": [
      "Day1\t664\n",
      "Day2\t640\n",
      "4588985 microseconds per iteration\n"
     ]
    }
   ],
   "source": [
    "proc parts input {\n",
    "global cost\n",
    "unset -nocomplain cost\n",
    "set lines [split $input \\n]\n",
    "set people \"\"\n",
    "foreach  line $lines {\n",
    "    regexp -all {([A-Z][a-z]+).*?(gain|lose) ([0-9]+).*([A-Z][a-z]+)} $line -> w1 d c w2\n",
    "    lappend people $w1 $w2\n",
    "    if {$d eq \"gain\"} {\n",
    "        set sign \"\"\n",
    "    } {\n",
    "        set sign -\n",
    "    }\n",
    "    set cost($w1,$w2) $sign$c\n",
    "}\n",
    "\n",
    "\n",
    "# parray cost\n",
    "set people [lsort -unique $people]\n",
    "set happiness {}\n",
    "foreach seating [aoc::permutations $people] {\n",
    "    lappend happiness [happy $seating]\n",
    "}\n",
    "set result1 [lindex [lsort -decreasing -integer $happiness] 0]\n",
    "lappend people Me\n",
    "set happiness {}\n",
    "foreach seating [aoc::permutations $people] {\n",
    "    lappend happiness [happy $seating]\n",
    "}\n",
    "set result2 [lindex [lsort -decreasing -integer $happiness] 0]\n",
    "    return [list $result1 $result2]\n",
    "}\n",
    "aoc::results"
   ]
  },
  {
   "cell_type": "code",
   "execution_count": null,
   "metadata": {},
   "outputs": [],
   "source": []
  }
 ],
 "metadata": {
  "kernelspec": {
   "display_name": "Tcl 8.7",
   "language": "tcl",
   "name": "tcl87"
  },
  "language_info": {
   "file_extension": ".tcl",
   "mimetype": "txt/x-tcl",
   "name": "tcl",
   "version": "8.7a3"
  }
 },
 "nbformat": 4,
 "nbformat_minor": 4
}
