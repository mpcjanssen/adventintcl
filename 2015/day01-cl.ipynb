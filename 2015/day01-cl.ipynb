{
 "cells": [
  {
   "cell_type": "code",
   "execution_count": null,
   "metadata": {},
   "outputs": [
    {
     "ename": "SYSTEM-NOT-FOUND",
     "evalue": "System \"io-file\" not found",
     "output_type": "error",
     "traceback": []
    },
    {
     "name": "stderr",
     "output_type": "stream",
     "text": [
      "System \"io-file\" not found\n",
      "   [Condition of type QUICKLISP-CLIENT:SYSTEM-NOT-FOUND]\n",
      "\n",
      "#<ENVIRONMENT {1007DD2943}>\n",
      "   [Environment of thread #<THREAD \"SHELL Thread\" RUNNING {10051410A3}>]\n",
      "\n",
      "\n",
      "Backtrace:\n",
      " 5: (SB-KERNEL::%SIGNAL System \"io-file\" not found)\n",
      " 6: (CERROR Try again SYSTEM-NOT-FOUND NAME io-file)\n",
      " 7: ((LABELS QUICKLISP-CLIENT::RECURSE :IN QUICKLISP-CLIENT::COMPUTE-LOAD-STRATEGY) io-file)\n",
      " 8: (QL-DIST::CALL-WITH-CONSISTENT-DISTS #<FUNCTION (LAMBDA NIL :IN QUICKLISP-CLIENT::COMPUTE-LOAD-STRATEGY) {1007D90DCB}>)\n",
      " 9: (QUICKLISP-CLIENT::COMPUTE-LOAD-STRATEGY io-file)\n",
      " 10: (QUICKLISP-CLIENT::AUTOLOAD-SYSTEM-AND-DEPENDENCIES io-file PROMPT NIL)\n",
      " 11: ((:METHOD QL-IMPL-UTIL::%CALL-WITH-QUIET-COMPILATION (T T)) #<unused argument> #<FUNCTION (FLET QUICKLISP-CLIENT::QL :IN QUICKLISP-CLIENT:QUICKLOAD) {1007D9083B}>)\n",
      " 12: ((:METHOD QL-IMPL-UTIL::%CALL-WITH-QUIET-COMPILATION :AROUND (QL-IMPL:SBCL T)) #<SBCL {1002BE8A23}> #<FUNCTION (FLET QUICKLISP-CLIENT::QL :IN QUICKLISP-CLIENT:QUICKLOAD) {1007D9083B}>)\n",
      " 13: ((:METHOD QUICKLISP-CLIENT:QUICKLOAD (T)) IO-FILE PROMPT NIL SILENT NIL VERBOSE NIL)\n",
      " 14: (QL-DIST::CALL-WITH-CONSISTENT-DISTS #<FUNCTION (LAMBDA NIL :IN QUICKLISP-CLIENT:QUICKLOAD) {1007D8A9BB}>)\n",
      " 15: (SB-INT:SIMPLE-EVAL-IN-LEXENV (QUICKLOAD IO-FILE) #<NULL-LEXENV>)\n",
      " 16: (EVAL (QUICKLOAD IO-FILE))\n",
      " 17: (COMMON-LISP-JUPYTER::MY-EVAL (QUICKLOAD IO-FILE))\n",
      " 18: ((:METHOD JUPYTER:EVALUATE-CODE (COMMON-LISP-JUPYTER:KERNEL T)) #<unused argument> (ql:quickload :io-file))\n",
      " 19: (JUPYTER::HANDLE-EXECUTE-REQUEST #<KERNEL {1003643CE3}> #<MESSAGE {1007BABD83}>)\n",
      " 20: (JUPYTER::HANDLE-SHELL-MESSAGE #<KERNEL {1003643CE3}> #<MESSAGE {1007BABD83}>)\n",
      " 21: (JUPYTER::RUN-SHELL #<KERNEL {1003643CE3}>)\n",
      " 22: ((LAMBDA NIL :IN BORDEAUX-THREADS::BINDING-DEFAULT-SPECIALS))\n",
      " 23: ((FLET SB-UNIX::BODY :IN SB-THREAD::RUN))\n",
      " 24: ((FLET \"WITHOUT-INTERRUPTS-BODY-11\" :IN SB-THREAD::RUN))\n",
      " 25: ((FLET SB-UNIX::BODY :IN SB-THREAD::RUN))\n",
      " 26: ((FLET \"WITHOUT-INTERRUPTS-BODY-4\" :IN SB-THREAD::RUN))\n",
      " 27: (SB-THREAD::RUN)\n",
      " 28: (\"foreign function: call_into_lisp\")\n",
      " 29: (\"foreign function: funcall1\")"
     ]
    }
   ],
   "source": [
    "(ql:quickload :io-file)"
   ]
  },
  {
   "cell_type": "code",
   "execution_count": null,
   "metadata": {},
   "outputs": [],
   "source": []
  }
 ],
 "metadata": {
  "kernelspec": {
   "display_name": "Common Lisp",
   "language": "common-lisp",
   "name": "common-lisp"
  },
  "language_info": {
   "codemirror_mode": "text/x-common-lisp",
   "file_extension": ".lisp",
   "mimetype": "text/x-common-lisp",
   "name": "common-lisp",
   "pygments_lexer": "common-lisp",
   "version": "2.1.1.debian"
  }
 },
 "nbformat": 4,
 "nbformat_minor": 4
}
