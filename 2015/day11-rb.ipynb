{
 "cells": [
  {
   "cell_type": "code",
   "execution_count": 1,
   "metadata": {},
   "outputs": [
    {
     "data": {
      "text/plain": [
       "\"cqjxjnds\""
      ]
     },
     "execution_count": 1,
     "metadata": {},
     "output_type": "execute_result"
    }
   ],
   "source": []
  },
  {
   "cell_type": "code",
   "execution_count": 7,
   "metadata": {},
   "outputs": [
    {
     "data": {
      "text/plain": [
       "[\"abc\", \"bcd\", \"cde\", \"def\", \"efg\", \"fgh\", \"ghi\", \"hij\", \"ijk\", \"jkl\", \"klm\", \"lmn\", \"mno\", \"nop\", \"opq\", \"pqr\", \"qrs\", \"rst\", \"stu\", \"tuv\", \"uvw\", \"vwx\", \"wxy\", \"xyz\"]"
      ]
     },
     "execution_count": 7,
     "metadata": {},
     "output_type": "execute_result"
    }
   ],
   "source": [
    "[*?a..?z].each_cons(3).map(&:join)"
   ]
  },
  {
   "cell_type": "code",
   "execution_count": 1,
   "metadata": {},
   "outputs": [
    {
     "name": "stdout",
     "output_type": "stream",
     "text": [
      "\"cqjxxyzz\"\n",
      "\"cqkaabcc\"\n"
     ]
    },
    {
     "data": {
      "text/plain": [
       "\"cqkaabcc\""
      ]
     },
     "execution_count": 1,
     "metadata": {},
     "output_type": "execute_result"
    }
   ],
   "source": [
    "s = \"cqjxjnds\"\n",
    "r = Regexp.union [*?a..?z].each_cons(3).map(&:join)\n",
    "s.succ! until s[r] && s !~ /[iol]/ && s.scan(/(.)\\1/).size > 1\n",
    "p s\n",
    "s.succ!    \n",
    "s.succ! until s[r] && s !~ /[iol]/ && s.scan(/(.)\\1/).size > 1\n",
    "p s"
   ]
  },
  {
   "cell_type": "code",
   "execution_count": 8,
   "metadata": {},
   "outputs": [
    {
     "data": {
      "text/plain": [
       "/abc|bcd|cde|def|efg|fgh|ghi|hij|ijk|jkl|klm|lmn|mno|nop|opq|pqr|qrs|rst|stu|tuv|uvw|vwx|wxy|xyz/"
      ]
     },
     "execution_count": 8,
     "metadata": {},
     "output_type": "execute_result"
    }
   ],
   "source": [
    "r"
   ]
  },
  {
   "cell_type": "code",
   "execution_count": null,
   "metadata": {},
   "outputs": [],
   "source": []
  }
 ],
 "metadata": {
  "kernelspec": {
   "display_name": "Ruby 2.7.2",
   "language": "ruby",
   "name": "ruby"
  },
  "language_info": {
   "file_extension": ".rb",
   "mimetype": "application/x-ruby",
   "name": "ruby",
   "version": "2.7.2"
  }
 },
 "nbformat": 4,
 "nbformat_minor": 4
}
