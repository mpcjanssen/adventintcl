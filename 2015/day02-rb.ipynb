{
 "cells": [
  {
   "cell_type": "code",
   "execution_count": 98,
   "metadata": {},
   "outputs": [
    {
     "data": {
      "text/plain": [
       "2565"
      ]
     },
     "execution_count": 98,
     "metadata": {},
     "output_type": "execute_result"
    }
   ],
   "source": [
    "input = File.read(\"./input/3.txt\");\n",
    "# input.lines.inject([0,0]) do |(result1,result2), x|\n",
    "#     x,y,z = x.chomp.split(\"x\").map(&:to_i).sort\n",
    "#     [result1 + 3*x*y + 2*y*z + 2*x*z ,result2+y+y+z+z+x*y*z]\n",
    "    \n",
    "# end\n",
    "input.each_char.inject([[0,0]]) do | path, d |\n",
    "    x,y = path[-1]\n",
    "    path << case d\n",
    "        when \"^\"\n",
    "            [x, y-1]\n",
    "        when \"v\"\n",
    "            [x, y+1]\n",
    "        when \"<\"\n",
    "            [x-1,y]\n",
    "        when \">\" \n",
    "            [x+1,y]\n",
    "        else  \n",
    "            throw Exception.new(\"oops #{d}....\") \n",
    "    end          \n",
    "end.uniq.length\n",
    "\n"
   ]
  },
  {
   "cell_type": "code",
   "execution_count": 108,
   "metadata": {},
   "outputs": [
    {
     "data": {
      "text/plain": [
       "2565"
      ]
     },
     "execution_count": 108,
     "metadata": {},
     "output_type": "execute_result"
    }
   ],
   "source": [
    "input.each_char.inject([[0,0]]) do | path, d |\n",
    "    x,y = path[-1]\n",
    "    path << case d\n",
    "        when \"^\"\n",
    "            [x, y-1]\n",
    "        when \"v\"\n",
    "            [x, y+1]\n",
    "        when \"<\"\n",
    "            [x-1,y]\n",
    "        when \">\" \n",
    "            [x+1,y]\n",
    "        else  \n",
    "            throw Exception.new(\"oops #{d}....\") \n",
    "    end          \n",
    "end.uniq.length\n"
   ]
  },
  {
   "cell_type": "code",
   "execution_count": null,
   "metadata": {},
   "outputs": [],
   "source": []
  }
 ],
 "metadata": {
  "kernelspec": {
   "display_name": "Ruby 2.7.2",
   "language": "ruby",
   "name": "ruby"
  },
  "language_info": {
   "file_extension": ".rb",
   "mimetype": "application/x-ruby",
   "name": "ruby",
   "version": "2.7.2"
  }
 },
 "nbformat": 4,
 "nbformat_minor": 4
}
