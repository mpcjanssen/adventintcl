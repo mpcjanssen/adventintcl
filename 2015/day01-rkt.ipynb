{
 "cells": [
  {
   "cell_type": "code",
   "execution_count": 66,
   "metadata": {},
   "outputs": [],
   "source": [
    "(require racket)\n",
    "(require racket/port)\n",
    "(define input (port->string (open-input-file \"./input/1.txt\")))\n"
   ]
  },
  {
   "cell_type": "code",
   "execution_count": 103,
   "metadata": {},
   "outputs": [
    {
     "name": "stdout",
     "output_type": "stream",
     "text": [
      "232\n",
      "1783\n"
     ]
    }
   ],
   "source": [
    "(let-values ([(part1 part2)\n",
    "    (for/fold \n",
    "     ([sum 0] [res '()]) \n",
    "     ([brace (in-string input)]) \n",
    "       (values \n",
    "        (if (eq? brace #\\( ) \n",
    "            (add1 sum) (- sum 1)) \n",
    "        (append res (list sum))))]) \n",
    "            (println part1)\n",
    "            (println (length (for/list \n",
    "             ([i part2]\n",
    "             #:break (< i 0))\n",
    "             i))))\n",
    "        "
   ]
  },
  {
   "cell_type": "code",
   "execution_count": null,
   "metadata": {},
   "outputs": [],
   "source": []
  }
 ],
 "metadata": {
  "kernelspec": {
   "display_name": "Racket",
   "language": "racket",
   "name": "racket"
  },
  "language_info": {
   "codemirror_mode": "scheme",
   "file_extension": ".rkt",
   "mimetype": "text/x-racket",
   "name": "Racket",
   "pygments_lexer": "racket",
   "version": "7.9"
  }
 },
 "nbformat": 4,
 "nbformat_minor": 4
}
