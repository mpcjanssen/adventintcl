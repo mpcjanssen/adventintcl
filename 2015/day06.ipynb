{
 "cells": [
  {
   "cell_type": "code",
   "execution_count": 38,
   "metadata": {},
   "outputs": [
    {
     "data": {
      "text/plain": [
       "(cached)"
      ]
     },
     "metadata": {},
     "output_type": "display_data"
    },
    {
     "data": {
      "text/html": [
       "<article class=\"day-desc\">\n",
       "<h2>--- Day 6: Probably a Fire Hazard ---</h2><p>Because your neighbors keep defeating you in the holiday house decorating contest year after year, you've decided to deploy one million lights in a <span title=\"Hey, be glad I'm not asking for the resistance between two points!\">1000x1000 grid</span>.</p><p>Furthermore, because you've been especially nice this year, Santa has mailed you instructions on how to display the ideal lighting configuration.</p><p>Lights in your grid are numbered from 0 to 999 in each direction; the lights at each corner are at <code>0,0</code>, <code>0,999</code>, <code>999,999</code>, and <code>999,0</code>. The instructions include whether to <code>turn on</code>, <code>turn off</code>, or <code>toggle</code> various inclusive ranges given as coordinate pairs.  Each coordinate pair represents opposite corners of a rectangle, inclusive; a coordinate pair like <code>0,0 through 2,2</code> therefore refers to 9 lights in a 3x3 square.  The lights all start turned off.</p><p>To defeat your neighbors this year, all you have to do is set up your lights by doing the instructions Santa sent you in order.</p><p>For example:</p><ul>\n",
       "<li>\n",
       "<code>turn on 0,0 through 999,999</code> would turn on (or leave on) every light.</li><li>\n",
       "<code>toggle 0,0 through 999,0</code> would toggle the first line of 1000 lights, turning off the ones that were on, and turning on the ones that were off.</li><li>\n",
       "<code>turn off 499,499 through 500,500</code> would turn off (or leave off) the middle four lights.</li>\n",
       "</ul><p>After following the instructions, <em>how many lights are lit</em>?</p>\n",
       "</article>"
      ]
     },
     "metadata": {},
     "output_type": "display_data"
    },
    {
     "data": {
      "text/html": [
       "<article class=\"day-desc\">\n",
       "<h2 id=\"part2\">--- Part Two ---</h2><p>You just finish implementing your winning light pattern when you realize you mistranslated Santa's message from Ancient Nordic Elvish.</p><p>The light grid you bought actually has individual brightness controls; each light can have a brightness of zero or more.  The lights all start at zero.</p><p>The phrase <code>turn on</code> actually means that you should increase the brightness of those lights by <code>1</code>.</p><p>The phrase <code>turn off</code> actually means that you should decrease the brightness of those lights by <code>1</code>, to a minimum of zero.</p><p>The phrase <code>toggle</code> actually means that you should increase the brightness of those lights by <code>2</code>.</p><p>What is the <em>total brightness</em> of all lights combined after following Santa's instructions?</p><p>For example:</p><ul>\n",
       "<li>\n",
       "<code>turn on 0,0 through 0,0</code> would increase the total brightness by <code>1</code>.</li><li>\n",
       "<code>toggle 0,0 through 999,999</code> would increase the total brightness by <code>2000000</code>.</li>\n",
       "</ul>\n",
       "</article>"
      ]
     },
     "metadata": {},
     "output_type": "display_data"
    },
    {
     "data": {
      "text/plain": [
       "(cached)"
      ]
     },
     "metadata": {},
     "output_type": "display_data"
    },
    {
     "data": {
      "text/plain": [
       "turn on 887,9 through 959,629\n",
       "turn on 454,398 through 844,448\n",
       "turn off 539,243 through 559,965\n",
       "turn o..."
      ]
     },
     "metadata": {},
     "output_type": "display_data"
    }
   ],
   "source": [
    "%%noresult\n",
    "source setup.tcl\n",
    "set year 2015\n",
    "set day 6\n",
    "aoc::get-puzzle $year $day 1\n",
    "aoc::get-puzzle $year $day 2\n",
    "set input [string trim [aoc::get-input $year $day]]\n",
    "jupyter::display text/plain [string range $input 0 100]..."
   ]
  },
  {
   "cell_type": "code",
   "execution_count": 35,
   "metadata": {},
   "outputs": [],
   "source": [
    "proc block {p1 p2 } {\n",
    "    set coords {}\n",
    "    lassign [split $p1 ,] x1 y1\n",
    "    lassign [split $p2 ,] x2 y2\n",
    "    for {set p1 $x1} {$p1 <= $x2} {incr p1} {\n",
    "            for {set p2 $y1} {$p2 <= $y2} {incr p2} {\n",
    "                lappend coords $p1 $p2\n",
    "            }\n",
    "    }\n",
    "    return $coords\n",
    "    \n",
    "    \n",
    "}\n",
    "\n",
    "proc turn {lstate p1 _ p2} {\n",
    "    foreach {x y} [block $p1 $p2] {\n",
    "        if {$lstate eq \"on\"} {\n",
    "            set ::state1($x,$y) 1\n",
    "            incr ::state2($x,$y)\n",
    "        } {\n",
    "            unset -nocomplain ::state1($x,$y)\n",
    "            incr ::state2($x,$y) -1\n",
    "            if {$::state2($x,$y) < 0} {\n",
    "                set ::state2($x,$y) 0\n",
    "            }\n",
    "        }\n",
    "    }\n",
    "}\n",
    "\n",
    "proc toggle {p1 _ p2} {\n",
    "    foreach {x y} [block $p1 $p2] {\n",
    "        incr ::state2($x,$y) 2\n",
    "        if {![info exists ::state1($x,$y)]} {\n",
    "            set ::state($x,$y) 1\n",
    "        } {\n",
    "            unset -nocomplain ::state1($x,$y) \n",
    "        }\n",
    "    }\n",
    "}\n",
    "\n",
    "\n"
   ]
  },
  {
   "cell_type": "code",
   "execution_count": 37,
   "metadata": {},
   "outputs": [
    {
     "name": "stdout",
     "output_type": "stream",
     "text": [
      "Day1\t271651\n",
      "Day2\t14110788\n",
      "44974077 microseconds per iteration\n"
     ]
    }
   ],
   "source": [
    "\n",
    "proc parts input {\n",
    "    set result1 0\n",
    "    set result2 0\n",
    "    set input [split $input \\n]\n",
    "    unset ::state1\n",
    "    unset ::state2\n",
    "    foreach line $input {\n",
    "        # puts $line\n",
    "        {*}$line\n",
    "    }\n",
    "    set result1 [llength [array names ::state1]]\n",
    "    foreach {l b} [array get ::state2] {\n",
    "        incr result2 $b\n",
    "    }\n",
    "    return [list $result1 $result2]\n",
    "}\n",
    "aoc::results"
   ]
  },
  {
   "cell_type": "code",
   "execution_count": null,
   "metadata": {},
   "outputs": [],
   "source": []
  }
 ],
 "metadata": {
  "kernelspec": {
   "display_name": "Tcl",
   "language": "tcl",
   "name": "tcl"
  },
  "language_info": {
   "file_extension": ".tcl",
   "mimetype": "txt/x-tcl",
   "name": "tcl",
   "version": "8.6.11"
  }
 },
 "nbformat": 4,
 "nbformat_minor": 4
}
