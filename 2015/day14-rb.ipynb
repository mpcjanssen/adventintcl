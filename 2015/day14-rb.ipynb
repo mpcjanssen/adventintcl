{
 "cells": [
  {
   "cell_type": "code",
   "execution_count": 23,
   "metadata": {},
   "outputs": [
    {
     "name": "stdout",
     "output_type": "stream",
     "text": [
      "[[\"Dancer\", 27, 5, 132], [\"Cupid\", 22, 2, 41], [\"Rudolph\", 11, 5, 48], [\"Donner\", 28, 5, 134], [\"Dasher\", 4, 16, 55], [\"Blitzen\", 14, 3, 38], [\"Prancer\", 3, 21, 40], [\"Comet\", 18, 6, 103], [\"Vixen\", 18, 5, 84]]\n"
     ]
    },
    {
     "data": {
      "text/plain": [
       "2640"
      ]
     },
     "execution_count": 23,
     "metadata": {},
     "output_type": "execute_result"
    }
   ],
   "source": [
    "lines = File.readlines(\"./input/14.txt\").map(&:chomp)\n",
    "# p lines\n",
    "sre = /\\d+/\n",
    "nre = /^[A-Za-z]+/\n",
    "speeds = lines.inject([]) do | x , y | \n",
    "    name = y.scan(nre)[0]\n",
    "    speed = y.scan(sre).map(&:to_i)\n",
    "    x << [name, *speed]\n",
    "    x\n",
    "end\n",
    "# p speeds\n",
    "# p distance(14,10,127,1000)\n",
    "# p distance(16,11,162,1000)\n",
    "def distance(speed, duration, rest, total)\n",
    "    dist = 0\n",
    "    loop do\n",
    "#       p \"Time remaining #{total}\"\n",
    "      tofly = [total, duration].min\n",
    "#       p \"Flying #{tofly} of #{total} at #{speed}\" \n",
    "      dist += speed*tofly\n",
    "#       p \"+ #{speed*tofly} => #{dist} \"    \n",
    "      total -= tofly\n",
    "#       p \"Time remaining #{total}\"\n",
    "      break if total <= 0\n",
    "      torest = [total,rest].min\n",
    "#       p \"Resting #{torest}\"\n",
    "      total -= torest\n",
    "      break if total <= 0  \n",
    "    end\n",
    "    dist    \n",
    "end\n",
    "p speeds\n",
    "result = speeds.map do |x|\n",
    "    name, speed, duration, rest = x\n",
    "#     p \"============ #{name} ================\"\n",
    "    [distance(speed,duration,rest,2503), name]\n",
    "end\n",
    "result.sort.last[0]"
   ]
  },
  {
   "cell_type": "code",
   "execution_count": 27,
   "metadata": {},
   "outputs": [
    {
     "data": {
      "text/plain": [
       "{\"Donner\"=>1102, \"Vixen\"=>360, \"Comet\"=>213, \"Dancer\"=>164, \"Rudolph\"=>647, \"Blitzen\"=>6, \"Prancer\"=>176, \"Cupid\"=>46}"
      ]
     },
     "execution_count": 27,
     "metadata": {},
     "output_type": "execute_result"
    }
   ],
   "source": [
    "scores = {}\n",
    "scores.default = 0\n",
    "(1..2503).each { | s | \n",
    "    result = speeds.map do |x|\n",
    "        name, speed, duration, rest = x\n",
    "        [distance(speed,duration,rest,s), name]\n",
    "    end\n",
    "    best = result.sort.last[0]\n",
    "    result.each do | dist, name | \n",
    "        scores[name]+=1 if dist == best\n",
    "    end\n",
    "}\n",
    "scores"
   ]
  },
  {
   "cell_type": "code",
   "execution_count": null,
   "metadata": {},
   "outputs": [],
   "source": []
  }
 ],
 "metadata": {
  "kernelspec": {
   "display_name": "Ruby 2.7.2",
   "language": "ruby",
   "name": "ruby"
  },
  "language_info": {
   "file_extension": ".rb",
   "mimetype": "application/x-ruby",
   "name": "ruby",
   "version": "2.7.2"
  }
 },
 "nbformat": 4,
 "nbformat_minor": 4
}
