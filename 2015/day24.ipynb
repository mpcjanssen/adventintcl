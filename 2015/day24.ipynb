{
 "cells": [
  {
   "cell_type": "code",
   "execution_count": 3,
   "metadata": {},
   "outputs": [
    {
     "data": {
      "text/plain": [
       "(cached)"
      ]
     },
     "metadata": {},
     "output_type": "display_data"
    },
    {
     "data": {
      "text/html": [
       "<article class=\"day-desc\">\n",
       "<h2>--- Day 24: It Hangs in the Balance ---</h2><p>It's Christmas Eve, and Santa is loading up the sleigh for this year's deliveries.  However, there's one small problem: he can't get the sleigh to balance.  If it isn't balanced, he can't defy physics, and nobody gets presents this year.</p><p>No pressure.</p><p>Santa has provided you a list of the weights of every package he needs to fit on the sleigh.  The packages need to be split into <em>three groups of exactly the same weight</em>, and every package has to fit.  The first group goes in the passenger compartment of the sleigh, and the second and third go in containers on either side.  Only when all three groups weigh exactly the same amount will the sleigh be able to fly.  Defying physics has rules, you know!</p><p>Of course, that's not the only problem.  The first group - the one going in the passenger compartment - needs <em>as few packages as possible</em> so that Santa has some legroom left over.  It doesn't matter how many packages are in either of the other two groups, so long as all of the groups weigh the same.</p><p>Furthermore, Santa tells you, if there are multiple ways to arrange the packages such that the fewest possible are in the first group, you need to choose the way where the first group has <em>the smallest quantum entanglement</em> to reduce the chance of any <span title=\"Santa does not elaborate on what he means by this, but the cringe he makes indicates that it wouldn't be pretty.\">\"complications\"</span>.  The quantum entanglement of a group of packages is the <a href=\"https://en.wikipedia.org/wiki/Product_%28mathematics%29\">product</a> of their weights, that is, the value you get when you multiply their weights together.  Only consider quantum entanglement if the first group has the fewest possible number of packages in it and all groups weigh the same amount.</p><p>For example, suppose you have ten packages with weights <code>1</code> through <code>5</code> and <code>7</code> through <code>11</code>.  For this situation, some of the unique first groups, their quantum entanglements, and a way to divide the remaining packages are as follows:</p><pre><code>Group 1;             Group 2; Group 3\n",
       "11 9       (QE= 99); 10 8 2;  7 5 4 3 1\n",
       "10 9 1     (QE= 90); 11 7 2;  8 5 4 3\n",
       "10 8 2     (QE=160); 11 9;    7 5 4 3 1\n",
       "10 7 3     (QE=210); 11 9;    8 5 4 2 1\n",
       "10 5 4 1   (QE=200); 11 9;    8 7 3 2\n",
       "10 5 3 2   (QE=300); 11 9;    8 7 4 1\n",
       "10 4 3 2 1 (QE=240); 11 9;    8 7 5\n",
       "9 8 3      (QE=216); 11 7 2;  10 5 4 1\n",
       "9 7 4      (QE=252); 11 8 1;  10 5 3 2\n",
       "9 5 4 2    (QE=360); 11 8 1;  10 7 3\n",
       "8 7 5      (QE=280); 11 9;    10 4 3 2 1\n",
       "8 5 4 3    (QE=480); 11 9;    10 7 2 1\n",
       "7 5 4 3 1  (QE=420); 11 9;    10 8 2\n",
       "</code></pre><p>Of these, although <code>10 9 1</code> has the smallest quantum entanglement (<code>90</code>), the configuration with only two packages, <code>11 9</code>, in the passenger compartment gives Santa the most legroom and wins.  In this situation, the quantum entanglement for the ideal configuration is therefore <code>99</code>.  Had there been two configurations with only two packages in the first group, the one with the smaller quantum entanglement would be chosen.</p><p>What is the <em>quantum entanglement</em> of the first group of packages in the ideal configuration?</p>\n",
       "</article>"
      ]
     },
     "metadata": {},
     "output_type": "display_data"
    },
    {
     "data": {
      "text/plain": [
       "(cached)"
      ]
     },
     "metadata": {},
     "output_type": "display_data"
    },
    {
     "data": {
      "text/plain": [
       "1\n",
       "2\n",
       "3\n",
       "7\n",
       "11\n",
       "13\n",
       "17\n",
       "19\n",
       "2..."
      ]
     },
     "metadata": {},
     "output_type": "display_data"
    }
   ],
   "source": [
    "source setup.tcl\n",
    "set year 2015\n",
    "set day 24\n",
    "aoc::get-puzzle $year $day 1\n",
    "# aoc::get-puzzle $year $day 2\n",
    "set input [string trim [aoc::get-input $year $day]]\n",
    "jupyter::display text/plain [string range $input 0 20]...;"
   ]
  },
  {
   "cell_type": "code",
   "execution_count": 39,
   "metadata": {},
   "outputs": [
    {
     "name": "stdout",
     "output_type": "stream",
     "text": [
      "Day1\t11846773891\n",
      "Day2\t80393059\n",
      "2705935 microseconds per iteration\n"
     ]
    }
   ],
   "source": [
    "proc parts input {\n",
    "set weights [split $input \\n]\n",
    "\n",
    "set total [+ {*}$weights]\n",
    "set target [/ $total 3]\n",
    "set size [llength $weights]\n",
    "\n",
    "set maxsize [+ [/ $size 3] 1]\n",
    "\n",
    "for {set n 1} {$n <= $maxsize} {incr n} {\n",
    "\n",
    "    set cands [lmap cand [aoc::combinations $weights $n] {\n",
    "        set sum [+ {*}$cand]\n",
    "        if {$sum == $target} {\n",
    "            set cand\n",
    "        } else {\n",
    "            continue\n",
    "        }\n",
    "    }]\n",
    "    if {[llength $cands] > 0} {\n",
    "        set result1 $cands\n",
    "        break\n",
    "    }\n",
    "\n",
    "}\n",
    "set result1 [lindex [lsort -integer [lmap r $result1 {* {*}$r}]] 0]\n",
    "\n",
    "\n",
    "set target [/ $total 4]\n",
    "set maxsize [+ [/ $size 4] 1]\n",
    "\n",
    "for {set n 1} {$n <= $maxsize} {incr n} {\n",
    "\n",
    "    set cands [lmap cand [aoc::combinations $weights $n] {\n",
    "        set sum [+ {*}$cand]\n",
    "        if {$sum == $target} {\n",
    "            set cand\n",
    "        } else {\n",
    "            continue\n",
    "        }\n",
    "    }]\n",
    "    if {[llength $cands] > 0} {\n",
    "        set result2 $cands\n",
    "        break\n",
    "    }\n",
    "\n",
    "}\n",
    "set result2 [lindex [lsort -integer [lmap r $result2 {* {*}$r}]] 0]\n",
    "    list $result1 $result2\n",
    "}\n",
    "aoc::results"
   ]
  }
 ],
 "metadata": {
  "kernelspec": {
   "display_name": "Tcl",
   "language": "tcl",
   "name": "tcl"
  },
  "language_info": {
   "file_extension": ".tcl",
   "mimetype": "txt/x-tcl",
   "name": "tcl",
   "version": "8.6.11"
  }
 },
 "nbformat": 4,
 "nbformat_minor": 4
}
