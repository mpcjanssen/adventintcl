{
 "cells": [
  {
   "cell_type": "code",
   "execution_count": 34,
   "metadata": {},
   "outputs": [
    {
     "data": {
      "text/plain": [
       "(cached)"
      ]
     },
     "metadata": {},
     "output_type": "display_data"
    },
    {
     "data": {
      "text/html": [
       "<article class=\"day-desc\">\n",
       "<h2>--- Day 5: Doesn't He Have Intern-Elves For This? ---</h2><p>Santa needs help figuring out which strings in his text file are naughty or nice.</p><p>A <em>nice string</em> is one with all of the following properties:</p><ul>\n",
       "<li>It contains at least three vowels (<code>aeiou</code> only), like <code>aei</code>, <code>xazegov</code>, or <code title=\"John Madden John Madden John Madden\">aeiouaeiouaeiou</code>.</li><li>It contains at least one letter that appears twice in a row, like <code>xx</code>, <code>abcdde</code> (<code>dd</code>), or <code>aabbccdd</code> (<code>aa</code>, <code>bb</code>, <code>cc</code>, or <code>dd</code>).</li><li>It does <em>not</em> contain the strings <code>ab</code>, <code>cd</code>, <code>pq</code>, or <code>xy</code>, even if they are part of one of the other requirements.</li>\n",
       "</ul><p>For example:</p><ul>\n",
       "<li>\n",
       "<code>ugknbfddgicrmopn</code> is nice because it has at least three vowels (<code>u...i...o...</code>), a double letter (<code>...dd...</code>), and none of the disallowed substrings.</li><li>\n",
       "<code>aaa</code> is nice because it has at least three vowels and a double letter, even though the letters used by different rules overlap.</li><li>\n",
       "<code>jchzalrnumimnmhp</code> is naughty because it has no double letter.</li><li>\n",
       "<code>haegwjzuvuyypxyu</code> is naughty because it contains the string <code>xy</code>.</li><li>\n",
       "<code>dvszwmarrgswjxmb</code> is naughty because it contains only one vowel.</li>\n",
       "</ul><p>How many strings are nice?</p>\n",
       "</article>"
      ]
     },
     "metadata": {},
     "output_type": "display_data"
    },
    {
     "data": {
      "text/plain": [
       "(cached)"
      ]
     },
     "metadata": {},
     "output_type": "display_data"
    },
    {
     "data": {
      "text/html": [
       "<article class=\"day-desc\">\n",
       "<h2 id=\"part2\">--- Part Two ---</h2><p>Realizing the error of his ways, Santa has switched to a better model of determining whether a string is naughty or nice.  None of the old rules apply, as they are all clearly ridiculous.</p><p>Now, a nice string is one with all of the following properties:</p><ul>\n",
       "<li>It contains a pair of any two letters that appears at least twice in the string without overlapping, like <code>xyxy</code> (<code>xy</code>) or <code>aabcdefgaa</code> (<code>aa</code>), but not like <code>aaa</code> (<code>aa</code>, but it overlaps).</li><li>It contains at least one letter which repeats with exactly one letter between them, like <code>xyx</code>, <code>abcdefeghi</code> (<code>efe</code>), or even <code>aaa</code>.</li>\n",
       "</ul><p>For example:</p><ul>\n",
       "<li>\n",
       "<code>qjhvhtzxzqqjkmpb</code> is nice because is has a pair that appears twice (<code>qj</code>) and a letter that repeats with exactly one letter between them (<code>zxz</code>).</li><li>\n",
       "<code>xxyxx</code> is nice because it has a pair that appears twice and a letter that repeats with one between, even though the letters used by each rule overlap.</li><li>\n",
       "<code>uurcxstgmygtbstg</code> is naughty because it has a pair (<code>tg</code>) but no repeat with a single letter between them.</li><li>\n",
       "<code>ieodomkazucvgmuy</code> is naughty because it has a repeating letter with one between (<code>odo</code>), but no pair that appears twice.</li>\n",
       "</ul><p>How many strings are nice under these new rules?</p>\n",
       "</article>"
      ]
     },
     "metadata": {},
     "output_type": "display_data"
    },
    {
     "data": {
      "text/plain": [
       "(cached)"
      ]
     },
     "metadata": {},
     "output_type": "display_data"
    },
    {
     "data": {
      "text/plain": [
       "uxcplgxnkwbdwhrp\n",
       "suerykeptdsutidb\n",
       "dmrtgdkaimrrwmej\n",
       "ztxhjwllrckhakut\n",
       "gdnzurjbbwmgayrg\n",
       "gjdzbtrcxwprtery..."
      ]
     },
     "metadata": {},
     "output_type": "display_data"
    }
   ],
   "source": [
    "%%noresult\n",
    "source setup.tcl\n",
    "set year 2015\n",
    "set day 5\n",
    "aoc::get-puzzle $year $day 1\n",
    "aoc::get-puzzle $year $day 2\n",
    "set input [string trim [aoc::get-input $year $day]]\n",
    "jupyter::display text/plain [string range $input 0 100]..."
   ]
  },
  {
   "cell_type": "code",
   "execution_count": 35,
   "metadata": {},
   "outputs": [],
   "source": [
    "proc isnice {str} {\n",
    "    set step [string map [list ab {} cd {} pq {} xy {}] $str]\n",
    "    if {$step ne $str} {\n",
    "        return 0\n",
    "    }\n",
    "    if {![regexp {(.)\\1} $step]} {\n",
    "        return 0\n",
    "    }\n",
    "    if {![regexp {.*[aeiou].*[aeiou].*[aeiou].*} $step]} {\n",
    "        return 0\n",
    "    }\n",
    "    return 1\n",
    "}\n",
    "\n",
    "proc isnice2 {str} {\n",
    "    if {![regexp {(..).*\\1} $str]} {\n",
    "        return 0\n",
    "    }\n",
    "    if {![regexp {(.).\\1} $str]} {\n",
    "        return 0\n",
    "    }\n",
    "\n",
    "    return 1\n",
    "}"
   ]
  },
  {
   "cell_type": "code",
   "execution_count": 36,
   "metadata": {},
   "outputs": [
    {
     "name": "stdout",
     "output_type": "stream",
     "text": [
      "Day1\t236\n",
      "Day2\t51\n",
      "110491 microseconds per iteration\n"
     ]
    }
   ],
   "source": [
    "proc parts input {\n",
    "    set input [split $input \\n]\n",
    "    foreach str $input {\n",
    "        if {[isnice $str]} {incr result1}\n",
    "        if {[isnice2 $str]} {incr result2}\n",
    "    }\n",
    "\n",
    "\n",
    "    return [list $result1 $result2]\n",
    "}\n",
    "aoc::results"
   ]
  }
 ],
 "metadata": {
  "kernelspec": {
   "display_name": "Tcl",
   "language": "tcl",
   "name": "tcl"
  },
  "language_info": {
   "file_extension": ".tcl",
   "mimetype": "txt/x-tcl",
   "name": "tcl",
   "version": "8.6.11"
  }
 },
 "nbformat": 4,
 "nbformat_minor": 4
}
