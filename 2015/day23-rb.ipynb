{
 "cells": [
  {
   "cell_type": "code",
   "execution_count": 57,
   "metadata": {},
   "outputs": [],
   "source": [
    "input = File.read(\"./input/23.txt\").split(\"\\n\"); nil"
   ]
  },
  {
   "cell_type": "code",
   "execution_count": 62,
   "metadata": {},
   "outputs": [
    {
     "name": "stdout",
     "output_type": "stream",
     "text": [
      "Part1\n",
      "170\n",
      "Part2\n",
      "247\n"
     ]
    }
   ],
   "source": [
    "def run(prog, a, b)\n",
    "    state = {a: a,  b: b, pc: 0}\n",
    "    loop do\n",
    "#         p state\n",
    "          pc = state[:pc]\n",
    "          inst = prog[pc] || break\n",
    "          inst = inst.gsub(\",\",\"\").split(\" \")\n",
    "#         p inst\n",
    "          case inst[0]\n",
    "              when \"hlf\"\n",
    "                  reg = inst[1]\n",
    "                  state[reg.to_sym] = state[reg.to_sym]/2\n",
    "                  state[:pc]+=1\n",
    "                when \"tpl\"\n",
    "                  reg = inst[1]\n",
    "                  state[reg.to_sym] = state[reg.to_sym]*3\n",
    "                  state[:pc]+=1\n",
    "                when \"inc\"\n",
    "                  reg = inst[1]\n",
    "                  state[reg.to_sym] = state[reg.to_sym]+1\n",
    "                  state[:pc]+=1\n",
    "                when \"jmp\"\n",
    "                  offset = inst[1].to_i\n",
    "                  state[:pc]+=offset\n",
    "                when \"jie\"\n",
    "                  reg = inst[1]\n",
    "                  offset = inst[2].to_i\n",
    "                  if state[reg.to_sym].even? \n",
    "                  state[:pc]+=offset\n",
    "                  else\n",
    "                    state[:pc]+=1\n",
    "                  end\n",
    "                when \"jio\"\n",
    "                  reg = inst[1]\n",
    "                  offset = inst[2].to_i\n",
    "                  if state[reg.to_sym] == 1 \n",
    "                  state[:pc]+=offset\n",
    "                  else\n",
    "                    state[:pc]+=1\n",
    "                  end\n",
    "          else\n",
    "              throw \"Invalid opcode #{inst[0]}\"\n",
    "          end\n",
    "    end\n",
    "    state\n",
    "end\n",
    "puts \"Part1\",  (run input,0,0)[:b]\n",
    "puts \"Part2\", (run input,1,0)[:b]\n",
    "nil"
   ]
  },
  {
   "cell_type": "code",
   "execution_count": null,
   "metadata": {},
   "outputs": [],
   "source": []
  }
 ],
 "metadata": {
  "kernelspec": {
   "display_name": "Ruby 2.7.2",
   "language": "ruby",
   "name": "ruby"
  },
  "language_info": {
   "file_extension": ".rb",
   "mimetype": "application/x-ruby",
   "name": "ruby",
   "version": "2.7.2"
  }
 },
 "nbformat": 4,
 "nbformat_minor": 4
}
