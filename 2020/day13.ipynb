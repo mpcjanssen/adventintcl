{
 "cells": [
  {
   "cell_type": "code",
   "execution_count": 1,
   "metadata": {},
   "outputs": [],
   "source": [
    "    source setup.tcl"
   ]
  },
  {
   "cell_type": "code",
   "execution_count": 2,
   "metadata": {},
   "outputs": [
    {
     "data": {
      "text/html": [
       "<article class=\"day-desc\">\n",
       "<h2>--- Day 13: Shuttle Search ---</h2><p>Your ferry can make it safely to a nearby port, but it won't get much further. When you call to book another ship, you discover that no ships embark from that port to your vacation island. You'll need to get from the port to the nearest airport.</p><p>Fortunately, a shuttle bus service is available to bring you from the sea port to the airport!  Each bus has an ID number that also indicates <em>how often the bus leaves for the airport</em>.</p><p>Bus schedules are defined based on a <em>timestamp</em> that measures the <em>number of minutes</em> since some fixed reference point in the past. At timestamp <code>0</code>, every bus simultaneously departed from the sea port. After that, each bus travels to the airport, then various other locations, and finally returns to the sea port to repeat its journey forever.</p><p>The time this loop takes a particular bus is also its ID number: the bus with ID <code>5</code> departs from the sea port at timestamps <code>0</code>, <code>5</code>, <code>10</code>, <code>15</code>, and so on. The bus with ID <code>11</code> departs at <code>0</code>, <code>11</code>, <code>22</code>, <code>33</code>, and so on. If you are there when the bus departs, you can ride that bus to the airport!</p><p>Your notes (your puzzle input) consist of two lines.  The first line is your estimate of the <em>earliest timestamp you could depart on a bus</em>. The second line lists the bus IDs that are in service according to the shuttle company; entries that show <code>x</code> must be out of service, so you decide to ignore them.</p><p>To save time once you arrive, your goal is to figure out <em>the earliest bus you can take to the airport</em>. (There will be exactly one such bus.)</p><p>For example, suppose you have the following notes:</p><pre><code>939\n",
       "7,13,x,x,59,x,31,19\n",
       "</code></pre><p>Here, the earliest timestamp you could depart is <code>939</code>, and the bus IDs in service are <code>7</code>, <code>13</code>, <code>59</code>, <code>31</code>, and <code>19</code>. Near timestamp <code>939</code>, these bus IDs depart at the times marked <code>D</code>:</p><pre><code>time   bus 7   bus 13  bus 59  bus 31  bus 19\n",
       "929      .       .       .       .       .\n",
       "930      .       .       .       D       .\n",
       "931      D       .       .       .       D\n",
       "932      .       .       .       .       .\n",
       "933      .       .       .       .       .\n",
       "934      .       .       .       .       .\n",
       "935      .       .       .       .       .\n",
       "936      .       D       .       .       .\n",
       "937      .       .       .       .       .\n",
       "938      D       .       .       .       .\n",
       "<em>939      .       .       .       .       .</em>\n",
       "940      .       .       .       .       .\n",
       "941      .       .       .       .       .\n",
       "942      .       .       .       .       .\n",
       "943      .       .       .       .       .\n",
       "<em>944      .       .       D       .       .</em>\n",
       "945      D       .       .       .       .\n",
       "946      .       .       .       .       .\n",
       "947      .       .       .       .       .\n",
       "948      .       .       .       .       .\n",
       "949      .       D       .       .       .\n",
       "</code></pre><p>The earliest bus you could take is bus ID <code>59</code>. It doesn't depart until timestamp <code>944</code>, so you would need to wait <code>944 - 939 = 5</code> minutes before it departs. Multiplying the bus ID by the number of minutes you'd need to wait gives <em><code>295</code></em>.</p><p><em>What is the ID of the earliest bus you can take to the airport multiplied by the number of minutes you'll need to wait for that bus?</em></p>\n",
       "</article>"
      ]
     },
     "metadata": {},
     "output_type": "display_data"
    },
    {
     "ename": "Tcl error",
     "evalue": "invalid command name \"\"",
     "output_type": "error",
     "traceback": [
      "invalid command name \"\"\n    while executing\n\"[lindex [$doc selectNodes //article] $part] asHTML\"\n    (procedure \"aoc::get-puzzle\" line 22)\n    invoked from within\n\"aoc::get-puzzle 2020 13 2\""
     ]
    }
   ],
   "source": [
    "aoc::get-puzzle 2020 13 1\n",
    "aoc::get-puzzle 2020 13 2\n",
    "set input [aoc::get-input 2020 13]\n",
    "jupyter::html \"<h2>Input</h2>\"\n",
    "jupyter::display \"text/plain\" [string range $input 0 100]...;"
   ]
  },
  {
   "cell_type": "code",
   "execution_count": 43,
   "metadata": {},
   "outputs": [
    {
     "name": "stdout",
     "output_type": "stream",
     "text": [
      "Day1\t923\n",
      "Day2\t\n",
      "2195 microseconds per iteration\n"
     ]
    }
   ],
   "source": [
    "proc move {pos dir num} {\n",
    "    switch $dir {\n",
    "        N {dict incr pos y -$num}\n",
    "        S {dict incr pos y $num}\n",
    "        E {dict incr pos x $num}\n",
    "        W {dict incr pos x -$num}\n",
    "    }\n",
    "    return $pos\n",
    "}\n",
    "\n",
    "proc facing {org cmd num} {\n",
    "    set dir [dict get {N 0 S 180 E 90 W 270} $org]\n",
    "    set mult [dict get {L -1 R 1}  $cmd]\n",
    "    set newdir [expr {($dir+($mult*$num)) % 360}]\n",
    "    return [dict get {0 N -90 W 90 E -180 S 180 S -270 E 270 W} $newdir]\n",
    "}\n",
    "\n",
    "proc parts input {\n",
    "    set input [split [string trim $input] \\n]\n",
    "    set facing E\n",
    "    set pos {x 0 y 0}\n",
    "    foreach inst $input {\n",
    "        # puts [format \"%s -> %4s \\[%s\\] \" $pos $facing $inst]\n",
    "        scan $inst %1s%d cmd num\n",
    "        switch $cmd {\n",
    "            N {set pos [move $pos $cmd $num]}\n",
    "            S {set pos [move $pos $cmd $num]}\n",
    "            E {set pos [move $pos $cmd $num]}\n",
    "            W {set pos [move $pos $cmd $num]}\n",
    "            F {set pos [move $pos $facing $num]}\n",
    "            L { set facing [facing $facing $cmd $num]}\n",
    "            R { set facing [facing $facing $cmd $num]}\n",
    "        }\n",
    "    }\n",
    "    set x [dict get $pos x]\n",
    "    set y [dict get $pos y]\n",
    "    \n",
    "    set result1 [expr {abs($x) + abs($y)}]\n",
    " #   return [list $result1 $result2]\n",
    "}\n",
    "aoc::results "
   ]
  },
  {
   "cell_type": "code",
   "execution_count": 16,
   "metadata": {},
   "outputs": [
    {
     "ename": "Tcl error",
     "evalue": "wrong # args: should be \"scan string format ?varName ...?\"",
     "output_type": "error",
     "traceback": [
      "wrong # args: should be \"scan string format ?varName ...?\"\n    while executing\n\"scan\""
     ]
    }
   ],
   "source": [
    "scan"
   ]
  },
  {
   "cell_type": "code",
   "execution_count": 69,
   "metadata": {},
   "outputs": [
    {
     "ename": "Tcl error",
     "evalue": "wrong # args: should be \"dict set dictVarName key ?key ...? value\"",
     "output_type": "error",
     "traceback": [
      "wrong # args: should be \"dict set dictVarName key ?key ...? value\"\n    while executing\n\"dict set\""
     ]
    }
   ],
   "source": [
    "dict set"
   ]
  },
  {
   "cell_type": "code",
   "execution_count": 4,
   "metadata": {},
   "outputs": [
    {
     "ename": "Tcl error",
     "evalue": "unknown or ambiguous subcommand \"getdas\": must be append, create, exists, filter, for, get, getdef, getwithdefault, incr, info, keys, lappend, map, merge, remove, replace, set, size, unset, update, values, or with",
     "output_type": "error",
     "traceback": [
      "unknown or ambiguous subcommand \"getdas\": must be append, create, exists, filter, for, get, getdef, getwithdefault, incr, info, keys, lappend, map, merge, remove, replace, set, size, unset, update, values, or with\n    while executing\n\"dict getdas\""
     ]
    }
   ],
   "source": [
    "dict getdas"
   ]
  },
  {
   "cell_type": "code",
   "execution_count": 5,
   "metadata": {},
   "outputs": [
    {
     "ename": "Tcl error",
     "evalue": "wrong # args: should be \"dict getdef dictionary ?key ...? key default\"",
     "output_type": "error",
     "traceback": [
      "wrong # args: should be \"dict getdef dictionary ?key ...? key default\"\n    while executing\n\"dict getdef\""
     ]
    }
   ],
   "source": [
    "dict getdef"
   ]
  },
  {
   "cell_type": "code",
   "execution_count": 10,
   "metadata": {},
   "outputs": [
    {
     "ename": "Tcl error",
     "evalue": "unknown or ambiguous subcommand \"equals\": must be anymore, default, donesearch, exists, for, get, names, nextelement, set, size, startsearch, statistics, or unset",
     "output_type": "error",
     "traceback": [
      "unknown or ambiguous subcommand \"equals\": must be anymore, default, donesearch, exists, for, get, names, nextelement, set, size, startsearch, statistics, or unset\n    while executing\n\"array equals\""
     ]
    }
   ],
   "source": [
    "array equals"
   ]
  },
  {
   "cell_type": "code",
   "execution_count": null,
   "metadata": {},
   "outputs": [],
   "source": []
  }
 ],
 "metadata": {
  "kernelspec": {
   "display_name": "Tcl 8.7",
   "language": "tcl",
   "name": "tcl8.7"
  },
  "language_info": {
   "file_extension": ".tcl",
   "mimetype": "txt/x-tcl",
   "name": "tcl",
   "version": "8.7a4"
  }
 },
 "nbformat": 4,
 "nbformat_minor": 4
}
