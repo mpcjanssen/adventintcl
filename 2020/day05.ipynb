{
 "cells": [
  {
   "cell_type": "code",
   "execution_count": 2,
   "metadata": {},
   "outputs": [],
   "source": [
    "source setup.tcl"
   ]
  },
  {
   "cell_type": "code",
   "execution_count": 71,
   "metadata": {},
   "outputs": [
    {
     "name": "stderr",
     "output_type": "stream",
     "text": [
      "cached\n"
     ]
    },
    {
     "data": {
      "text/html": [
       "<article class=\"day-desc\">\n",
       "<h2>--- Day 4: Passport Processing ---</h2><p>You arrive at the airport only to realize that you grabbed your North Pole Credentials instead of your passport. While these documents are extremely similar, North Pole Credentials aren't issued by a country and therefore aren't actually valid documentation for travel in most of the world.</p><p>It seems like you're not the only one having problems, though; a very long line has formed for the automatic passport scanners, and the delay could upset your travel itinerary.</p><p>Due to some questionable network security, you realize you might be able to solve both of these problems at the same time.</p><p>The automatic passport scanners are slow because they're having trouble <em>detecting which passports have all required fields</em>. The expected fields are as follows:</p><ul>\n",
       "<li>\n",
       "<code>byr</code> (Birth Year)</li><li>\n",
       "<code>iyr</code> (Issue Year)</li><li>\n",
       "<code>eyr</code> (Expiration Year)</li><li>\n",
       "<code>hgt</code> (Height)</li><li>\n",
       "<code>hcl</code> (Hair Color)</li><li>\n",
       "<code>ecl</code> (Eye Color)</li><li>\n",
       "<code>pid</code> (Passport ID)</li><li>\n",
       "<code>cid</code> (Country ID)</li>\n",
       "</ul><p>Passport data is validated in batch files (your puzzle input). Each passport is represented as a sequence of <code>key:value</code> pairs separated by spaces or newlines. Passports are separated by blank lines.</p><p>Here is an example batch file containing four passports:</p><pre><code>ecl:gry pid:860033327 eyr:2020 hcl:#fffffd\n",
       "byr:1937 iyr:2017 cid:147 hgt:183cm\n",
       "\n",
       "iyr:2013 ecl:amb cid:350 eyr:2023 pid:028048884\n",
       "hcl:#cfa07d byr:1929\n",
       "\n",
       "hcl:#ae17e1 iyr:2013\n",
       "eyr:2024\n",
       "ecl:brn pid:760753108 byr:1931\n",
       "hgt:179cm\n",
       "\n",
       "hcl:#cfa07d eyr:2025 pid:166559648\n",
       "iyr:2011 ecl:brn hgt:59in\n",
       "</code></pre><p>The first passport is <em>valid</em> - all eight fields are present. The second passport is <em>invalid</em> - it is missing <code>hgt</code> (the Height field).</p><p>The third passport is interesting; the <em>only missing field</em> is <code>cid</code>, so it looks like data from North Pole Credentials, not a passport at all! Surely, nobody would mind if you made the system temporarily ignore missing <code>cid</code> fields.  Treat this \"passport\" as <em>valid</em>.</p><p>The fourth passport is missing two fields, <code>cid</code> and <code>byr</code>. Missing <code>cid</code> is fine, but missing any other field is not, so this passport is <em>invalid</em>.</p><p>According to the above rules, your improved system would report <code><em>2</em></code> valid passports.</p><p>Count the number of <em>valid</em> passports - those that have all required fields. Treat <code>cid</code> as optional. <em>In your batch file, how many passports are valid?</em>\n",
       "</p>\n",
       "</article>"
      ]
     },
     "metadata": {},
     "output_type": "display_data"
    },
    {
     "name": "stderr",
     "output_type": "stream",
     "text": [
      "cached\n"
     ]
    },
    {
     "data": {
      "text/html": [
       "<article class=\"day-desc\">\n",
       "<h2 id=\"part2\">--- Part Two ---</h2><p>The line is moving more quickly now, but you overhear airport security talking about how passports with invalid data are getting through. Better add some data validation, quick!</p><p>You can continue to ignore the <code>cid</code> field, but each other field has <span title=\"GLORY TO ARSTOTZKA\">strict rules</span> about what values are valid for automatic validation:</p><ul>\n",
       "<li>\n",
       "<code>byr</code> (Birth Year) - four digits; at least <code>1920</code> and at most <code>2002</code>.</li><li>\n",
       "<code>iyr</code> (Issue Year) - four digits; at least <code>2010</code> and at most <code>2020</code>.</li><li>\n",
       "<code>eyr</code> (Expiration Year) - four digits; at least <code>2020</code> and at most <code>2030</code>.</li><li>\n",
       "<code>hgt</code> (Height) - a number followed by either <code>cm</code> or <code>in</code>:\n",
       "  <ul>\n",
       "<li>If <code>cm</code>, the number must be at least <code>150</code> and at most <code>193</code>.</li><li>If <code>in</code>, the number must be at least <code>59</code> and at most <code>76</code>.</li>\n",
       "</ul>\n",
       "</li><li>\n",
       "<code>hcl</code> (Hair Color) - a <code>#</code> followed by exactly six characters <code>0</code>-<code>9</code> or <code>a</code>-<code>f</code>.</li><li>\n",
       "<code>ecl</code> (Eye Color) - exactly one of: <code>amb</code><code>blu</code><code>brn</code><code>gry</code><code>grn</code><code>hzl</code><code>oth</code>.</li><li>\n",
       "<code>pid</code> (Passport ID) - a nine-digit number, including leading zeroes.</li><li>\n",
       "<code>cid</code> (Country ID) - ignored, missing or not.</li>\n",
       "</ul><p>Your job is to count the passports where all required fields are both <em>present</em> and <em>valid</em> according to the above rules. Here are some example values:</p><pre><code>byr valid:   2002\n",
       "byr invalid: 2003\n",
       "\n",
       "hgt valid:   60in\n",
       "hgt valid:   190cm\n",
       "hgt invalid: 190in\n",
       "hgt invalid: 190\n",
       "\n",
       "hcl valid:   #123abc\n",
       "hcl invalid: #123abz\n",
       "hcl invalid: 123abc\n",
       "\n",
       "ecl valid:   brn\n",
       "ecl invalid: wat\n",
       "\n",
       "pid valid:   000000001\n",
       "pid invalid: 0123456789\n",
       "</code></pre><p>Here are some invalid passports:</p><pre><code>eyr:1972 cid:100\n",
       "hcl:#18171d ecl:amb hgt:170 pid:186cm iyr:2018 byr:1926\n",
       "\n",
       "iyr:2019\n",
       "hcl:#602927 eyr:1967 hgt:170cm\n",
       "ecl:grn pid:012533040 byr:1946\n",
       "\n",
       "hcl:dab227 iyr:2012\n",
       "ecl:brn hgt:182cm pid:021572410 eyr:2020 byr:1992 cid:277\n",
       "\n",
       "hgt:59cm ecl:zzz\n",
       "eyr:2038 hcl:74454a iyr:2023\n",
       "pid:3556412378 byr:2007\n",
       "</code></pre><p>Here are some valid passports:</p><pre><code>pid:087499704 hgt:74in ecl:grn iyr:2012 eyr:2030 byr:1980\n",
       "hcl:#623a2f\n",
       "\n",
       "eyr:2029 ecl:blu cid:129 byr:1989\n",
       "iyr:2014 pid:896056539 hcl:#a97842 hgt:165cm\n",
       "\n",
       "hcl:#888785\n",
       "hgt:164cm byr:2001 iyr:2015 cid:88\n",
       "pid:545766238 ecl:hzl\n",
       "eyr:2022\n",
       "\n",
       "iyr:2010 hgt:158cm hcl:#b6652a ecl:blu byr:1944 eyr:2021 pid:093154719\n",
       "</code></pre><p>Count the number of <em>valid</em> passports - those that have all required fields <em>and valid values</em>. Continue to treat <code>cid</code> as optional. <em>In your batch file, how many passports are valid?</em>\n",
       "</p>\n",
       "</article>"
      ]
     },
     "metadata": {},
     "output_type": "display_data"
    },
    {
     "name": "stderr",
     "output_type": "stream",
     "text": [
      "cached\n"
     ]
    },
    {
     "data": {
      "text/html": [
       "<h2>Input</h2>"
      ]
     },
     "metadata": {},
     "output_type": "display_data"
    },
    {
     "name": "stdout",
     "output_type": "stream",
     "text": [
      "byr:2024 iyr:2016\n",
      "eyr:2034 ecl:zzz pid:985592671 hcl:033b48\n",
      "hgt:181 cid:166\n",
      "\n",
      "hgt:66cm\n",
      "pid:152cm\n",
      "hcl:c...\n"
     ]
    }
   ],
   "source": [
    "aoc::get-puzzle 2020 4 1\n",
    "aoc::get-puzzle 2020 4 2\n",
    "set input [aoc::get-input 2020 4]\n",
    "jupyter::display \"text/html\" \"<h2>Input</h2>\"\n",
    "puts [string range $input 0 100]..."
   ]
  },
  {
   "cell_type": "code",
   "execution_count": 66,
   "metadata": {},
   "outputs": [
    {
     "name": "stdout",
     "output_type": "stream",
     "text": [
      "Part1\t247\n",
      "Part2\t145\n",
      "5315 microseconds per iteration\n"
     ]
    }
   ],
   "source": [
    "proc validhgt {hgt} {\n",
    "    if {[regexp {^([0-9]+)(cm|in)$} $hgt -> size unit]} {\n",
    "        switch $unit {\n",
    "            in {return [expr {$size >= 59 && $size <=76}]}\n",
    "            cm {return [expr {$size >= 150 && $size <=193}]}\n",
    "        }\n",
    "\n",
    "    }\n",
    "    return false\n",
    "}\n",
    "\n",
    "proc parts input {\n",
    "    set result1 0\n",
    "    set result2 0\n",
    "    set data [split [string map [list \\n\\n \\f \\n { }] $input] \\f]\n",
    "    foreach line $data {\n",
    "        set pass {}\n",
    "        set fields {}\n",
    "        set dict [lsearch -all -inline -not  [lsort [lmap l $line {split $l : }]] cid]\n",
    "\n",
    "        foreach field  $dict  {\n",
    "            lappend fields [lindex $field 0]\n",
    "            lappend pass {*}$field\n",
    "        }\n",
    "        array set apass $pass\n",
    "        if {$fields ne [lsort {byr iyr eyr hgt hcl ecl pid}] && $fields ne [lsort {byr iyr eyr hgt hcl ecl pid cid}] } {\n",
    "            continue\n",
    "        }\n",
    "        incr result1\n",
    "        dict with pass {\n",
    "            if {$byr < 1920 || $byr > 2002} continue\n",
    "            if {$iyr < 2010 || $iyr > 2020} continue\n",
    "            if {$eyr < 2020 || $eyr > 2030} continue\n",
    "            if {![regexp {^#[0-9a-f]{6}$} $hcl]} continue\n",
    "            if {![validhgt $hgt]} continue\n",
    "            if {$ecl ni {amb blu brn gry grn hzl oth}} continue\n",
    "            if {![regexp {^[0-9]{9}$} $pid]} continue\n",
    "        }\n",
    "        incr result2\n",
    "    }\n",
    "    puts \"Part1\\t$result1\"\n",
    "    puts \"Part2\\t$result2\"\n",
    "}\n",
    "puts [time {parts $input}]"
   ]
  }
 ],
 "metadata": {
  "kernelspec": {
   "display_name": "Tcl",
   "language": "tcl",
   "name": "tcljupyter"
  },
  "language_info": {
   "file_extension": ".tcl",
   "mimetype": "txt/x-tcl",
   "name": "tcl",
   "version": "8.6.10"
  }
 },
 "nbformat": 4,
 "nbformat_minor": 4
}
