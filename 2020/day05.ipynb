{
 "cells": [
  {
   "cell_type": "code",
   "execution_count": 2,
   "metadata": {},
   "outputs": [],
   "source": [
    "source setup.tcl"
   ]
  },
  {
   "cell_type": "code",
   "execution_count": null,
   "metadata": {},
   "outputs": [],
   "source": [
    "aoc::get-puzzle 2020 5 1\n",
    "# aoc::get-puzzle 2020 5 2\n",
    "set input [aoc::get-input 2020 5]\n",
    "jupyter::display \"text/html\" \"<h2>Input</h2>\"\n",
    "puts [string range $input 0 100]..."
   ]
  },
  {
   "cell_type": "code",
   "execution_count": 66,
   "metadata": {},
   "outputs": [
    {
     "name": "stdout",
     "output_type": "stream",
     "text": [
      "Part1\t247\n",
      "Part2\t145\n",
      "5315 microseconds per iteration\n"
     ]
    }
   ],
   "source": [
    "\n",
    "\n",
    "proc parts input {\n",
    "    set result1 0\n",
    "    set result2 0\n",
    "    set data [split [string map [list \\n\\n \\f \\n { }] $input] \\f]\n",
    "    \n",
    "    puts \"Part1\\t$result1\"\n",
    "    puts \"Part2\\t$result2\"\n",
    "}\n",
    "puts [time {parts $input}]"
   ]
  }
 ],
 "metadata": {
  "kernelspec": {
   "display_name": "Tcl",
   "language": "tcl",
   "name": "tcljupyter"
  },
  "language_info": {
   "file_extension": ".tcl",
   "mimetype": "txt/x-tcl",
   "name": "tcl",
   "version": "8.6.10"
  }
 },
 "nbformat": 4,
 "nbformat_minor": 4
}
