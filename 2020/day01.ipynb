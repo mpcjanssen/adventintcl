{
 "cells": [
  {
   "cell_type": "code",
   "execution_count": 165,
   "metadata": {},
   "outputs": [],
   "source": [
    "source setup.tcl"
   ]
  },
  {
   "cell_type": "code",
   "execution_count": 161,
   "metadata": {},
   "outputs": [
    {
     "data": {
      "text/html": [
       "<article class=\"day-desc\">\n",
       "<h2>--- Day 1: Report Repair ---</h2><p>After saving Christmas <a href=\"/events\">five years in a row</a>, you've decided to take a vacation at a nice resort on a tropical island. <span title=\"WHAT COULD GO WRONG\">Surely</span>, Christmas will go on without you.</p><p>The tropical island has its own currency and is entirely cash-only.  The gold coins used there have a little picture of a starfish; the locals just call them <em class=\"star\">stars</em>. None of the currency exchanges seem to have heard of them, but somehow, you'll need to find fifty of these coins by the time you arrive so you can pay the deposit on your room.</p><p>To save your vacation, you need to get all <em class=\"star\">fifty stars</em> by December 25th.</p><p>Collect stars by solving puzzles.  Two puzzles will be made available on each day in the Advent calendar; the second puzzle is unlocked when you complete the first.  Each puzzle grants <em class=\"star\">one star</em>. Good luck!</p><p>Before you leave, the Elves in accounting just need you to fix your <em>expense report</em> (your puzzle input); apparently, something isn't quite adding up.</p><p>Specifically, they need you to <em>find the two entries that sum to <code>2020</code>\n",
       "</em> and then multiply those two numbers together.</p><p>For example, suppose your expense report contained the following:</p><pre><code>1721\n",
       "979\n",
       "366\n",
       "299\n",
       "675\n",
       "1456\n",
       "</code></pre><p>In this list, the two entries that sum to <code>2020</code> are <code>1721</code> and <code>299</code>. Multiplying them together produces <code>1721 * 299 = 514579</code>, so the correct answer is <code><em>514579</em></code>.</p><p>Of course, your expense report is much larger. <em>Find the two entries that sum to <code>2020</code>; what do you get if you multiply them together?</em>\n",
       "</p>\n",
       "</article>"
      ]
     },
     "metadata": {},
     "output_type": "display_data"
    }
   ],
   "source": [
    "aoc::get-puzzle 2020 1 1"
   ]
  },
  {
   "cell_type": "code",
   "execution_count": 168,
   "metadata": {},
   "outputs": [
    {
     "name": "stdout",
     "output_type": "stream",
     "text": [
      "1470\n",
      "1577\n",
      "1054\n",
      "1962\n",
      "1107\n",
      "1123\n",
      "1683\n",
      "1680\n",
      "1176\n",
      "1917\n",
      "1786\n",
      "1565\n",
      "1464\n",
      "1097\n",
      "1363\n",
      "1091\n",
      "1072\n",
      "1821\n",
      "1514\n",
      "1526\n",
      "1\n"
     ]
    }
   ],
   "source": [
    "set input [aoc::get-input 2020 1];\n",
    "puts [string range $input 0 100]"
   ]
  },
  {
   "cell_type": "code",
   "execution_count": 169,
   "metadata": {},
   "outputs": [
    {
     "data": {
      "text/plain": []
     },
     "execution_count": 169,
     "metadata": {},
     "output_type": "execute_result"
    }
   ],
   "source": [
    "set data [split [string trim $input] \\n];"
   ]
  },
  {
   "cell_type": "code",
   "execution_count": 41,
   "metadata": {},
   "outputs": [
    {
     "data": {
      "text/html": [
       "<article class=\"day-desc\">\n",
       "<h2 id=\"part2\">--- Part Two ---</h2><p>The Elves in accounting are thankful for your help; one of them even offers you a starfish coin they had left over from a past vacation. They offer you a second one if you can find <em>three</em> numbers in your expense report that meet the same criteria.</p><p>Using the above example again, the three entries that sum to <code>2020</code> are <code>979</code>, <code>366</code>, and <code>675</code>. Multiplying them together produces the answer, <code><em>241861950</em></code>.</p><p>In your expense report, <em>what is the product of the three entries that sum to <code>2020</code>?</em>\n",
       "</p>\n",
       "</article>"
      ]
     },
     "metadata": {},
     "output_type": "display_data"
    }
   ],
   "source": [
    "aoc::get-puzzle 2020 1 2"
   ]
  },
  {
   "cell_type": "code",
   "execution_count": 170,
   "metadata": {},
   "outputs": [
    {
     "name": "stdout",
     "output_type": "stream",
     "text": [
      "Part2:\t173538720\n",
      "Part1:\t618144\n",
      "Part2:\t173538720\n",
      "Part1:\t618144\n",
      "Part2:\t173538720\n",
      "Part1:\t618144\n",
      "Part2:\t173538720\n",
      "Part1:\t618144\n",
      "Part2:\t173538720\n",
      "Part1:\t618144\n",
      "Part2:\t173538720\n",
      "Part1:\t618144\n",
      "Part2:\t173538720\n",
      "Part1:\t618144\n",
      "Part2:\t173538720\n",
      "Part1:\t618144\n",
      "Part2:\t173538720\n",
      "Part1:\t618144\n",
      "Part2:\t173538720\n",
      "Part1:\t618144\n"
     ]
    },
    {
     "data": {
      "text/plain": [
       "23121.9 microseconds per iteration"
      ]
     },
     "execution_count": 170,
     "metadata": {},
     "output_type": "execute_result"
    }
   ],
   "source": [
    "proc parts data {\n",
    "    set data [lsort -integer $data]\n",
    "    set l [llength $data]\n",
    "    for {set x 0} {$x < $l} {incr x} {\n",
    "            for {set y [expr {$x+1}]} {$y < $l} {incr y} {\n",
    "                set a [lindex $data $x]\n",
    "                set b [lindex $data $y]\n",
    "                if {$a + $b > 2020} break\n",
    "                 if {$a+$b == 2020} {\n",
    "                    puts  Part1:\\t[ * $a $b ]\n",
    "                }\n",
    "                for {set z [expr {$y+1}]} {$z < $l} {incr z} {\n",
    "                    set c [lindex $data $z]  \n",
    "                    if {$a+$b+$c == 2020} {\n",
    "                    puts  Part2:\\t[* $a $b $c]\n",
    "                   \n",
    "                }           \n",
    "            }\n",
    "        }\n",
    "    }\n",
    "}\n",
    "time {parts $data} 10"
   ]
  }
 ],
 "metadata": {
  "kernelspec": {
   "display_name": "Tcl",
   "language": "tcl",
   "name": "tcljupyter"
  },
  "language_info": {
   "file_extension": ".tcl",
   "mimetype": "txt/x-tcl",
   "name": "tcl",
   "version": "8.6.10"
  }
 },
 "nbformat": 4,
 "nbformat_minor": 4
}
