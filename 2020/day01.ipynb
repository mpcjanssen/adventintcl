{
 "cells": [
  {
   "cell_type": "code",
   "execution_count": 22,
   "metadata": {},
   "outputs": [
    {
     "data": {
      "text/html": [
       "<article class=\"day-desc\">\n",
       "<h2>--- Day 1: Report Repair ---</h2><p>After saving Christmas <a href=\"/events\">five years in a row</a>, you've decided to take a vacation at a nice resort on a tropical island. <span title=\"WHAT COULD GO WRONG\">Surely</span>, Christmas will go on without you.</p><p>The tropical island has its own currency and is entirely cash-only.  The gold coins used there have a little picture of a starfish; the locals just call them <em class=\"star\">stars</em>. None of the currency exchanges seem to have heard of them, but somehow, you'll need to find fifty of these coins by the time you arrive so you can pay the deposit on your room.</p><p>To save your vacation, you need to get all <em class=\"star\">fifty stars</em> by December 25th.</p><p>Collect stars by solving puzzles.  Two puzzles will be made available on each day in the Advent calendar; the second puzzle is unlocked when you complete the first.  Each puzzle grants <em class=\"star\">one star</em>. Good luck!</p><p>Before you leave, the Elves in accounting just need you to fix your <em>expense report</em> (your puzzle input); apparently, something isn't quite adding up.</p><p>Specifically, they need you to <em>find the two entries that sum to <code>2020</code>\n",
       "</em> and then multiply those two numbers together.</p><p>For example, suppose your expense report contained the following:</p><pre><code>1721\n",
       "979\n",
       "366\n",
       "299\n",
       "675\n",
       "1456\n",
       "</code></pre><p>In this list, the two entries that sum to <code>2020</code> are <code>1721</code> and <code>299</code>. Multiplying them together produces <code>1721 * 299 = 514579</code>, so the correct answer is <code><em>514579</em></code>.</p><p>Of course, your expense report is much larger. <em>Find the two entries that sum to <code>2020</code>; what do you get if you multiply them together?</em>\n",
       "</p>\n",
       "</article>"
      ]
     },
     "metadata": {},
     "output_type": "display_data"
    }
   ],
   "source": [
    "source setup.tcl\n",
    "aoc::get-puzzle 2020 1 1"
   ]
  },
  {
   "cell_type": "code",
   "execution_count": 56,
   "metadata": {},
   "outputs": [
    {
     "data": {
      "text/plain": []
     },
     "execution_count": 56,
     "metadata": {},
     "output_type": "execute_result"
    }
   ],
   "source": [
    "set input [aoc::get-input 2020 1];"
   ]
  },
  {
   "cell_type": "code",
   "execution_count": 92,
   "metadata": {},
   "outputs": [
    {
     "data": {
      "text/plain": [
       "1470 1577 1054 1962 1107 1123 1683 1680 1176 1917 1786 1565 1464 1097 1363 1091 1072 1821 1514 1526 1633 1953 1594 1386 1611 1354 490 1302 1785 1504 1100 1631 1570 1906 1678 1742 1505 1894 1682 1854 1663 1284 1346 1390 1285 1993 1301 1288 1882 1434 1435 1370 1603 1974 1364 1667 1561 1205 1487 1676 1654 1352 1584 1445 376 1945 1864 1981 2001 1254 1335 1337 1769 1467 1332 2008 1732 1365 1852 1553 1324 1642 1927 1658 1750 1380 1232 1457 1567 1735 1259 1780 1653 1400 1489 1439 1315 1891 1249 1770 1214 1961 92 1479 1901 1331 1476 1969 1480 289 1855 1325 1518 1819 1089 1849 2006 1996 1833 1965 1547 1397 1153 1622 1216 1609 1323 1148 1262 1347 1118 1808 2010 1256 1529 1169 1094 1738 1544 1517 1644 1221 1699 1655 1474 1977 1717 1143 1721 1417 957 1938 1193 1863 1730 1187 1628 1314 1483 1606 1602 1116 835 480 1955 1900 1968 1903 1436 1771 1774 1832 1586 1844 1198 1687 1283 1740 1273 1973 1665 1251 1889 1521 1648 1718 1263 1635 1122 1243 1085 1991 1271 1230 1245 1318 1373 1911 1282 1306"
      ]
     },
     "execution_count": 92,
     "metadata": {},
     "output_type": "execute_result"
    }
   ],
   "source": [
    "set data [split [string trim $input] \\n]"
   ]
  },
  {
   "cell_type": "code",
   "execution_count": 41,
   "metadata": {},
   "outputs": [
    {
     "data": {
      "text/html": [
       "<article class=\"day-desc\">\n",
       "<h2 id=\"part2\">--- Part Two ---</h2><p>The Elves in accounting are thankful for your help; one of them even offers you a starfish coin they had left over from a past vacation. They offer you a second one if you can find <em>three</em> numbers in your expense report that meet the same criteria.</p><p>Using the above example again, the three entries that sum to <code>2020</code> are <code>979</code>, <code>366</code>, and <code>675</code>. Multiplying them together produces the answer, <code><em>241861950</em></code>.</p><p>In your expense report, <em>what is the product of the three entries that sum to <code>2020</code>?</em>\n",
       "</p>\n",
       "</article>"
      ]
     },
     "metadata": {},
     "output_type": "display_data"
    }
   ],
   "source": [
    "aoc::get-puzzle 2020 1 2"
   ]
  },
  {
   "cell_type": "code",
   "execution_count": 133,
   "metadata": {},
   "outputs": [
    {
     "name": "stdout",
     "output_type": "stream",
     "text": [
      "Part2:\t173538720\n",
      "Part1:\t618144\n"
     ]
    },
    {
     "data": {
      "text/plain": [
       "24885 microseconds per iteration"
      ]
     },
     "execution_count": 133,
     "metadata": {},
     "output_type": "execute_result"
    }
   ],
   "source": [
    "proc parts data {\n",
    "    set data [lsort -integer $data]\n",
    "    set l [llength $data]\n",
    "    for {set x 0} {$x < $l} {incr x} {\n",
    "            for {set y [expr {$x+1}]} {$y < $l} {incr y} {\n",
    "                set a [lindex $data $x]\n",
    "                set b [lindex $data $y]\n",
    "                if {$a + $b > 2020} break\n",
    "                 if {$a+$b == 2020} {\n",
    "                    puts  Part1:\\t[ expr {$a*$b} ]\n",
    "                }\n",
    "                for {set z [expr {$y+1}]} {$z < $l} {incr z} {\n",
    "                    set c [lindex $data $z]  \n",
    "                    if {$a+$b+$c == 2020} {\n",
    "                    puts  Part2:\\t[ expr {$a*$b*$c} ]\n",
    "                   \n",
    "                }           \n",
    "            }\n",
    "        }\n",
    "    }\n",
    "}\n",
    "time {parts $data}"
   ]
  },
  {
   "cell_type": "code",
   "execution_count": null,
   "metadata": {},
   "outputs": [],
   "source": []
  }
 ],
 "metadata": {
  "kernelspec": {
   "display_name": "Tcl",
   "language": "tcl",
   "name": "tcljupyter"
  },
  "language_info": {
   "file_extension": ".tcl",
   "mimetype": "txt/x-tcl",
   "name": "tcl",
   "version": "8.6.10"
  }
 },
 "nbformat": 4,
 "nbformat_minor": 4
}
