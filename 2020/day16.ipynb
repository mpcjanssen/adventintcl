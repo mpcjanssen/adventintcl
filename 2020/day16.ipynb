{
 "cells": [
  {
   "cell_type": "code",
   "execution_count": 1,
   "metadata": {},
   "outputs": [
    {
     "name": "stderr",
     "output_type": "stream",
     "text": [
      "couldn't read file \"setup.tcl\": no such file or directory\n",
      "    while executing\n",
      "\"source setup.tcl\"\n"
     ]
    }
   ],
   "source": [
    "source setup.tcl\n",
    "\n",
    "aoc::get-puzzle 2020 16 1\n",
    "# aoc::get-puzzle 2020 15 2\n",
    "set input [aoc::get-input 2020 16]\n",
    "jupyter::html \"<h2>Input</h2>\"\n",
    "jupyter::display \"text/plain\" [string range $input 0 100]...;"
   ]
  },
  {
   "cell_type": "code",
   "execution_count": 36,
   "metadata": {},
   "outputs": [
    {
     "name": "stdout",
     "output_type": "stream",
     "text": [
      "1\n"
     ]
    },
    {
     "data": {
      "text/plain": [
       "1073 microseconds per iteration"
      ]
     },
     "execution_count": 36,
     "metadata": {},
     "output_type": "execute_result"
    }
   ],
   "source": [
    "proc part {input count} {\n",
    "    set ll [lrepeat $count \"\"]\n",
    "    set turn 1\n",
    "    foreach in [lrange $input 0 end-1] {\n",
    "        lset ll $in $turn\n",
    "        incr turn\n",
    "    }\n",
    "\n",
    "    set curr [lindex $input end]\n",
    "\n",
    "\n",
    "    while {$turn <= $count} {\n",
    "        set last [lindex $ll $curr]\n",
    "        switch $last {\n",
    "            \"\" {\n",
    "                lset ll $curr $turn\n",
    "                set curr 0\n",
    "            }\n",
    "            default {\n",
    "                set curr [- $turn $last]\n",
    "                lset ll $curr $turn\n",
    "            }\n",
    "        }\n",
    "        incr turn\n",
    "    }\n",
    "    return $curr\n",
    "}\n",
    "\n",
    "time {puts [ part {0 3 6} 12 ]}\n"
   ]
  },
  {
   "cell_type": "code",
   "execution_count": 35,
   "metadata": {},
   "outputs": [
    {
     "ename": "Tcl error",
     "evalue": "index \"11\" out of range",
     "output_type": "error",
     "traceback": [
      "index \"11\" out of range\n    while executing\n\"lset ll $in $turn\"\n    (procedure \"part\" line 5)\n    invoked from within\n\"part $input 10\"\n    (procedure \"parts\" line 3)\n    invoked from within\n\"parts $::input\"\n    invoked from within\n\"time {lassign [parts $::input] result1 result2}\"\n    (procedure \"aoc::results\" line 5)\n    invoked from within\n\"aoc::results \""
     ]
    }
   ],
   "source": [
    "proc parts input {\n",
    "    set input [split [string trim $input] ,]\n",
    "    set result1 [part $input 10]\n",
    "    # set result2 [part $input 30000000]\n",
    "    set result2 0\n",
    "    return [list $result1 $result2]\n",
    "}\n",
    "aoc::results "
   ]
  },
  {
   "cell_type": "code",
   "execution_count": 19,
   "metadata": {},
   "outputs": [
    {
     "name": "stdout",
     "output_type": "stream",
     "text": [
      "0\n",
      "0\n",
      "5\n",
      "4\n",
      "0\n",
      "0\n",
      "9\n",
      "3\n",
      "0\n"
     ]
    },
    {
     "data": {
      "text/plain": [
       "5320 microseconds per iteration"
      ]
     },
     "execution_count": 19,
     "metadata": {},
     "output_type": "execute_result"
    }
   ],
   "source": []
  },
  {
   "cell_type": "code",
   "execution_count": 5,
   "metadata": {},
   "outputs": [
    {
     "ename": "Tcl error",
     "evalue": "wrong # args: should be \"dict with dictVarName ?key ...? script\"",
     "output_type": "error",
     "traceback": [
      "wrong # args: should be \"dict with dictVarName ?key ...? script\"\n    while executing\n\"dict with\""
     ]
    }
   ],
   "source": [
    "dict with"
   ]
  },
  {
   "cell_type": "code",
   "execution_count": 30,
   "metadata": {},
   "outputs": [
    {
     "data": {
      "text/plain": []
     },
     "execution_count": 30,
     "metadata": {},
     "output_type": "execute_result"
    }
   ],
   "source": [
    "lrepeat 30000000 0;"
   ]
  }
 ],
 "metadata": {
  "kernelspec": {
   "display_name": "Tcl",
   "language": "tcl",
   "name": "tcl"
  },
  "language_info": {
   "file_extension": ".tcl",
   "mimetype": "txt/x-tcl",
   "name": "tcl",
   "version": "8.6.10"
  }
 },
 "nbformat": 4,
 "nbformat_minor": 4
}
