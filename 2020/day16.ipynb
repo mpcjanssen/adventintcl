{
 "cells": [
  {
   "cell_type": "code",
   "execution_count": 3,
   "metadata": {},
   "outputs": [
    {
     "data": {
      "text/html": [
       "<article class=\"day-desc\">\n",
       "<h2>--- Day 16: Ticket Translation ---</h2><p>As you're walking to yet another connecting flight, you realize that one of the legs of your re-routed trip coming up is on a high-speed train. However, the train ticket you were given is in a language you don't understand. You should probably figure out what it says before you get to the train station after the next flight.</p><p>Unfortunately, you <span title=\"This actually happened to me once, but I solved it by just asking someone.\">can't actually <em>read</em> the words on the ticket</span>. You can, however, read the numbers, and so you figure out <em>the fields these tickets must have</em> and <em>the valid ranges</em> for values in those fields.</p><p>You collect the <em>rules for ticket fields</em>, the <em>numbers on your ticket</em>, and the <em>numbers on other nearby tickets</em> for the same train service (via the airport security cameras) together into a single document you can reference (your puzzle input).</p><p>The <em>rules for ticket fields</em> specify a list of fields that exist <em>somewhere</em> on the ticket and the <em>valid ranges of values</em> for each field. For example, a rule like <code>class: 1-3 or 5-7</code> means that one of the fields in every ticket is named <code>class</code> and can be any value in the ranges <code>1-3</code> or <code>5-7</code> (inclusive, such that <code>3</code> and <code>5</code> are both valid in this field, but <code>4</code> is not).</p><p>Each ticket is represented by a single line of comma-separated values. The values are the numbers on the ticket in the order they appear; every ticket has the same format. For example, consider this ticket:</p><pre><code>.--------------------------------------------------------.\n",
       "| ????: 101    ?????: 102   ??????????: 103     ???: 104 |\n",
       "|                                                        |\n",
       "| ??: 301  ??: 302             ???????: 303      ??????? |\n",
       "| ??: 401  ??: 402           ???? ????: 403    ????????? |\n",
       "'--------------------------------------------------------'\n",
       "</code></pre><p>Here, <code>?</code> represents text in a language you don't understand. This ticket might be represented as <code>101,102,103,104,301,302,303,401,402,403</code>; of course, the actual train tickets you're looking at are <em>much</em> more complicated. In any case, you've extracted just the numbers in such a way that the first number is always the same specific field, the second number is always a different specific field, and so on - you just don't know what each position actually means!</p><p>Start by determining which tickets are <em>completely invalid</em>; these are tickets that contain values which <em>aren't valid for any field</em>. Ignore <em>your ticket</em> for now.</p><p>For example, suppose you have the following notes:</p><pre><code>class: 1-3 or 5-7\n",
       "row: 6-11 or 33-44\n",
       "seat: 13-40 or 45-50\n",
       "\n",
       "your ticket:\n",
       "7,1,14\n",
       "\n",
       "nearby tickets:\n",
       "7,3,47\n",
       "40,<em>4</em>,50\n",
       "<em>55</em>,2,20\n",
       "38,6,<em>12</em>\n",
       "</code></pre><p>It doesn't matter which position corresponds to which field; you can identify invalid <em>nearby tickets</em> by considering only whether tickets contain <em>values that are not valid for any field</em>. In this example, the values on the first <em>nearby ticket</em> are all valid for at least one field. This is not true of the other three <em>nearby tickets</em>: the values <code>4</code>, <code>55</code>, and <code>12</code> are are not valid for any field. Adding together all of the invalid values produces your <em>ticket scanning error rate</em>: <code>4 + 55 + 12</code> = <em><code>71</code></em>.</p><p>Consider the validity of the <em>nearby tickets</em> you scanned. <em>What is your ticket scanning error rate?</em>\n",
       "</p>\n",
       "</article>"
      ]
     },
     "metadata": {},
     "output_type": "display_data"
    },
    {
     "data": {
      "text/html": [
       "<h2>Input</h2>"
      ]
     },
     "metadata": {},
     "output_type": "display_data"
    },
    {
     "data": {
      "text/plain": [
       "departure location: 49-627 or 650-970\n",
       "departure station: 26-400 or 413-965\n",
       "departure platform: 28-375..."
      ]
     },
     "metadata": {},
     "output_type": "display_data"
    },
    {
     "data": {
      "text/plain": []
     },
     "execution_count": 3,
     "metadata": {},
     "output_type": "execute_result"
    }
   ],
   "source": [
    "source setup.tcl\n",
    "\n",
    "aoc::get-puzzle 2020 16 1\n",
    "# aoc::get-puzzle 2020 15 2\n",
    "set input [aoc::get-input 2020 16]\n",
    "jupyter::html \"<h2>Input</h2>\"\n",
    "jupyter::display \"text/plain\" [string range $input 0 100]...;"
   ]
  },
  {
   "cell_type": "code",
   "execution_count": 36,
   "metadata": {},
   "outputs": [
    {
     "name": "stdout",
     "output_type": "stream",
     "text": [
      "1\n"
     ]
    },
    {
     "data": {
      "text/plain": [
       "1073 microseconds per iteration"
      ]
     },
     "execution_count": 36,
     "metadata": {},
     "output_type": "execute_result"
    }
   ],
   "source": [
    "proc part {input count} {\n",
    "    set ll [lrepeat $count \"\"]\n",
    "    set turn 1\n",
    "    foreach in [lrange $input 0 end-1] {\n",
    "        lset ll $in $turn\n",
    "        incr turn\n",
    "    }\n",
    "\n",
    "    set curr [lindex $input end]\n",
    "\n",
    "\n",
    "    while {$turn <= $count} {\n",
    "        set last [lindex $ll $curr]\n",
    "        switch $last {\n",
    "            \"\" {\n",
    "                lset ll $curr $turn\n",
    "                set curr 0\n",
    "            }\n",
    "            default {\n",
    "                set curr [- $turn $last]\n",
    "                lset ll $curr $turn\n",
    "            }\n",
    "        }\n",
    "        incr turn\n",
    "    }\n",
    "    return $curr\n",
    "}\n",
    "\n",
    "time {puts [ part {0 3 6} 12 ]}\n"
   ]
  },
  {
   "cell_type": "code",
   "execution_count": 35,
   "metadata": {},
   "outputs": [
    {
     "ename": "Tcl error",
     "evalue": "index \"11\" out of range",
     "output_type": "error",
     "traceback": [
      "index \"11\" out of range\n    while executing\n\"lset ll $in $turn\"\n    (procedure \"part\" line 5)\n    invoked from within\n\"part $input 10\"\n    (procedure \"parts\" line 3)\n    invoked from within\n\"parts $::input\"\n    invoked from within\n\"time {lassign [parts $::input] result1 result2}\"\n    (procedure \"aoc::results\" line 5)\n    invoked from within\n\"aoc::results \""
     ]
    }
   ],
   "source": [
    "proc parts input {\n",
    "    set input [split [string trim $input] ,]\n",
    "    set result1 [part $input 10]\n",
    "    # set result2 [part $input 30000000]\n",
    "    set result2 0\n",
    "    return [list $result1 $result2]\n",
    "}\n",
    "aoc::results "
   ]
  },
  {
   "cell_type": "code",
   "execution_count": 19,
   "metadata": {},
   "outputs": [
    {
     "name": "stdout",
     "output_type": "stream",
     "text": [
      "0\n",
      "0\n",
      "5\n",
      "4\n",
      "0\n",
      "0\n",
      "9\n",
      "3\n",
      "0\n"
     ]
    },
    {
     "data": {
      "text/plain": [
       "5320 microseconds per iteration"
      ]
     },
     "execution_count": 19,
     "metadata": {},
     "output_type": "execute_result"
    }
   ],
   "source": []
  },
  {
   "cell_type": "code",
   "execution_count": 5,
   "metadata": {},
   "outputs": [
    {
     "ename": "Tcl error",
     "evalue": "wrong # args: should be \"dict with dictVarName ?key ...? script\"",
     "output_type": "error",
     "traceback": [
      "wrong # args: should be \"dict with dictVarName ?key ...? script\"\n    while executing\n\"dict with\""
     ]
    }
   ],
   "source": [
    "dict with"
   ]
  },
  {
   "cell_type": "code",
   "execution_count": 30,
   "metadata": {},
   "outputs": [
    {
     "data": {
      "text/plain": []
     },
     "execution_count": 30,
     "metadata": {},
     "output_type": "execute_result"
    }
   ],
   "source": [
    "lrepeat 30000000 0;"
   ]
  }
 ],
 "metadata": {
  "kernelspec": {
   "display_name": "Tcl 8.7",
   "language": "tcl",
   "name": "tcl8.7"
  },
  "language_info": {
   "file_extension": ".tcl",
   "mimetype": "txt/x-tcl",
   "name": "tcl",
   "version": "8.7a4"
  }
 },
 "nbformat": 4,
 "nbformat_minor": 4
}
