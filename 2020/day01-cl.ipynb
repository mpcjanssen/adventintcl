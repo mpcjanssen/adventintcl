{
 "cells": [
  {
   "cell_type": "code",
   "execution_count": 1,
   "metadata": {},
   "outputs": [
    {
     "name": "stdout",
     "output_type": "stream",
     "text": [
      "To load \"alexandria\":\n",
      "  Load 1 ASDF system:\n",
      "    alexandria\n"
     ]
    },
    {
     "data": {
      "text/plain": [
       "(:ALEXANDRIA)"
      ]
     },
     "execution_count": 1,
     "metadata": {},
     "output_type": "execute_result"
    },
    {
     "data": {
      "text/plain": [
       "+NUMBERS+"
      ]
     },
     "execution_count": 1,
     "metadata": {},
     "output_type": "execute_result"
    },
    {
     "data": {
      "text/plain": [
       "173538720"
      ]
     },
     "execution_count": 1,
     "metadata": {},
     "output_type": "execute_result"
    },
    {
     "name": "stdout",
     "output_type": "stream",
     "text": [
      "\n",
      "; Loading \"alexandria\"\n",
      "\n",
      "\n",
      "618144 \n",
      "173538720 "
     ]
    }
   ],
   "source": [
    "(ql:quickload :alexandria)\n",
    "\n",
    "(defparameter +numbers+ (mapcar #'parse-integer (uiop:read-file-lines \"./input/1.txt\")))\n",
    "\n",
    ";; Solve for steps 1 and 2 using the same mechanism...\n",
    "(macrolet ((find-numbers (l)\n",
    "             `(block try-block\n",
    "                (flet ((test-fn (p)\n",
    "                         (when (equal 2020 (apply #'+ p))\n",
    "                           (return-from try-block (apply #'* p)))))\n",
    "                  (alexandria:map-combinations #'test-fn +numbers+ :length ,l)))))\n",
    "  (print (find-numbers 2))\n",
    "  (print (find-numbers 3)))"
   ]
  },
  {
   "cell_type": "code",
   "execution_count": 3,
   "metadata": {},
   "outputs": [
    {
     "data": {
      "text/plain": [
       "(1470 1577 1054 1962 1107 1123 1683 1680 1176 1917 1786 1565 1464 1097 1363\n",
       " 1091 1072 1821 1514 1526 1633 1953 1594 1386 1611 1354 490 1302 1785 1504 1100\n",
       " 1631 1570 1906 1678 1742 1505 1894 1682 1854 1663 1284 1346 1390 1285 1993\n",
       " 1301 1288 1882 1434 1435 1370 1603 1974 1364 1667 1561 1205 1487 1676 1654\n",
       " 1352 1584 1445 376 1945 1864 1981 2001 1254 1335 1337 1769 1467 1332 2008 1732\n",
       " 1365 1852 1553 1324 1642 1927 1658 1750 1380 1232 1457 1567 1735 1259 1780\n",
       " 1653 1400 1489 1439 1315 1891 1249 1770 1214 1961 92 1479 1901 1331 1476 1969\n",
       " 1480 289 1855 1325 1518 1819 1089 1849 2006 1996 1833 1965 1547 1397 1153 1622\n",
       " 1216 1609 1323 1148 1262 1347 1118 1808 2010 1256 1529 1169 1094 1738 1544\n",
       " 1517 1644 1221 1699 1655 1474 1977 1717 1143 1721 1417 957 1938 1193 1863 1730\n",
       " 1187 1628 1314 1483 1606 1602 1116 835 480 1955 1900 1968 1903 1436 1771 1774\n",
       " 1832 1586 1844 1198 1687 1283 1740 1273 1973 1665 1251 1889 1521 1648 1718\n",
       " 1263 1635 1122 1243 1085 1991 1271 1230 1245 1318 1373 1911 1282 1306)"
      ]
     },
     "execution_count": 3,
     "metadata": {},
     "output_type": "execute_result"
    }
   ],
   "source": [
    "*input*"
   ]
  },
  {
   "cell_type": "code",
   "execution_count": null,
   "metadata": {},
   "outputs": [],
   "source": [
    "(loop for (n m) = '(*input* *input*) collect n)"
   ]
  },
  {
   "cell_type": "code",
   "execution_count": null,
   "metadata": {},
   "outputs": [],
   "source": []
  }
 ],
 "metadata": {
  "kernelspec": {
   "display_name": "Common Lisp",
   "language": "common-lisp",
   "name": "common-lisp"
  },
  "language_info": {
   "codemirror_mode": "text/x-common-lisp",
   "file_extension": ".lisp",
   "mimetype": "text/x-common-lisp",
   "name": "common-lisp",
   "pygments_lexer": "common-lisp",
   "version": "2.0.11.debian"
  }
 },
 "nbformat": 4,
 "nbformat_minor": 4
}
