{
 "cells": [
  {
   "cell_type": "code",
   "execution_count": 1,
   "metadata": {},
   "outputs": [],
   "source": [
    "source setup.tcl"
   ]
  },
  {
   "cell_type": "code",
   "execution_count": 2,
   "metadata": {},
   "outputs": [
    {
     "data": {
      "text/plain": [
       "(cached)"
      ]
     },
     "metadata": {},
     "output_type": "display_data"
    },
    {
     "data": {
      "text/html": [
       "<article class=\"day-desc\">\n",
       "<h2>--- Day 7: Handy Haversacks ---</h2><p>You land at the regional airport in time for your next flight. In fact, it looks like you'll even have time to grab some food: all flights are currently delayed due to <em>issues in luggage processing</em>.</p><p>Due to recent aviation regulations, many rules (your puzzle input) are being enforced about bags and their contents; bags must be color-coded and must contain specific quantities of other color-coded bags. Apparently, nobody responsible for these regulations considered how long they would take to enforce!</p><p>For example, consider the following rules:</p><pre><code>light red bags contain 1 bright white bag, 2 muted yellow bags.\n",
       "dark orange bags contain 3 bright white bags, 4 muted yellow bags.\n",
       "bright white bags contain 1 shiny gold bag.\n",
       "muted yellow bags contain 2 shiny gold bags, 9 faded blue bags.\n",
       "shiny gold bags contain 1 dark olive bag, 2 vibrant plum bags.\n",
       "dark olive bags contain 3 faded blue bags, 4 dotted black bags.\n",
       "vibrant plum bags contain 5 faded blue bags, 6 dotted black bags.\n",
       "faded blue bags contain no other bags.\n",
       "dotted black bags contain no other bags.\n",
       "</code></pre><p>These rules specify the required contents for 9 bag types. In this example, every <code>faded blue</code> bag is empty, every <code>vibrant plum</code> bag contains 11 bags (5 <code>faded blue</code> and 6 <code>dotted black</code>), and so on.</p><p>You have a <code><em>shiny gold</em></code> bag. If you wanted to carry it in at least one other bag, how many different bag colors would be valid for the outermost bag? (In other words: how many colors can, eventually, contain at least one <code>shiny gold</code> bag?)</p><p>In the above rules, the following options would be available to you:</p><ul>\n",
       "<li>A <code>bright white</code> bag, which can hold your <code>shiny gold</code> bag directly.</li><li>A <code>muted yellow</code> bag, which can hold your <code>shiny gold</code> bag directly, plus some other bags.</li><li>A <code>dark orange</code> bag, which can hold <code>bright white</code> and <code>muted yellow</code> bags, either of which could then hold your <code>shiny gold</code> bag.</li><li>A <code>light red</code> bag, which can hold <code>bright white</code> and <code>muted yellow</code> bags, either of which could then hold your <code>shiny gold</code> bag.</li>\n",
       "</ul><p>So, in this example, the number of bag colors that can eventually contain at least one <code>shiny gold</code> bag is <code><em>4</em></code>.</p><p>\n",
       "<em>How many bag colors can eventually contain at least one <code>shiny gold</code> bag?</em> (The list of rules is quite long; make sure you get all of it.)</p>\n",
       "</article>"
      ]
     },
     "metadata": {},
     "output_type": "display_data"
    },
    {
     "data": {
      "text/plain": [
       "(cached)"
      ]
     },
     "metadata": {},
     "output_type": "display_data"
    },
    {
     "data": {
      "text/html": [
       "<h2>Input</h2>"
      ]
     },
     "metadata": {},
     "output_type": "display_data"
    },
    {
     "data": {
      "text/plain": [
       "dotted salmon bags contain 2 dark lavender bags, 1 muted red bag, 1 vibrant magenta bag.\n",
       "vibrant purp..."
      ]
     },
     "metadata": {},
     "output_type": "display_data"
    },
    {
     "data": {
      "text/plain": []
     },
     "execution_count": 2,
     "metadata": {},
     "output_type": "execute_result"
    }
   ],
   "source": [
    "aoc::get-puzzle 2020 7 1\n",
    "aoc::get-puzzle 2020 7 2\n",
    "set input [aoc::get-input 2020 7]\n",
    "jupyter::html \"<h2>Input</h2>\"\n",
    "jupyter::display \"text/plain\" [string range $input 0 100]...;"
   ]
  },
  {
   "cell_type": "code",
   "execution_count": 3,
   "metadata": {},
   "outputs": [
    {
     "name": "stdout",
     "output_type": "stream",
     "text": [
      "Day1\t161\n",
      "Day2\t30899\n",
      "71731 microseconds per iteration\n"
     ]
    }
   ],
   "source": [
    "    proc contents bag {\n",
    "        variable contains\n",
    "        set count 0\n",
    "        if {![info exists contains($bag)]} {\n",
    "            return 0\n",
    "        } else {\n",
    "            foreach b $contains($bag) {\n",
    "                incr count\n",
    "                incr count [contents $b]\n",
    "            }\n",
    "        }\n",
    "        return $count\n",
    "    }\n",
    "        \n",
    "    proc parts input {\n",
    "      variable contains\n",
    "\n",
    "        set data [string map [list contain \\f] [string trim $input]]\n",
    "        unset -nocomplain inbag\n",
    "        unset -nocomplain contains\n",
    "        foreach rule [split $data \\n] {\n",
    "            lassign [split $rule \\f] bag has\n",
    "            foreach c [split $has ,] {\n",
    "                set c [string map {bags {} bag {}} [string trim $c { .} ]]\n",
    "                set bag [string trim [string map {bags {} bag {}} $bag]]\n",
    "                set cbag [lassign $c amount]\n",
    "                if {$amount ne \"no\"} {\n",
    "                    lappend contains($bag) {*}[lrepeat $amount  $cbag ]\n",
    "                }\n",
    "                lappend inbag($cbag) $bag\n",
    "            }\n",
    "        }\n",
    "        # parray inbag\n",
    "        set count 0\n",
    "        set bags  $inbag(shiny gold)\n",
    "        set workdone 1\n",
    "        while {$workdone} {\n",
    "            set workdone 0\n",
    "            foreach bag $bags {\n",
    "                if {[info exists inbag($bag)]} {\n",
    "                    foreach cbag $inbag($bag) {\n",
    "                        if {[lsearch $bags $cbag] == -1} {\n",
    "                            lappend bags $cbag\n",
    "                            set workdone 1 \n",
    "                        }\n",
    "                    }\n",
    "\n",
    "                }\n",
    "            }\n",
    "        }\n",
    "\n",
    "\n",
    "        set result1 [llength $bags]\n",
    "        set result2 [contents \"shiny gold\"]\n",
    "        return [list $result1 $result2]\n",
    "    }\n",
    "    aoc::results"
   ]
  },
  {
   "cell_type": "code",
   "execution_count": null,
   "metadata": {},
   "outputs": [],
   "source": []
  }
 ],
 "metadata": {
  "kernelspec": {
   "display_name": "Tcl",
   "language": "tcl",
   "name": "tcljupyter"
  },
  "language_info": {
   "file_extension": ".tcl",
   "mimetype": "txt/x-tcl",
   "name": "tcl",
   "version": "8.6.10"
  }
 },
 "nbformat": 4,
 "nbformat_minor": 4
}
