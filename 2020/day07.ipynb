{
 "cells": [
  {
   "cell_type": "code",
   "execution_count": 12,
   "metadata": {},
   "outputs": [],
   "source": [
    "source setup.tcl"
   ]
  },
  {
   "cell_type": "code",
   "execution_count": 13,
   "metadata": {},
   "outputs": [
    {
     "ename": "Tcl error",
     "evalue": "Please don't repeatedly request this endpoint before it unlocks! The calendar countdown is synchronized with the server time; the link will be enabled on the calendar the instant this puzzle becomes available.\n",
     "output_type": "error",
     "traceback": [
      "Please don't repeatedly request this endpoint before it unlocks! The calendar countdown is synchronized with the server time; the link will be enabled on the calendar the instant this puzzle becomes available.\n\n    while executing\n\"aoc::get-input 2020 7\""
     ]
    }
   ],
   "source": [
    "aoc::get-puzzle 2020 7 1\n",
    "# aoc::get-puzzle 2020 7 2\n",
    "set input [aoc::get-input 2020 7]\n",
    "jupyter::display \"text/html\" \"<h2>Input</h2>\"\n",
    "jupyter::display \"text/plain\" [string range $input 0 100]...;"
   ]
  },
  {
   "cell_type": "code",
   "execution_count": 14,
   "metadata": {},
   "outputs": [
    {
     "name": "stdout",
     "output_type": "stream",
     "text": [
      "Day1\t0\n",
      "Day2\t0\n",
      "25 microseconds per iteration\n"
     ]
    }
   ],
   "source": [
    "  proc parts input {\n",
    "        set result1 {}\n",
    "        set result2 {}\n",
    "        set data [string trim $input]\n",
    "        return [list $result1 $result2]\n",
    "    }\n",
    "    aoc::results"
   ]
  },
  {
   "cell_type": "code",
   "execution_count": null,
   "metadata": {},
   "outputs": [],
   "source": []
  }
 ],
 "metadata": {
  "kernelspec": {
   "display_name": "Tcl",
   "language": "tcl",
   "name": "tcljupyter"
  },
  "language_info": {
   "file_extension": ".tcl",
   "mimetype": "txt/x-tcl",
   "name": "tcl",
   "version": "8.6.10"
  }
 },
 "nbformat": 4,
 "nbformat_minor": 4
}
