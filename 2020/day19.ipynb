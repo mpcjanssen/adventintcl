{
 "cells": [
  {
   "cell_type": "code",
   "execution_count": 5,
   "metadata": {},
   "outputs": [
    {
     "data": {
      "text/plain": [
       "(cached)"
      ]
     },
     "metadata": {},
     "output_type": "display_data"
    },
    {
     "data": {
      "text/html": [
       "<article class=\"day-desc\">\n",
       "<h2>--- Day 19: Monster Messages ---</h2><p>You land in an airport surrounded by dense forest. As you walk to your high-speed train, the Elves at the <span title=\"This is a purely fictional organization. Any resemblance to actual organizations, past or present, is purely coincidental.\">Mythical Information Bureau</span> contact you again. They think their satellite has collected an image of a <em>sea monster</em>! Unfortunately, the connection to the satellite is having problems, and many of the messages sent back from the satellite have been corrupted.</p><p>They sent you a list of <em>the rules valid messages should obey</em> and a list of <em>received messages</em> they've collected so far (your puzzle input).</p><p>The <em>rules for valid messages</em> (the top part of your puzzle input) are numbered and build upon each other. For example:</p><pre><code>0: 1 2\n",
       "1: \"a\"\n",
       "2: 1 3 | 3 1\n",
       "3: \"b\"\n",
       "</code></pre><p>Some rules, like <code>3: \"b\"</code>, simply match a single character (in this case, <code>b</code>).</p><p>The remaining rules list the sub-rules that must be followed; for example, the rule <code>0: 1 2</code> means that to match rule <code>0</code>, the text being checked must match rule <code>1</code>, and the text after the part that matched rule <code>1</code> must then match rule <code>2</code>.</p><p>Some of the rules have multiple lists of sub-rules separated by a pipe (<code>|</code>). This means that <em>at least one</em> list of sub-rules must match. (The ones that match might be different each time the rule is encountered.) For example, the rule <code>2: 1 3 | 3 1</code> means that to match rule <code>2</code>, the text being checked must match rule <code>1</code> followed by rule <code>3</code><em>or</em> it must match rule <code>3</code> followed by rule <code>1</code>.</p><p>Fortunately, there are no loops in the rules, so the list of possible matches will be finite. Since rule <code>1</code> matches <code>a</code> and rule <code>3</code> matches <code>b</code>, rule <code>2</code> matches either <code>ab</code> or <code>ba</code>. Therefore, rule <code>0</code> matches <code>aab</code> or <code>aba</code>.</p><p>Here's a more interesting example:</p><pre><code>0: 4 1 5\n",
       "1: 2 3 | 3 2\n",
       "2: 4 4 | 5 5\n",
       "3: 4 5 | 5 4\n",
       "4: \"a\"\n",
       "5: \"b\"\n",
       "</code></pre><p>Here, because rule <code>4</code> matches <code>a</code> and rule <code>5</code> matches <code>b</code>, rule <code>2</code> matches two letters that are the same (<code>aa</code> or <code>bb</code>), and rule <code>3</code> matches two letters that are different (<code>ab</code> or <code>ba</code>).</p><p>Since rule <code>1</code> matches rules <code>2</code> and <code>3</code> once each in either order, it must match two pairs of letters, one pair with matching letters and one pair with different letters. This leaves eight possibilities: <code>aaab</code>, <code>aaba</code>, <code>bbab</code>, <code>bbba</code>, <code>abaa</code>, <code>abbb</code>, <code>baaa</code>, or <code>babb</code>.</p><p>Rule <code>0</code>, therefore, matches <code>a</code> (rule <code>4</code>), then any of the eight options from rule <code>1</code>, then <code>b</code> (rule <code>5</code>): <code>aaaabb</code>, <code>aaabab</code>, <code>abbabb</code>, <code>abbbab</code>, <code>aabaab</code>, <code>aabbbb</code>, <code>abaaab</code>, or <code>ababbb</code>.</p><p>The <em>received messages</em> (the bottom part of your puzzle input) need to be checked against the rules so you can determine which are valid and which are corrupted. Including the rules and the messages together, this might look like:</p><pre><code>0: 4 1 5\n",
       "1: 2 3 | 3 2\n",
       "2: 4 4 | 5 5\n",
       "3: 4 5 | 5 4\n",
       "4: \"a\"\n",
       "5: \"b\"\n",
       "\n",
       "ababbb\n",
       "bababa\n",
       "abbbab\n",
       "aaabbb\n",
       "aaaabbb\n",
       "</code></pre><p>Your goal is to determine <em>the number of messages that completely match rule <code>0</code>\n",
       "</em>. In the above example, <code>ababbb</code> and <code>abbbab</code> match, but <code>bababa</code>, <code>aaabbb</code>, and <code>aaaabbb</code> do not, producing the answer <em><code>2</code></em>. The whole message must match all of rule <code>0</code>; there can't be extra unmatched characters in the message. (For example, <code>aaaabbb</code> might appear to match rule <code>0</code> above, but it has an extra unmatched <code>b</code> on the end.)</p><p><em>How many messages completely match rule <code>0</code>?</em></p>\n",
       "</article>"
      ]
     },
     "metadata": {},
     "output_type": "display_data"
    },
    {
     "data": {
      "text/plain": [
       "(cached)"
      ]
     },
     "metadata": {},
     "output_type": "display_data"
    },
    {
     "data": {
      "text/html": [
       "<h2>Input</h2>"
      ]
     },
     "metadata": {},
     "output_type": "display_data"
    },
    {
     "data": {
      "text/plain": [
       "98: 29 106\n",
       "14: 29 1 | 106 52\n",
       "16: 1 106 | 69 29\n",
       "63: 106 113 | 29 39\n",
       "117: 29 88 | 106 115\n",
       "65: 86 106 | ..."
      ]
     },
     "metadata": {},
     "output_type": "display_data"
    }
   ],
   "source": [
    "source ../modules/setup.tcl\n",
    "set year 2020\n",
    "set day 19\n",
    "aoc::get-puzzle $year $day 1\n",
    "# aoc::get-puzzle $year $day 2\n",
    "\n",
    "set input [string trim [aoc::get-input $year $day]]\n",
    "jupyter::html \"<h2>Input</h2>\"\n",
    "jupyter::display \"text/plain\" [string range $input 0 100]...;"
   ]
  },
  {
   "cell_type": "code",
   "execution_count": 32,
   "metadata": {},
   "outputs": [],
   "source": [
    "namespace import tcl::mathop::*\n",
    "proc reduce {terms order} {\n",
    "    set n [llength $terms]\n",
    "    foreach ops $order {\n",
    "        set n [llength $terms]\n",
    "        set nterms {}\n",
    "        for {set i 0} {$i<$n} {incr i} {\n",
    "            set tok [lindex $terms $i] \n",
    "            if {$tok in $ops} {\n",
    "                set first [lindex $nterms end]\n",
    "                incr i\n",
    "                set second [lindex $terms $i]\n",
    "                set nterms [lreplace $nterms end end [$tok $first $second]]\n",
    "            } else {\n",
    "                lappend nterms [lindex $terms $i]\n",
    "            }\n",
    "        }\n",
    "        set terms $nterms\n",
    "    }\n",
    "    return $terms\n",
    "    \n",
    "    \n",
    "}\n",
    "\n",
    "proc _calc {input order idx} {\n",
    "    set phrase {}\n",
    "    while {$idx < [string length $input]} {\n",
    "        set c [string index $input $idx]\n",
    "        incr idx\n",
    "        if {$c eq \" \"} continue\n",
    "        if {$c eq \"(\"} {\n",
    "            lassign [_calc $input $order $idx] part idx\n",
    "            lappend phrase $part\n",
    "            continue\n",
    "        }\n",
    "        if {$c eq \")\"} {\n",
    "            return [list [reduce $phrase $order] $idx]\n",
    "        }\n",
    "        lappend phrase $c\n",
    "        \n",
    "    }\n",
    "    return [list $phrase $idx]\n",
    "}\n",
    "proc calc {input order} {\n",
    "    lassign [_calc $input $order 0] phrase\n",
    "    reduce $phrase $order\n",
    "}"
   ]
  },
  {
   "cell_type": "code",
   "execution_count": 6,
   "metadata": {},
   "outputs": [
    {
     "name": "stderr",
     "output_type": "stream",
     "text": [
      "invalid command name \"calc\"\n",
      "    while executing\n",
      "\"calc $l {{+ *}}\"\n",
      "    (procedure \"parts\" line 3)\n",
      "    invoked from within\n",
      "\"parts $::input\"\n",
      "    invoked from within\n",
      "\"time {lassign [parts $::input] result1 result2}\"\n",
      "    (procedure \"aoc::results\" line 5)\n",
      "    invoked from within\n",
      "\"aoc::results \"\n"
     ]
    }
   ],
   "source": [
    "proc parts input {\n",
    "   \n",
    "    set result1  [+ {*}[lmap l [split $input \\n] {calc $l {{+ *}}}]]\n",
    "    set result2  [+ {*}[lmap l [split $input \\n] {calc $l {+ *}}]]\n",
    "    return [list $result1 $result2]\n",
    "}\n",
    "aoc::results "
   ]
  },
  {
   "cell_type": "code",
   "execution_count": 30,
   "metadata": {},
   "outputs": [
    {
     "name": "stdout",
     "output_type": "stream",
     "text": [
      "{3 29} {62 106}\n",
      "t:3\n",
      "{106 29} {29 29}\n",
      "t:106\n",
      "t:29\n",
      "t:29\n",
      "t:29\n",
      "t:29\n",
      "t:62\n",
      "{96 96}\n",
      "t:96\n",
      "106 29\n",
      "t:106\n",
      "t:29\n",
      "t:96\n",
      "106 29\n",
      "t:106\n",
      "t:29\n",
      "t:106\n"
     ]
    },
    {
     "data": {
      "text/plain": [
       "{ab bbb} {{a ba b}a}"
      ]
     },
     "execution_count": 30,
     "metadata": {},
     "output_type": "execute_result"
    }
   ],
   "source": [
    "array unset rules\n",
    "foreach l [split $input \\n] {\n",
    "    if {[string trim $l] eq {}} break\n",
    "    lassign [split $l :] num rule\n",
    "    set rules($num) [lmap x [split $rule |] {string trim $x}]\n",
    "}\n",
    "\n",
    "proc match {rule string} {\n",
    "    set results {}\n",
    "    set rule $::rules($num)\n",
    "    switch -exact $rule {\n",
    "        {{\"a\"}} {return [string equals $string \"a\"]}\n",
    "        {{\"b\"}} {return [string equals $string \"a\"]}\n",
    "    }\n",
    "    puts $rule\n",
    "    foreach rule $::rules($num) {\n",
    "        \n",
    "        set subresult {}\n",
    "\n",
    "        foreach subrule $rule {\n",
    "            foreach term $subrule {\n",
    "                puts t:$term\n",
    "                foreach tr [expand $subrule] {\n",
    "                    \n",
    "                }\n",
    "            }\n",
    "        }\n",
    "        lappend results $subresult\n",
    "    }\n",
    "    \n",
    "    return $results\n",
    "}\n",
    "expand 1"
   ]
  },
  {
   "cell_type": "code",
   "execution_count": 11,
   "metadata": {},
   "outputs": [
    {
     "name": "stdout",
     "output_type": "stream",
     "text": [
      "rules(0)   = {8 11}\n",
      "rules(1)   = {3 29} {62 106}\n",
      "rules(10)  = {106 40} {29 105}\n",
      "rules(100) = {96 3}\n",
      "rules(101) = {29 3} {106 98}\n",
      "rules(102) = {29 72} {106 12}\n",
      "rules(103) = {119 29} {98 106}\n",
      "rules(104) = {29 66} {106 76}\n",
      "rules(105) = {29 106} {106 29}\n",
      "rules(106) = {\"a\"}\n",
      "rules(107) = {15 29} {83 106}\n",
      "rules(108) = {106 119} {29 3}\n",
      "rules(109) = {106 128} {29 50}\n",
      "rules(11)  = {42 31}\n",
      "rules(110) = {119 106} {62 29}\n",
      "rules(111) = {29 74} {106 110}\n",
      "rules(112) = {106 98} {29 60}\n",
      "rules(113) = {96 101}\n",
      "rules(114) = {106 41} {29 19}\n",
      "rules(115) = {103 106} {23 29}\n",
      "rules(116) = {106 58} {29 54}\n",
      "rules(117) = {29 88} {106 115}\n",
      "rules(118) = {29 95} {106 58}\n",
      "rules(119) = {106 106} {29 96}\n",
      "rules(12)  = {79 29} {65 106}\n",
      "rules(120) = {106 55} {29 34}\n",
      "rules(121) = {40 29}\n",
      "rules(122) = {29 75} {106 40}\n",
      "rules(123) = {98 106} {40 29}\n",
      "rules(124) = {102 29} {37 106}\n",
      "rules(125) = {107 106} {104 29}\n",
      "rules(126) = {45 106} {75 29}\n",
      "rules(127) = {29 10} {106 32}\n",
      "rules(128) = {106 114} {29 70}\n",
      "rules(129) = {106 61} {29 27}\n",
      "rules(13)  = {77 106} {64 29}\n",
      "rules(14)  = {29 1} {106 52}\n",
      "rules(15)  = {122 106} {57 29}\n",
      "rules(16)  = {1 106} {69 29}\n",
      "rules(17)  = {26 29} {49 106}\n",
      "rules(18)  = {29 98} {106 60}\n",
      "rules(19)  = {40 106} {54 29}\n",
      "rules(2)   = {29 58} {106 62}\n",
      "rules(20)  = {3 29} {75 106}\n",
      "rules(21)  = {29 40} {106 58}\n",
      "rules(22)  = {29 29} {106 106}\n",
      "rules(23)  = {105 29} {22 106}\n",
      "rules(24)  = {29 21} {106 53}\n",
      "rules(25)  = {29 28} {106 24}\n",
      "rules(26)  = {106 105} {29 22}\n",
      "rules(27)  = {106 3} {29 58}\n",
      "rules(28)  = {46 29} {7 106}\n",
      "rules(29)  = {\"b\"}\n",
      "rules(3)   = {106 29} {29 29}\n",
      "rules(30)  = {51 29} {58 106}\n",
      "rules(31)  = {29 78} {106 56}\n",
      "rules(32)  = {29 98} {106 75}\n",
      "rules(33)  = {108 106} {6 29}\n",
      "rules(34)  = {29 121} {106 27}\n",
      "rules(35)  = {29 46} {106 112}\n",
      "rules(36)  = {29 45} {106 98}\n",
      "rules(37)  = {106 87} {29 92}\n",
      "rules(38)  = {35 106} {68 29}\n",
      "rules(39)  = {106 4} {29 121}\n",
      "rules(4)   = {106 98} {29 51}\n",
      "rules(40)  = {106 106} {29 106}\n",
      "rules(41)  = {106 105} {29 54}\n",
      "rules(42)  = {106 124} {29 13}\n",
      "rules(43)  = {96 40}\n",
      "rules(44)  = {9 106} {111 29}\n",
      "rules(45)  = {29 29}\n",
      "rules(46)  = {106 119} {29 60}\n",
      "rules(47)  = {98 106} {98 29}\n",
      "rules(48)  = {62 29} {22 106}\n",
      "rules(49)  = {106 119} {29 98}\n",
      "rules(5)   = {29 119} {106 60}\n",
      "rules(50)  = {106 16} {29 73}\n",
      "rules(51)  = {106 29} {106 106}\n",
      "rules(52)  = {98 29} {95 106}\n",
      "rules(53)  = {29 95} {106 75}\n",
      "rules(54)  = {106 29}\n",
      "rules(55)  = {86 106} {80 29}\n",
      "rules(56)  = {94 29} {90 106}\n",
      "rules(57)  = {22 106} {45 29}\n",
      "rules(58)  = {29 106} {29 29}\n",
      "rules(59)  = {106 60} {29 58}\n",
      "rules(6)   = {29 119} {106 3}\n",
      "rules(60)  = {106 106} {96 29}\n",
      "rules(61)  = {54 106}\n",
      "rules(62)  = {96 96}\n",
      "rules(63)  = {106 113} {29 39}\n",
      "rules(64)  = {29 63} {106 89}\n",
      "rules(65)  = {86 106} {47 29}\n",
      "rules(66)  = {106 5} {29 126}\n",
      "rules(67)  = {71 106} {129 29}\n",
      "rules(68)  = {29 112} {106 100}\n",
      "rules(69)  = {96 51}\n",
      "rules(7)   = {40 29} {95 106}\n",
      "rules(70)  = {93 106} {118 29}\n",
      "rules(71)  = {2 29} {21 106}\n",
      "rules(72)  = {106 17} {29 81}\n",
      "rules(73)  = {106 59} {29 1}\n",
      "rules(74)  = {58 96}\n",
      "rules(75)  = {106 106}\n",
      "rules(76)  = {29 18} {106 43}\n",
      "rules(77)  = {106 38} {29 25}\n",
      "rules(78)  = {109 29} {125 106}\n",
      "rules(79)  = {29 52} {106 110}\n",
      "rules(8)   = 42\n",
      "rules(80)  = {51 29} {95 106}\n",
      "rules(81)  = {52 29} {123 106}\n",
      "rules(82)  = {29 40}\n",
      "rules(83)  = {106 20} {29 36}\n",
      "rules(84)  = {106 30} {29 97}\n",
      "rules(85)  = {29 58} {106 119}\n",
      "rules(86)  = {106 51} {29 3}\n",
      "rules(87)  = {106 99} {29 127}\n",
      "rules(88)  = {85 106} {27 29}\n",
      "rules(89)  = {29 84} {106 33}\n",
      "rules(9)   = {122 29} {116 106}\n",
      "rules(90)  = {120 106} {44 29}\n",
      "rules(91)  = {106 48} {29 43}\n",
      "rules(92)  = {91 29} {14 106}\n",
      "rules(93)  = {29 60} {106 51}\n",
      "rules(94)  = {29 117} {106 67}\n",
      "rules(95)  = {106 96} {29 106}\n",
      "rules(96)  = 106 29\n",
      "rules(97)  = {29 22}\n",
      "rules(98)  = {29 106}\n",
      "rules(99)  = {82 106} {53 29}\n"
     ]
    }
   ],
   "source": [
    "parray rules"
   ]
  },
  {
   "cell_type": "code",
   "execution_count": null,
   "metadata": {},
   "outputs": [],
   "source": []
  }
 ],
 "metadata": {
  "kernelspec": {
   "display_name": "Tcl 8.7",
   "language": "tcl",
   "name": "tcl87"
  },
  "language_info": {
   "file_extension": ".tcl",
   "mimetype": "txt/x-tcl",
   "name": "tcl",
   "version": "8.7a3"
  }
 },
 "nbformat": 4,
 "nbformat_minor": 4
}
