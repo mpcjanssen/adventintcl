{
 "cells": [
  {
   "cell_type": "code",
   "execution_count": 4,
   "metadata": {},
   "outputs": [
    {
     "data": {
      "text/plain": [
       "(cached)"
      ]
     },
     "metadata": {},
     "output_type": "display_data"
    },
    {
     "data": {
      "text/html": [
       "<article class=\"day-desc\">\n",
       "<h2>--- Day 18: Operation Order ---</h2><p>As you look out the window and notice a heavily-forested continent slowly appear over the horizon, you are interrupted by the child sitting next to you. They're curious if you could help them with their <span title=\"Or &quot;maths&quot;, if you have more than one.\">math</span> homework.</p><p>Unfortunately, it seems like this \"math\" <a href=\"https://www.youtube.com/watch?v=3QtRK7Y2pPU&amp;t=15\" target=\"_blank\">follows different rules</a> than you remember.</p><p>The homework (your puzzle input) consists of a series of expressions that consist of addition (<code>+</code>), multiplication (<code>*</code>), and parentheses (<code>(...)</code>). Just like normal math, parentheses indicate that the expression inside must be evaluated before it can be used by the surrounding expression. Addition still finds the sum of the numbers on both sides of the operator, and multiplication still finds the product.</p><p>However, the rules of <em>operator precedence</em> have changed. Rather than evaluating multiplication before addition, the operators have the <em>same precedence</em>, and are evaluated left-to-right regardless of the order in which they appear.</p><p>For example, the steps to evaluate the expression <code>1 + 2 * 3 + 4 * 5 + 6</code> are as follows:</p><pre><code>\n",
       "<em>1 + 2</em> * 3 + 4 * 5 + 6\n",
       "  <em>3   * 3</em> + 4 * 5 + 6\n",
       "      <em>9   + 4</em> * 5 + 6\n",
       "         <em>13   * 5</em> + 6\n",
       "             <em>65   + 6</em><em>71</em>\n",
       "</code></pre><p>Parentheses can override this order; for example, here is what happens if parentheses are added to form <code>1 + (2 * 3) + (4 * (5 + 6))</code>:</p><pre><code>1 + <em>(2 * 3)</em> + (4 * (5 + 6))\n",
       "<em>1 +    6</em>    + (4 * (5 + 6))\n",
       "     7      + (4 * <em>(5 + 6)</em>)\n",
       "     7      + <em>(4 *   11   )</em><em>7      +     44</em><em>51</em>\n",
       "</code></pre><p>Here are a few more examples:</p><ul>\n",
       "<li>\n",
       "<code>2 * 3 + (4 * 5)</code> becomes <em><code>26</code></em>.</li><li>\n",
       "<code>5 + (8 * 3 + 9 + 3 * 4 * 3)</code> becomes <em><code>437</code></em>.</li><li>\n",
       "<code>5 * 9 * (7 * 3 * 3 + 9 * 3 + (8 + 6 * 4))</code> becomes <em><code>12240</code></em>.</li><li>\n",
       "<code>((2 + 4 * 9) * (6 + 9 * 8 + 6) + 6) + 2 + 4 * 2</code> becomes <em><code>13632</code></em>.</li>\n",
       "</ul><p>Before you can help with the homework, you need to understand it yourself. <em>Evaluate the expression on each line of the homework; what is the sum of the resulting values?</em>\n",
       "</p>\n",
       "</article>"
      ]
     },
     "metadata": {},
     "output_type": "display_data"
    },
    {
     "data": {
      "text/plain": [
       "(cached)"
      ]
     },
     "metadata": {},
     "output_type": "display_data"
    },
    {
     "data": {
      "text/html": [
       "<h2>Input</h2>"
      ]
     },
     "metadata": {},
     "output_type": "display_data"
    },
    {
     "data": {
      "text/plain": [
       "4 * ((9 + 9 * 5 + 5) + 3)\n",
       "4 + 5 * (3 + 4 * 3 * 8 * 4 + (5 * 4 + 8)) * 6\n",
       "3 * (6 + (6 * 9 * 9) + (3 + 7..."
      ]
     },
     "metadata": {},
     "output_type": "display_data"
    }
   ],
   "source": [
    "source ../modules/setup.tcl\n",
    "set year 2020\n",
    "set day 18\n",
    "aoc::get-puzzle $year $day 1\n",
    "# aoc::get-puzzle 2020 15 2\n",
    "set input [string trim [aoc::get-input $year $day]]\n",
    "jupyter::html \"<h2>Input</h2>\"\n",
    "jupyter::display \"text/plain\" [string range $input 0 100]...;"
   ]
  },
  {
   "cell_type": "code",
   "execution_count": 32,
   "metadata": {},
   "outputs": [],
   "source": [
    "namespace import tcl::mathop::*\n",
    "proc reduce {terms order} {\n",
    "    set n [llength $terms]\n",
    "    foreach ops $order {\n",
    "        set n [llength $terms]\n",
    "        set nterms {}\n",
    "        for {set i 0} {$i<$n} {incr i} {\n",
    "            set tok [lindex $terms $i] \n",
    "            if {$tok in $ops} {\n",
    "                set first [lindex $nterms end]\n",
    "                incr i\n",
    "                set second [lindex $terms $i]\n",
    "                set nterms [lreplace $nterms end end [$tok $first $second]]\n",
    "            } else {\n",
    "                lappend nterms [lindex $terms $i]\n",
    "            }\n",
    "        }\n",
    "        set terms $nterms\n",
    "    }\n",
    "    return $terms\n",
    "    \n",
    "    \n",
    "}\n",
    "\n",
    "proc _calc {input order idx} {\n",
    "    set phrase {}\n",
    "    while {$idx < [string length $input]} {\n",
    "        set c [string index $input $idx]\n",
    "        incr idx\n",
    "        if {$c eq \" \"} continue\n",
    "        if {$c eq \"(\"} {\n",
    "            lassign [_calc $input $order $idx] part idx\n",
    "            lappend phrase $part\n",
    "            continue\n",
    "        }\n",
    "        if {$c eq \")\"} {\n",
    "            return [list [reduce $phrase $order] $idx]\n",
    "        }\n",
    "        lappend phrase $c\n",
    "        \n",
    "    }\n",
    "    return [list $phrase $idx]\n",
    "}\n",
    "proc calc {input order} {\n",
    "    lassign [_calc $input $order 0] phrase\n",
    "    reduce $phrase $order\n",
    "}\n",
    "# calc {((2 + 4 * 9) * (6 + 9 * 8 + 6) + 6) + 2 + 4 * 2}"
   ]
  },
  {
   "cell_type": "code",
   "execution_count": 38,
   "metadata": {},
   "outputs": [
    {
     "data": {
      "text/plain": [
       "9"
      ]
     },
     "execution_count": 38,
     "metadata": {},
     "output_type": "execute_result"
    }
   ],
   "source": [
    "calc {(1 + 2) * 3} {* +}"
   ]
  },
  {
   "cell_type": "code",
   "execution_count": 36,
   "metadata": {},
   "outputs": [
    {
     "name": "stdout",
     "output_type": "stream",
     "text": [
      "Day1\t11297104473091\n",
      "Day2\t925286900496\n",
      "36258 microseconds per iteration\n"
     ]
    }
   ],
   "source": [
    "proc parts input {\n",
    "   \n",
    "    set result1  [+ {*}[lmap l [split $input \\n] {calc $l {{+ *}}}]]\n",
    "    # set result2 [part $input 30000000]\n",
    "    set result2  [+ {*}[lmap l [split $input \\n] {calc $l {* +}}]]\n",
    "    return [list $result1 $result2]\n",
    "}\n",
    "aoc::results "
   ]
  },
  {
   "cell_type": "code",
   "execution_count": 12,
   "metadata": {},
   "outputs": [
    {
     "name": "stdout",
     "output_type": "stream",
     "text": [
      "1 + 2 + 3\n"
     ]
    },
    {
     "name": "stderr",
     "output_type": "stream",
     "text": [
      "can't read \"op\": no such variable\n",
      "    while executing\n",
      "\"$op $first $second\"\n",
      "    (procedure \"reduce\" line 12)\n",
      "    invoked from within\n",
      "\"reduce {1 + 2 + 3} {{+}}\"\n"
     ]
    }
   ],
   "source": []
  },
  {
   "cell_type": "code",
   "execution_count": null,
   "metadata": {},
   "outputs": [],
   "source": []
  }
 ],
 "metadata": {
  "kernelspec": {
   "display_name": "Tcl 8.7",
   "language": "tcl",
   "name": "tcl87"
  },
  "language_info": {
   "file_extension": ".tcl",
   "mimetype": "txt/x-tcl",
   "name": "tcl",
   "version": "8.7a3"
  }
 },
 "nbformat": 4,
 "nbformat_minor": 4
}
