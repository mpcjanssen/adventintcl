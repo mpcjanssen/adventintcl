{
 "cells": [
  {
   "cell_type": "code",
   "execution_count": 1,
   "metadata": {},
   "outputs": [
    {
     "name": "stdout",
     "output_type": "stream",
     "text": [
      "37312\n"
     ]
    }
   ],
   "source": [
    "steps, ns = 30000000, [16,11,15,0,1,7]\n",
    "last, c = ns[-1], {n: i for i, n in enumerate(ns)}\n",
    "for i in range(len(ns) - 1, steps - 1):\n",
    "    c[last], last = i, i - c.get(last, i)\n",
    "print(last)"
   ]
  },
  {
   "cell_type": "code",
   "execution_count": 2,
   "metadata": {},
   "outputs": [
    {
     "name": "stdout",
     "output_type": "stream",
     "text": [
      "11721679\n"
     ]
    }
   ],
   "source": [
    "arr = [ int(x) for x in open('input/15.txt').read().split(',') ]\n",
    "idx = 30000000\n",
    "\n",
    "def lookback(n, arr):\n",
    "    arr.reverse()\n",
    "    A = 0; c = 0\n",
    "    for x in arr:\n",
    "        c += 1\n",
    "        if x == n:\n",
    "            if A == 0:\n",
    "                A = c\n",
    "            else:\n",
    "                return c - A\n",
    "    return 0\n",
    "\n",
    "def a(arr, idx):\n",
    "    for t in range(len(arr),idx):\n",
    "        arr.append(lookback(arr[t-1], arr[:t]))\n",
    "    return arr[idx-1]\n",
    "\n",
    "# print(a(arr, idx))\n",
    "# OK the lookback approach is slow AF. Let's try arr different method!\n",
    "\n",
    "def lut_search(lut, n, idx):\n",
    "    if n in lut:\n",
    "        d = idx - lut[n]\n",
    "        lut[n] = idx\n",
    "        return d\n",
    "    else:\n",
    "        lut.update({ n: idx })\n",
    "        return 0\n",
    "def b(arr, idx):\n",
    "    lut = { arr[x]:x+1 for x in range(len(arr)) }\n",
    "    for t in range(len(arr),idx):\n",
    "        arr.append(lut_search(lut, arr[t-1], t))\n",
    "    return arr[idx-1] \n",
    "\n",
    "print(b(arr, idx))"
   ]
  },
  {
   "cell_type": "code",
   "execution_count": null,
   "metadata": {},
   "outputs": [],
   "source": []
  }
 ],
 "metadata": {
  "kernelspec": {
   "display_name": "Python 3",
   "language": "python",
   "name": "python3"
  },
  "language_info": {
   "codemirror_mode": {
    "name": "ipython",
    "version": 3
   },
   "file_extension": ".py",
   "mimetype": "text/x-python",
   "name": "python",
   "nbconvert_exporter": "python",
   "pygments_lexer": "ipython3",
   "version": "3.7.3"
  }
 },
 "nbformat": 4,
 "nbformat_minor": 4
}
