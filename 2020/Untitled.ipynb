{
 "cells": [
  {
   "cell_type": "code",
   "execution_count": 3,
   "metadata": {},
   "outputs": [],
   "source": [
    "from itertools import combinations"
   ]
  },
  {
   "cell_type": "code",
   "execution_count": 9,
   "metadata": {},
   "outputs": [],
   "source": [
    "with open('input/1.txt') as f:\n",
    "    lines = list(map(int,f.read().splitlines()))"
   ]
  },
  {
   "cell_type": "code",
   "execution_count": 26,
   "metadata": {
    "jupyter": {
     "source_hidden": true
    }
   },
   "outputs": [
    {
     "name": "stdout",
     "output_type": "stream",
     "text": [
      "CPU times: user 1.53 ms, sys: 406 µs, total: 1.94 ms\n",
      "Wall time: 1.98 ms\n"
     ]
    },
    {
     "data": {
      "text/plain": [
       "[618144]"
      ]
     },
     "execution_count": 26,
     "metadata": {},
     "output_type": "execute_result"
    }
   ],
   "source": [
    "%%time\n",
    "[i*j for i,j in combinations(lines,2) if i+j == 2020]\n"
   ]
  },
  {
   "cell_type": "code",
   "execution_count": 27,
   "metadata": {},
   "outputs": [
    {
     "name": "stdout",
     "output_type": "stream",
     "text": [
      "CPU times: user 187 ms, sys: 480 µs, total: 187 ms\n",
      "Wall time: 188 ms\n"
     ]
    },
    {
     "data": {
      "text/plain": [
       "[173538720]"
      ]
     },
     "execution_count": 27,
     "metadata": {},
     "output_type": "execute_result"
    }
   ],
   "source": [
    "%%time\n",
    "[i*j*k for i,j,k in combinations(lines,3) if i+j+k == 2020]\n"
   ]
  },
  {
   "cell_type": "code",
   "execution_count": null,
   "metadata": {},
   "outputs": [],
   "source": []
  },
  {
   "cell_type": "code",
   "execution_count": 25,
   "metadata": {},
   "outputs": [
    {
     "name": "stdout",
     "output_type": "stream",
     "text": [
      "CPU times: user 164 ms, sys: 0 ns, total: 164 ms\n",
      "Wall time: 164 ms\n"
     ]
    },
    {
     "data": {
      "text/plain": [
       "173538720"
      ]
     },
     "execution_count": 25,
     "metadata": {},
     "output_type": "execute_result"
    }
   ],
   "source": [
    "%%time\n",
    "filtered = (i*j*k for i,j,k in combinations(lines,3) if i+j+k == 2020)\n",
    "(list(itertools.islice(filtered,1)))[0]\n"
   ]
  },
  {
   "cell_type": "code",
   "execution_count": 39,
   "metadata": {},
   "outputs": [
    {
     "name": "stdout",
     "output_type": "stream",
     "text": [
      "947\n",
      "636\n",
      "CPU times: user 8.86 ms, sys: 183 µs, total: 9.04 ms\n",
      "Wall time: 8.59 ms\n"
     ]
    }
   ],
   "source": [
    "%%time\n",
    "\n",
    "with open(\"input/5.txt\") as f:\n",
    "    inp = [l.strip() for l in f]\n",
    "\n",
    "\n",
    "\n",
    "def get_id(ticket: str):\n",
    "    bits = ticket.replace(\"F\",\"0\").replace(\"B\",\"1\").replace(\"L\",\"0\").replace(\"R\",\"1\")\n",
    "    return int(bits,2)\n",
    "\n",
    "ids = [get_id(x) for x in inp]\n",
    "#part 1\n",
    "print(max(ids))\n",
    "#part 2\n",
    "for i in range(min(ids),max(ids)+1):\n",
    "    if i not in ids:\n",
    "        print(i)\n",
    "        break"
   ]
  },
  {
   "cell_type": "code",
   "execution_count": 47,
   "metadata": {},
   "outputs": [
    {
     "ename": "TypeError",
     "evalue": "'list' object is not callable",
     "output_type": "error",
     "traceback": [
      "\u001b[0;31m---------------------------------------------------------------------------\u001b[0m",
      "\u001b[0;31mTypeError\u001b[0m                                 Traceback (most recent call last)",
      "\u001b[0;32m<timed exec>\u001b[0m in \u001b[0;36m<module>\u001b[0;34m\u001b[0m\n",
      "\u001b[0;32m<timed exec>\u001b[0m in \u001b[0;36m<listcomp>\u001b[0;34m(.0)\u001b[0m\n",
      "\u001b[0;31mTypeError\u001b[0m: 'list' object is not callable"
     ]
    }
   ],
   "source": [
    "%%time\n",
    "\n",
    "with open(\"input/6.txt\") as f:\n",
    "    inp = f.read().replace(\"\\n\\n\",\"\\f\").split('\\f')\n",
    "inp\n",
    "\n",
    "[list(map(lines,x.split('\\n'))) for x in inp]\n",
    "\n"
   ]
  },
  {
   "cell_type": "code",
   "execution_count": 50,
   "metadata": {},
   "outputs": [
    {
     "ename": "SyntaxError",
     "evalue": "invalid character in identifier (<ipython-input-50-d4bd69999da9>, line 4)",
     "output_type": "error",
     "traceback": [
      "\u001b[0;36m  File \u001b[0;32m\"<ipython-input-50-d4bd69999da9>\"\u001b[0;36m, line \u001b[0;32m4\u001b[0m\n\u001b[0;31m    def part1_countanswers(group_answers):\u001b[0m\n\u001b[0m                         ^\u001b[0m\n\u001b[0;31mSyntaxError\u001b[0m\u001b[0;31m:\u001b[0m invalid character in identifier\n"
     ]
    }
   ],
   "source": [
    "\n",
    "\n",
    "from collections import Counter\n",
    "\n",
    "\n",
    "def part1_countanswers(group_answers):\n",
    "    num_of_anwers= sum(len(set(\"\".join(group_answer))) for group_answer in  group_answers)\n",
    "    return num_of_anwers\n",
    "\n",
    "\n",
    "def part2_countallanswers(group_answers):\n",
    "    num_of_anwers = 0\n",
    "    for group_answer in group_answers:\n",
    "        ans_counter = Counter(\"\".join(group_answer))\n",
    "        num_of_anwers += sum(ans_counter[c] == len(group_answer) for c in ans_counter)\n",
    "\n",
    "    return num_of_anwers\n",
    "\n",
    "\n",
    "def read_input(filename):\n",
    "    with open(filename) as file:\n",
    "        group_answers = []\n",
    "        person_answers = []\n",
    "        for line in file:\n",
    "            # print(line)\n",
    "            if not line.strip():\n",
    "                group_answers.append(person_answers)\n",
    "                person_answers = []\n",
    "            else:\n",
    "                person_answers.append(line.strip())\n",
    "\n",
    "        if person_answers:\n",
    "            group_answers.append(person_answers)\n",
    "\n",
    "    return group_answers\n",
    "\n",
    "\n",
    "\n",
    "# group_answers = read_input('day6_sample_input.txt')\n",
    "# print(group_answers)\n",
    "group_answers = read_input(\"input/6.txt\")\n",
    "part1_ans = part1_countanswers(group_answers)\n",
    "print(\"part1 answer\", part1_ans)\n",
    "part2_ans = part2_countallanswers(group_answers)\n",
    "print(\"part2 answer\", part2_ans)"
   ]
  },
  {
   "cell_type": "code",
   "execution_count": 52,
   "metadata": {},
   "outputs": [
    {
     "name": "stdout",
     "output_type": "stream",
     "text": [
      "part1 answer 6612\n",
      "part2 answer 3268\n"
     ]
    }
   ],
   "source": [
    "from collections import Counter\n",
    "def part1_countanswers(group_answers):\n",
    "    num_of_anwers = sum(len(set(\"\".join(group_answer))) for group_answer in group_answers)\n",
    "    return num_of_anwers\n",
    "def part2_countallanswers(group_answers):\n",
    "    num_of_anwers = 0\n",
    "    for group_answer in group_answers:\n",
    "        ans_counter = Counter(\"\".join(group_answer))\n",
    "        num_of_anwers += sum(ans_counter[c] == len(group_answer) for c in ans_counter)\n",
    "    return num_of_anwers\n",
    "def read_input(filename):\n",
    "    with open(filename) as file:\n",
    "        group_answers = []\n",
    "        person_answers = []\n",
    "        for line in file:\n",
    "            # print(line)\n",
    "            if not line.strip():\n",
    "                group_answers.append(person_answers)\n",
    "                person_answers = []\n",
    "            else:\n",
    "                person_answers.append(line.strip())\n",
    "        if person_answers:\n",
    "            group_answers.append(person_answers)\n",
    "    return group_answers\n",
    "if __name__ == '__main__':\n",
    "    #group_answers = read_input('day6_sample_input.txt')\n",
    "    # print(group_answers)\n",
    "    group_answers = read_input(\"input/6.txt\")\n",
    "    part1_ans = part1_countanswers(group_answers)\n",
    "    print(\"part1 answer\", part1_ans)\n",
    "    part2_ans = part2_countallanswers(group_answers)\n",
    "    print(\"part2 answer\", part2_ans)"
   ]
  },
  {
   "cell_type": "code",
   "execution_count": null,
   "metadata": {},
   "outputs": [],
   "source": []
  }
 ],
 "metadata": {
  "kernelspec": {
   "display_name": "Python 3",
   "language": "python",
   "name": "python3"
  },
  "language_info": {
   "codemirror_mode": {
    "name": "ipython",
    "version": 3
   },
   "file_extension": ".py",
   "mimetype": "text/x-python",
   "name": "python",
   "nbconvert_exporter": "python",
   "pygments_lexer": "ipython3",
   "version": "3.7.3"
  }
 },
 "nbformat": 4,
 "nbformat_minor": 4
}
