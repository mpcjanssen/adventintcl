{
 "cells": [
  {
   "cell_type": "code",
   "execution_count": 20,
   "metadata": {},
   "outputs": [],
   "source": [
    "source setup.tcl"
   ]
  },
  {
   "cell_type": "code",
   "execution_count": 21,
   "metadata": {},
   "outputs": [
    {
     "data": {
      "text/plain": [
       "(cached)"
      ]
     },
     "metadata": {},
     "output_type": "display_data"
    },
    {
     "data": {
      "text/html": [
       "<article class=\"day-desc\">\n",
       "<h2>--- Day 10: Adapter Array ---</h2><p>Patched into the aircraft's data port, you discover weather forecasts of a massive tropical storm. Before you can figure out whether it will impact your vacation plans, however, your device suddenly turns off!</p><p>Its battery is dead.</p><p>You'll need to plug it in. There's only one problem: the charging outlet near your seat produces the wrong number of <em>jolts</em>. Always prepared, you make a list of all of the joltage adapters in your bag.</p><p>Each of your joltage adapters is rated for a specific <em>output joltage</em> (your puzzle input). Any given adapter can take an input <code>1</code>, <code>2</code>, or <code>3</code> jolts <em>lower</em> than its rating and still produce its rated output joltage.</p><p>In addition, your device has a built-in joltage adapter rated for <em>\n",
       "<code>3</code> jolts higher</em> than the highest-rated adapter in your bag. (If your adapter list were <code>3</code>, <code>9</code>, and <code>6</code>, your device's built-in adapter would be rated for <code>12</code> jolts.)</p><p>Treat the charging outlet near your seat as having an effective joltage rating of <code>0</code>.</p><p>Since you have some time to kill, you might as well test all of your adapters. Wouldn't want to get to your resort and realize you can't even charge your device!</p><p>If you <em>use every adapter in your bag</em> at once, what is the distribution of joltage differences between the charging outlet, the adapters, and your device?</p><p>For example, suppose that in your bag, you have adapters with the following joltage ratings:</p><pre><code>16\n",
       "10\n",
       "15\n",
       "5\n",
       "1\n",
       "11\n",
       "7\n",
       "19\n",
       "6\n",
       "12\n",
       "4\n",
       "</code></pre><p>With these adapters, your device's built-in joltage adapter would be rated for <code>19 + 3 = <em>22</em>\n",
       "</code> jolts, 3 higher than the highest-rated adapter.</p><p>Because adapters can only connect to a source 1-3 jolts lower than its rating, in order to use every adapter, you'd need to choose them like this:</p><ul>\n",
       "<li>The charging outlet has an effective rating of <code>0</code> jolts, so the only adapters that could connect to it directly would need to have a joltage rating of <code>1</code>, <code>2</code>, or <code>3</code> jolts. Of these, only one you have is an adapter rated <code>1</code> jolt (difference of <em><code>1</code></em>).</li><li>From your <code>1</code>-jolt rated adapter, the only choice is your <code>4</code>-jolt rated adapter (difference of <em><code>3</code></em>).</li><li>From the <code>4</code>-jolt rated adapter, the adapters rated <code>5</code>, <code>6</code>, or <code>7</code> are valid choices. However, in order to not skip any adapters, you have to pick the adapter rated <code>5</code> jolts (difference of <em><code>1</code></em>).</li><li>Similarly, the next choices would need to be the adapter rated <code>6</code> and then the adapter rated <code>7</code> (with difference of <em><code>1</code></em> and <em><code>1</code></em>).</li><li>The only adapter that works with the <code>7</code>-jolt rated adapter is the one rated <code>10</code> jolts (difference of <em><code>3</code></em>).</li><li>From <code>10</code>, the choices are <code>11</code> or <code>12</code>; choose <code>11</code> (difference of <em><code>1</code></em>) and then <code>12</code> (difference of <em><code>1</code></em>).</li><li>After <code>12</code>, only valid adapter has a rating of <code>15</code> (difference of <em><code>3</code></em>), then <code>16</code> (difference of <em><code>1</code></em>), then <code>19</code> (difference of <em><code>3</code></em>).</li><li>Finally, your device's built-in adapter is always 3 higher than the highest adapter, so its rating is <code>22</code> jolts (always a difference of <em><code>3</code></em>).</li>\n",
       "</ul><p>In this example, when using every adapter, there are <em><code>7</code></em> differences of 1 jolt and <em><code>5</code></em> differences of 3 jolts.</p><p>Here is a larger example:</p><pre><code>28\n",
       "33\n",
       "18\n",
       "42\n",
       "31\n",
       "14\n",
       "46\n",
       "20\n",
       "48\n",
       "47\n",
       "24\n",
       "23\n",
       "49\n",
       "45\n",
       "19\n",
       "38\n",
       "39\n",
       "11\n",
       "1\n",
       "32\n",
       "25\n",
       "35\n",
       "8\n",
       "17\n",
       "7\n",
       "9\n",
       "4\n",
       "2\n",
       "34\n",
       "10\n",
       "3\n",
       "</code></pre><p>In this larger example, in a chain that uses all of the adapters, there are <em><code>22</code></em> differences of 1 jolt and <em><code>10</code></em> differences of 3 jolts.</p><p>Find a chain that uses all of your adapters to connect the charging outlet to your device's built-in adapter and count the joltage differences between the charging outlet, the adapters, and your device. <em>What is the number of 1-jolt differences multiplied by the number of 3-jolt differences?</em>\n",
       "</p>\n",
       "</article>"
      ]
     },
     "metadata": {},
     "output_type": "display_data"
    },
    {
     "data": {
      "text/plain": [
       "(cached)"
      ]
     },
     "metadata": {},
     "output_type": "display_data"
    },
    {
     "data": {
      "text/html": [
       "<h2>Input</h2>"
      ]
     },
     "metadata": {},
     "output_type": "display_data"
    },
    {
     "data": {
      "text/plain": [
       "73\n",
       "114\n",
       "100\n",
       "122\n",
       "10\n",
       "141\n",
       "89\n",
       "70\n",
       "134\n",
       "2\n",
       "116\n",
       "30\n",
       "123\n",
       "81\n",
       "104\n",
       "42\n",
       "142\n",
       "26\n",
       "15\n",
       "92\n",
       "56\n",
       "60\n",
       "3\n",
       "151\n",
       "11\n",
       "129\n",
       "167\n",
       "76\n",
       "18\n",
       "78\n",
       "3..."
      ]
     },
     "metadata": {},
     "output_type": "display_data"
    },
    {
     "data": {
      "text/plain": []
     },
     "execution_count": 21,
     "metadata": {},
     "output_type": "execute_result"
    }
   ],
   "source": [
    "aoc::get-puzzle 2020 10 1\n",
    "#aoc::get-puzzle 2020 9 2\n",
    "set input [aoc::get-input 2020 10]\n",
    "jupyter::html \"<h2>Input</h2>\"\n",
    "jupyter::display \"text/plain\" [string range $input 0 100]...;"
   ]
  },
  {
   "cell_type": "code",
   "execution_count": 18,
   "metadata": {},
   "outputs": [],
   "source": [
    "proc parts input {\n",
    "    set jolts [lsort -integer [split [string trim $input]]]\n",
    "    set diffs {}\n",
    "    set prev 0\n",
    "    foreach j $jolts {\n",
    "        dict incr diffs [- $j $prev]\n",
    "        set prev $j\n",
    "    }\n",
    "    # add last 3 to device\n",
    "    dict incr diffs 3\n",
    "    set result1 [* {*}[dict values $diffs]]\n",
    "    set way [lrepeat 167 0 ]\n",
    "    lset way 0 1\n",
    "    foreach j $jolts {\n",
    "        # Some juggling to get a default value for negative indices\n",
    "        lset way $j [+ {*}[join [list [lindex $way $j-1] [lindex $way $j-2] [lindex $way $j-3]] \" \"]]\n",
    "    }\n",
    "\n",
    "    set result2 [lindex $way end]\n",
    "    return [list $result1 $result2]\n",
    "}"
   ]
  },
  {
   "cell_type": "code",
   "execution_count": 19,
   "metadata": {},
   "outputs": [
    {
     "name": "stdout",
     "output_type": "stream",
     "text": [
      "Day1\t2343\n",
      "Day2\t31581162962944\n",
      "774 microseconds per iteration\n"
     ]
    }
   ],
   "source": [
    "aoc::results"
   ]
  }
 ],
 "metadata": {
  "kernelspec": {
   "display_name": "Tcl",
   "language": "tcl",
   "name": "tcljupyter"
  },
  "language_info": {
   "file_extension": ".tcl",
   "mimetype": "txt/x-tcl",
   "name": "tcl",
   "version": "8.6.9"
  }
 },
 "nbformat": 4,
 "nbformat_minor": 4
}
