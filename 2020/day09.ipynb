{
 "cells": [
  {
   "cell_type": "code",
   "execution_count": 1,
   "metadata": {},
   "outputs": [],
   "source": [
    "source setup.tcl"
   ]
  },
  {
   "cell_type": "code",
   "execution_count": 2,
   "metadata": {},
   "outputs": [
    {
     "data": {
      "text/plain": [
       "(cached)"
      ]
     },
     "metadata": {},
     "output_type": "display_data"
    },
    {
     "data": {
      "text/html": [
       "<article class=\"day-desc\">\n",
       "<h2>--- Day 9: Encoding Error ---</h2><p>With your neighbor happily enjoying their video game, you turn your attention to an open data port on the little screen in the seat in front of you.</p><p>Though the port is non-standard, you manage to connect it to your computer through the clever use of several paperclips. Upon connection, the port outputs a series of numbers (your puzzle input).</p><p>The data appears to be encrypted with the eXchange-Masking Addition System (<span title=\"No relation.\">XMAS</span>) which, conveniently for you, is an old cypher with an important weakness.</p><p>XMAS starts by transmitting a <em>preamble</em> of 25 numbers. After that, each number you receive should be the sum of any two of the 25 immediately previous numbers. The two numbers will have different values, and there might be more than one such pair.</p><p>For example, suppose your preamble consists of the numbers <code>1</code> through <code>25</code> in a random order. To be valid, the next number must be the sum of two of those numbers:</p><ul>\n",
       "<li>\n",
       "<code>26</code> would be a <em>valid</em> next number, as it could be <code>1</code> plus <code>25</code> (or many other pairs, like <code>2</code> and <code>24</code>).</li><li>\n",
       "<code>49</code> would be a <em>valid</em> next number, as it is the sum of <code>24</code> and <code>25</code>.</li><li>\n",
       "<code>100</code> would <em>not</em> be valid; no two of the previous 25 numbers sum to <code>100</code>.</li><li>\n",
       "<code>50</code> would also <em>not</em> be valid; although <code>25</code> appears in the previous 25 numbers, the two numbers in the pair must be different.</li>\n",
       "</ul><p>Suppose the 26th number is <code>45</code>, and the first number (no longer an option, as it is more than 25 numbers ago) was <code>20</code>. Now, for the next number to be valid, there needs to be some pair of numbers among <code>1</code>-<code>19</code>, <code>21</code>-<code>25</code>, or <code>45</code> that add up to it:</p><ul>\n",
       "<li>\n",
       "<code>26</code> would still be a <em>valid</em> next number, as <code>1</code> and <code>25</code> are still within the previous 25 numbers.</li><li>\n",
       "<code>65</code> would <em>not</em> be valid, as no two of the available numbers sum to it.</li><li>\n",
       "<code>64</code> and <code>66</code> would both be <em>valid</em>, as they are the result of <code>19+45</code> and <code>21+45</code> respectively.</li>\n",
       "</ul><p>Here is a larger example which only considers the previous <em>5</em> numbers (and has a preamble of length 5):</p><pre><code>35\n",
       "20\n",
       "15\n",
       "25\n",
       "47\n",
       "40\n",
       "62\n",
       "55\n",
       "65\n",
       "95\n",
       "102\n",
       "117\n",
       "150\n",
       "182\n",
       "127\n",
       "219\n",
       "299\n",
       "277\n",
       "309\n",
       "576\n",
       "</code></pre><p>In this example, after the 5-number preamble, almost every number is the sum of two of the previous 5 numbers; the only number that does not follow this rule is <em><code>127</code></em>.</p><p>The first step of attacking the weakness in the XMAS data is to find the first number in the list (after the preamble) which is <em>not</em> the sum of two of the 25 numbers before it. <em>What is the first number that does not have this property?</em>\n",
       "</p>\n",
       "</article>"
      ]
     },
     "metadata": {},
     "output_type": "display_data"
    },
    {
     "data": {
      "text/plain": [
       "(cached)"
      ]
     },
     "metadata": {},
     "output_type": "display_data"
    },
    {
     "data": {
      "text/html": [
       "<h2>Input</h2>"
      ]
     },
     "metadata": {},
     "output_type": "display_data"
    },
    {
     "data": {
      "text/plain": [
       "12\n",
       "26\n",
       "18\n",
       "15\n",
       "16\n",
       "21\n",
       "42\n",
       "47\n",
       "39\n",
       "35\n",
       "41\n",
       "24\n",
       "36\n",
       "20\n",
       "43\n",
       "50\n",
       "38\n",
       "5\n",
       "34\n",
       "44\n",
       "2\n",
       "45\n",
       "25\n",
       "17\n",
       "11\n",
       "22\n",
       "59\n",
       "52\n",
       "7\n",
       "9\n",
       "12\n",
       "16\n",
       "72\n",
       "32\n",
       "28\n",
       "..."
      ]
     },
     "metadata": {},
     "output_type": "display_data"
    },
    {
     "data": {
      "text/plain": []
     },
     "execution_count": 2,
     "metadata": {},
     "output_type": "execute_result"
    }
   ],
   "source": [
    "aoc::get-puzzle 2020 9 1\n",
    "#aoc::get-puzzle 2020 9 2\n",
    "set input [aoc::get-input 2020 9]\n",
    "jupyter::html \"<h2>Input</h2>\"\n",
    "jupyter::display \"text/plain\" [string range $input 0 100]...;"
   ]
  },
  {
   "cell_type": "code",
   "execution_count": 12,
   "metadata": {},
   "outputs": [
    {
     "name": "stdout",
     "output_type": "stream",
     "text": [
      "90433990\n",
      "Day1\t90433990\n",
      "Day2\t11691646\n",
      "45806 microseconds per iteration\n"
     ]
    }
   ],
   "source": [
    "proc parts input {\n",
    "    set nums [split [string trim $input] \\n]\n",
    "    set size [llength $nums]\n",
    "    for {set i 25} {$i < $size} {incr i} {\n",
    "        set num [lindex $nums $i]\n",
    "        set preamble  [lrange $nums $i-25 $i-1]\n",
    "        #    puts $preamble\n",
    "        #    puts $num\n",
    "        set found 0\n",
    "        foreach x $preamble {\n",
    "            set target [expr {$num-$x}]\n",
    "            # puts $target\n",
    "            if {$target in $preamble} {set found 1 ; break}\n",
    "        }\n",
    "        if {$found} continue else break\n",
    "    }\n",
    "    set result1 $num\n",
    "    set chunk 2\n",
    "    set found 0\n",
    "    while {!$found} {\n",
    "        for {set i 0} {$i < $size-$chunk} {incr i} {\n",
    "            set j [expr {$i+$chunk-1}]\n",
    "            set candidate [lrange $nums $i $j]\n",
    "            set sum [+ {*}$candidate]\n",
    "            if {$sum == $result1} {set result2list $candidate ; set found 1}\n",
    "        }\n",
    "        incr chunk\n",
    "    }\n",
    "    set weakness [lsort -integer $result2list]\n",
    "    set result2 [+ [lindex $weakness 0] [lindex $weakness end]]\n",
    "    return [list $result1 $result2]\n",
    "}\n",
    "aoc::results"
   ]
  }
 ],
 "metadata": {
  "kernelspec": {
   "display_name": "Tcl",
   "language": "tcl",
   "name": "tcljupyter"
  },
  "language_info": {
   "file_extension": ".tcl",
   "mimetype": "txt/x-tcl",
   "name": "tcl",
   "version": "8.6.9"
  }
 },
 "nbformat": 4,
 "nbformat_minor": 4
}
