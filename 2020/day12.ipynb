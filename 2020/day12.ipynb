{
 "cells": [
  {
   "cell_type": "code",
   "execution_count": 27,
   "metadata": {},
   "outputs": [],
   "source": [
    "source setup.tcl"
   ]
  },
  {
   "cell_type": "code",
   "execution_count": 44,
   "metadata": {},
   "outputs": [
    {
     "data": {
      "text/plain": [
       "(cached)"
      ]
     },
     "metadata": {},
     "output_type": "display_data"
    },
    {
     "data": {
      "text/html": [
       "<article class=\"day-desc\">\n",
       "<h2>--- Day 12: Rain Risk ---</h2><p>Your ferry made decent progress toward the island, but the storm came in <span title=\"At least it wasn't a Category Six!\">faster than anyone expected</span>. The ferry needs to take <em>evasive actions</em>!</p><p>Unfortunately, the ship's navigation computer seems to be malfunctioning; rather than giving a route directly to safety, it produced extremely circuitous instructions. When the captain uses the <a href=\"https://en.wikipedia.org/wiki/Public_address_system\" target=\"_blank\">PA system</a> to ask if anyone can help, you quickly volunteer.</p><p>The navigation instructions (your puzzle input) consists of a sequence of single-character <em>actions</em> paired with integer input <em>values</em>. After staring at them for a few minutes, you work out what they probably mean:</p><ul>\n",
       "<li>Action <em><code>N</code></em> means to move <em>north</em> by the given value.</li><li>Action <em><code>S</code></em> means to move <em>south</em> by the given value.</li><li>Action <em><code>E</code></em> means to move <em>east</em> by the given value.</li><li>Action <em><code>W</code></em> means to move <em>west</em> by the given value.</li><li>Action <em><code>L</code></em> means to turn <em>left</em> the given number of degrees.</li><li>Action <em><code>R</code></em> means to turn <em>right</em> the given number of degrees.</li><li>Action <em><code>F</code></em> means to move <em>forward</em> by the given value in the direction the ship is currently facing.</li>\n",
       "</ul><p>The ship starts by facing <em>east</em>. Only the <code>L</code> and <code>R</code> actions change the direction the ship is facing. (That is, if the ship is facing east and the next instruction is <code>N10</code>, the ship would move north 10 units, but would still move east if the following action were <code>F</code>.)</p><p>For example:</p><pre><code>F10\n",
       "N3\n",
       "F7\n",
       "R90\n",
       "F11\n",
       "</code></pre><p>These instructions would be handled as follows:</p><ul>\n",
       "<li>\n",
       "<code>F10</code> would move the ship 10 units east (because the ship starts by facing east) to <em>east 10, north 0</em>.</li><li>\n",
       "<code>N3</code> would move the ship 3 units north to <em>east 10, north 3</em>.</li><li>\n",
       "<code>F7</code> would move the ship another 7 units east (because the ship is still facing east) to <em>east 17, north 3</em>.</li><li>\n",
       "<code>R90</code> would cause the ship to turn right by 90 degrees and face <em>south</em>; it remains at <em>east 17, north 3</em>.</li><li>\n",
       "<code>F11</code> would move the ship 11 units south to <em>east 17, south 8</em>.</li>\n",
       "</ul><p>At the end of these instructions, the ship's <a href=\"https://en.wikipedia.org/wiki/Manhattan_distance\" target=\"_blank\">Manhattan distance</a> (sum of the absolute values of its east/west position and its north/south position) from its starting position is <code>17 + 8</code> = <em><code>25</code></em>.</p><p>Figure out where the navigation instructions lead. <em>What is the Manhattan distance between that location and the ship's starting position?</em>\n",
       "</p>\n",
       "</article>"
      ]
     },
     "metadata": {},
     "output_type": "display_data"
    },
    {
     "data": {
      "text/html": [
       "<article class=\"day-desc\">\n",
       "<h2 id=\"part2\">--- Part Two ---</h2><p>Before you can give the destination to the captain, you realize that the actual action meanings were printed on the back of the instructions the whole time.</p><p>Almost all of the actions indicate how to move a <em>waypoint</em> which is relative to the ship's position:</p><ul>\n",
       "<li>Action <em><code>N</code></em> means to move the waypoint <em>north</em> by the given value.</li><li>Action <em><code>S</code></em> means to move the waypoint <em>south</em> by the given value.</li><li>Action <em><code>E</code></em> means to move the waypoint <em>east</em> by the given value.</li><li>Action <em><code>W</code></em> means to move the waypoint <em>west</em> by the given value.</li><li>Action <em><code>L</code></em> means to rotate the waypoint around the ship <em>left</em> (<em>counter-clockwise</em>) the given number of degrees.</li><li>Action <em><code>R</code></em> means to rotate the waypoint around the ship <em>right</em> (<em>clockwise</em>) the given number of degrees.</li><li>Action <em><code>F</code></em> means to move <em>forward</em> to the waypoint a number of times equal to the given value.</li>\n",
       "</ul><p>The waypoint starts <em>10 units east and 1 unit north</em> relative to the ship. The waypoint is relative to the ship; that is, if the ship moves, the waypoint moves with it.</p><p>For example, using the same instructions as above:</p><ul>\n",
       "<li>\n",
       "<code>F10</code> moves the ship to the waypoint 10 times (a total of <em>100 units east and 10 units north</em>), leaving the ship at <em>east 100, north 10</em>. The waypoint stays 10 units east and 1 unit north of the ship.</li><li>\n",
       "<code>N3</code> moves the waypoint 3 units north to <em>10 units east and 4 units north of the ship</em>. The ship remains at <em>east 100, north 10</em>.</li><li>\n",
       "<code>F7</code> moves the ship to the waypoint 7 times (a total of <em>70 units east and 28 units north</em>), leaving the ship at <em>east 170, north 38</em>. The waypoint stays 10 units east and 4 units north of the ship.</li><li>\n",
       "<code>R90</code> rotates the waypoint around the ship clockwise 90 degrees, moving it to <em>4 units east and 10 units south of the ship</em>. The ship remains at <em>east 170, north 38</em>.</li><li>\n",
       "<code>F11</code> moves the ship to the waypoint 11 times (a total of <em>44 units east and 110 units south</em>), leaving the ship at <em>east 214, south 72</em>. The waypoint stays 4 units east and 10 units south of the ship.</li>\n",
       "</ul><p>After these operations, the ship's Manhattan distance from its starting position is <code>214 + 72</code> = <em><code>286</code></em>.</p><p>Figure out where the navigation instructions actually lead. <em>What is the Manhattan distance between that location and the ship's starting position?</em>\n",
       "</p>\n",
       "</article>"
      ]
     },
     "metadata": {},
     "output_type": "display_data"
    },
    {
     "data": {
      "text/plain": [
       "(cached)"
      ]
     },
     "metadata": {},
     "output_type": "display_data"
    },
    {
     "data": {
      "text/html": [
       "<h2>Input</h2>"
      ]
     },
     "metadata": {},
     "output_type": "display_data"
    },
    {
     "data": {
      "text/plain": [
       "F70\n",
       "S4\n",
       "E3\n",
       "S4\n",
       "L90\n",
       "N4\n",
       "R90\n",
       "W3\n",
       "F75\n",
       "S5\n",
       "L90\n",
       "E1\n",
       "S4\n",
       "F98\n",
       "N4\n",
       "R90\n",
       "S3\n",
       "L90\n",
       "W1\n",
       "F39\n",
       "W2\n",
       "L90\n",
       "E1\n",
       "F99\n",
       "S3\n",
       "E5\n",
       "F63\n",
       "N4\n",
       "F26\n",
       "E..."
      ]
     },
     "metadata": {},
     "output_type": "display_data"
    },
    {
     "data": {
      "text/plain": []
     },
     "execution_count": 44,
     "metadata": {},
     "output_type": "execute_result"
    }
   ],
   "source": [
    "aoc::get-puzzle 2020 12 1\n",
    "aoc::get-puzzle 2020 12 2\n",
    "set input [aoc::get-input 2020 12]\n",
    "jupyter::html \"<h2>Input</h2>\"\n",
    "jupyter::display \"text/plain\" [string range $input 0 100]...;"
   ]
  },
  {
   "cell_type": "code",
   "execution_count": 43,
   "metadata": {},
   "outputs": [
    {
     "name": "stdout",
     "output_type": "stream",
     "text": [
      "Day1\t923\n",
      "Day2\t\n",
      "2195 microseconds per iteration\n"
     ]
    }
   ],
   "source": [
    "proc move {pos dir num} {\n",
    "    switch $dir {\n",
    "        N {dict incr pos y -$num}\n",
    "        S {dict incr pos y $num}\n",
    "        E {dict incr pos x $num}\n",
    "        W {dict incr pos x -$num}\n",
    "    }\n",
    "    return $pos\n",
    "}\n",
    "\n",
    "proc facing {org cmd num} {\n",
    "    set dir [dict get {N 0 S 180 E 90 W 270} $org]\n",
    "    set mult [dict get {L -1 R 1}  $cmd]\n",
    "    set newdir [expr {($dir+($mult*$num)) % 360}]\n",
    "    return [dict get {0 N -90 W 90 E -180 S 180 S -270 E 270 W} $newdir]\n",
    "}\n",
    "\n",
    "proc parts input {\n",
    "    set input [split [string trim $input] \\n]\n",
    "    set facing E\n",
    "    set pos {x 0 y 0}\n",
    "    foreach inst $input {\n",
    "        # puts [format \"%s -> %4s \\[%s\\] \" $pos $facing $inst]\n",
    "        scan $inst %1s%d cmd num\n",
    "        switch $cmd {\n",
    "            N {set pos [move $pos $cmd $num]}\n",
    "            S {set pos [move $pos $cmd $num]}\n",
    "            E {set pos [move $pos $cmd $num]}\n",
    "            W {set pos [move $pos $cmd $num]}\n",
    "            F {set pos [move $pos $facing $num]}\n",
    "            L { set facing [facing $facing $cmd $num]}\n",
    "            R { set facing [facing $facing $cmd $num]}\n",
    "        }\n",
    "    }\n",
    "    set x [dict get $pos x]\n",
    "    set y [dict get $pos y]\n",
    "    \n",
    "    set result1 [expr {abs($x) + abs($y)}]\n",
    " #   return [list $result1 $result2]\n",
    "}\n",
    "aoc::results "
   ]
  },
  {
   "cell_type": "code",
   "execution_count": 16,
   "metadata": {},
   "outputs": [
    {
     "ename": "Tcl error",
     "evalue": "wrong # args: should be \"scan string format ?varName ...?\"",
     "output_type": "error",
     "traceback": [
      "wrong # args: should be \"scan string format ?varName ...?\"\n    while executing\n\"scan\""
     ]
    }
   ],
   "source": [
    "scan"
   ]
  },
  {
   "cell_type": "code",
   "execution_count": 69,
   "metadata": {},
   "outputs": [
    {
     "ename": "Tcl error",
     "evalue": "wrong # args: should be \"dict set dictVarName key ?key ...? value\"",
     "output_type": "error",
     "traceback": [
      "wrong # args: should be \"dict set dictVarName key ?key ...? value\"\n    while executing\n\"dict set\""
     ]
    }
   ],
   "source": [
    "dict set"
   ]
  },
  {
   "cell_type": "code",
   "execution_count": 4,
   "metadata": {},
   "outputs": [
    {
     "ename": "Tcl error",
     "evalue": "unknown or ambiguous subcommand \"getdas\": must be append, create, exists, filter, for, get, getdef, getwithdefault, incr, info, keys, lappend, map, merge, remove, replace, set, size, unset, update, values, or with",
     "output_type": "error",
     "traceback": [
      "unknown or ambiguous subcommand \"getdas\": must be append, create, exists, filter, for, get, getdef, getwithdefault, incr, info, keys, lappend, map, merge, remove, replace, set, size, unset, update, values, or with\n    while executing\n\"dict getdas\""
     ]
    }
   ],
   "source": [
    "dict getdas"
   ]
  },
  {
   "cell_type": "code",
   "execution_count": 5,
   "metadata": {},
   "outputs": [
    {
     "ename": "Tcl error",
     "evalue": "wrong # args: should be \"dict getdef dictionary ?key ...? key default\"",
     "output_type": "error",
     "traceback": [
      "wrong # args: should be \"dict getdef dictionary ?key ...? key default\"\n    while executing\n\"dict getdef\""
     ]
    }
   ],
   "source": [
    "dict getdef"
   ]
  },
  {
   "cell_type": "code",
   "execution_count": 10,
   "metadata": {},
   "outputs": [
    {
     "ename": "Tcl error",
     "evalue": "unknown or ambiguous subcommand \"equals\": must be anymore, default, donesearch, exists, for, get, names, nextelement, set, size, startsearch, statistics, or unset",
     "output_type": "error",
     "traceback": [
      "unknown or ambiguous subcommand \"equals\": must be anymore, default, donesearch, exists, for, get, names, nextelement, set, size, startsearch, statistics, or unset\n    while executing\n\"array equals\""
     ]
    }
   ],
   "source": [
    "array equals"
   ]
  },
  {
   "cell_type": "code",
   "execution_count": null,
   "metadata": {},
   "outputs": [],
   "source": []
  }
 ],
 "metadata": {
  "kernelspec": {
   "display_name": "Tcl 8.7",
   "language": "tcl",
   "name": "tcl8.7"
  },
  "language_info": {
   "file_extension": ".tcl",
   "mimetype": "txt/x-tcl",
   "name": "tcl",
   "version": "8.7a4"
  }
 },
 "nbformat": 4,
 "nbformat_minor": 4
}
