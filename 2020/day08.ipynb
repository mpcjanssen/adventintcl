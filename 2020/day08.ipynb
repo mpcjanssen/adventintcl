{
 "cells": [
  {
   "cell_type": "code",
   "execution_count": 1,
   "metadata": {},
   "outputs": [],
   "source": [
    "source setup.tcl"
   ]
  },
  {
   "cell_type": "code",
   "execution_count": 2,
   "metadata": {},
   "outputs": [
    {
     "data": {
      "text/plain": [
       "(cached)"
      ]
     },
     "metadata": {},
     "output_type": "display_data"
    },
    {
     "data": {
      "text/html": [
       "<article class=\"day-desc\">\n",
       "<h2>--- Day 8: Handheld Halting ---</h2><p>Your flight to the major airline hub reaches cruising altitude without incident.  While you consider checking the in-flight menu for one of those drinks that come with a little umbrella, you are interrupted by the kid sitting next to you.</p><p>Their <a target=\"_blank\" href=\"https://en.wikipedia.org/wiki/Handheld_game_console\">handheld game console</a> won't turn on! They ask if you can take a look.</p><p>You narrow the problem down to a strange <em>infinite loop</em> in the <span title=\"A trendy new line of encrypted footwear?\">boot code</span> (your puzzle input) of the device. You should be able to fix it, but first you need to be able to run the code in isolation.</p><p>The boot code is represented as a text file with one <em>instruction</em> per line of text. Each instruction consists of an <em>operation</em> (<code>acc</code>, <code>jmp</code>, or <code>nop</code>) and an <em>argument</em> (a signed number like <code>+4</code> or <code>-20</code>).</p><ul>\n",
       "<li>\n",
       "<code>acc</code> increases or decreases a single global value called the <em>accumulator</em> by the value given in the argument. For example, <code>acc +7</code> would increase the accumulator by 7. The accumulator starts at <code>0</code>. After an <code>acc</code> instruction, the instruction immediately below it is executed next.</li><li>\n",
       "<code>jmp</code><em>jumps</em> to a new instruction relative to itself. The next instruction to execute is found using the argument as an <em>offset</em> from the <code>jmp</code> instruction; for example, <code>jmp +2</code> would skip the next instruction, <code>jmp +1</code> would continue to the instruction immediately below it, and <code>jmp -20</code> would cause the instruction 20 lines above to be executed next.</li><li>\n",
       "<code>nop</code> stands for <em>No OPeration</em> - it does nothing.  The instruction immediately below it is executed next.</li>\n",
       "</ul><p>For example, consider the following program:</p><pre><code>nop +0\n",
       "acc +1\n",
       "jmp +4\n",
       "acc +3\n",
       "jmp -3\n",
       "acc -99\n",
       "acc +1\n",
       "jmp -4\n",
       "acc +6\n",
       "</code></pre><p>These instructions are visited in this order:</p><pre><code>nop +0  | 1\n",
       "acc +1  | 2, 8(!)\n",
       "jmp +4  | 3\n",
       "acc +3  | 6\n",
       "jmp -3  | 7\n",
       "acc -99 |\n",
       "acc +1  | 4\n",
       "jmp -4  | 5\n",
       "acc +6  |\n",
       "</code></pre><p>First, the <code>nop +0</code> does nothing. Then, the accumulator is increased from 0 to 1 (<code>acc +1</code>) and <code>jmp +4</code> sets the next instruction to the other <code>acc +1</code> near the bottom. After it increases the accumulator from 1 to 2, <code>jmp -4</code> executes, setting the next instruction to the only <code>acc +3</code>. It sets the accumulator to 5, and <code>jmp -3</code> causes the program to continue back at the first <code>acc +1</code>.</p><p>This is an <em>infinite loop</em>: with this sequence of jumps, the program will run forever. The moment the program tries to run any instruction a second time, you know it will never terminate.</p><p>Immediately <em>before</em> the program would run an instruction a second time, the value in the accumulator is <em><code>5</code></em>.</p><p>Run your copy of the boot code. Immediately before any instruction is executed a second time, <em>what value is in the accumulator?</em>\n",
       "</p>\n",
       "</article>"
      ]
     },
     "metadata": {},
     "output_type": "display_data"
    },
    {
     "data": {
      "text/plain": [
       "(cached)"
      ]
     },
     "metadata": {},
     "output_type": "display_data"
    },
    {
     "data": {
      "text/html": [
       "<article class=\"day-desc\">\n",
       "<h2 id=\"part2\">--- Part Two ---</h2><p>After some careful analysis, you believe that <em>exactly one instruction is corrupted</em>.</p><p>Somewhere in the program, <em>either</em> a <code>jmp</code> is supposed to be a <code>nop</code>, <em>or</em> a <code>nop</code> is supposed to be a <code>jmp</code>. (No <code>acc</code> instructions were harmed in the corruption of this boot code.)</p><p>The program is supposed to terminate by <em>attempting to execute an instruction immediately after the last instruction in the file</em>. By changing exactly one <code>jmp</code> or <code>nop</code>, you can repair the boot code and make it terminate correctly.</p><p>For example, consider the same program from above:</p><pre><code>nop +0\n",
       "acc +1\n",
       "jmp +4\n",
       "acc +3\n",
       "jmp -3\n",
       "acc -99\n",
       "acc +1\n",
       "jmp -4\n",
       "acc +6\n",
       "</code></pre><p>If you change the first instruction from <code>nop +0</code> to <code>jmp +0</code>, it would create a single-instruction infinite loop, never leaving that instruction.  If you change almost any of the <code>jmp</code> instructions, the program will still eventually find another <code>jmp</code> instruction and loop forever.</p><p>However, if you change the second-to-last instruction (from <code>jmp -4</code> to <code>nop -4</code>), the program terminates! The instructions are visited in this order:</p><pre><code>nop +0  | 1\n",
       "acc +1  | 2\n",
       "jmp +4  | 3\n",
       "acc +3  |\n",
       "jmp -3  |\n",
       "acc -99 |\n",
       "acc +1  | 4\n",
       "<em>nop</em> -4  | 5\n",
       "acc +6  | 6\n",
       "</code></pre><p>After the last instruction (<code>acc +6</code>), the program terminates by attempting to run the instruction below the last instruction in the file.  With this change, after the program terminates, the accumulator contains the value <em><code>8</code></em> (<code>acc +1</code>, <code>acc +1</code>, <code>acc +6</code>).</p><p>Fix the program so that it terminates normally by changing exactly one <code>jmp</code> (to <code>nop</code>) or <code>nop</code> (to <code>jmp</code>). <em>What is the value of the accumulator after the program terminates?</em>\n",
       "</p>\n",
       "</article>"
      ]
     },
     "metadata": {},
     "output_type": "display_data"
    },
    {
     "data": {
      "text/plain": [
       "(cached)"
      ]
     },
     "metadata": {},
     "output_type": "display_data"
    },
    {
     "data": {
      "text/html": [
       "<h2>Input</h2>"
      ]
     },
     "metadata": {},
     "output_type": "display_data"
    },
    {
     "data": {
      "text/plain": [
       "jmp +336\n",
       "jmp +593\n",
       "jmp +121\n",
       "acc -8\n",
       "nop +459\n",
       "jmp +451\n",
       "acc -6\n",
       "acc +23\n",
       "acc +23\n",
       "acc -2\n",
       "jmp +113\n",
       "acc -11\n",
       "ac..."
      ]
     },
     "metadata": {},
     "output_type": "display_data"
    },
    {
     "data": {
      "text/plain": []
     },
     "execution_count": 2,
     "metadata": {},
     "output_type": "execute_result"
    }
   ],
   "source": [
    "aoc::get-puzzle 2020 8 1\n",
    "aoc::get-puzzle 2020 8 2\n",
    "set input [aoc::get-input 2020 8]\n",
    "jupyter::html \"<h2>Input</h2>\"\n",
    "jupyter::display \"text/plain\" [string range $input 0 100]...;"
   ]
  },
  {
   "cell_type": "code",
   "execution_count": 9,
   "metadata": {},
   "outputs": [
    {
     "name": "stdout",
     "output_type": "stream",
     "text": [
      "Day1\t1766\n",
      "Day2\t1639\n",
      "470299 microseconds per iteration\n"
     ]
    }
   ],
   "source": [
    "    proc handheld {program} {\n",
    "        set hh {}\n",
    "        set pos 0\n",
    "        foreach {opc arg} $program {\n",
    "            dict set hh mem $pos op $opc\n",
    "            dict set hh mem $pos arg $arg\n",
    "            incr pos\n",
    "        }\n",
    "        dict set hh mem $pos op done \n",
    "        dict set hh mem $pos arg 0\n",
    "        dict set hh pc 0\n",
    "        dict set hh executed {} \n",
    "        set acc 0\n",
    "        while {1} {\n",
    "            dict with hh {\n",
    "                dict with mem $pc {\n",
    "                    # puts $executed\n",
    "                    #puts \"$pc\\t$op $arg\\t$count\"\n",
    "                    if {[lsearch $executed $pc] != -1} {\n",
    "                        return [list inf $acc $hh]\n",
    "                    }\n",
    "                    lappend executed $pc\n",
    "                    \n",
    "                    # puts $op\n",
    "                    # puts $arg\n",
    "                    switch $op {\n",
    "                       acc {incr acc $arg; incr pc}\n",
    "                       jmp {incr pc $arg}\n",
    "                       nop {incr pc}\n",
    "                       done {return [list done $acc]}\n",
    "                       default {error \"Invallid op $op\"}\n",
    "                    }\n",
    "                    \n",
    "                }\n",
    "            }\n",
    "        }\n",
    "    }\n",
    "\n",
    "    proc parts input {\n",
    "        set data  [string trim $input]\n",
    "        lassign [handheld $data] _ result1 hh\n",
    "        set result2 {}\n",
    "        # only ops executed in the looping program are candidates for\n",
    "        # replacement\n",
    "        while {$result2 eq {}} {\n",
    "            foreach candidate [lreverse [dict get $hh executed]] {\n",
    "                set prog_idx [expr {2*$candidate}]\n",
    "                set modprogram $data\n",
    "                switch [lindex $modprogram $prog_idx] {\n",
    "                    jmp {lset modprogram  $prog_idx nop}\n",
    "                    nop {lset modprogram  $prog_idx jmp}\n",
    "                    default {continue}\n",
    "                }\n",
    "                \n",
    "                # puts $modprogram\n",
    "                lassign [handheld $modprogram] res acc\n",
    "                if {$res eq \"done\"} {set result2 $acc ; break}\n",
    "            }\n",
    "        }\n",
    "        return [list $result1 $result2]\n",
    "    }\n",
    "    aoc::results"
   ]
  },
  {
   "cell_type": "code",
   "execution_count": null,
   "metadata": {},
   "outputs": [],
   "source": []
  }
 ],
 "metadata": {
  "kernelspec": {
   "display_name": "Tcl",
   "language": "tcl",
   "name": "tcljupyter"
  },
  "language_info": {
   "file_extension": ".tcl",
   "mimetype": "txt/x-tcl",
   "name": "tcl",
   "version": "8.6.9"
  }
 },
 "nbformat": 4,
 "nbformat_minor": 4
}
