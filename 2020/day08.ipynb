{
 "cells": [
  {
   "cell_type": "code",
   "execution_count": 2,
   "metadata": {},
   "outputs": [],
   "source": [
    "source setup.tcl"
   ]
  },
  {
   "cell_type": "code",
   "execution_count": 3,
   "metadata": {},
   "outputs": [
    {
     "ename": "Tcl error",
     "evalue": "Please don't repeatedly request this endpoint before it unlocks! The calendar countdown is synchronized with the server time; the link will be enabled on the calendar the instant this puzzle becomes available.\n",
     "output_type": "error",
     "traceback": [
      "Please don't repeatedly request this endpoint before it unlocks! The calendar countdown is synchronized with the server time; the link will be enabled on the calendar the instant this puzzle becomes available.\n\n    while executing\n\"aoc::get-puzzle 2020 8 1\""
     ]
    }
   ],
   "source": [
    "aoc::get-puzzle 2020 8 1\n",
    "# aoc::get-puzzle 2020 8 2\n",
    "set input [aoc::get-input 2020 8]\n",
    "jupyter::html \"<h2>Input</h2>\"\n",
    "jupyter::display \"text/plain\" [string range $input 0 100]...;"
   ]
  },
  {
   "cell_type": "code",
   "execution_count": 4,
   "metadata": {},
   "outputs": [
    {
     "ename": "Tcl error",
     "evalue": "can't read \"::input\": no such variable",
     "output_type": "error",
     "traceback": [
      "can't read \"::input\": no such variable\n    while executing\n\"parts $::input\"\n    invoked from within\n\"time {lassign [parts $::input] result1 result2}\"\n    (procedure \"aoc::results\" line 5)\n    invoked from within\n\"aoc::results\""
     ]
    }
   ],
   "source": [
    "proc parts input {\n",
    "    set data  [string trim $input]\n",
    "    return [list $result1 $result2]\n",
    "}\n",
    "aoc::results"
   ]
  },
  {
   "cell_type": "code",
   "execution_count": null,
   "metadata": {},
   "outputs": [],
   "source": []
  }
 ],
 "metadata": {
  "kernelspec": {
   "display_name": "Tcl",
   "language": "tcl",
   "name": "tcljupyter"
  },
  "language_info": {
   "file_extension": ".tcl",
   "mimetype": "txt/x-tcl",
   "name": "tcl",
   "version": "8.6.10"
  }
 },
 "nbformat": 4,
 "nbformat_minor": 4
}
