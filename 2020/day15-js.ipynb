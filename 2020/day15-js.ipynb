{
 "cells": [
  {
   "cell_type": "code",
   "execution_count": 4,
   "metadata": {},
   "outputs": [
    {
     "name": "stdout",
     "output_type": "stream",
     "text": [
      "447\n",
      "11721679\n",
      "speak: 1.094s\n"
     ]
    }
   ],
   "source": [
    "var turns = 30000000\n",
    "var start = [8,11,0,19,1,2]\n",
    "var ll = new Array(turns)\n",
    "start.slice(0,-1).forEach(\n",
    "    (item, index, arr) => ll[item] = index + 1\n",
    ")\n",
    "var turn = start.length\n",
    "var speak = start.pop();\n",
    "console.time(\"speak\")\n",
    "while (turn < turns) {\n",
    "    var prevturn = turn\n",
    "    turn++\n",
    "    var last = ll[speak]\n",
    "    ll[speak] = prevturn\n",
    "    if (last) {\n",
    "        speak = prevturn - last\n",
    "    } else {\n",
    "        speak = 0\n",
    "    }\n",
    "    if (turn == 2020) {console.log(speak)}\n",
    "}\n",
    "console.log(speak)\n",
    "console.timeEnd(\"speak\")"
   ]
  },
  {
   "cell_type": "code",
   "execution_count": 1,
   "metadata": {},
   "outputs": [
    {
     "data": {
      "text/plain": [
       "2"
      ]
     },
     "execution_count": 1,
     "metadata": {},
     "output_type": "execute_result"
    }
   ],
   "source": [
    "1+1"
   ]
  },
  {
   "cell_type": "code",
   "execution_count": null,
   "metadata": {},
   "outputs": [],
   "source": []
  }
 ],
 "metadata": {
  "kernelspec": {
   "display_name": "Javascript (Node.js)",
   "language": "javascript",
   "name": "javascript"
  },
  "language_info": {
   "file_extension": ".js",
   "mimetype": "application/javascript",
   "name": "javascript",
   "version": "14.15.3"
  }
 },
 "nbformat": 4,
 "nbformat_minor": 4
}
