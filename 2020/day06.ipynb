{
 "cells": [
  {
   "cell_type": "code",
   "execution_count": 24,
   "metadata": {},
   "outputs": [
    {
     "data": {
      "text/plain": [
       "2.2.3"
      ]
     },
     "execution_count": 24,
     "metadata": {},
     "output_type": "execute_result"
    }
   ],
   "source": [
    "source setup.tcl\n",
    "package require struct::set"
   ]
  },
  {
   "cell_type": "code",
   "execution_count": 25,
   "metadata": {},
   "outputs": [
    {
     "data": {
      "text/plain": [
       "(cached)"
      ]
     },
     "metadata": {},
     "output_type": "display_data"
    },
    {
     "data": {
      "text/html": [
       "<article class=\"day-desc\">\n",
       "<h2>--- Day 6: Custom Customs ---</h2><p>As your flight approaches the regional airport where you'll switch to a much larger plane, <a href=\"https://en.wikipedia.org/wiki/Customs_declaration\" target=\"_blank\">customs declaration forms</a> are distributed to the passengers.</p><p>The form asks a series of 26 yes-or-no questions marked <code>a</code> through <code>z</code>. All you need to do is identify the questions for which <em>anyone in your group</em> answers \"yes\". Since your group is just you, this doesn't take very long.</p><p>However, the person sitting next to you seems to be experiencing a language barrier and asks if you can help. For each of the people in their group, you write down the questions for which they answer \"yes\", one per line.  For example:</p><pre><code>abcx\n",
       "abcy\n",
       "abcz\n",
       "</code></pre><p>In this group, there are <em><code>6</code></em> questions to which anyone answered \"yes\": <code>a</code>, <code>b</code>, <code>c</code>, <code>x</code>, <code>y</code>, and <code>z</code>. (Duplicate answers to the same question don't count extra; each question counts at most once.)</p><p>Another group asks for your help, then another, and eventually you've collected answers from every group on the plane (your puzzle input). Each group's answers are separated by a blank line, and within each group, each person's answers are on a single line. For example:</p><pre><code>abc\n",
       "\n",
       "a\n",
       "b\n",
       "c\n",
       "\n",
       "ab\n",
       "ac\n",
       "\n",
       "a\n",
       "a\n",
       "a\n",
       "a\n",
       "\n",
       "b\n",
       "</code></pre><p>This list represents answers from five groups:</p><ul>\n",
       "<li>The first group contains one person who answered \"yes\" to <em><code>3</code></em> questions: <code>a</code>, <code>b</code>, and <code>c</code>.</li><li>The second group contains three people; combined, they answered \"yes\" to <em><code>3</code></em> questions: <code>a</code>, <code>b</code>, and <code>c</code>.</li><li>The third group contains two people; combined, they answered \"yes\" to <em><code>3</code></em> questions: <code>a</code>, <code>b</code>, and <code>c</code>.</li><li>The fourth group contains four people; combined, they answered \"yes\" to only <em><code>1</code></em> question, <code>a</code>.</li><li>The last group contains one person who answered \"yes\" to only <em><code>1</code></em> question, <code>b</code>.</li>\n",
       "</ul><p>In this example, the sum of these counts is <code>3 + 3 + 3 + 1 + 1</code> = <em><code>11</code></em>.</p><p>For each group, count the number of questions to which anyone answered \"yes\". <em>What is the sum of those counts?</em>\n",
       "</p>\n",
       "</article>"
      ]
     },
     "metadata": {},
     "output_type": "display_data"
    },
    {
     "data": {
      "text/plain": [
       "(cached)"
      ]
     },
     "metadata": {},
     "output_type": "display_data"
    },
    {
     "data": {
      "text/html": [
       "<article class=\"day-desc\">\n",
       "<h2 id=\"part2\">--- Part Two ---</h2><p>As you finish the last group's customs declaration, you notice that <span title=\"Don't worry, nobody ever misreads just one word in real life.\">you misread one word</span> in the instructions:</p><p>You don't need to identify the questions to which <em>anyone</em> answered \"yes\"; you need to identify the questions to which <em>everyone</em> answered \"yes\"!</p><p>Using the same  example as above:</p><pre><code>abc\n",
       "\n",
       "a\n",
       "b\n",
       "c\n",
       "\n",
       "ab\n",
       "ac\n",
       "\n",
       "a\n",
       "a\n",
       "a\n",
       "a\n",
       "\n",
       "b\n",
       "</code></pre><p>This list represents answers from five groups:</p><ul>\n",
       "<li>In the first group, everyone (all 1 person) answered \"yes\" to <em><code>3</code></em> questions: <code>a</code>, <code>b</code>, and <code>c</code>.</li><li>In the second group, there is <em>no</em> question to which everyone answered \"yes\".</li><li>In the third group, everyone answered yes to only <em><code>1</code></em> question, <code>a</code>. Since some people did not answer \"yes\" to <code>b</code> or <code>c</code>, they don't count.</li><li>In the fourth group, everyone answered yes to only <em><code>1</code></em> question, <code>a</code>.</li><li>In the fifth group, everyone (all 1 person) answered \"yes\" to <em><code>1</code></em> question, <code>b</code>.</li>\n",
       "</ul><p>In this example, the sum of these counts is <code>3 + 0 + 1 + 1 + 1</code> = <em><code>6</code></em>.</p><p>For each group, count the number of questions to which <em>everyone</em> answered \"yes\". <em>What is the sum of those counts?</em>\n",
       "</p>\n",
       "</article>"
      ]
     },
     "metadata": {},
     "output_type": "display_data"
    },
    {
     "data": {
      "text/html": [
       "<h2>Input</h2>"
      ]
     },
     "metadata": {},
     "output_type": "display_data"
    },
    {
     "data": {
      "text/plain": [
       "x\n",
       "x\n",
       "\n",
       "ygzdvpxjk\n",
       "bzdgq\n",
       "aulrhfwi\n",
       "\n",
       "tpasjur\n",
       "jrutopas\n",
       "rtjpaus\n",
       "sraetpju\n",
       "tpajsru\n",
       "\n",
       "vus\n",
       "uvs\n",
       "vwups\n",
       "\n",
       "r\n",
       "r\n",
       "r\n",
       "d\n",
       "j\n",
       "\n",
       "q..."
      ]
     },
     "metadata": {},
     "output_type": "display_data"
    },
    {
     "data": {
      "text/plain": []
     },
     "execution_count": 25,
     "metadata": {},
     "output_type": "execute_result"
    }
   ],
   "source": [
    "aoc::get-puzzle 2020 6 1\n",
    "aoc::get-puzzle 2020 6 2\n",
    "set input [aoc::get-input 2020 6]\n",
    "jupyter::display \"text/html\" \"<h2>Input</h2>\"\n",
    "jupyter::display \"text/plain\" [string range $input 0 100]...;"
   ]
  },
  {
   "cell_type": "code",
   "execution_count": 30,
   "metadata": {},
   "outputs": [
    {
     "name": "stdout",
     "output_type": "stream",
     "text": [
      "Day1\t6612\n",
      "Day2\t3268\n",
      "18682 microseconds per iteration\n"
     ]
    }
   ],
   "source": [
    "  proc parts input {\n",
    "        set result1 0\n",
    "        set result2 0\n",
    "        set data [ split [string map [list \\n\\n \\f] [string trim $input]] \\f]\n",
    "        set answers {}\n",
    "        foreach group $data {\n",
    "            set answers  [lmap x [split $group \\n] {split $x {}}]\n",
    "            #puts $answers\n",
    "            incr result1 [llength [struct::set union {*}$answers]]\n",
    "             incr result2 [llength [struct::set intersect {*}$answers]]\n",
    "            \n",
    "        }\n",
    "\n",
    "        return [list $result1 $result2]\n",
    "    }\n",
    "    aoc::results"
   ]
  },
  {
   "cell_type": "code",
   "execution_count": null,
   "metadata": {},
   "outputs": [],
   "source": []
  }
 ],
 "metadata": {
  "kernelspec": {
   "display_name": "Tcl",
   "language": "tcl",
   "name": "tcljupyter"
  },
  "language_info": {
   "file_extension": ".tcl",
   "mimetype": "txt/x-tcl",
   "name": "tcl",
   "version": "8.6.9"
  }
 },
 "nbformat": 4,
 "nbformat_minor": 4
}
