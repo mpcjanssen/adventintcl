{
 "cells": [
  {
   "cell_type": "code",
   "execution_count": 43,
   "metadata": {},
   "outputs": [
    {
     "name": "stderr",
     "output_type": "stream",
     "text": [
      "Stopped due to error\n",
      "\n",
      "input.fsx (3,21)-(3,28) typecheck error Lookup on object of indeterminate type based on information prior to this program point. A type annotation may be needed prior to this program point to constrain the type of the object. This may allow the lookup to be resolved.\n",
      "\n"
     ]
    },
    {
     "ename": "Cell not executed",
     "evalue": "compilation error",
     "output_type": "error",
     "traceback": []
    }
   ],
   "source": [
    "let input = File.ReadAllText(\"input/6.txt\")\n",
    "\n",
    "let parse_group g = g.Split(\"\\r\\n\")    \n",
    "\n",
    "let groups =    input.Split(\"\\r\\n\\r\\n\")\n",
    "\n",
    "let parsed = groups |> Array.map(parse_group)\n",
    "    \n",
    "parsed"
   ]
  },
  {
   "cell_type": "code",
   "execution_count": null,
   "metadata": {},
   "outputs": [],
   "source": []
  }
 ],
 "metadata": {
  "kernelspec": {
   "display_name": ".NET (F#)",
   "language": "F#",
   "name": ".net-fsharp"
  },
  "language_info": {
   "file_extension": ".fs",
   "mimetype": "text/x-fsharp",
   "name": "C#",
   "pygments_lexer": "fsharp",
   "version": "4.5"
  }
 },
 "nbformat": 4,
 "nbformat_minor": 4
}
