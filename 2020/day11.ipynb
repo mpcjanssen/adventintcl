{
 "cells": [
  {
   "cell_type": "code",
   "execution_count": 2,
   "metadata": {},
   "outputs": [],
   "source": [
    "source setup.tcl"
   ]
  },
  {
   "cell_type": "code",
   "execution_count": 3,
   "metadata": {},
   "outputs": [
    {
     "data": {
      "text/plain": [
       "(cached)"
      ]
     },
     "metadata": {},
     "output_type": "display_data"
    },
    {
     "data": {
      "text/html": [
       "<article class=\"day-desc\">\n",
       "<h2>--- Day 11: Seating System ---</h2><p>Your plane lands with plenty of time to spare. The final leg of your journey is a ferry that goes directly to the tropical island where you can finally start your vacation. As you reach the waiting area to board the ferry, you realize you're so early, nobody else has even arrived yet!</p><p>By modeling the process people use to choose (or abandon) their seat in the waiting area, you're pretty sure you can predict the best place to sit. You make a quick map of the seat layout (your puzzle input).</p><p>The seat layout fits neatly on a grid. Each position is either floor (<code>.</code>), an empty seat (<code>L</code>), or an occupied seat (<code>#</code>). For example, the initial seat layout might look like this:</p><pre><code>L.LL.LL.LL\n",
       "LLLLLLL.LL\n",
       "L.L.L..L..\n",
       "LLLL.LL.LL\n",
       "L.LL.LL.LL\n",
       "L.LLLLL.LL\n",
       "..L.L.....\n",
       "LLLLLLLLLL\n",
       "L.LLLLLL.L\n",
       "L.LLLLL.LL\n",
       "</code></pre><p>Now, you just need to model the people who will be arriving shortly. Fortunately, people are entirely predictable and always follow a simple set of rules. All decisions are based on the <em>number of occupied seats</em> adjacent to a given seat (one of the eight positions immediately up, down, left, right, or diagonal from the seat). The following rules are applied to every seat simultaneously:</p><ul>\n",
       "<li>If a seat is <em>empty</em> (<code>L</code>) and there are <em>no</em> occupied seats adjacent to it, the seat becomes <em>occupied</em>.</li><li>If a seat is <em>occupied</em> (<code>#</code>) and <em>four or more</em> seats adjacent to it are also occupied, the seat becomes <em>empty</em>.</li><li>Otherwise, the seat's state does not change.</li>\n",
       "</ul><p>\n",
       "<span title=\"Floor... floor never changes.\">Floor (<code>.</code>) never changes</span>; seats don't move, and nobody sits on the floor.</p><p>After one round of these rules, every seat in the example layout becomes occupied:</p><pre><code>#.##.##.##\n",
       "#######.##\n",
       "#.#.#..#..\n",
       "####.##.##\n",
       "#.##.##.##\n",
       "#.#####.##\n",
       "..#.#.....\n",
       "##########\n",
       "#.######.#\n",
       "#.#####.##\n",
       "</code></pre><p>After a second round, the seats with four or more occupied adjacent seats become empty again:</p><pre><code>#.LL.L#.##\n",
       "#LLLLLL.L#\n",
       "L.L.L..L..\n",
       "#LLL.LL.L#\n",
       "#.LL.LL.LL\n",
       "#.LLLL#.##\n",
       "..L.L.....\n",
       "#LLLLLLLL#\n",
       "#.LLLLLL.L\n",
       "#.#LLLL.##\n",
       "</code></pre><p>This process continues for three more rounds:</p><pre><code>#.##.L#.##\n",
       "#L###LL.L#\n",
       "L.#.#..#..\n",
       "#L##.##.L#\n",
       "#.##.LL.LL\n",
       "#.###L#.##\n",
       "..#.#.....\n",
       "#L######L#\n",
       "#.LL###L.L\n",
       "#.#L###.##\n",
       "</code></pre><pre><code>#.#L.L#.##\n",
       "#LLL#LL.L#\n",
       "L.L.L..#..\n",
       "#LLL.##.L#\n",
       "#.LL.LL.LL\n",
       "#.LL#L#.##\n",
       "..L.L.....\n",
       "#L#LLLL#L#\n",
       "#.LLLLLL.L\n",
       "#.#L#L#.##\n",
       "</code></pre><pre><code>#.#L.L#.##\n",
       "#LLL#LL.L#\n",
       "L.#.L..#..\n",
       "#L##.##.L#\n",
       "#.#L.LL.LL\n",
       "#.#L#L#.##\n",
       "..L.L.....\n",
       "#L#L##L#L#\n",
       "#.LLLLLL.L\n",
       "#.#L#L#.##\n",
       "</code></pre><p>At this point, something interesting happens: the chaos stabilizes and further applications of these rules cause no seats to change state! Once people stop moving around, you count <em><code>37</code></em> occupied seats.</p><p>Simulate your seating area by applying the seating rules repeatedly until no seats change state. <em>How many seats end up occupied?</em>\n",
       "</p>\n",
       "</article>"
      ]
     },
     "metadata": {},
     "output_type": "display_data"
    },
    {
     "data": {
      "text/plain": [
       "(cached)"
      ]
     },
     "metadata": {},
     "output_type": "display_data"
    },
    {
     "data": {
      "text/html": [
       "<h2>Input</h2>"
      ]
     },
     "metadata": {},
     "output_type": "display_data"
    },
    {
     "data": {
      "text/plain": [
       "LLLLL.LLLLLLLLLLLLLLLLLLLLLLLLLL.LLLLLLL.LLLLLLLLLL.LLLLLLLLLLL.LLLLLLLLLLLLLL.LLLL.LLLL.LLLLLL\n",
       "LLLLL..."
      ]
     },
     "metadata": {},
     "output_type": "display_data"
    },
    {
     "data": {
      "text/plain": []
     },
     "execution_count": 3,
     "metadata": {},
     "output_type": "execute_result"
    }
   ],
   "source": [
    "aoc::get-puzzle 2020 11 1\n",
    "#aoc::get-puzzle 2020 11 2\n",
    "set input [aoc::get-input 2020 11]\n",
    "jupyter::html \"<h2>Input</h2>\"\n",
    "jupyter::display \"text/plain\" [string range $input 0 100]...;"
   ]
  },
  {
   "cell_type": "code",
   "execution_count": 5,
   "metadata": {},
   "outputs": [
    {
     "name": "stdout",
     "output_type": "stream",
     "text": [
      "Day1\t2406\n",
      "Day2\t\n",
      "7916256 microseconds per iteration\n"
     ]
    }
   ],
   "source": [
    "proc occupied {seats val x y} {\n",
    "    \n",
    "    set x1 [- $x 1]\n",
    "    set x2 [+ $x 1]\n",
    "    set y1 [- $y 1]\n",
    "    set y2 [+ $y 1]\n",
    "\n",
    "    \n",
    "    catch {lappend n [dict get $seats $x1 $y1]}\n",
    "    catch {lappend n [dict get $seats $x1 $y2]}\n",
    "    catch {lappend n [dict get $seats $x $y1]}\n",
    "    catch {lappend n [dict get $seats $x $y2]}\n",
    "    catch {lappend n [dict get $seats $x2 $y1]}\n",
    "    catch {lappend n [dict get $seats $x2 $y2]}\n",
    "    catch {lappend n [dict get $seats $x1 $y]}\n",
    "    catch {lappend n [dict get $seats $x2 $y]}\n",
    "    \n",
    "    \n",
    "    set n [llength [lsearch -all $n {#}]]\n",
    "    switch $val {\n",
    "        \"#\" {\n",
    "            if {$n >= 4} {return L}\n",
    "        }\n",
    "        L {\n",
    "            if {$n == 0} {return \"#\"}\n",
    "        }\n",
    "        default {return -code error \"unexpected value $val\"}\n",
    "    }\n",
    "    return $val\n",
    "}\n",
    "\n",
    "\n",
    "\n",
    "proc step1 {seats} {\n",
    "    set rows [llength $seats]\n",
    "    set columns [llength [lindex $seats 0]]\n",
    "    set org $seats\n",
    "    dict for {x col} $org {\n",
    "        dict for {y val} $col {\n",
    "            dict set seats $x $y [occupied $org $val $x $y]\n",
    "            \n",
    "        }\n",
    "    }\n",
    "    return $seats\n",
    "}\n",
    "\n",
    "\n",
    "\n",
    "proc parts input {\n",
    "    set input [split [string trim $input] \\n]\n",
    "    set rows [llength $input]\n",
    "    set columns [string length [lindex $input 0]]\n",
    "    for {set y 0} {$y < $rows} {incr y} {\n",
    "        for {set x 0} {$x < $columns} {incr x} {\n",
    "            set val [string index [lindex $input $y] $x]\n",
    "            if {$val eq \".\"} continue\n",
    "            dict set seats $x $y [string index [lindex $input $y] $x]\n",
    "        }\n",
    "    }\n",
    "    \n",
    "    set prev $seats\n",
    "\n",
    "    while 1 {\n",
    "        set seats [step1 $prev]\n",
    "        if {$prev eq $seats} break\n",
    "        set prev $seats\n",
    "    }\n",
    "    set result1 [llength [lsearch -all [join $seats \" \"] \"#\"]]\n",
    "    set result2 \"\"\n",
    "    return [list $result1 $result2]\n",
    "}\n",
    "aoc::results"
   ]
  },
  {
   "cell_type": "code",
   "execution_count": 68,
   "metadata": {},
   "outputs": [
    {
     "name": "stdout",
     "output_type": "stream",
     "text": [
      "0:0->L\n",
      "0:1->X\n",
      "1:0->X\n",
      "1:1->L\n"
     ]
    }
   ],
   "source": [
    "dict for {x col} {0 {0 L 1 X} 1 {0 X 1 L}} {dict for {y val} $col {puts $x:$y->$val}}"
   ]
  },
  {
   "cell_type": "code",
   "execution_count": 69,
   "metadata": {},
   "outputs": [
    {
     "ename": "Tcl error",
     "evalue": "wrong # args: should be \"dict set dictVarName key ?key ...? value\"",
     "output_type": "error",
     "traceback": [
      "wrong # args: should be \"dict set dictVarName key ?key ...? value\"\n    while executing\n\"dict set\""
     ]
    }
   ],
   "source": [
    "dict set"
   ]
  },
  {
   "cell_type": "code",
   "execution_count": null,
   "metadata": {},
   "outputs": [],
   "source": []
  }
 ],
 "metadata": {
  "kernelspec": {
   "display_name": "Tcl",
   "language": "tcl",
   "name": "tcljupyter"
  },
  "language_info": {
   "file_extension": ".tcl",
   "mimetype": "txt/x-tcl",
   "name": "tcl",
   "version": "8.6.9"
  }
 },
 "nbformat": 4,
 "nbformat_minor": 4
}
