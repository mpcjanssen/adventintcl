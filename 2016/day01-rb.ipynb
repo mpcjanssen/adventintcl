{
 "cells": [
  {
   "cell_type": "code",
   "execution_count": 81,
   "metadata": {},
   "outputs": [
    {
     "data": {
      "text/plain": [
       "226"
      ]
     },
     "execution_count": 81,
     "metadata": {},
     "output_type": "execute_result"
    }
   ],
   "source": [
    "input = File.read(\"./input/1.txt\").split(\",\").map { |x| x.strip}\n",
    "# input = \"R5, L5, R5, R3\".split(\",\").map { | x | x.strip.split(\"\")}\n",
    "\n",
    "input.inject([[0,0], [0,-1]] ) { | state, cmd  |\n",
    "    \n",
    "    turn = cmd[0]\n",
    "    dist = cmd[1..]\n",
    "\n",
    "    pos, dir = state\n",
    "    x,y  = pos\n",
    "    dx,dy = dir\n",
    "\n",
    "    dx,dy = case [turn, dx, dy]\n",
    "        when [\"L\",0,1],[\"R\",0,-1]\n",
    "            [1,0]\n",
    "        when [\"L\",0,-1],[\"R\",0,1]\n",
    "            [-1,0]\n",
    "        when [\"L\",1,0],[\"R\",-1,0]\n",
    "            [0,-1]\n",
    "        when [\"L\",-1,0],[\"R\",1,0]\n",
    "            [0,1]\n",
    "    else throw Exception.new(\"Invalid cmd #{turn}\")\n",
    "    end\n",
    "    x = x + dx*dist.to_i\n",
    "    y = y + dy*dist.to_i\n",
    "\n",
    "    [[x,y],[dx,dy]]\n",
    "}.first.map(&:abs).sum"
   ]
  },
  {
   "cell_type": "code",
   "execution_count": 82,
   "metadata": {},
   "outputs": [
    {
     "data": {
      "text/plain": [
       "79"
      ]
     },
     "execution_count": 82,
     "metadata": {},
     "output_type": "execute_result"
    }
   ],
   "source": [
    "# input = \"R8, R4, R4, R8\".split(\",\").map { |x| x.strip}\n",
    "input = File.read(\"./input/1.txt\").split(\",\").map { |x| x.strip}\n",
    "catch(:done) do\n",
    "    input.inject([[[0,0]], [0,-1]] ) { | state, cmd  |\n",
    "    \n",
    "    turn = cmd[0]\n",
    "    dist = cmd[1..]\n",
    "\n",
    "    path, dir = state\n",
    "    x,y  = path[-1]\n",
    "    dx,dy = dir\n",
    "\n",
    "    dx,dy = case [turn, dx, dy]\n",
    "        when [\"L\",0,1],[\"R\",0,-1]\n",
    "            [1,0]\n",
    "        when [\"L\",0,-1],[\"R\",0,1]\n",
    "            [-1,0]\n",
    "        when [\"L\",1,0],[\"R\",-1,0]\n",
    "            [0,-1]\n",
    "        when [\"L\",-1,0],[\"R\",1,0]\n",
    "            [0,1]\n",
    "    else throw Exception.new(\"Invalid cmd #{turn}\")\n",
    "    end\n",
    "    (1..dist.to_i).each { |d|\n",
    "        x1 = x + dx*d\n",
    "        y1 = y + dy*d\n",
    "        throw(:done,[x1,y1]) if path.include? [x1,y1]\n",
    "        path << [x1,y1]\n",
    "    }\n",
    "    [path,[dx,dy]]\n",
    "}\n",
    "end.map(&:abs).sum"
   ]
  },
  {
   "cell_type": "code",
   "execution_count": null,
   "metadata": {},
   "outputs": [],
   "source": []
  }
 ],
 "metadata": {
  "kernelspec": {
   "display_name": "Ruby 2.7.2",
   "language": "ruby",
   "name": "ruby"
  },
  "language_info": {
   "file_extension": ".rb",
   "mimetype": "application/x-ruby",
   "name": "ruby",
   "version": "2.7.2"
  }
 },
 "nbformat": 4,
 "nbformat_minor": 4
}
