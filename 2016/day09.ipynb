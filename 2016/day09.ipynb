{
 "cells": [
  {
   "cell_type": "code",
   "execution_count": 1,
   "metadata": {},
   "outputs": [],
   "source": [
    "source setup.tcl"
   ]
  },
  {
   "cell_type": "code",
   "execution_count": 11,
   "metadata": {},
   "outputs": [
    {
     "data": {
      "text/plain": [
       "(cached)"
      ]
     },
     "metadata": {},
     "output_type": "display_data"
    },
    {
     "data": {
      "text/html": [
       "<article class=\"day-desc\">\n",
       "<h2>--- Day 9: Explosives in Cyberspace ---</h2><p>Wandering around a secure area, you come across a datalink port to a new part of the network. After briefly scanning it for interesting files, you find one file in particular that catches your attention. It's compressed with an experimental format, but fortunately, the documentation for the format is nearby.</p><p>The format compresses a sequence of characters. Whitespace is ignored. To indicate that some sequence should be repeated, a marker is added to the file, like <code>(10x2)</code>. To decompress this marker, take the subsequent <code>10</code> characters and repeat them <code>2</code> times. Then, continue reading the file <em>after</em> the repeated data.  The marker itself is not included in the decompressed output.</p><p>If parentheses or other characters appear within the data referenced by a marker, that's okay - treat it like normal data, not a marker, and then resume looking for markers after the decompressed section.</p><p>For example:</p><ul>\n",
       "<li>\n",
       "<code>ADVENT</code> contains no markers and decompresses to itself with no changes, resulting in a decompressed length of <code>6</code>.</li><li>\n",
       "<code>A(1x5)BC</code> repeats only the <code>B</code> a total of <code>5</code> times, becoming <code>ABBBBBC</code> for a decompressed length of <code>7</code>.</li><li>\n",
       "<code>(3x3)XYZ</code> becomes <code>XYZXYZXYZ</code> for a decompressed length of <code>9</code>.</li><li>\n",
       "<code>A(2x2)BCD(2x2)EFG</code> doubles the <code>BC</code> and <code>EF</code>, becoming <code>ABCBCDEFEFG</code> for a decompressed length of <code>11</code>.</li><li>\n",
       "<code>(6x1)(1x3)A</code> simply becomes <code>(1x3)A</code> - the <code>(1x3)</code> looks like a marker, but because it's within a data section of another marker, it is not treated any differently from the <code>A</code> that comes after it. It has a decompressed length of <code>6</code>.</li><li>\n",
       "<code>X(8x2)(3x3)ABCY</code> becomes <code>X(3x3)ABC(3x3)ABCY</code> (for a decompressed length of <code>18</code>), because the decompressed data from the <code>(8x2)</code> marker (the <code>(3x3)ABC</code>) is skipped and not processed further.</li>\n",
       "</ul><p>What is the <em>decompressed length</em> of the file (your puzzle input)? Don't count whitespace.</p>\n",
       "</article>"
      ]
     },
     "metadata": {},
     "output_type": "display_data"
    }
   ],
   "source": [
    "aoc::get-puzzle 2016 9 1\n",
    "# aoc::get-puzzle 2016 9 2"
   ]
  },
  {
   "cell_type": "code",
   "execution_count": 12,
   "metadata": {},
   "outputs": [
    {
     "data": {
      "text/plain": [
       "(cached)"
      ]
     },
     "metadata": {},
     "output_type": "display_data"
    },
    {
     "data": {
      "text/plain": [
       "(19x14)(3x2)ZTN(5x14)MBPWH(112x2)(20x15)(2x15)AX(7x4)UDNOYNU(7x7)YGJJMBB(59x11)(1x10)Q(29x4)VGDXLQYSE..."
      ]
     },
     "metadata": {},
     "output_type": "display_data"
    }
   ],
   "source": [
    "set input [aoc::get-input 2016 9];\n",
    "jupyter::display text/plain [string range $input 0 100]...;"
   ]
  },
  {
   "cell_type": "code",
   "execution_count": 38,
   "metadata": {},
   "outputs": [
    {
     "name": "stdout",
     "output_type": "stream",
     "text": [
      "ADVENT\n",
      "ABBBBBC\n",
      "XYZXYZXYZ\n",
      "(1x3)A\n"
     ]
    }
   ],
   "source": [
    "proc decompress {input} {\n",
    "    set len [string length $input]\n",
    "    set idx 0\n",
    "    set decompressed {}\n",
    "    while {$idx < $len } {\n",
    "        set c [string index $input $idx]\n",
    "\n",
    "        if {$c eq \"(\"} {\n",
    "            set marker {}\n",
    "            incr idx\n",
    "            while {[string index $input $idx] ne \")\"} {\n",
    "                append marker [string index $input $idx]\n",
    "                incr idx\n",
    "            }\n",
    "            incr idx\n",
    "            lassign [split $marker x] l t\n",
    "            set end [expr {$idx+$l-1}]\n",
    "            set fragment [string range $input $idx $end]\n",
    "            append decompressed [string repeat $fragment $t]\n",
    "            incr idx $l\n",
    "            incr idx -1\n",
    "            \n",
    "        } elseif {![string is space $c]} {\n",
    "            append decompressed $c\n",
    "        }\n",
    "        incr idx\n",
    "    }\n",
    "    return $decompressed\n",
    "}\n",
    "\n",
    "puts [decompress ADVENT]\n",
    "puts [decompress A(1x5)BC]\n",
    "puts [decompress (3x3)XYZ]\n",
    "puts [decompress (6x1)(1x3)A]"
   ]
  },
  {
   "cell_type": "code",
   "execution_count": 39,
   "metadata": {},
   "outputs": [
    {
     "name": "stdout",
     "output_type": "stream",
     "text": [
      "Day1\t97714\n",
      "Day2\t\n",
      "559 microseconds per iteration\n"
     ]
    }
   ],
   "source": [
    "proc parts input {\n",
    "    set result1 [string length [decompress $input]]\n",
    "    set result2 {}\n",
    "    return [list $result1 $result2]\n",
    "    \n",
    "}\n",
    "aoc::results\n"
   ]
  }
 ],
 "metadata": {
  "kernelspec": {
   "display_name": "Tcl",
   "language": "tcl",
   "name": "tcl"
  },
  "language_info": {
   "file_extension": ".tcl",
   "mimetype": "txt/x-tcl",
   "name": "tcl",
   "version": "8.6.11"
  }
 },
 "nbformat": 4,
 "nbformat_minor": 4
}
