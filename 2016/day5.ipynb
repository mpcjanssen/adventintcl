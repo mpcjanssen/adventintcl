{
 "cells": [
  {
   "cell_type": "code",
   "execution_count": 4,
   "metadata": {},
   "outputs": [
    {
     "data": {
      "text/plain": [
       "#'user/md5"
      ]
     },
     "execution_count": 4,
     "metadata": {},
     "output_type": "execute_result"
    }
   ],
   "source": [
    "(import java.security.MessageDigest)\n",
    "(defn md5\n",
    "  [^String s]\n",
    "  (->> s\n",
    "       .getBytes\n",
    "       (.digest (MessageDigest/getInstance \"MD5\"))\n",
    "       (BigInteger. 1)\n",
    "       (format \"%032x\")))"
   ]
  },
  {
   "cell_type": "code",
   "execution_count": 5,
   "metadata": {},
   "outputs": [
    {
     "data": {
      "text/plain": [
       "\"0cc175b9c0f1b6a831c399e269772661\""
      ]
     },
     "execution_count": 5,
     "metadata": {},
     "output_type": "execute_result"
    }
   ],
   "source": [
    "(md5 \"a\")"
   ]
  },
  {
   "cell_type": "code",
   "execution_count": 22,
   "metadata": {},
   "outputs": [
    {
     "name": "stdout",
     "output_type": "stream",
     "text": [
      "\"Elapsed time: 0.095115 msecs\"\n"
     ]
    },
    {
     "data": {
      "text/plain": [
       "(\"00000d82520c9edae5aff0c95131fa2f\" \"0000043e8f3f991deb83a48397ae1e7e\" \"00000c6ef1f544e7423e5234fc295e2c\" \"00000db7c2dd1100436ce9ee71df4a6f\" \"000002c7d4257f42319af0bf3d255eac\" \"00000e94d4c249f954b637a1dc5eaa67\" \"00000e1355a341447c1b13967dacdfeb\" \"0000012e0248931afa8e7a3810442e98\")"
      ]
     },
     "execution_count": 22,
     "metadata": {},
     "output_type": "execute_result"
    }
   ],
   "source": [
    "(time (take 8 \n",
    "     (filter\n",
    "      #(.startsWith % \"00000\")\n",
    "      (map  \n",
    "       #(md5 (str \"ugkcyxxp\" %)) \n",
    "        (range)))))"
   ]
  },
  {
   "cell_type": "code",
   "execution_count": 11,
   "metadata": {},
   "outputs": [
    {
     "data": {
      "text/plain": [
       "false"
      ]
     },
     "execution_count": 11,
     "metadata": {},
     "output_type": "execute_result"
    }
   ],
   "source": [
    "(.startsWith \"00000\" \"av\")"
   ]
  },
  {
   "cell_type": "code",
   "execution_count": 18,
   "metadata": {},
   "outputs": [
    {
     "data": {
      "text/plain": [
       "true"
      ]
     },
     "execution_count": 18,
     "metadata": {},
     "output_type": "execute_result"
    }
   ],
   "source": [
    "(.startsWith (md5 \"abc3231929\") \"00000\" )"
   ]
  },
  {
   "cell_type": "code",
   "execution_count": null,
   "metadata": {},
   "outputs": [],
   "source": []
  }
 ],
 "metadata": {
  "kernelspec": {
   "display_name": "Clojure (clojupyter-0.3.2)",
   "language": "clojure",
   "name": "clojupyter-0.3.2"
  },
  "language_info": {
   "file_extension": ".clj",
   "mimetype": "text/x-clojure",
   "name": "clojure",
   "version": "1.10.1"
  }
 },
 "nbformat": 4,
 "nbformat_minor": 4
}
