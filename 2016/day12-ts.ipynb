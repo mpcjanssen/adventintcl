{
 "cells": [
  {
   "cell_type": "code",
   "execution_count": 19,
   "metadata": {},
   "outputs": [
    {
     "name": "stdout",
     "output_type": "stream",
     "text": [
      "[\n",
      "  [ 'cpy', '1', 'a' ],  [ 'cpy', '1', 'b' ],\n",
      "  [ 'cpy', '26', 'd' ], [ 'jnz', 'c', '2' ],\n",
      "  [ 'jnz', '1', '5' ],  [ 'cpy', '7', 'c' ],\n",
      "  [ 'inc', 'd' ],       [ 'dec', 'c' ],\n",
      "  [ 'jnz', 'c', '-2' ], [ 'cpy', 'a', 'c' ],\n",
      "  [ 'inc', 'a' ],       [ 'dec', 'b' ],\n",
      "  [ 'jnz', 'b', '-2' ], [ 'cpy', 'c', 'b' ],\n",
      "  [ 'dec', 'd' ],       [ 'jnz', 'd', '-6' ],\n",
      "  [ 'cpy', '14', 'c' ], [ 'cpy', '14', 'd' ],\n",
      "  [ 'inc', 'a' ],       [ 'dec', 'd' ],\n",
      "  [ 'jnz', 'd', '-2' ], [ 'dec', 'c' ],\n",
      "  [ 'jnz', 'c', '-5' ]\n",
      "]\n"
     ]
    }
   ],
   "source": [
    "interface Argument = string | number;\n",
    "\n",
    "import fs from 'fs';\n",
    "let text = fs.readFileSync('./input/12.txt','utf8').trim()\n",
    "let lines = text.split(\"\\n\").map(x => x.trim().split(\" \"))\n",
    "\n",
    "\n",
    "lines"
   ]
  },
  {
   "cell_type": "code",
   "execution_count": 9,
   "metadata": {},
   "outputs": [],
   "source": []
  },
  {
   "cell_type": "code",
   "execution_count": 9,
   "metadata": {},
   "outputs": [
    {
     "name": "stdout",
     "output_type": "stream",
     "text": [
      "{\n",
      "  pc: 0,\n",
      "  prog: [\n",
      "    [ 'cpy', '1', 'a' ],  [ 'cpy', '1', 'b' ],\n",
      "    [ 'cpy', '26', 'd' ], [ 'jnz', 'c', '2' ],\n",
      "    [ 'jnz', '1', '5' ],  [ 'cpy', '7', 'c' ],\n",
      "    [ 'inc', 'd' ],       [ 'dec', 'c' ],\n",
      "    [ 'jnz', 'c', '-2' ], [ 'cpy', 'a', 'c' ],\n",
      "    [ 'inc', 'a' ],       [ 'dec', 'b' ],\n",
      "    [ 'jnz', 'b', '-2' ], [ 'cpy', 'c', 'b' ],\n",
      "    [ 'dec', 'd' ],       [ 'jnz', 'd', '-6' ],\n",
      "    [ 'cpy', '14', 'c' ], [ 'cpy', '14', 'd' ],\n",
      "    [ 'inc', 'a' ],       [ 'dec', 'd' ],\n",
      "    [ 'jnz', 'd', '-2' ], [ 'dec', 'c' ],\n",
      "    [ 'jnz', 'c', '-5' ], [ '' ]\n",
      "  ],\n",
      "  pcmax: 24\n",
      "}\n"
     ]
    }
   ],
   "source": [
    "let state =  {pc: 0, prog: lines, pcmax: lines.length}\n",
    "state"
   ]
  },
  {
   "cell_type": "code",
   "execution_count": 18,
   "metadata": {},
   "outputs": [
    {
     "name": "stderr",
     "output_type": "stream",
     "text": [
      "1:5 - Property 'toInt' does not exist on type '\"a\"'.\n"
     ]
    }
   ],
   "source": [
    "Int"
   ]
  },
  {
   "cell_type": "code",
   "execution_count": null,
   "metadata": {},
   "outputs": [],
   "source": []
  }
 ],
 "metadata": {
  "kernelspec": {
   "display_name": "TypeScript",
   "language": "typescript",
   "name": "tslab"
  },
  "language_info": {
   "codemirror_mode": {
    "mode": "typescript",
    "name": "javascript",
    "typescript": true
   },
   "file_extension": ".ts",
   "mimetype": "text/typescript",
   "name": "typescript",
   "version": "3.7.2"
  }
 },
 "nbformat": 4,
 "nbformat_minor": 4
}
