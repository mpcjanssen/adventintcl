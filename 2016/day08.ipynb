{
 "cells": [
  {
   "cell_type": "code",
   "execution_count": 2,
   "metadata": {},
   "outputs": [
    {
     "data": {
      "text/plain": [
       "(cached)"
      ]
     },
     "metadata": {},
     "output_type": "display_data"
    },
    {
     "data": {
      "text/html": [
       "<article class=\"day-desc\">\n",
       "<h2>--- Day 8: Two-Factor Authentication ---</h2><p>You come across a door implementing what you can only assume is an implementation of <a href=\"https://en.wikipedia.org/wiki/Multi-factor_authentication\">two-factor authentication</a> after a long game of <a href=\"https://en.wikipedia.org/wiki/Requirement\">requirements</a><a href=\"https://en.wikipedia.org/wiki/Chinese_whispers\">telephone</a>.</p><p>To get past the door, you first swipe a keycard (no problem; there was one on a nearby desk). Then, it displays a code on a <a href=\"https://www.google.com/search?q=tiny+lcd&amp;tbm=isch\">little screen</a>, and you type that code on a keypad. Then, presumably, the door unlocks.</p><p>Unfortunately, the screen has been <span title=\"BUT BY WHOM?!\">smashed</span>. After a few minutes, you've taken everything apart and figured out how it works. Now you just have to work out what the screen <em>would</em> have displayed.</p><p>The magnetic strip on the card you swiped encodes a series of instructions for the screen; these instructions are your puzzle input. The screen is <em>\n",
       "<code>50</code> pixels wide and <code>6</code> pixels tall</em>, all of which start <em>off</em>, and is capable of three somewhat peculiar operations:</p><ul>\n",
       "<li>\n",
       "<code>rect AxB</code> turns <em>on</em> all of the pixels in a rectangle at the top-left of the screen which is <code>A</code> wide and <code>B</code> tall.</li><li>\n",
       "<code>rotate row y=A by B</code> shifts all of the pixels in row <code>A</code> (0 is the top row) <em>right</em> by <code>B</code> pixels. Pixels that would fall off the right end appear at the left end of the row.</li><li>\n",
       "<code>rotate column x=A by B</code> shifts all of the pixels in column <code>A</code> (0 is the left column) <em>down</em> by <code>B</code> pixels. Pixels that would fall off the bottom appear at the top of the column.</li>\n",
       "</ul><p>For example, here is a simple sequence on a smaller screen:</p><ul>\n",
       "<li>\n",
       "<p>\n",
       "<code>rect 3x2</code> creates a small rectangle in the top-left corner:</p><pre><code>###....\n",
       "###....\n",
       ".......</code></pre>\n",
       "</li><li>\n",
       "<p>\n",
       "<code>rotate column x=1 by 1</code> rotates the second column down by one pixel:</p><pre><code>#.#....\n",
       "###....\n",
       ".#.....</code></pre>\n",
       "</li><li>\n",
       "<p>\n",
       "<code>rotate row y=0 by 4</code> rotates the top row right by four pixels:</p><pre><code>....#.#\n",
       "###....\n",
       ".#.....</code></pre>\n",
       "</li><li>\n",
       "<p>\n",
       "<code>rotate column x=1 by 1</code> again rotates the second column down by one pixel, causing the bottom pixel to wrap back to the top:</p><pre><code>.#..#.#\n",
       "#.#....\n",
       ".#.....</code></pre>\n",
       "</li>\n",
       "</ul><p>As you can see, this display technology is extremely powerful, and will soon dominate the tiny-code-displaying-screen market.  That's what the advertisement on the back of the display tries to convince you, anyway.</p><p>There seems to be an intermediate check of the voltage used by the display: after you swipe your card, if the screen did work, <em>how many pixels should be lit?</em>\n",
       "</p>\n",
       "</article>"
      ]
     },
     "metadata": {},
     "output_type": "display_data"
    },
    {
     "data": {
      "text/plain": [
       "(cached)"
      ]
     },
     "metadata": {},
     "output_type": "display_data"
    },
    {
     "data": {
      "text/plain": [
       "rect 1x1\n",
       "rotate row y=0 by 2\n",
       "rect 1x1\n",
       "rotate row y=0 by 5\n",
       "rect 1x1\n",
       "rotate row y=0 by 3\n",
       "rect 1x1\n",
       "rotat..."
      ]
     },
     "metadata": {},
     "output_type": "display_data"
    }
   ],
   "source": [
    "source setup.tcl\n",
    "set year 2016\n",
    "set month 8\n",
    "aoc::get-puzzle $year $month 1\n",
    "\n",
    "set input [aoc::get-input $year $month];\n",
    "jupyter::display text/plain [string range $input 0 100]...;"
   ]
  },
  {
   "cell_type": "code",
   "execution_count": 39,
   "metadata": {},
   "outputs": [],
   "source": [
    "proc lrotate {xs {n 1}} {\n",
    "    if {$n == 0 || [llength $xs] == 0 } {return $xs}\n",
    "    set n [expr {$n % [llength $xs]}]\n",
    "    return [concat [lrange $xs $n end] [lrange $xs 0 [expr {$n-1}]]]\n",
    "}"
   ]
  },
  {
   "cell_type": "code",
   "execution_count": 68,
   "metadata": {},
   "outputs": [
    {
     "name": "stdout",
     "output_type": "stream",
     "text": [
      "110\n",
      "@ @ @ @      @ @  @     @  @ @ @    @     @    @ @    @ @ @    @        @       @     @ @ \n",
      "      @        @  @     @  @     @  @   @    @     @  @     @  @        @       @       @ \n",
      "    @          @  @ @ @ @  @     @  @ @      @        @     @  @          @   @         @ \n",
      "  @            @  @     @  @ @ @    @   @    @        @ @ @    @            @           @ \n",
      "@        @     @  @     @  @   @    @   @    @     @  @        @            @     @     @ \n",
      "@ @ @ @    @ @    @     @  @     @  @     @    @ @    @        @ @ @ @      @       @ @   \n"
     ]
    }
   ],
   "source": [
    "package require struct::matrix\n",
    "rename screen {}\n",
    "struct::matrix screen\n",
    "screen add columns 50\n",
    "screen add rows 6\n",
    "\n",
    "\n",
    "proc _rect {screenName xy} {\n",
    "    lassign [split $xy x] x y\n",
    "    for {set cx 0} {$cx < $x} {incr cx} {\n",
    "        for {set cy 0} {$cy < $y} {incr cy} {\n",
    "            $screenName set cell $cx $cy @\n",
    "        }\n",
    "    }\n",
    "}\n",
    "\n",
    "proc _rotate {screen dir start by distance} {\n",
    "    lassign [split $start =] _ start\n",
    "    set distance [expr {-$distance}]\n",
    "    switch -exact $dir {\n",
    "        row {\n",
    "            set values [lrotate [$screen get row $start] $distance]\n",
    "            $screen set row $start $values\n",
    "        }\n",
    "        column {\n",
    "            set values [lrotate [$screen get column $start] $distance]\n",
    "            $screen set column $start $values\n",
    "        \n",
    "        } \n",
    "    } \n",
    "   \n",
    "}\n",
    "\n",
    "interp alias {} rect {} _rect screen\n",
    "interp alias {} rotate {} _rotate screen\n",
    "\n",
    "\n",
    "foreach cmd [split $input \\n] {\n",
    " {*}$cmd\n",
    "}\n",
    "\n",
    "\n",
    "puts [llength [screen search -exact all @]]\n",
    "puts [screen format 2string]"
   ]
  },
  {
   "cell_type": "code",
   "execution_count": null,
   "metadata": {},
   "outputs": [],
   "source": []
  }
 ],
 "metadata": {
  "kernelspec": {
   "display_name": "Tcl 8.7",
   "language": "tcl",
   "name": "tcl87"
  },
  "language_info": {
   "file_extension": ".tcl",
   "mimetype": "txt/x-tcl",
   "name": "tcl",
   "version": "8.7a3"
  }
 },
 "nbformat": 4,
 "nbformat_minor": 4
}
