{
 "cells": [
  {
   "cell_type": "code",
   "execution_count": 27,
   "metadata": {},
   "outputs": [
    {
     "data": {
      "text/plain": [
       "(cached)"
      ]
     },
     "metadata": {},
     "output_type": "display_data"
    },
    {
     "data": {
      "text/html": [
       "<article class=\"day-desc\">\n",
       "<h2>--- Day 12: Leonardo's Monorail ---</h2><p>You finally reach the top floor of this building: a garden with a slanted glass ceiling. Looks like there are no more stars to be had.</p><p>While sitting on a nearby bench amidst some <a href=\"https://www.google.com/search?q=tiger+lilies&amp;tbm=isch\">tiger lilies</a>, you manage to decrypt some of the files you extracted from the servers downstairs.</p><p>According to these documents, Easter Bunny HQ isn't just this building - it's a collection of buildings in the nearby area. They're all connected by a local monorail, and there's another building not far from here! Unfortunately, being night, the monorail is currently not operating.</p><p>You remotely connect to the monorail control systems and discover that the boot sequence expects a password. The password-checking logic (your puzzle input) is easy to extract, but the code it uses is strange: it's <span title=\"Strangely, this assembunny code doesn't seem to be very good at multiplying.\">assembunny</span> code designed for the <a href=\"11\">new computer</a> you just assembled. You'll have to execute the code and get the password.</p><p>The assembunny code you've extracted operates on four <a href=\"https://en.wikipedia.org/wiki/Processor_register\">registers</a> (<code>a</code>, <code>b</code>, <code>c</code>, and <code>d</code>) that start at <code>0</code> and can hold any <a href=\"https://en.wikipedia.org/wiki/Integer\">integer</a>. However, it seems to make use of only a few <a href=\"https://en.wikipedia.org/wiki/Instruction_set\">instructions</a>:</p><ul>\n",
       "<li>\n",
       "<code>cpy x y</code><em>copies</em><code>x</code> (either an integer or the <em>value</em> of a register) into register <code>y</code>.</li><li>\n",
       "<code>inc x</code><em>increases</em> the value of register <code>x</code> by one.</li><li>\n",
       "<code>dec x</code><em>decreases</em> the value of register <code>x</code> by one.</li><li>\n",
       "<code>jnz x y</code><em>jumps</em> to an instruction <code>y</code> away (positive means forward; negative means backward), but only if <code>x</code> is <em>not zero</em>.</li>\n",
       "</ul><p>The <code>jnz</code> instruction moves relative to itself: an offset of <code>-1</code> would continue at the previous instruction, while an offset of <code>2</code> would <em>skip over</em> the next instruction.</p><p>For example:</p><pre><code>cpy 41 a\n",
       "inc a\n",
       "inc a\n",
       "dec a\n",
       "jnz a 2\n",
       "dec a\n",
       "</code></pre><p>The above code would set register <code>a</code> to <code>41</code>, increase its value by <code>2</code>, decrease its value by <code>1</code>, and then skip the last <code>dec a</code> (because <code>a</code> is not zero, so the <code>jnz a 2</code> skips it), leaving register <code>a</code> at <code>42</code>. When you move past the last instruction, the program halts.</p><p>After executing the assembunny code in your puzzle input, <em>what value is left in register <code>a</code>?</em>\n",
       "</p>\n",
       "</article>"
      ]
     },
     "metadata": {},
     "output_type": "display_data"
    },
    {
     "data": {
      "text/html": [
       "<article class=\"day-desc\">\n",
       "<h2 id=\"part2\">--- Part Two ---</h2><p>As you head down the fire escape to the monorail, you notice it didn't start; register <code>c</code> needs to be initialized to the position of the ignition key.</p><p>If you instead <em>initialize register <code>c</code> to be <code>1</code>\n",
       "</em>, what value is now left in register <code>a</code>?</p>\n",
       "</article>"
      ]
     },
     "metadata": {},
     "output_type": "display_data"
    },
    {
     "data": {
      "text/plain": [
       "(cached)"
      ]
     },
     "metadata": {},
     "output_type": "display_data"
    },
    {
     "data": {
      "text/plain": [
       "cpy 1 a\n",
       "cpy 1 b\n",
       "cpy 26 d\n",
       "jnz c 2\n",
       "jnz 1 5\n",
       "cpy 7 c\n",
       "inc d\n",
       "dec c\n",
       "jnz c -2\n",
       "cpy a c\n",
       "inc a\n",
       "dec b\n",
       "jnz b -2\n",
       "cp..."
      ]
     },
     "metadata": {},
     "output_type": "display_data"
    }
   ],
   "source": [
    "source setup.tcl\n",
    "set year 2016\n",
    "set day 12\n",
    "aoc::get-puzzle $year $day 1\n",
    "aoc::get-puzzle $year $day 2\n",
    "\n",
    "set input [string trim [aoc::get-input $year $day]];\n",
    "jupyter::display text/plain [string range $input 0 100]...;"
   ]
  },
  {
   "cell_type": "code",
   "execution_count": 25,
   "metadata": {},
   "outputs": [],
   "source": [
    "proc run {input a b c d} {\n",
    "    set pc 0\n",
    "    set prog [split $input \\n]\n",
    "    set max [llength $prog]\n",
    "    while {$pc < $max} {\n",
    "        set stmt [lindex $prog $pc]\n",
    "        lassign $stmt op arg1 arg2\n",
    "        switch -exact $op {\n",
    "            cpy {\n",
    "                if {[string is integer $arg1]} {\n",
    "                    set $arg2 $arg1\n",
    "                } else {\n",
    "                    set $arg2 [set $arg1]\n",
    "                }\n",
    "            }\n",
    "            jnz {\n",
    "                 if {[string is integer $arg1]} {\n",
    "                    set val $arg1\n",
    "                } else {\n",
    "                    set val [set $arg1]\n",
    "                }\n",
    "                if {$val != 0} {\n",
    "                    incr pc $arg2\n",
    "                    continue\n",
    "                }\n",
    "            }\n",
    "            inc {\n",
    "                incr $arg1 \n",
    "            }\n",
    "            dec {\n",
    "                incr $arg1 -1 \n",
    "            }\n",
    "            default {return -code error \"unknown op $op\"}\n",
    "        }\n",
    "        incr pc\n",
    "    }\n",
    "    return [list  a $a b $b c $c d $d]\n",
    "}"
   ]
  },
  {
   "cell_type": "code",
   "execution_count": 26,
   "metadata": {},
   "outputs": [
    {
     "name": "stdout",
     "output_type": "stream",
     "text": [
      "Day1\t318007\n",
      "Day2\t9227661\n",
      "19760113 microseconds per iteration\n"
     ]
    }
   ],
   "source": [
    "proc parts input {\n",
    "    set result1 [dict get [run $input 0 0 0 0] a]\n",
    "    set result2 [dict get [run $input 0 0 1 0] a]\n",
    "    return [list $result1 $result2]\n",
    "    \n",
    "}\n",
    "aoc::results\n"
   ]
  },
  {
   "cell_type": "code",
   "execution_count": null,
   "metadata": {},
   "outputs": [],
   "source": []
  }
 ],
 "metadata": {
  "kernelspec": {
   "display_name": "Tcl",
   "language": "tcl",
   "name": "tcl"
  },
  "language_info": {
   "file_extension": ".tcl",
   "mimetype": "txt/x-tcl",
   "name": "tcl",
   "version": "8.6.11"
  }
 },
 "nbformat": 4,
 "nbformat_minor": 4
}
