{
 "cells": [
  {
   "cell_type": "code",
   "execution_count": 1,
   "metadata": {},
   "outputs": [
    {
     "data": {
      "text/plain": [
       "(cached)"
      ]
     },
     "metadata": {},
     "output_type": "display_data"
    },
    {
     "data": {
      "text/html": [
       "<article class=\"day-desc\">\n",
       "<h2>--- Day 13: A Maze of Twisty Little Cubicles ---</h2><p>You arrive at the first floor of this new building to discover a much less welcoming environment than the shiny atrium of the last one.  Instead, you are in a maze of <span title=\"You are in a twisty alike of little cubicles, all maze.\">twisty little cubicles</span>, all alike.</p><p>Every location in this area is addressed by a pair of non-negative integers (<code>x,y</code>). Each such coordinate is either a wall or an open space. You can't move diagonally. The cube maze starts at <code>0,0</code> and seems to extend infinitely toward <em>positive</em><code>x</code> and <code>y</code>; negative values are <em>invalid</em>, as they represent a location outside the building. You are in a small waiting area at <code>1,1</code>.</p><p>While it seems chaotic, a nearby morale-boosting poster explains, the layout is actually quite logical. You can determine whether a given <code>x,y</code> coordinate will be a wall or an open space using a simple system:</p><ul>\n",
       "<li>Find <code>x*x + 3*x + 2*x*y + y + y*y</code>.</li><li>Add the office designer's favorite number (your puzzle input).</li><li>Find the <a href=\"https://en.wikipedia.org/wiki/Binary_number\">binary representation</a> of that sum; count the <em>number</em> of <a href=\"https://en.wikipedia.org/wiki/Bit\">bits</a> that are <code>1</code>.\n",
       "<ul>\n",
       "<li>If the number of bits that are <code>1</code> is <em>even</em>, it's an <em>open space</em>.</li><li>If the number of bits that are <code>1</code> is <em>odd</em>, it's a <em>wall</em>.</li>\n",
       "</ul>\n",
       "</li>\n",
       "</ul><p>For example, if the office designer's favorite number were <code>10</code>, drawing walls as <code>#</code> and open spaces as <code>.</code>, the corner of the building containing <code>0,0</code> would look like this:</p><pre><code>  0123456789\n",
       "0 .#.####.##\n",
       "1 ..#..#...#\n",
       "2 #....##...\n",
       "3 ###.#.###.\n",
       "4 .##..#..#.\n",
       "5 ..##....#.\n",
       "6 #...##.###\n",
       "</code></pre><p>Now, suppose you wanted to reach <code>7,4</code>. The shortest route you could take is marked as <code>O</code>:</p><pre><code>  0123456789\n",
       "0 .#.####.##\n",
       "1 .O#..#...#\n",
       "2 #OOO.##...\n",
       "3 ###O#.###.\n",
       "4 .##OO#OO#.\n",
       "5 ..##OOO.#.\n",
       "6 #...##.###\n",
       "</code></pre><p>Thus, reaching <code>7,4</code> would take a minimum of <code>11</code> steps (starting from your current location, <code>1,1</code>).</p><p>What is the <em>fewest number of steps required</em> for you to reach <code>31,39</code>?</p>\n",
       "</article>"
      ]
     },
     "metadata": {},
     "output_type": "display_data"
    },
    {
     "data": {
      "text/plain": [
       "(cached)"
      ]
     },
     "metadata": {},
     "output_type": "display_data"
    },
    {
     "data": {
      "text/html": [
       "<article class=\"day-desc\">\n",
       "<h2 id=\"part2\">--- Part Two ---</h2><p>\n",
       "<em>How many locations</em> (distinct <code>x,y</code> coordinates, including your starting location) can you reach in at most <code>50</code> steps?</p>\n",
       "</article>"
      ]
     },
     "metadata": {},
     "output_type": "display_data"
    },
    {
     "data": {
      "text/plain": [
       "(cached)"
      ]
     },
     "metadata": {},
     "output_type": "display_data"
    },
    {
     "data": {
      "text/plain": [
       "1358..."
      ]
     },
     "metadata": {},
     "output_type": "display_data"
    }
   ],
   "source": [
    "source setup.tcl\n",
    "set year 2016\n",
    "set day 13\n",
    "aoc::get-puzzle $year $day 1\n",
    "aoc::get-puzzle $year $day 2\n",
    "\n",
    "set input [string trim [aoc::get-input $year $day]];\n",
    "jupyter::display text/plain [string range $input 0 100]...;\n",
    "\n",
    "proc wall? {input x y} {\n",
    "    set sum [expr {$input + $x*$x + 3*$x +2*$x*$y + $y + $y*$y}]\n",
    "    set binsum [+ {*}[split [format %llb $sum] \"\"]]\n",
    "    expr {$binsum % 2 == 1}\n",
    "}\n",
    "\n",
    "\n",
    "proc grid {input xmax ymax} {\n",
    "    set grid {}\n",
    "    for {set y 0 } { $y <= $ymax} {incr y} {\n",
    "        set row {}\n",
    "        for {set x 0 } { $x <= $xmax} {incr x} {\n",
    "            switch [wall? $input $x $y] {\n",
    "                1 { lappend row #}\n",
    "                0 {lappend row .}\n",
    "            }\n",
    "        }\n",
    "        lappend grid $row\n",
    "    } \n",
    "    return $grid\n",
    "}\n",
    "\n",
    "proc draw {input xmax ymax} {\n",
    "    join [lmap r [grid $input $xmax $ymax] {join $r \"\"}] \\n\n",
    "}\n",
    "\n"
   ]
  },
  {
   "cell_type": "code",
   "execution_count": 4,
   "metadata": {},
   "outputs": [],
   "source": [
    "proc fill {input max start end} {\n",
    "    set distance 0\n",
    "    lassign $end ex ey\n",
    "    lassign $start x y\n",
    "    set fill($x\\ $y) $distance\n",
    "    while {![info exists fill($end)]} {\n",
    "        incr distance\n",
    "        # puts $distance\n",
    "        if {$max ne {} && $distance > $max } {\n",
    "            return [llength [array names fill]]\n",
    "        }\n",
    "        set seen [array names fill]\n",
    "        foreach p $seen {\n",
    "            foreach n [aoc::neighbours4 {*}$p] {\n",
    "                if {$n in $seen} continue\n",
    "                lassign $n x y\n",
    "                if {[wall? $input $x $y]} continue\n",
    "                if {$x < 0 || $y < 0} continue\n",
    "                set fill($x\\ $y) $distance\n",
    "            }\n",
    "        }\n",
    "    }\n",
    "    return $fill($end)\n",
    "}\n",
    "\n",
    "# fill 10 {} {1 1} {7 4}"
   ]
  },
  {
   "cell_type": "code",
   "execution_count": 5,
   "metadata": {},
   "outputs": [
    {
     "name": "stdout",
     "output_type": "stream",
     "text": [
      "Day1\t96\n",
      "Day2\t141\n",
      "169402 microseconds per iteration\n"
     ]
    }
   ],
   "source": [
    "\n",
    "proc parts input {\n",
    "    set result1 [fill $input {} {1 1} {31 39}]\n",
    "    set result2 [fill $input 50 {1 1} {}]\n",
    "\n",
    "    return [list $result1 $result2]\n",
    "    \n",
    "}\n",
    "aoc::results"
   ]
  },
  {
   "cell_type": "code",
   "execution_count": null,
   "metadata": {},
   "outputs": [],
   "source": []
  }
 ],
 "metadata": {
  "kernelspec": {
   "display_name": "Tcl",
   "language": "tcl",
   "name": "tcl"
  },
  "language_info": {
   "file_extension": ".tcl",
   "mimetype": "txt/x-tcl",
   "name": "tcl",
   "version": "8.6.10"
  }
 },
 "nbformat": 4,
 "nbformat_minor": 4
}
