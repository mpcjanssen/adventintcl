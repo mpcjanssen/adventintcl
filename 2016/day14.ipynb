{
 "cells": [
  {
   "cell_type": "code",
   "execution_count": 2,
   "metadata": {},
   "outputs": [
    {
     "data": {
      "text/plain": [
       "(cached)"
      ]
     },
     "metadata": {},
     "output_type": "display_data"
    },
    {
     "data": {
      "text/html": [
       "<article class=\"day-desc\">\n",
       "<h2>--- Day 14: One-Time Pad ---</h2><p>In order to communicate securely with Santa while you're on this mission, you've been using a <a href=\"https://en.wikipedia.org/wiki/One-time_pad\">one-time pad</a> that you <a href=\"https://en.wikipedia.org/wiki/Security_through_obscurity\">generate</a> using a <span title=\"This also happens to be the plot of World War II.\">pre-agreed algorithm</span>. Unfortunately, you've run out of keys in your one-time pad, and so you need to generate some more.</p><p>To generate keys, you first get a stream of random data by taking the <a href=\"https://en.wikipedia.org/wiki/MD5\">MD5</a> of a pre-arranged <a href=\"https://en.wikipedia.org/wiki/Salt_(cryptography)\">salt</a> (your puzzle input) and an increasing integer index (starting with <code>0</code>, and represented in decimal); the resulting MD5 hash should be represented as a string of <em>lowercase</em> hexadecimal digits.</p><p>However, not all of these MD5 hashes are <em>keys</em>, and you need <code>64</code> new keys for your one-time pad.  A hash is a key <em>only if</em>:</p><ul>\n",
       "<li>It contains <em>three</em> of the same character in a row, like <code>777</code>. Only consider the first such triplet in a hash.</li><li>One of the next <code>1000</code> hashes in the stream contains that same character <em>five</em> times in a row, like <code>77777</code>.</li>\n",
       "</ul><p>Considering future hashes for five-of-a-kind sequences does not cause those hashes to be skipped; instead, regardless of whether the current hash is a key, always resume testing for keys starting with the very next hash.</p><p>For example, if the pre-arranged salt is <code>abc</code>:</p><ul>\n",
       "<li>The first index which produces a triple is <code>18</code>, because the MD5 hash of <code>abc18</code> contains <code>...cc38887a5...</code>. However, index <code>18</code> does not count as a key for your one-time pad, because none of the next thousand hashes (index <code>19</code> through index <code>1018</code>) contain <code>88888</code>.</li><li>The next index which produces a triple is <code>39</code>; the hash of <code>abc39</code> contains <code>eee</code>. It is also the first key: one of the next thousand hashes (the one at index 816) contains <code>eeeee</code>.</li><li>None of the next six triples are keys, but the one after that, at index <code>92</code>, is: it contains <code>999</code> and index <code>200</code> contains <code>99999</code>.</li><li>Eventually, index <code>22728</code> meets all of the criteria to generate the <code>64</code>th key.</li>\n",
       "</ul><p>So, using our example salt of <code>abc</code>, index <code>22728</code> produces the <code>64</code>th key.</p><p>Given the actual salt in your puzzle input, <em>what index</em> produces your <code>64</code>th one-time pad key?</p>\n",
       "</article>"
      ]
     },
     "metadata": {},
     "output_type": "display_data"
    },
    {
     "data": {
      "text/plain": [
       "(cached)"
      ]
     },
     "metadata": {},
     "output_type": "display_data"
    },
    {
     "data": {
      "text/html": [
       "<article class=\"day-desc\">\n",
       "<h2 id=\"part2\">--- Part Two ---</h2><p>Of course, in order to make this process <a href=\"https://en.wikipedia.org/wiki/MD5#Security\">even more secure</a>, you've also implemented <a href=\"https://en.wikipedia.org/wiki/Key_stretching\">key stretching</a>.</p><p>Key stretching forces attackers to spend more time generating hashes. Unfortunately, it forces everyone else to spend more time, too.</p><p>To implement key stretching, whenever you generate a hash, before you use it, you first find the MD5 hash of that hash, then the MD5 hash of <em>that</em> hash, and so on, a total of <em>\n",
       "<code>2016</code> additional hashings</em>. Always use lowercase hexadecimal representations of hashes.</p><p>For example, to find the stretched hash for index <code>0</code> and salt <code>abc</code>:</p><ul>\n",
       "<li>Find the MD5 hash of <code>abc0</code>: <code>577571be4de9dcce85a041ba0410f29f</code>.</li><li>Then, find the MD5 hash of that hash: <code>eec80a0c92dc8a0777c619d9bb51e910</code>.</li><li>Then, find the MD5 hash of that hash: <code>16062ce768787384c81fe17a7a60c7e3</code>.</li><li>...repeat many times...</li><li>Then, find the MD5 hash of that hash: <code>a107ff634856bb300138cac6568c0f24</code>.</li>\n",
       "</ul><p>So, the stretched hash for index <code>0</code> in this situation is <code>a107ff...</code>. In the end, you find the original hash (one use of MD5), then find the hash-of-the-previous-hash <code>2016</code> times, for a total of <code>2017</code> uses of MD5.</p><p>The rest of the process remains the same, but now the keys are entirely different. Again for salt <code>abc</code>:</p><ul>\n",
       "<li>The first triple (<code>222</code>, at index <code>5</code>) has no matching <code>22222</code> in the next thousand hashes.</li><li>The second triple (<code>eee</code>, at index <code>10</code>) hash a matching <code>eeeee</code> at index <code>89</code>, and so it is the first key.</li><li>Eventually, index <code>22551</code> produces the <code>64</code>th key (triple <code>fff</code> with matching <code>fffff</code> at index <code>22859</code>.</li>\n",
       "</ul><p>Given the actual salt in your puzzle input and using <code>2016</code> extra MD5 calls of key stretching, <em>what index</em> now produces your <code>64</code>th one-time pad key?</p>\n",
       "</article>"
      ]
     },
     "metadata": {},
     "output_type": "display_data"
    },
    {
     "data": {
      "text/plain": [
       "(cached)"
      ]
     },
     "metadata": {},
     "output_type": "display_data"
    },
    {
     "data": {
      "text/plain": [
       "ngcjuoqr"
      ]
     },
     "metadata": {},
     "output_type": "display_data"
    }
   ],
   "source": [
    "source setup.tcl\n",
    "set year 2016\n",
    "set day 14\n",
    "aoc::get-puzzle $year $day 1\n",
    "aoc::get-puzzle $year $day 2\n",
    "\n",
    "set input [string trim [aoc::get-input $year $day]];\n",
    "jupyter::display text/plain [string range $input 0 100];\n",
    "\n",
    "\n"
   ]
  },
  {
   "cell_type": "code",
   "execution_count": 3,
   "metadata": {},
   "outputs": [
    {
     "name": "stdout",
     "output_type": "stream",
     "text": [
      "18626\n"
     ]
    },
    {
     "data": {
      "text/html": [
       "<code style='color:green;'>3379885 microseconds per iteration</code>"
      ]
     },
     "metadata": {},
     "output_type": "display_data"
    }
   ],
   "source": [
    "##timeit\n",
    "package require md5\n",
    "set seed $input\n",
    "array unset cands\n",
    "array unset hashes\n",
    "set keys {}\n",
    "\n",
    "set index 0\n",
    "for {set index 0} {$index < 50000 } {incr index} {\n",
    "    set hashes($index) [md5::md5 -hex $seed$index]\n",
    "    if {[regexp {(.)\\1{2}} $hashes($index) -> d]} {\n",
    "        if {[regexp {(.)\\1{4}} $hashes($index) -> d]} {\n",
    "#         puts $index\n",
    "#         puts [llength $cands($d)]\n",
    "            if {[info exists cands($d)]} {\n",
    "                foreach idx $cands($d) {\n",
    "                    if {$index - $idx <= 1000} {\n",
    "                        lappend keys $idx\n",
    "    #                     puts \"$index: digit $d in $hashes($index) and hashes($idx) = $hashes($idx)\"  \n",
    "                    }\n",
    "                }\n",
    "            }\n",
    "            set cands($d) $index\n",
    "        } else {\n",
    "            lappend cands($d) $index\n",
    "        }\n",
    "    }\n",
    "\n",
    "}\n",
    "puts [lindex [lsort -integer $keys] 63]"
   ]
  },
  {
   "cell_type": "code",
   "execution_count": 5,
   "metadata": {},
   "outputs": [],
   "source": [
    "proc stretch {s} {\n",
    "    time {set s [string tolower [md5::md5 -hex $s]]} 2017\n",
    "    return $s\n",
    "}"
   ]
  },
  {
   "cell_type": "code",
   "execution_count": 11,
   "metadata": {},
   "outputs": [
    {
     "name": "stdout",
     "output_type": "stream",
     "text": [
      "0\n",
      "100\n",
      "200\n",
      "300\n",
      "400\n",
      "500\n",
      "600\n",
      "700\n",
      "800\n",
      "900\n",
      "1000\n",
      "1100\n",
      "1200\n",
      "1300\n",
      "1400\n",
      "1500\n",
      "1523: digit 4 in 3594d4c08fe3744444a1b96c66934d52 and hashes(915) = 6238e1ed738aed24442c46c8c3c8097a\n",
      "1523: digit 4 in 3594d4c08fe3744444a1b96c66934d52 and hashes(1066) = 9cb82444dfa0c60457d2246c7d003610\n",
      "1523: digit 4 in 3594d4c08fe3744444a1b96c66934d52 and hashes(1070) = 65e04b67b511b444d3c89c1c45c602d8\n",
      "1523: digit 4 in 3594d4c08fe3744444a1b96c66934d52 and hashes(1244) = 7403fe823886d4443054f5e16ceb7430\n",
      "1523: digit 4 in 3594d4c08fe3744444a1b96c66934d52 and hashes(1254) = c06f4581bea2ef063e0227ae056ae444\n",
      "1523: digit 4 in 3594d4c08fe3744444a1b96c66934d52 and hashes(1492) = 080fb579ae088eaa68a131efd4440cbe\n",
      "1600\n",
      "1700\n",
      "1800\n",
      "1900\n",
      "2000\n",
      "2100\n",
      "2180: digit 3 in 564333331caddf75167399d66e7bcdea and hashes(1272) = 766fa10dec3f44b8c9533372040fc459\n",
      "2180: digit 3 in 564333331caddf75167399d66e7bcdea and hashes(1630) = 040f8ffe07c59397ee3336e865a2b9db\n",
      "2200\n",
      "2300\n",
      "2400\n",
      "2500\n",
      "2600\n",
      "2700\n",
      "2800\n",
      "2900\n",
      "3000\n",
      "3100\n",
      "3200\n",
      "3300\n",
      "3400\n",
      "3500\n",
      "3600\n",
      "3700\n",
      "3800\n",
      "3900\n",
      "4000\n",
      "4100\n",
      "4200\n",
      "4300\n",
      "4400\n",
      "4500\n",
      "4600\n",
      "4700\n",
      "4800\n",
      "4900\n",
      "5000\n",
      "5100\n",
      "5200\n",
      "5300\n",
      "5400\n",
      "5500\n",
      "5600\n",
      "5700\n",
      "5800\n",
      "5900\n",
      "5904: digit 7 in c7777760dc2f7f6194021766d8801906 and hashes(5277) = fce9553a4c077755d00890cf0daf00e5\n",
      "5904: digit 7 in c7777760dc2f7f6194021766d8801906 and hashes(5485) = 56b0417c14629a01162bfc777a29044f\n",
      "5904: digit 7 in c7777760dc2f7f6194021766d8801906 and hashes(5585) = 5f47efc0c546b324d17772f2d68a0329\n",
      "6000\n",
      "6100\n",
      "6200\n",
      "6300\n",
      "6400\n",
      "6500\n",
      "6600\n",
      "6700\n",
      "6800\n",
      "6900\n",
      "7000\n",
      "7100\n",
      "7200\n",
      "7300\n",
      "7400\n",
      "7500\n",
      "7600\n",
      "7700\n",
      "7800\n",
      "7900\n",
      "8000\n",
      "8100\n",
      "8200\n",
      "8300\n",
      "8400\n",
      "8500\n",
      "8600\n",
      "8612: digit 8 in f96a5a442c1c706c46db18e888887889 and hashes(7704) = b71c68f45b8889e2adc47feff249801f\n",
      "8612: digit 8 in f96a5a442c1c706c46db18e888887889 and hashes(7874) = 84db22d8f5365b49888f3bf64ff01a88\n",
      "8612: digit 8 in f96a5a442c1c706c46db18e888887889 and hashes(7960) = 2488834b46309f5bb613e997865bb931\n",
      "8612: digit 8 in f96a5a442c1c706c46db18e888887889 and hashes(8018) = 9b005888548b00e720d2f9fdece0773a\n",
      "8612: digit 8 in f96a5a442c1c706c46db18e888887889 and hashes(8055) = 88d08884780e072f135378f196c1e65c\n",
      "8612: digit 8 in f96a5a442c1c706c46db18e888887889 and hashes(8077) = c1d00655d4888e2d92a29fa935779054\n",
      "8612: digit 8 in f96a5a442c1c706c46db18e888887889 and hashes(8119) = 99fb5932a1441f614c466b4488840f68\n",
      "8612: digit 8 in f96a5a442c1c706c46db18e888887889 and hashes(8246) = 52d786e3ad6757a5a9af601621f58884\n",
      "8612: digit 8 in f96a5a442c1c706c46db18e888887889 and hashes(8286) = 1a5b888dc08d9f42328c9474bdf5c057\n",
      "8700\n",
      "8800\n",
      "8900\n",
      "9000\n",
      "9100\n",
      "9200\n",
      "9265: digit 0 in 8d69e8000007e2d2315df0635f0af7d1 and hashes(8272) = ea8ba5246faf325a3ec6ae045e000f23\n",
      "9265: digit 0 in 8d69e8000007e2d2315df0635f0af7d1 and hashes(8403) = a4a27cc77ed6270003e4944930355bea\n",
      "9265: digit 0 in 8d69e8000007e2d2315df0635f0af7d1 and hashes(8629) = 6c7f17c3da70c5e54d1000db428518cf\n",
      "9265: digit 0 in 8d69e8000007e2d2315df0635f0af7d1 and hashes(8761) = 35f139e701d3f970178e03176000e684\n",
      "9300\n",
      "9400\n",
      "9500\n",
      "9600\n",
      "9659: digit 6 in 0232c57fec2413baf6a367b766666d18 and hashes(8832) = b7c47d3939707ec1528e522666b90402\n",
      "9659: digit 6 in 0232c57fec2413baf6a367b766666d18 and hashes(8946) = d1f1ff09e8c803d6662bed8d006a2a4c\n",
      "9659: digit 6 in 0232c57fec2413baf6a367b766666d18 and hashes(9342) = 1c780af021abb076ecab4666e368b6fa\n",
      "9659: digit 6 in 0232c57fec2413baf6a367b766666d18 and hashes(9437) = bc786666ac9f037785f50399bf198e7f\n",
      "9700\n",
      "9800\n",
      "9900\n",
      "10000\n",
      "10100\n",
      "10200\n",
      "10300\n",
      "10400\n",
      "10500\n",
      "10554: digit 5 in a2a7f9dc00dec92d545da55555fcf74d and hashes(9724) = 423c28b555f594a32140fe7b3a460cc0\n",
      "10554: digit 5 in a2a7f9dc00dec92d545da55555fcf74d and hashes(9994) = c3a5217936ac555bf18dafaa7498eac2\n",
      "10554: digit 5 in a2a7f9dc00dec92d545da55555fcf74d and hashes(10274) = 003b7555fc6519920fa479b163bf533c\n",
      "10554: digit 5 in a2a7f9dc00dec92d545da55555fcf74d and hashes(10325) = fa455535b3835c3bae93fbe0b9fbd92e\n",
      "10600\n",
      "10700\n",
      "10800\n",
      "10900\n",
      "11000\n",
      "11100\n",
      "11200\n"
     ]
    },
    {
     "name": "stderr",
     "output_type": "stream",
     "text": [
      "eval canceled\n",
      "    while executing\n",
      "\"puts -nonewline $state(trf) $data\"\n"
     ]
    }
   ],
   "source": [
    "set seed $input\n",
    "array unset cands\n",
    "array unset hashes\n",
    "set keys {}\n",
    "array unset stretched\n",
    "\n",
    "set index 0\n",
    "for {set index 0} {$index < 50000 } {incr index} {\n",
    "   if {$index % 100 == 0} {puts $index}\n",
    "    set hashes($index) [stretch $seed$index]\n",
    "    if {[regexp {(.)\\1{2}} $hashes($index) -> d]} {\n",
    "        if {[regexp {(.)\\1{4}} $hashes($index) -> d]} {\n",
    "#         puts $index\n",
    "#         puts [llength $cands($d)]\n",
    "            if {[info exists cands($d)]} {\n",
    "                foreach idx $cands($d) {\n",
    "                    if {$index - $idx <= 1000} {\n",
    "                        lappend keys $idx\n",
    "                        puts \"$index: digit $d in $hashes($index) and hashes($idx) = $hashes($idx)\"  \n",
    "                    }\n",
    "                }\n",
    "            }\n",
    "            set cands($d) $index\n",
    "        } else {\n",
    "            lappend cands($d) $index\n",
    "        }\n",
    "    }\n",
    "}\n",
    "puts [lindex [lsort -integer $keys] 63]\n",
    "# parray stretched"
   ]
  },
  {
   "cell_type": "code",
   "execution_count": 145,
   "metadata": {},
   "outputs": [
    {
     "data": {
      "text/plain": [
       "20092"
      ]
     },
     "execution_count": 145,
     "metadata": {},
     "output_type": "execute_result"
    }
   ],
   "source": [
    "lindex [lsort -integer $keys] 63"
   ]
  },
  {
   "cell_type": "code",
   "execution_count": 107,
   "metadata": {},
   "outputs": [],
   "source": [
    "proc stretch {s} {\n",
    "\n",
    "    set s abc0 ; time {set s [string tolower [md5::md5 -hex $s]]} 2017 ; return $s\n",
    "}"
   ]
  },
  {
   "cell_type": "code",
   "execution_count": 8,
   "metadata": {},
   "outputs": [
    {
     "name": "stdout",
     "output_type": "stream",
     "text": [
      "Day1\t\n",
      "Day2\t\n",
      "17 microseconds per iteration\n"
     ]
    }
   ],
   "source": [
    "proc parts input {\n",
    "    set result1 {}\n",
    "    set result2 {}\n",
    "\n",
    "    return [list $result1 $result2]\n",
    "    \n",
    "}\n",
    "aoc::results"
   ]
  },
  {
   "cell_type": "code",
   "execution_count": null,
   "metadata": {},
   "outputs": [],
   "source": []
  }
 ],
 "metadata": {
  "kernelspec": {
   "display_name": "Tcl",
   "language": "tcl",
   "name": "tcl"
  },
  "language_info": {
   "file_extension": ".tcl",
   "mimetype": "txt/x-tcl",
   "name": "tcl",
   "version": "8.6.11"
  }
 },
 "nbformat": 4,
 "nbformat_minor": 4
}
