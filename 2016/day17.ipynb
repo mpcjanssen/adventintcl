{
 "cells": [
  {
   "cell_type": "code",
   "execution_count": 1,
   "metadata": {},
   "outputs": [
    {
     "data": {
      "text/html": [
       "<article class=\"day-desc\">\n",
       "<h2>--- Day 17: Two Steps Forward ---</h2><p>You're trying to access a secure vault protected by a <code>4x4</code> grid of small rooms connected by doors. You start in the top-left room (marked <code>S</code>), and you can access the vault (marked <code>V</code>) once you reach the bottom-right room:</p><pre><code>#########\n",
       "#S| | | #\n",
       "#-#-#-#-#\n",
       "# | | | #\n",
       "#-#-#-#-#\n",
       "# | | | #\n",
       "#-#-#-#-#\n",
       "# | | |  \n",
       "####### V\n",
       "</code></pre><p>Fixed walls are marked with <code>#</code>, and doors are marked with <code>-</code> or <code>|</code>.</p><p>The doors in your <em>current room</em> are either open or closed (and locked) based on the hexadecimal <a href=\"https://en.wikipedia.org/wiki/MD5\">MD5</a> hash of a passcode (your puzzle input) followed by a sequence of uppercase characters representing the <em>path you have taken so far</em> (<code>U</code> for up, <code>D</code> for down, <code>L</code> for left, and <code>R</code> for right).</p><p>Only the first four characters of the hash are used; they represent, respectively, the doors <em>up, down, left, and right</em> from your current position. Any <code>b</code>, <code>c</code>, <code>d</code>, <code>e</code>, or <code>f</code> means that the corresponding door is <em>open</em>; any other character (any number or <code>a</code>) means that the corresponding door is <em>closed and locked</em>.</p><p>To access the vault, all you need to do is reach the bottom-right room; reaching this room opens the vault and all doors in the maze.</p><p>For example, suppose the passcode is <code>hijkl</code>. Initially, you have taken no steps, and so your path is empty: you simply find the MD5 hash of <code>hijkl</code> alone. The first four characters of this hash are <code>ced9</code>, which indicate that up is open (<code>c</code>), down is open (<code>e</code>), left is open (<code>d</code>), and right is closed and locked (<code>9</code>). Because you start in the top-left corner, there are no \"up\" or \"left\" doors to be open, so your only choice is <em>down</em>.</p><p>Next, having gone only one step (down, or <code>D</code>), you find the hash of <code>hijkl<em>D</em>\n",
       "</code>. This produces <code>f2bc</code>, which indicates that you can go back up, left (but that's a wall), or right. Going right means hashing <code>hijkl<em>DR</em>\n",
       "</code> to get <code>5745</code> - all doors closed and locked. However, going <em>up</em> instead is worthwhile: even though it returns you to the room you started in, your path would then be <code>DU</code>, opening a <em>different set of doors</em>.</p><p>After going <code>DU</code> (and then hashing <code>hijkl<em>DU</em>\n",
       "</code> to get <code>528e</code>), only the right door is open; after going <code>DUR</code>, all doors lock. (Fortunately, your actual passcode is <span title=\"It took four days to rescue the engineer that tried this.\">not <code>hijkl</code>\n",
       "</span>).</p><p>Passcodes actually used by Easter Bunny Vault Security do allow access to the vault if you know the right path.  For example:</p><ul>\n",
       "<li>If your passcode were <code>ihgpwlah</code>, the shortest path would be <code>DDRRRD</code>.</li><li>With <code>kglvqrro</code>, the shortest path would be <code>DDUDRLRRUDRD</code>.</li><li>With <code>ulqzkmiv</code>, the shortest would be <code>DRURDRUDDLLDLUURRDULRLDUUDDDRR</code>.</li>\n",
       "</ul><p>Given your vault's passcode, <em>what is the shortest path</em> (the actual path, not just the length) to reach the vault?</p>\n",
       "</article>"
      ]
     },
     "metadata": {},
     "output_type": "display_data"
    },
    {
     "name": "stderr",
     "output_type": "stream",
     "text": [
      "Part 2 not available\n"
     ]
    },
    {
     "data": {
      "text/plain": [
       "vwbaicqe..."
      ]
     },
     "metadata": {},
     "output_type": "display_data"
    }
   ],
   "source": [
    "source setup.tcl\n",
    "set year 2016\n",
    "set day 17\n",
    "aoc::get-puzzle $year $day 1\n",
    "aoc::get-puzzle $year $day 2\n",
    "\n",
    "set input [string trim [aoc::get-input $year $day]];\n",
    "jupyter::display text/plain [string range $input 0 100]...;\n",
    "\n",
    "\n"
   ]
  },
  {
   "cell_type": "code",
   "execution_count": 38,
   "metadata": {},
   "outputs": [],
   "source": [
    "proc step data {\n",
    "    return ${data}0[join [string map {0 1 1 0} [lreverse [split $data \"\"]]] \"\"]\n",
    "}\n",
    "\n",
    "proc oddsize {data} {\n",
    "    return [expr {[string length $data] % 2 == 1}]\n",
    "}\n",
    "\n",
    "proc calc_checksum {data} {\n",
    "  set res {}\n",
    "  foreach {a b} [split $data \"\"] {\n",
    "     if {$a == $b} {\n",
    "         append res 1\n",
    "     } else {\n",
    "         append res 0\n",
    "     }\n",
    "  }\n",
    "  return $res\n",
    "}\n",
    "\n",
    "proc checksum {disk size} {\n",
    "  set data [string range $disk 0 $size-1]\n",
    "  set chksum $data\n",
    "  while 1 {\n",
    "      set chksum [calc_checksum $chksum]\n",
    "      if {[oddsize $chksum]} {return $chksum}\n",
    "  }\n",
    "}\n",
    "proc solve {input size} {\n",
    "    set disk $input \n",
    "    while {[string length $disk] < $size} {\n",
    "        set disk [step $disk]\n",
    "    }\n",
    "    return [checksum $disk $size]\n",
    "}"
   ]
  },
  {
   "cell_type": "code",
   "execution_count": 39,
   "metadata": {},
   "outputs": [
    {
     "name": "stdout",
     "output_type": "stream",
     "text": [
      "Day1\t01110011101111011\n",
      "Day2\t11001111011000111\n",
      "8912397 microseconds per iteration\n"
     ]
    }
   ],
   "source": [
    "proc parts input {\n",
    "    set result1 [solve $input 272]\n",
    "    set result2 [solve $input 35651584]\n",
    "\n",
    "    return [list $result1 $result2]\n",
    "    \n",
    "}\n",
    "aoc::results"
   ]
  }
 ],
 "metadata": {
  "kernelspec": {
   "display_name": "Tcl",
   "language": "tcl",
   "name": "tcl"
  },
  "language_info": {
   "file_extension": ".tcl",
   "mimetype": "txt/x-tcl",
   "name": "tcl",
   "version": "8.6.11"
  }
 },
 "nbformat": 4,
 "nbformat_minor": 4
}
