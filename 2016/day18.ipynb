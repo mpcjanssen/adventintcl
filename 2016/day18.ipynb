{
 "cells": [
  {
   "cell_type": "code",
   "execution_count": 2,
   "metadata": {},
   "outputs": [
    {
     "data": {
      "text/html": [
       "<article class=\"day-desc\">\n",
       "<h2>--- Day 18: Like a Rogue ---</h2><p>As you enter this room, you hear a loud click! Some of the tiles in the floor here seem to be pressure plates for <a href=\"https://nethackwiki.com/wiki/Trap\">traps</a>, and the trap you just triggered has run out of... whatever it tried to do to you. You doubt you'll be so lucky next time.</p><p>Upon closer examination, the traps and safe tiles in this room seem to follow a pattern. The tiles are arranged into rows that are all the same width; you take note of the safe tiles (<code>.</code>) and traps (<code>^</code>) in the first row (your puzzle input).</p><p>The type of tile (trapped or safe) in each row is based on the types of the tiles in the same position, and to either side of that position, in the previous row. (If either side is off either end of the row, it counts as \"safe\" because there isn't a trap embedded in the wall.)</p><p>For example, suppose you know the first row (with tiles marked by letters) and want to determine the next row (with tiles marked by numbers):</p><pre><code>ABCDE\n",
       "12345\n",
       "</code></pre><p>The type of tile <code>2</code> is based on the types of tiles <code>A</code>, <code>B</code>, and <code>C</code>; the type of tile <code>5</code> is based on tiles <code>D</code>, <code>E</code>, and an imaginary \"safe\" tile. Let's call these three tiles from the previous row the <em>left</em>, <em>center</em>, and <em>right</em> tiles, respectively. Then, a new tile is a <em>trap</em> only in one of the following situations:</p><ul>\n",
       "<li>Its <em>left</em> and <em>center</em> tiles are traps, but its <em>right</em> tile is not.</li><li>Its <em>center</em> and <em>right</em> tiles are traps, but its <em>left</em> tile is not.</li><li>Only its <em>left</em> tile is a trap.</li><li>Only its <em>right</em> tile is a trap.</li>\n",
       "</ul><p>In any other situation, the new tile is safe.</p><p>Then, starting with the row <code>..^^.</code>, you can determine the next row by applying those rules to each new tile:</p><ul>\n",
       "<li>The leftmost character on the next row considers the left (nonexistent, so we assume \"safe\"), center (the first <code>.</code>, which means \"safe\"), and right (the second <code>.</code>, also \"safe\") tiles on the previous row. Because all of the trap rules require a trap in at least one of the previous three tiles, the first tile on this new row is also safe, <code>.</code>.</li><li>The second character on the next row considers its left (<code>.</code>), center (<code>.</code>), and right (<code>^</code>) tiles from the previous row. This matches the fourth rule: only the right tile is a trap. Therefore, the next tile in this new row is a trap, <code>^</code>.</li><li>The third character considers <code>.^^</code>, which matches the second trap rule: its center and right tiles are traps, but its left tile is not. Therefore, this tile is also a trap, <code>^</code>.</li><li>The last two characters in this new row match the first and third rules, respectively, and so they are both also traps, <code>^</code>.</li>\n",
       "</ul><p>After these steps, we now know the next row of tiles in the room: <code>.^^^^</code>. Then, we continue on to the next row, using the same rules, and get <code>^^..^</code>. After determining two new rows, our map looks like this:</p><pre><code>..^^.\n",
       ".^^^^\n",
       "^^..^\n",
       "</code></pre><p>Here's a larger example with ten tiles per row and ten rows:</p><pre><code>.^^.^.^^^^\n",
       "^^^...^..^\n",
       "^.^^.^.^^.\n",
       "..^^...^^^\n",
       ".^^^^.^^.^\n",
       "^^..^.^^..\n",
       "^^^^..^^^.\n",
       "^..^^^^.^^\n",
       ".^^^..^.^^\n",
       "^^.^^^..^^\n",
       "</code></pre><p>In ten rows, this larger example has <code>38</code> safe tiles.</p><p>Starting with the map in your puzzle input, in a total of <code>40</code> rows (including the starting row), <em>how many safe tiles</em> are there?</p>\n",
       "</article>"
      ]
     },
     "metadata": {},
     "output_type": "display_data"
    },
    {
     "name": "stderr",
     "output_type": "stream",
     "text": [
      "Part 2 not available\n"
     ]
    },
    {
     "data": {
      "text/plain": [
       ".^^^^^.^^.^^^.^...^..^^.^.^..^^^^^^^^^^..^...^^.^..^^^^..^^^^...^.^.^^^^^^^^....^..^^^^^^.^^^.^^^.^^..."
      ]
     },
     "metadata": {},
     "output_type": "display_data"
    }
   ],
   "source": [
    "source setup.tcl\n",
    "set year 2016\n",
    "set day 18\n",
    "aoc::get-puzzle $year $day 1\n",
    "aoc::get-puzzle $year $day 2\n",
    "\n",
    "set input [string trim [aoc::get-input $year $day]];\n",
    "jupyter::display text/plain [string range $input 0 100]...;\n",
    "\n",
    "\n"
   ]
  },
  {
   "cell_type": "code",
   "execution_count": 38,
   "metadata": {},
   "outputs": [],
   "source": [
    "proc step data {\n",
    "    return ${data}0[join [string map {0 1 1 0} [lreverse [split $data \"\"]]] \"\"]\n",
    "}\n",
    "\n",
    "proc oddsize {data} {\n",
    "    return [expr {[string length $data] % 2 == 1}]\n",
    "}\n",
    "\n",
    "proc calc_checksum {data} {\n",
    "  set res {}\n",
    "  foreach {a b} [split $data \"\"] {\n",
    "     if {$a == $b} {\n",
    "         append res 1\n",
    "     } else {\n",
    "         append res 0\n",
    "     }\n",
    "  }\n",
    "  return $res\n",
    "}\n",
    "\n",
    "proc checksum {disk size} {\n",
    "  set data [string range $disk 0 $size-1]\n",
    "  set chksum $data\n",
    "  while 1 {\n",
    "      set chksum [calc_checksum $chksum]\n",
    "      if {[oddsize $chksum]} {return $chksum}\n",
    "  }\n",
    "}\n",
    "proc solve {input size} {\n",
    "    set disk $input \n",
    "    while {[string length $disk] < $size} {\n",
    "        set disk [step $disk]\n",
    "    }\n",
    "    return [checksum $disk $size]\n",
    "}"
   ]
  },
  {
   "cell_type": "code",
   "execution_count": 39,
   "metadata": {},
   "outputs": [
    {
     "name": "stdout",
     "output_type": "stream",
     "text": [
      "Day1\t01110011101111011\n",
      "Day2\t11001111011000111\n",
      "8912397 microseconds per iteration\n"
     ]
    }
   ],
   "source": [
    "proc parts input {\n",
    "    set result1 [solve $input 272]\n",
    "    set result2 [solve $input 35651584]\n",
    "\n",
    "    return [list $result1 $result2]\n",
    "    \n",
    "}\n",
    "aoc::results"
   ]
  }
 ],
 "metadata": {
  "kernelspec": {
   "display_name": "Tcl",
   "language": "tcl",
   "name": "tcl"
  },
  "language_info": {
   "file_extension": ".tcl",
   "mimetype": "txt/x-tcl",
   "name": "tcl",
   "version": "8.6.10"
  }
 },
 "nbformat": 4,
 "nbformat_minor": 4
}
