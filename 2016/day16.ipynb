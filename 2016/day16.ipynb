{
 "cells": [
  {
   "cell_type": "code",
   "execution_count": 1,
   "metadata": {},
   "outputs": [
    {
     "data": {
      "text/html": [
       "<article class=\"day-desc\">\n",
       "<h2>--- Day 16: Dragon Checksum ---</h2><p>You're done scanning this part of the network, but you've left traces of your presence. You need to <span title=\"If I ever find one of my disks overwritten with a dragon curve, I'll know it was you.\">overwrite some disks</span> with random-looking data to cover your tracks and update the local security system with a new checksum for those disks.</p><p>For the data to not be suspicious, it needs to have certain properties; purely random data will be detected as tampering. To generate appropriate random data, you'll need to use a modified <a href=\"https://en.wikipedia.org/wiki/Dragon_curve\">dragon curve</a>.</p><p>Start with an appropriate initial state (your puzzle input). Then, so long as you don't have enough data yet to fill the disk, repeat the following steps:</p><ul>\n",
       "<li>Call the data you have at this point \"a\".</li><li>Make a copy of \"a\"; call this copy \"b\".</li><li>Reverse the order of the characters in \"b\".</li><li>In \"b\", replace all instances of <code>0</code> with <code>1</code> and all <code>1</code>s with <code>0</code>.</li><li>The resulting data is \"a\", then a single <code>0</code>, then \"b\".</li>\n",
       "</ul><p>For example, after a single step of this process,</p><ul>\n",
       "<li>\n",
       "<code>1</code> becomes <code>100</code>.</li><li>\n",
       "<code>0</code> becomes <code>001</code>.</li><li>\n",
       "<code>11111</code> becomes <code>11111000000</code>.</li><li>\n",
       "<code>111100001010</code> becomes <code>1111000010100101011110000</code>.</li>\n",
       "</ul><p>Repeat these steps until you have enough data to fill the desired disk.</p><p>Once the data has been generated, you also need to create a checksum of that data. Calculate the checksum <em>only</em> for the data that fits on the disk, even if you generated more data than that in the previous step.</p><p>The checksum for some given data is created by considering each non-overlapping <em>pair</em> of characters in the input data.  If the two characters match (<code>00</code> or <code>11</code>), the next checksum character is a <code>1</code>.  If the characters do not match (<code>01</code> or <code>10</code>), the next checksum character is a <code>0</code>. This should produce a new string which is exactly half as long as the original. If the length of the checksum is <em>even</em>, repeat the process until you end up with a checksum with an <em>odd</em> length.</p><p>For example, suppose we want to fill a disk of length <code>12</code>, and when we finally generate a string of at least length <code>12</code>, the first <code>12</code> characters are <code>110010110100</code>. To generate its checksum:</p><ul>\n",
       "<li>Consider each pair: <code>11</code>, <code>00</code>, <code>10</code>, <code>11</code>, <code>01</code>, <code>00</code>.</li><li>These are same, same, different, same, different, same, producing <code>110101</code>.</li><li>The resulting string has length <code>6</code>, which is <em>even</em>, so we repeat the process.</li><li>The pairs are <code>11</code> (same), <code>01</code> (different), <code>01</code> (different).</li><li>This produces the checksum <code>100</code>, which has an <em>odd</em> length, so we stop.</li>\n",
       "</ul><p>Therefore, the checksum for <code>110010110100</code> is <code>100</code>.</p><p>Combining all of these steps together, suppose you want to fill a disk of length <code>20</code> using an initial state of <code>10000</code>:</p><ul>\n",
       "<li>Because <code>10000</code> is too short, we first use the modified dragon curve to make it longer.</li><li>After one round, it becomes <code>10000011110</code> (<code>11</code> characters), still too short.</li><li>After two rounds, it becomes <code>10000011110010000111110</code> (<code>23</code> characters), which is enough.</li><li>Since we only need <code>20</code>, but we have <code>23</code>, we get rid of all but the first <code>20</code> characters: <code>10000011110010000111</code>.</li><li>Next, we start calculating the checksum; after one round, we have <code>0111110101</code>, which <code>10</code> characters long (<em>even</em>), so we continue.</li><li>After two rounds, we have <code>01100</code>, which is <code>5</code> characters long (<em>odd</em>), so we are done.</li>\n",
       "</ul><p>In this example, the correct checksum would therefore be <code>01100</code>.</p><p>The first disk you have to fill has length <code>272</code>. Using the initial state in your puzzle input, <em>what is the correct checksum</em>?</p>\n",
       "</article>"
      ]
     },
     "metadata": {},
     "output_type": "display_data"
    },
    {
     "name": "stderr",
     "output_type": "stream",
     "text": [
      "Part 2 not available\n"
     ]
    },
    {
     "data": {
      "text/plain": [
       "11110010111001001..."
      ]
     },
     "metadata": {},
     "output_type": "display_data"
    }
   ],
   "source": [
    "source setup.tcl\n",
    "set year 2016\n",
    "set day 16\n",
    "aoc::get-puzzle $year $day 1\n",
    "aoc::get-puzzle $year $day 2\n",
    "\n",
    "set input [string trim [aoc::get-input $year $day]];\n",
    "jupyter::display text/plain [string range $input 0 100]...;\n",
    "\n",
    "\n"
   ]
  },
  {
   "cell_type": "code",
   "execution_count": 38,
   "metadata": {},
   "outputs": [],
   "source": [
    "proc step data {\n",
    "    return ${data}0[join [string map {0 1 1 0} [lreverse [split $data \"\"]]] \"\"]\n",
    "}\n",
    "\n",
    "proc oddsize {data} {\n",
    "    return [expr {[string length $data] % 2 == 1}]\n",
    "}\n",
    "\n",
    "proc calc_checksum {data} {\n",
    "  set res {}\n",
    "  foreach {a b} [split $data \"\"] {\n",
    "     if {$a == $b} {\n",
    "         append res 1\n",
    "     } else {\n",
    "         append res 0\n",
    "     }\n",
    "  }\n",
    "  return $res\n",
    "}\n",
    "\n",
    "proc checksum {disk size} {\n",
    "  set data [string range $disk 0 $size-1]\n",
    "  set chksum $data\n",
    "  while 1 {\n",
    "      set chksum [calc_checksum $chksum]\n",
    "      if {[oddsize $chksum]} {return $chksum}\n",
    "  }\n",
    "}\n",
    "proc solve {input size} {\n",
    "    set disk $input \n",
    "    while {[string length $disk] < $size} {\n",
    "        set disk [step $disk]\n",
    "    }\n",
    "    return [checksum $disk $size]\n",
    "}"
   ]
  },
  {
   "cell_type": "code",
   "execution_count": 39,
   "metadata": {},
   "outputs": [
    {
     "name": "stdout",
     "output_type": "stream",
     "text": [
      "Day1\t01110011101111011\n",
      "Day2\t11001111011000111\n",
      "8912397 microseconds per iteration\n"
     ]
    }
   ],
   "source": [
    "proc parts input {\n",
    "    set result1 [solve $input 272]\n",
    "    set result2 [solve $input 35651584]\n",
    "\n",
    "    return [list $result1 $result2]\n",
    "    \n",
    "}\n",
    "aoc::results"
   ]
  }
 ],
 "metadata": {
  "kernelspec": {
   "display_name": "Tcl",
   "language": "tcl",
   "name": "tcl"
  },
  "language_info": {
   "file_extension": ".tcl",
   "mimetype": "txt/x-tcl",
   "name": "tcl",
   "version": "8.6.10"
  }
 },
 "nbformat": 4,
 "nbformat_minor": 4
}
